{
 "cells": [
  {
   "cell_type": "code",
   "execution_count": 1,
   "metadata": {},
   "outputs": [
    {
     "data": {
      "text/html": [
       "<div>\n",
       "<style scoped>\n",
       "    .dataframe tbody tr th:only-of-type {\n",
       "        vertical-align: middle;\n",
       "    }\n",
       "\n",
       "    .dataframe tbody tr th {\n",
       "        vertical-align: top;\n",
       "    }\n",
       "\n",
       "    .dataframe thead th {\n",
       "        text-align: right;\n",
       "    }\n",
       "</style>\n",
       "<table border=\"1\" class=\"dataframe\">\n",
       "  <thead>\n",
       "    <tr style=\"text-align: right;\">\n",
       "      <th></th>\n",
       "      <th>Country</th>\n",
       "      <th>Age</th>\n",
       "      <th>Salary</th>\n",
       "      <th>Purchased</th>\n",
       "    </tr>\n",
       "  </thead>\n",
       "  <tbody>\n",
       "    <tr>\n",
       "      <th>0</th>\n",
       "      <td>France</td>\n",
       "      <td>44.0</td>\n",
       "      <td>72000.0</td>\n",
       "      <td>No</td>\n",
       "    </tr>\n",
       "    <tr>\n",
       "      <th>1</th>\n",
       "      <td>Spain</td>\n",
       "      <td>27.0</td>\n",
       "      <td>48000.0</td>\n",
       "      <td>Yes</td>\n",
       "    </tr>\n",
       "    <tr>\n",
       "      <th>2</th>\n",
       "      <td>Germany</td>\n",
       "      <td>30.0</td>\n",
       "      <td>54000.0</td>\n",
       "      <td>No</td>\n",
       "    </tr>\n",
       "    <tr>\n",
       "      <th>3</th>\n",
       "      <td>Spain</td>\n",
       "      <td>38.0</td>\n",
       "      <td>61000.0</td>\n",
       "      <td>No</td>\n",
       "    </tr>\n",
       "    <tr>\n",
       "      <th>4</th>\n",
       "      <td>Germany</td>\n",
       "      <td>NaN</td>\n",
       "      <td>10.0</td>\n",
       "      <td>Yes</td>\n",
       "    </tr>\n",
       "  </tbody>\n",
       "</table>\n",
       "</div>"
      ],
      "text/plain": [
       "   Country   Age   Salary Purchased\n",
       "0   France  44.0  72000.0        No\n",
       "1    Spain  27.0  48000.0       Yes\n",
       "2  Germany  30.0  54000.0        No\n",
       "3    Spain  38.0  61000.0        No\n",
       "4  Germany   NaN     10.0       Yes"
      ]
     },
     "execution_count": 1,
     "metadata": {},
     "output_type": "execute_result"
    }
   ],
   "source": [
    "import pandas as pd\n",
    "import os\n",
    "\n",
    "path = r'D:\\Projects\\Software_Engineering\\Artificial_Intelligence\\Huawei_Internship_16_Sep/Datasets'\n",
    "\n",
    "data = pd.read_csv(os.path.join(path, 'Data.csv'))\n",
    "data.head()"
   ]
  },
  {
   "cell_type": "code",
   "execution_count": 2,
   "metadata": {},
   "outputs": [
    {
     "data": {
      "text/plain": [
       "Country      0\n",
       "Age          1\n",
       "Salary       2\n",
       "Purchased    0\n",
       "dtype: int64"
      ]
     },
     "execution_count": 2,
     "metadata": {},
     "output_type": "execute_result"
    }
   ],
   "source": [
    "data.isnull().sum()"
   ]
  },
  {
   "cell_type": "code",
   "execution_count": 3,
   "metadata": {},
   "outputs": [
    {
     "name": "stdout",
     "output_type": "stream",
     "text": [
      "X Before SC\n",
      "[[4.4e+01 7.2e+04]\n",
      " [2.7e+01 4.8e+04]\n",
      " [3.0e+01 5.4e+04]\n",
      " [3.8e+01 6.1e+04]\n",
      " [3.5e+01 5.8e+04]\n",
      " [5.0e+01 8.3e+04]\n",
      " [3.7e+01 6.7e+04]]\n",
      "\n",
      "y: ['No' 'Yes' 'No' 'No' 'Yes' 'No' 'Yes']\n",
      "\n",
      "\n",
      "X After SC\n",
      "[[ 0.92174584  0.79959182]\n",
      " [-1.41203617 -1.4025627 ]\n",
      " [-1.00019229 -0.85202407]\n",
      " [ 0.09805807 -0.209729  ]\n",
      " [-0.31378582 -0.48499832]\n",
      " [ 1.7454336   1.80891264]\n",
      " [-0.03922323  0.34080963]]\n"
     ]
    }
   ],
   "source": [
    "data_without_nan = data.dropna()\n",
    "\n",
    "X = data_without_nan.iloc[ : , 1:3].values\n",
    "y = data_without_nan.iloc[ : , -1].values\n",
    "\n",
    "print(f'X Before SC\\n{X}\\n')\n",
    "print(f'y: {y}\\n\\n')\n",
    "\n",
    "from sklearn.preprocessing import StandardScaler\n",
    "X = StandardScaler().fit_transform(X)\n",
    "\n",
    "print(f'X After SC\\n{X}')"
   ]
  },
  {
   "cell_type": "markdown",
   "metadata": {},
   "source": [
    "inplace=True: This parameter modifies the original data DataFrame in place"
   ]
  },
  {
   "cell_type": "code",
   "execution_count": 4,
   "metadata": {},
   "outputs": [
    {
     "name": "stdout",
     "output_type": "stream",
     "text": [
      "   Country   Age   Salary Purchased\n",
      "0   France  44.0  72000.0        No\n",
      "1    Spain  27.0  48000.0       Yes\n",
      "2  Germany  30.0  54000.0        No\n",
      "3    Spain  38.0  61000.0        No\n",
      "4  Germany   NaN     10.0       Yes\n",
      "5   France  35.0  58000.0       Yes\n",
      "6    Spain  50.0      NaN        No\n",
      "7   France  48.0      NaN       Yes\n",
      "8  Germany  50.0  83000.0        No\n",
      "9   France  37.0  67000.0       Yes \n",
      "\n",
      "\n",
      "   Country   Age   Salary Purchased\n",
      "0   France  44.0  72000.0        No\n",
      "1    Spain  27.0  48000.0       Yes\n",
      "2  Germany  30.0  54000.0        No\n",
      "3    Spain  38.0  61000.0        No\n",
      "5   France  35.0  58000.0       Yes\n",
      "8  Germany  50.0  83000.0        No\n",
      "9   France  37.0  67000.0       Yes\n"
     ]
    }
   ],
   "source": [
    "data = pd.read_csv(os.path.join(path, 'Data.csv'))\n",
    "print(data, '\\n\\n')\n",
    "data.dropna(inplace=True)\n",
    "print(data)"
   ]
  },
  {
   "cell_type": "markdown",
   "metadata": {},
   "source": [
    "'''lb = LabelEncoder()\n",
    "x[:, 0] = lb.fit_transform(x[:, 0])'''"
   ]
  },
  {
   "cell_type": "code",
   "execution_count": 5,
   "metadata": {},
   "outputs": [
    {
     "name": "stdout",
     "output_type": "stream",
     "text": [
      "X Before encoder\n",
      "[['France' 44.0 72000.0]\n",
      " ['Spain' 27.0 48000.0]\n",
      " ['Germany' 30.0 54000.0]\n",
      " ['Spain' 38.0 61000.0]\n",
      " ['France' 35.0 58000.0]\n",
      " ['Germany' 50.0 83000.0]\n",
      " ['France' 37.0 67000.0]]\n",
      "\n",
      "X After encoder\n",
      "[[1.0 0.0 0.0 44.0 72000.0]\n",
      " [0.0 0.0 1.0 27.0 48000.0]\n",
      " [0.0 1.0 0.0 30.0 54000.0]\n",
      " [0.0 0.0 1.0 38.0 61000.0]\n",
      " [1.0 0.0 0.0 35.0 58000.0]\n",
      " [0.0 1.0 0.0 50.0 83000.0]\n",
      " [1.0 0.0 0.0 37.0 67000.0]]\n",
      "\n"
     ]
    }
   ],
   "source": [
    "X = data.iloc[:, :-1].values # X is numpy.ndarray\n",
    "print(f'X Before encoder\\n{X}\\n')\n",
    "\n",
    "from sklearn.preprocessing import OneHotEncoder\n",
    "from sklearn.compose import ColumnTransformer\n",
    "\n",
    "tf = ColumnTransformer(\n",
    "    transformers=[\n",
    "        ('encoder', OneHotEncoder(), [0])\n",
    "        ],\n",
    "        remainder='passthrough' # Keep other columns as-is\n",
    "    )\n",
    "\n",
    "X = tf.fit_transform(X)\n",
    "print(f'X After encoder\\n{X}\\n')"
   ]
  },
  {
   "cell_type": "markdown",
   "metadata": {},
   "source": [
    "StandardScaler\n",
    "--------------\n",
    "X (Scaled) = ( X (data) - μ ) / σ\n",
    "\n",
    "- μ is the mean of the feature.\n",
    "- σ is the standard deviation of the feature.\n",
    "\n",
    "σ = Root ( (data - μ)^2 / μ )\n",
    "\n",
    "\n",
    "all features will have a mean of 0 and a standard deviation of 1\n",
    "\n",
    "normalize\n",
    "--------------\n",
    "normalized(x) = X / ∥𝑥∥\n",
    "\n",
    "Where ∥x∥ is the L2 norm (Euclidean length) of the vector.\n",
    "\n",
    "∥𝑥∥ = Root ( X1^2 + X2^2 + X3^2 + ... )\n",
    "\n",
    "\n",
    "Normalization ensures that each row (or sample) has a unit norm (L2 norm of 1), but it does not ensure that each column is independently scaled. Therefore, if one column (like your fifth column with large numbers) has much larger values than others, it will dominate the normalization process.\n",
    "\n",
    "Solution:\n",
    "If you want the features to have a more comparable range of values before normalization, you should first scale the features. This can be done using StandardScaler or MinMaxScaler from sklearn to ensure that all features have similar ranges, and then apply normalization."
   ]
  },
  {
   "cell_type": "code",
   "execution_count": 6,
   "metadata": {},
   "outputs": [
    {
     "name": "stdout",
     "output_type": "stream",
     "text": [
      "Salary Before StandardScaler:\n",
      "[[44.0 72000.0]\n",
      " [27.0 48000.0]\n",
      " [30.0 54000.0]\n",
      " [38.0 61000.0]\n",
      " [35.0 58000.0]\n",
      " [50.0 83000.0]\n",
      " [37.0 67000.0]]\n",
      "\n",
      "\n",
      "Salary After StandardScaler:\n",
      "[[0.9217458351494651 0.7995918202669416]\n",
      " [-1.412036172994925 -1.4025627011239787]\n",
      " [-1.0001922892047383 -0.8520240707762488]\n",
      " [0.09805806756909216 -0.20972900203723024]\n",
      " [-0.3137858162210943 -0.4849983172110953]\n",
      " [1.745433602729838 1.8089126425711135]\n",
      " [-0.03922322702763667 0.3408096283104999]]\n",
      "\n",
      "\n",
      "X Before normalization:\n",
      "[[1.0 0.0 0.0 0.9217458351494651 0.7995918202669416]\n",
      " [0.0 0.0 1.0 -1.412036172994925 -1.4025627011239787]\n",
      " [0.0 1.0 0.0 -1.0001922892047383 -0.8520240707762488]\n",
      " [0.0 0.0 1.0 0.09805806756909216 -0.20972900203723024]\n",
      " [1.0 0.0 0.0 -0.3137858162210943 -0.4849983172110953]\n",
      " [0.0 1.0 0.0 1.745433602729838 1.8089126425711135]\n",
      " [1.0 0.0 0.0 -0.03922322702763667 0.3408096283104999]]\n",
      "\n",
      "\n",
      "X Afetr normalization:\n",
      "[[ 0.63385632  0.          0.          0.58425443  0.50682633]\n",
      " [ 0.          0.          0.44896672 -0.63395725 -0.62970397]\n",
      " [ 0.          0.60563479  0.         -0.60575125 -0.51601542]\n",
      " [ 0.          0.          0.97423063  0.09553117 -0.20432442]\n",
      " [ 0.86591125  0.          0.         -0.27171067 -0.4199655 ]\n",
      " [ 0.          0.36964337  0.          0.64518797  0.66865257]\n",
      " [ 0.94588727  0.          0.         -0.03710075  0.32236749]]\n",
      "\n",
      "\n"
     ]
    }
   ],
   "source": [
    "from sklearn.preprocessing import StandardScaler, normalize\n",
    "\n",
    "print(f'Salary Before StandardScaler:\\n{X[ : , 3:5]}\\n\\n')\n",
    "ss = StandardScaler()\n",
    "X[ : , 3:5] = ss.fit_transform(X[ : , 3:5])\n",
    "print(f'Salary After StandardScaler:\\n{X[ : , 3:5]}\\n\\n')\n",
    "\n",
    "\n",
    "print(f'X Before normalization:\\n{X}\\n\\n')\n",
    "nor_X = normalize(X)\n",
    "print(f'X Afetr normalization:\\n{nor_X}\\n\\n')\n"
   ]
  },
  {
   "cell_type": "code",
   "execution_count": 7,
   "metadata": {},
   "outputs": [
    {
     "name": "stdout",
     "output_type": "stream",
     "text": [
      "X\n",
      "[[1.0 0.0 0.0 0.9217458351494651 0.7995918202669416]\n",
      " [0.0 0.0 1.0 -1.412036172994925 -1.4025627011239787]\n",
      " [0.0 1.0 0.0 -1.0001922892047383 -0.8520240707762488]\n",
      " [0.0 0.0 1.0 0.09805806756909216 -0.20972900203723024]\n",
      " [1.0 0.0 0.0 -0.3137858162210943 -0.4849983172110953]\n",
      " [0.0 1.0 0.0 1.745433602729838 1.8089126425711135]\n",
      " [1.0 0.0 0.0 -0.03922322702763667 0.3408096283104999]]\n",
      "\n",
      "\n",
      "X[:,1].reshape(1,-1): [[0.0 0.0 1.0 0.0 0.0 1.0 0.0]]\n",
      "\n",
      "\n",
      "X after normalization\n",
      "[[0.         0.         0.70710678 0.         0.         0.70710678\n",
      "  0.        ]]\n"
     ]
    }
   ],
   "source": [
    "from sklearn.preprocessing import normalize\n",
    "import numpy as np\n",
    "\n",
    "print(f'X\\n{X}\\n\\n')\n",
    "print(f'X[:,1].reshape(1,-1): {X[:,1].reshape(1,-1)}\\n\\n')\n",
    "\n",
    "# normalize: works only with 2D array\n",
    "nor = normalize(np.array(X[ : , 1]).reshape(1, -1)) # (np.array(X[:,1]).reshape(1,-1)): convert 1D to 2D array\n",
    "print(f'X after normalization\\n{nor}')"
   ]
  }
 ],
 "metadata": {
  "kernelspec": {
   "display_name": "Python 3 (ipykernel)",
   "language": "python",
   "name": "python3"
  },
  "language_info": {
   "codemirror_mode": {
    "name": "ipython",
    "version": 3
   },
   "file_extension": ".py",
   "mimetype": "text/x-python",
   "name": "python",
   "nbconvert_exporter": "python",
   "pygments_lexer": "ipython3",
   "version": "3.12.5"
  }
 },
 "nbformat": 4,
 "nbformat_minor": 4
}
