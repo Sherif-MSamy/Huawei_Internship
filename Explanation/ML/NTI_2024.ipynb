{
 "cells": [
  {
   "cell_type": "code",
   "execution_count": 1,
   "id": "48b272bf-d8a7-44bd-9f8f-14730fa20e93",
   "metadata": {},
   "outputs": [
    {
     "name": "stdout",
     "output_type": "stream",
     "text": [
      "2\n",
      "4\n",
      "5\n",
      "6\n"
     ]
    }
   ],
   "source": [
    "i = 1\n",
    "while i<6:\n",
    "    i = i+1\n",
    "    if i==3:\n",
    "        continue\n",
    "    print(i)"
   ]
  },
  {
   "cell_type": "code",
   "execution_count": 2,
   "id": "11890096-047a-4a40-b768-3c5a075bc261",
   "metadata": {},
   "outputs": [
    {
     "name": "stdout",
     "output_type": "stream",
     "text": [
      "2\n",
      "3\n",
      "4\n",
      "5\n",
      "6\n",
      "Finished\n"
     ]
    }
   ],
   "source": [
    "i = 1\n",
    "while i<6:\n",
    "    i = i+1\n",
    "    print(i)\n",
    "else:\n",
    "    print('Finished')"
   ]
  },
  {
   "cell_type": "code",
   "execution_count": 3,
   "id": "ec47e321-df63-4f4e-96cf-cf35fe078f58",
   "metadata": {},
   "outputs": [
    {
     "name": "stdout",
     "output_type": "stream",
     "text": [
      "0\n",
      "1\n",
      "2\n",
      "3\n",
      "4\n"
     ]
    }
   ],
   "source": [
    "for i in range(5):\n",
    "    print(i)"
   ]
  },
  {
   "cell_type": "code",
   "execution_count": 4,
   "id": "56d9eb45-940c-4503-9f3d-749b77b3addb",
   "metadata": {},
   "outputs": [
    {
     "name": "stdout",
     "output_type": "stream",
     "text": [
      "1\n",
      "2\n",
      "3\n",
      "4\n"
     ]
    }
   ],
   "source": [
    "for i in range(1, 5):\n",
    "    print(i)"
   ]
  },
  {
   "cell_type": "code",
   "execution_count": 5,
   "id": "cf50db85-0ef3-4122-b4cd-e274156f9acf",
   "metadata": {},
   "outputs": [
    {
     "name": "stdout",
     "output_type": "stream",
     "text": [
      "1\n",
      "4\n"
     ]
    }
   ],
   "source": [
    "for i in range(1,6,3):\n",
    "    print(i)"
   ]
  },
  {
   "cell_type": "code",
   "execution_count": 6,
   "id": "f2ded5ab-8f2a-4b07-bbaf-a5f61be89e98",
   "metadata": {},
   "outputs": [
    {
     "name": "stdout",
     "output_type": "stream",
     "text": [
      "1\n",
      "2\n",
      "3\n",
      "4\n"
     ]
    }
   ],
   "source": [
    "x = [1,2,3,4]\n",
    "for i in x:\n",
    "    print(i)"
   ]
  },
  {
   "cell_type": "code",
   "execution_count": 7,
   "id": "31d9c61b-3ad7-41a6-a841-de85373720d3",
   "metadata": {},
   "outputs": [
    {
     "name": "stdout",
     "output_type": "stream",
     "text": [
      "10\n",
      "20\n",
      "30\n",
      "40\n"
     ]
    }
   ],
   "source": [
    "x = [10,20,30,40]\n",
    "for i in x:\n",
    "    print(i)"
   ]
  },
  {
   "cell_type": "code",
   "execution_count": 8,
   "id": "e7724e8e-7e91-4bed-abe2-9d004885c479",
   "metadata": {},
   "outputs": [
    {
     "name": "stdout",
     "output_type": "stream",
     "text": [
      "1\n",
      "2\n",
      "3\n",
      "4\n"
     ]
    }
   ],
   "source": [
    "x = [1,2,3,4]\n",
    "for i in x:\n",
    "    print(x[i-1])"
   ]
  },
  {
   "cell_type": "code",
   "execution_count": 9,
   "id": "ea92a09e-c9b2-4b45-973b-0552caf0153d",
   "metadata": {},
   "outputs": [
    {
     "name": "stdout",
     "output_type": "stream",
     "text": [
      "1\n",
      "2\n",
      "3\n",
      "4\n",
      "5\n"
     ]
    }
   ],
   "source": [
    "x = (1,2,3,4,5)\n",
    "for i in x:\n",
    "    print(i)"
   ]
  },
  {
   "cell_type": "code",
   "execution_count": 10,
   "id": "f8fa441a-5374-4f12-b981-61c2eb977e45",
   "metadata": {},
   "outputs": [
    {
     "name": "stdout",
     "output_type": "stream",
     "text": [
      "A\n",
      "h\n",
      "m\n",
      "e\n",
      "d\n"
     ]
    }
   ],
   "source": [
    "x = 'Ahmed'\n",
    "for i in x:\n",
    "    print(i)"
   ]
  },
  {
   "cell_type": "code",
   "execution_count": 11,
   "id": "5e016292-1bc5-47fe-9f5c-692746084a71",
   "metadata": {},
   "outputs": [
    {
     "name": "stdout",
     "output_type": "stream",
     "text": [
      "even\n",
      "even\n",
      "even\n",
      "even\n"
     ]
    }
   ],
   "source": [
    "x = [10,20,30,40]\n",
    "for i in x:\n",
    "    if i%2==0:\n",
    "        print('even')\n",
    "    else:\n",
    "        print('odd')"
   ]
  },
  {
   "cell_type": "code",
   "execution_count": 12,
   "id": "45756957-c1bc-4c14-850a-43f56668caac",
   "metadata": {},
   "outputs": [
    {
     "name": "stdout",
     "output_type": "stream",
     "text": [
      "0\n",
      "1\n",
      "2\n",
      "3\n",
      "4\n",
      "Welcome\n"
     ]
    }
   ],
   "source": [
    "for i in range(5):\n",
    "    print(i)\n",
    "else:\n",
    "    print('Welcome')"
   ]
  },
  {
   "cell_type": "code",
   "execution_count": 13,
   "id": "32836871-3f01-48b7-8327-a36bd3ebaa5d",
   "metadata": {},
   "outputs": [
    {
     "name": "stdout",
     "output_type": "stream",
     "text": [
      "0 0\n",
      "0 1\n",
      "0 2\n",
      "0 3\n",
      "0 4\n",
      "1 0\n",
      "1 1\n",
      "1 2\n",
      "1 3\n",
      "1 4\n",
      "2 0\n",
      "2 1\n",
      "2 2\n",
      "2 3\n",
      "2 4\n",
      "3 0\n",
      "3 1\n",
      "3 2\n",
      "3 3\n",
      "3 4\n",
      "4 0\n",
      "4 1\n",
      "4 2\n",
      "4 3\n",
      "4 4\n"
     ]
    }
   ],
   "source": [
    "for i in range (5):\n",
    "    for j in range(5):\n",
    "        print(i,j)"
   ]
  },
  {
   "cell_type": "markdown",
   "id": "436757de-f280-4de6-b504-c3754e6b032c",
   "metadata": {},
   "source": [
    "# Function"
   ]
  },
  {
   "cell_type": "code",
   "execution_count": 14,
   "id": "ec340a02-d52e-44ec-97be-9dd5c3b90d60",
   "metadata": {},
   "outputs": [],
   "source": [
    "def my_fun():\n",
    "    print('Welcome')"
   ]
  },
  {
   "cell_type": "code",
   "execution_count": 15,
   "id": "1b739a29-badb-4f8e-a912-c5c2c5e12286",
   "metadata": {},
   "outputs": [
    {
     "name": "stdout",
     "output_type": "stream",
     "text": [
      "Welcome\n"
     ]
    }
   ],
   "source": [
    "my_fun()"
   ]
  },
  {
   "cell_type": "code",
   "execution_count": 16,
   "id": "b36769f9-ba36-4dd3-9839-8a9c85a0899e",
   "metadata": {},
   "outputs": [],
   "source": [
    "def my_fun(fname):\n",
    "    print(fname)"
   ]
  },
  {
   "cell_type": "code",
   "execution_count": 17,
   "id": "7463cf2d-699e-4fbd-8729-52a91b2ceb3a",
   "metadata": {},
   "outputs": [
    {
     "name": "stdout",
     "output_type": "stream",
     "text": [
      "Ali\n",
      "Ahmed\n",
      "Mona\n",
      "Ali\n"
     ]
    }
   ],
   "source": [
    "my_fun('Ali')\n",
    "my_fun('Ahmed')\n",
    "my_fun('Mona')\n",
    "my_fun('Ali')"
   ]
  },
  {
   "cell_type": "code",
   "execution_count": 18,
   "id": "5b6a39bc-9475-44e9-b09b-9e640772c706",
   "metadata": {},
   "outputs": [],
   "source": [
    "def my_fun(fname, lname):\n",
    "    print(fname, lname)"
   ]
  },
  {
   "cell_type": "code",
   "execution_count": 19,
   "id": "a5f9e2b1-5de9-4bdb-8594-dc428978b076",
   "metadata": {},
   "outputs": [
    {
     "name": "stdout",
     "output_type": "stream",
     "text": [
      "Ahmed ali\n"
     ]
    }
   ],
   "source": [
    "my_fun('Ahmed', 'ali')"
   ]
  },
  {
   "cell_type": "code",
   "execution_count": 20,
   "id": "c0fdf8e4-81c1-4d38-9d0c-e8bb45448ae0",
   "metadata": {},
   "outputs": [],
   "source": [
    "def my_fun(*name): # take multiple args as tuple\n",
    "    print(name[0])\n",
    "    print(name[1])\n",
    "    print(type(name))"
   ]
  },
  {
   "cell_type": "code",
   "execution_count": 21,
   "id": "bba12bc4-6f18-44f8-a221-95f826ac35c5",
   "metadata": {},
   "outputs": [
    {
     "name": "stdout",
     "output_type": "stream",
     "text": [
      "ahmed\n",
      "5\n",
      "<class 'tuple'>\n"
     ]
    }
   ],
   "source": [
    "my_fun('ahmed', 5, 'hi')"
   ]
  },
  {
   "cell_type": "code",
   "execution_count": 22,
   "id": "287f9cb6-4278-44da-ab30-490a2abc1490",
   "metadata": {},
   "outputs": [],
   "source": [
    "def my_fun(fname, lname):\n",
    "    print(fname, lname)"
   ]
  },
  {
   "cell_type": "code",
   "execution_count": 23,
   "id": "30fbe1cd-a994-4398-8a80-63398ba4161b",
   "metadata": {},
   "outputs": [
    {
     "name": "stdout",
     "output_type": "stream",
     "text": [
      "ahmed ali\n"
     ]
    }
   ],
   "source": [
    "my_fun(fname='ahmed', lname='ali')"
   ]
  },
  {
   "cell_type": "code",
   "execution_count": 24,
   "id": "cf2032a5-7ba4-455a-b430-149e6be8931e",
   "metadata": {},
   "outputs": [
    {
     "name": "stdout",
     "output_type": "stream",
     "text": [
      "ali ahmed\n"
     ]
    }
   ],
   "source": [
    "my_fun(lname='ahmed', fname='ali')"
   ]
  },
  {
   "cell_type": "code",
   "execution_count": 25,
   "id": "8967abe5-e19d-4b5e-9084-debd3e2185ca",
   "metadata": {},
   "outputs": [
    {
     "name": "stdout",
     "output_type": "stream",
     "text": [
      "ahmed ali\n"
     ]
    }
   ],
   "source": [
    "my_fun('ahmed', 'ali')"
   ]
  },
  {
   "cell_type": "code",
   "execution_count": 26,
   "id": "5bcd519d-664c-4b92-9c8b-af02f7ff258b",
   "metadata": {},
   "outputs": [
    {
     "name": "stdout",
     "output_type": "stream",
     "text": [
      "2 1\n"
     ]
    }
   ],
   "source": [
    "def print_fun(fname, lname):\n",
    "    print(fname, lname)\n",
    "print_fun(lname = '1', fname = '2')"
   ]
  },
  {
   "cell_type": "code",
   "execution_count": 27,
   "id": "fddc453e-cb0d-4dae-a378-a590935baf3e",
   "metadata": {},
   "outputs": [
    {
     "name": "stdout",
     "output_type": "stream",
     "text": [
      "1*2\n"
     ]
    }
   ],
   "source": [
    "print(1,2, sep = '*')"
   ]
  },
  {
   "cell_type": "code",
   "execution_count": 28,
   "id": "27f162bd-c71c-4a3f-9298-fb2ee98cea56",
   "metadata": {},
   "outputs": [],
   "source": [
    "def my_fun(**name): # take multiple args as dict\n",
    "    print(name['lname'])\n",
    "    print(name['fname'])\n",
    "    print(type(name))"
   ]
  },
  {
   "cell_type": "code",
   "execution_count": 29,
   "id": "2b06674f-892c-4920-b376-ac30975eb8ad",
   "metadata": {},
   "outputs": [
    {
     "name": "stdout",
     "output_type": "stream",
     "text": [
      "ali\n",
      "ahmed\n",
      "<class 'dict'>\n"
     ]
    }
   ],
   "source": [
    "my_fun(fname='ahmed', lname='ali')"
   ]
  },
  {
   "cell_type": "code",
   "execution_count": 30,
   "id": "51d3b3d7-d8e0-4c8c-b188-b28fa4912227",
   "metadata": {},
   "outputs": [],
   "source": [
    "def my_fun(fname):\n",
    "    print(fname)"
   ]
  },
  {
   "cell_type": "code",
   "execution_count": 31,
   "id": "4b389a1b-3f13-4894-af94-ac8053b50636",
   "metadata": {},
   "outputs": [
    {
     "name": "stdout",
     "output_type": "stream",
     "text": [
      "ali\n"
     ]
    }
   ],
   "source": [
    "my_fun(fname = 'ali')"
   ]
  },
  {
   "cell_type": "code",
   "execution_count": 32,
   "id": "7e689b17-f416-43ac-a623-e219bbe84964",
   "metadata": {},
   "outputs": [],
   "source": [
    "def my_fun(x):\n",
    "    for i in x:\n",
    "        print(i)"
   ]
  },
  {
   "cell_type": "code",
   "execution_count": 33,
   "id": "e0c2881b-41f2-4fe8-a1ef-7db3a489f042",
   "metadata": {
    "scrolled": true
   },
   "outputs": [
    {
     "name": "stdout",
     "output_type": "stream",
     "text": [
      "1\n",
      "2\n",
      "3\n",
      "4\n",
      "5\n"
     ]
    }
   ],
   "source": [
    "y = [1,2,3,4,5]\n",
    "my_fun(y)"
   ]
  },
  {
   "cell_type": "code",
   "execution_count": 34,
   "id": "338acfed-51da-40dd-95ad-06fc6dfb53ec",
   "metadata": {},
   "outputs": [
    {
     "data": {
      "text/plain": [
       "25"
      ]
     },
     "execution_count": 34,
     "metadata": {},
     "output_type": "execute_result"
    }
   ],
   "source": [
    "def my_fun(x):\n",
    "    return x*5\n",
    "my_fun(5)"
   ]
  },
  {
   "cell_type": "code",
   "execution_count": 35,
   "id": "7478b54d-68c8-4df2-bdbc-c2edc76531b4",
   "metadata": {},
   "outputs": [
    {
     "name": "stdout",
     "output_type": "stream",
     "text": [
      "5\n"
     ]
    }
   ],
   "source": [
    "x = 5\n",
    "print(x)"
   ]
  },
  {
   "cell_type": "code",
   "execution_count": 36,
   "id": "1d88b782-2e04-4605-a322-a1009afe614e",
   "metadata": {},
   "outputs": [
    {
     "name": "stdout",
     "output_type": "stream",
     "text": [
      "50\n"
     ]
    }
   ],
   "source": [
    "x = lambda a, b: a*b\n",
    "print(x(5, 10))"
   ]
  },
  {
   "cell_type": "code",
   "execution_count": 37,
   "id": "458f4f23-8e03-4392-a1dd-62f3a871fae6",
   "metadata": {},
   "outputs": [
    {
     "ename": "TypeError",
     "evalue": "<lambda>() missing 1 required positional argument: 'b'",
     "output_type": "error",
     "traceback": [
      "\u001b[1;31m---------------------------------------------------------------------------\u001b[0m",
      "\u001b[1;31mTypeError\u001b[0m                                 Traceback (most recent call last)",
      "Cell \u001b[1;32mIn[37], line 1\u001b[0m\n\u001b[1;32m----> 1\u001b[0m \u001b[43mx\u001b[49m\u001b[43m(\u001b[49m\u001b[38;5;241;43m5\u001b[39;49m\u001b[43m)\u001b[49m\n",
      "\u001b[1;31mTypeError\u001b[0m: <lambda>() missing 1 required positional argument: 'b'"
     ]
    }
   ],
   "source": [
    "x(5)"
   ]
  },
  {
   "cell_type": "code",
   "execution_count": 89,
   "id": "3b643a08-3a3c-4ddf-b1e3-6cf784c1e672",
   "metadata": {},
   "outputs": [
    {
     "name": "stdout",
     "output_type": "stream",
     "text": [
      "7\n"
     ]
    }
   ],
   "source": [
    "y = lambda a, b, c : a+b*c\n",
    "print(y(1,2,3))"
   ]
  },
  {
   "cell_type": "code",
   "execution_count": 88,
   "id": "8449f763-8f4f-4108-81a1-c1472db41ef4",
   "metadata": {},
   "outputs": [],
   "source": [
    "class my_class:\n",
    "    x = 5"
   ]
  },
  {
   "cell_type": "code",
   "execution_count": 89,
   "id": "ffa9f84e-b65c-4447-aad1-93f46824b41e",
   "metadata": {},
   "outputs": [],
   "source": [
    "ob1 = my_class()"
   ]
  },
  {
   "cell_type": "code",
   "execution_count": 90,
   "id": "684a90e7-f09c-44af-9e87-f6637fbec10c",
   "metadata": {},
   "outputs": [
    {
     "data": {
      "text/plain": [
       "5"
      ]
     },
     "execution_count": 90,
     "metadata": {},
     "output_type": "execute_result"
    }
   ],
   "source": [
    "ob1.x"
   ]
  },
  {
   "cell_type": "code",
   "execution_count": 91,
   "id": "a970becd-5324-4472-ab02-a6fa2072eef8",
   "metadata": {},
   "outputs": [
    {
     "name": "stdout",
     "output_type": "stream",
     "text": [
      "10\n",
      "20\n",
      "30\n"
     ]
    }
   ],
   "source": [
    "class printclass:\n",
    "    x = 10\n",
    "    y = 20\n",
    "    z = 30\n",
    "\n",
    "o1 = printclass()\n",
    "o2 = printclass()\n",
    "o3 = printclass()\n",
    "\n",
    "print(o1.x)\n",
    "print(o1.y)\n",
    "print(o1.z)"
   ]
  },
  {
   "cell_type": "code",
   "execution_count": 92,
   "id": "2259f330-372f-4b86-8b7c-a16e8a1b63fa",
   "metadata": {},
   "outputs": [
    {
     "ename": "NameError",
     "evalue": "name 'this' is not defined",
     "output_type": "error",
     "traceback": [
      "\u001b[1;31m---------------------------------------------------------------------------\u001b[0m",
      "\u001b[1;31mNameError\u001b[0m                                 Traceback (most recent call last)",
      "Cell \u001b[1;32mIn[92], line 1\u001b[0m\n\u001b[1;32m----> 1\u001b[0m \u001b[43mthis\u001b[49m\u001b[38;5;241m.\u001b[39mx \u001b[38;5;241m=\u001b[39m x\n",
      "\u001b[1;31mNameError\u001b[0m: name 'this' is not defined"
     ]
    }
   ],
   "source": [
    "# The this keyword doesn't exist in Python.\n",
    "this.x = x"
   ]
  },
  {
   "cell_type": "code",
   "execution_count": 96,
   "id": "6d7f71df-7bb8-403c-985e-5b0a7cbe720a",
   "metadata": {},
   "outputs": [
    {
     "ename": "TypeError",
     "evalue": "my_class.__init__() missing 1 required positional argument: 'lname'",
     "output_type": "error",
     "traceback": [
      "\u001b[1;31m---------------------------------------------------------------------------\u001b[0m",
      "\u001b[1;31mTypeError\u001b[0m                                 Traceback (most recent call last)",
      "Cell \u001b[1;32mIn[96], line 6\u001b[0m\n\u001b[0;32m      3\u001b[0m         \u001b[38;5;28mself\u001b[39m\u001b[38;5;241m.\u001b[39mfname \u001b[38;5;241m=\u001b[39m fname\n\u001b[0;32m      4\u001b[0m         \u001b[38;5;28mself\u001b[39m\u001b[38;5;241m.\u001b[39mlname \u001b[38;5;241m=\u001b[39m lname\n\u001b[1;32m----> 6\u001b[0m o1 \u001b[38;5;241m=\u001b[39m \u001b[43mmy_class\u001b[49m\u001b[43m(\u001b[49m\u001b[38;5;124;43m'\u001b[39;49m\u001b[38;5;124;43mali\u001b[39;49m\u001b[38;5;124;43m'\u001b[39;49m\u001b[43m)\u001b[49m\n\u001b[0;32m      7\u001b[0m o1\u001b[38;5;241m.\u001b[39mfname\n\u001b[0;32m      8\u001b[0m o1\u001b[38;5;241m.\u001b[39mlname\n",
      "\u001b[1;31mTypeError\u001b[0m: my_class.__init__() missing 1 required positional argument: 'lname'"
     ]
    }
   ],
   "source": [
    "class my_class:\n",
    "    def __init__(fname, lname): # Missing self argument: The __init__ method should always take self as the first argument\n",
    "        self.fname = fname\n",
    "        self.lname = lname\n",
    "\n",
    "o1 = my_class('ali')\n",
    "o1.fname\n",
    "o1.lname"
   ]
  },
  {
   "cell_type": "code",
   "execution_count": 111,
   "id": "91cce57c-10f9-456e-8ccf-0eb681d69974",
   "metadata": {},
   "outputs": [
    {
     "name": "stdout",
     "output_type": "stream",
     "text": [
      "Name: ahmed, Age: 10\n"
     ]
    }
   ],
   "source": [
    "class person:\n",
    "    def __init__(self, name, age):\n",
    "        self.name = name\n",
    "        self.age = age\n",
    "\n",
    "    def __str__(self): # special method that defines how the object should be represented as a string\n",
    "        return f'Name: {self.name}, Age: {self.age}'\n",
    "\n",
    "ob1 = person('ahmed', 10)\n",
    "print(ob1)"
   ]
  },
  {
   "cell_type": "code",
   "execution_count": 112,
   "id": "8176f761-ff3d-4f43-9703-a8429722e578",
   "metadata": {},
   "outputs": [
    {
     "data": {
      "text/plain": [
       "20"
      ]
     },
     "execution_count": 112,
     "metadata": {},
     "output_type": "execute_result"
    }
   ],
   "source": [
    "class my_class:\n",
    "    def __init__(self, name, age):\n",
    "        self.name = name\n",
    "        self.age = age\n",
    "\n",
    "    def print_fun(self):\n",
    "        print(self.name)\n",
    "        \n",
    "    def printAge(self):\n",
    "        print(self.age)\n",
    "\n",
    "ob1 = my_class('ahmed', 20)\n",
    "ob1.age"
   ]
  },
  {
   "cell_type": "code",
   "execution_count": 113,
   "id": "de10fa4b-0230-4b9a-beba-66c83734083b",
   "metadata": {},
   "outputs": [
    {
     "data": {
      "text/plain": [
       "'ahmed'"
      ]
     },
     "execution_count": 113,
     "metadata": {},
     "output_type": "execute_result"
    }
   ],
   "source": [
    "ob1.name"
   ]
  },
  {
   "cell_type": "code",
   "execution_count": 114,
   "id": "3da6d4cd-f163-4a77-a857-8738202db0e1",
   "metadata": {},
   "outputs": [
    {
     "name": "stdout",
     "output_type": "stream",
     "text": [
      "ahmed\n"
     ]
    }
   ],
   "source": [
    "ob1.print_fun()"
   ]
  },
  {
   "cell_type": "code",
   "execution_count": 115,
   "id": "d6e01067-88d4-41cf-8b9c-859391ade0e2",
   "metadata": {},
   "outputs": [
    {
     "name": "stdout",
     "output_type": "stream",
     "text": [
      "20\n"
     ]
    }
   ],
   "source": [
    "ob1.printAge()"
   ]
  },
  {
   "cell_type": "code",
   "execution_count": 116,
   "id": "9af1258a-82e2-41b0-b3d3-c4c526dc677c",
   "metadata": {},
   "outputs": [
    {
     "data": {
      "text/plain": [
       "20"
      ]
     },
     "execution_count": 116,
     "metadata": {},
     "output_type": "execute_result"
    }
   ],
   "source": [
    "class my_class:\n",
    "    def __init__(uuu, name, age): # self is conveniente word but not mandatory\n",
    "        uuu.name = name\n",
    "        uuu.age = age\n",
    "\n",
    "    def print_fun(uuu):\n",
    "        print(uuu.name)\n",
    "\n",
    "    def printAge(uuu):\n",
    "        print(uuu.age)\n",
    "\n",
    "ob1 = my_class('ahmed', 20)\n",
    "ob1.age"
   ]
  },
  {
   "cell_type": "code",
   "execution_count": 117,
   "id": "257329fa-5333-47c0-86d2-ded12a22814a",
   "metadata": {},
   "outputs": [],
   "source": [
    "ob1.age = 50"
   ]
  },
  {
   "cell_type": "code",
   "execution_count": 118,
   "id": "1fb636e7-058d-413c-98fb-54f28083221f",
   "metadata": {},
   "outputs": [
    {
     "data": {
      "text/plain": [
       "50"
      ]
     },
     "execution_count": 118,
     "metadata": {},
     "output_type": "execute_result"
    }
   ],
   "source": [
    "ob1.age"
   ]
  },
  {
   "cell_type": "code",
   "execution_count": 119,
   "id": "0f733265-5af2-4d1d-aed4-f20c60874a11",
   "metadata": {},
   "outputs": [],
   "source": [
    "del ob1"
   ]
  },
  {
   "cell_type": "code",
   "execution_count": 120,
   "id": "7000c54d-d801-461d-a6ea-12c877dea514",
   "metadata": {},
   "outputs": [
    {
     "ename": "NameError",
     "evalue": "name 'ob1' is not defined",
     "output_type": "error",
     "traceback": [
      "\u001b[1;31m---------------------------------------------------------------------------\u001b[0m",
      "\u001b[1;31mNameError\u001b[0m                                 Traceback (most recent call last)",
      "Cell \u001b[1;32mIn[120], line 1\u001b[0m\n\u001b[1;32m----> 1\u001b[0m \u001b[43mob1\u001b[49m\u001b[38;5;241m.\u001b[39mage\n",
      "\u001b[1;31mNameError\u001b[0m: name 'ob1' is not defined"
     ]
    }
   ],
   "source": [
    "ob1.age"
   ]
  },
  {
   "cell_type": "code",
   "execution_count": 121,
   "id": "496a19b8-c2ac-453f-836b-0157f5116381",
   "metadata": {},
   "outputs": [
    {
     "data": {
      "text/plain": [
       "10"
      ]
     },
     "execution_count": 121,
     "metadata": {},
     "output_type": "execute_result"
    }
   ],
   "source": [
    "x = 5\n",
    "x = 10\n",
    "\n",
    "x"
   ]
  },
  {
   "cell_type": "code",
   "execution_count": 123,
   "id": "07f8a98f-29ac-4f1e-b813-9a33026985ae",
   "metadata": {},
   "outputs": [
    {
     "name": "stdout",
     "output_type": "stream",
     "text": [
      "20\n",
      "ahmed\n"
     ]
    }
   ],
   "source": [
    "class person:\n",
    "    def __init__(self, fname, lname):\n",
    "        self.fname = fname\n",
    "        self.lname = lname\n",
    "\n",
    "    def print_fname(self):\n",
    "        print(self.fname)\n",
    "\n",
    "\n",
    "class student(person): # student class inherits from person class\n",
    "    def __init__(self, fname, lname, age, year):\n",
    "        person.__init__(self, fname, lname) # super().__init__(fname, lname) is correct also\n",
    "        self.age = age\n",
    "        self.year = year\n",
    "\n",
    "    def printage(self):\n",
    "        print(self.age)\n",
    "\n",
    "\n",
    "o1 = student('ahmed', 'ali', 20, 2024)\n",
    "o1.printage()\n",
    "o1.print_fname()"
   ]
  },
  {
   "cell_type": "code",
   "execution_count": 136,
   "id": "c3f8bc28-5002-4c7f-bc5e-c25197a00a6d",
   "metadata": {},
   "outputs": [
    {
     "data": {
      "text/plain": [
       "'ahmed'"
      ]
     },
     "execution_count": 136,
     "metadata": {},
     "output_type": "execute_result"
    }
   ],
   "source": [
    "o1.fname"
   ]
  },
  {
   "cell_type": "code",
   "execution_count": 137,
   "id": "d653ff3a-e49d-481e-b1ae-fd881ec6d1ad",
   "metadata": {},
   "outputs": [
    {
     "data": {
      "text/plain": [
       "2024"
      ]
     },
     "execution_count": 137,
     "metadata": {},
     "output_type": "execute_result"
    }
   ],
   "source": [
    "o1.year"
   ]
  },
  {
   "cell_type": "code",
   "execution_count": 138,
   "id": "4d313b4a-cacb-4411-b287-59cb98ba0266",
   "metadata": {},
   "outputs": [
    {
     "data": {
      "text/plain": [
       "'ali'"
      ]
     },
     "execution_count": 138,
     "metadata": {},
     "output_type": "execute_result"
    }
   ],
   "source": [
    "o1.lname"
   ]
  },
  {
   "cell_type": "code",
   "execution_count": 140,
   "id": "c7d30411-b9b1-4e36-9b0a-a94ae752b958",
   "metadata": {},
   "outputs": [],
   "source": [
    "class person:\n",
    "    def __init__(self, fname, lname):\n",
    "        self.fname = fname\n",
    "        self.lname = lname\n",
    "\n",
    "    # Private methods are generally intended for internal use within the class\n",
    "    # and are not directly accessible from outside the class.\n",
    "    # However, in Python, private methods can still be accessed from outside the class,\n",
    "    # but it's considered a convention to avoid doing so.\n",
    "    def __my_fun(self):\n",
    "        print(self.fname)"
   ]
  },
  {
   "cell_type": "code",
   "execution_count": 143,
   "id": "67cb10ce-7a6a-45b7-9ef2-9fc95daf5269",
   "metadata": {},
   "outputs": [
    {
     "ename": "AttributeError",
     "evalue": "type object 'person' has no attribute '_student__my_fun'",
     "output_type": "error",
     "traceback": [
      "\u001b[1;31m---------------------------------------------------------------------------\u001b[0m",
      "\u001b[1;31mAttributeError\u001b[0m                            Traceback (most recent call last)",
      "Cell \u001b[1;32mIn[143], line 1\u001b[0m\n\u001b[1;32m----> 1\u001b[0m \u001b[38;5;28;43;01mclass\u001b[39;49;00m\u001b[43m \u001b[49m\u001b[38;5;21;43;01mstudent\u001b[39;49;00m\u001b[43m(\u001b[49m\u001b[43mperson\u001b[49m\u001b[43m)\u001b[49m\u001b[43m:\u001b[49m\n\u001b[0;32m      2\u001b[0m \u001b[43m    \u001b[49m\u001b[38;5;28;43;01mdef\u001b[39;49;00m\u001b[43m \u001b[49m\u001b[38;5;21;43m__init__\u001b[39;49m\u001b[43m(\u001b[49m\u001b[38;5;28;43mself\u001b[39;49m\u001b[43m,\u001b[49m\u001b[43m \u001b[49m\u001b[43mperson\u001b[49m\u001b[43m,\u001b[49m\u001b[43m \u001b[49m\u001b[43mage\u001b[49m\u001b[43m,\u001b[49m\u001b[43m \u001b[49m\u001b[43myear\u001b[49m\u001b[43m)\u001b[49m\u001b[43m:\u001b[49m\n\u001b[0;32m      3\u001b[0m \u001b[43m        \u001b[49m\u001b[38;5;28;43msuper\u001b[39;49m\u001b[38;5;241;43m.\u001b[39;49m\u001b[38;5;21;43m__init__\u001b[39;49m\u001b[43m(\u001b[49m\u001b[43mperson\u001b[49m\u001b[38;5;241;43m.\u001b[39;49m\u001b[43mfname\u001b[49m\u001b[43m,\u001b[49m\u001b[43m \u001b[49m\u001b[43mperson\u001b[49m\u001b[38;5;241;43m.\u001b[39;49m\u001b[43mlname\u001b[49m\u001b[43m)\u001b[49m\n",
      "Cell \u001b[1;32mIn[143], line 7\u001b[0m, in \u001b[0;36mstudent\u001b[1;34m()\u001b[0m\n\u001b[0;32m      4\u001b[0m     \u001b[38;5;28mself\u001b[39m\u001b[38;5;241m.\u001b[39mage \u001b[38;5;241m=\u001b[39m age\n\u001b[0;32m      5\u001b[0m     \u001b[38;5;28mself\u001b[39m\u001b[38;5;241m.\u001b[39myear \u001b[38;5;241m=\u001b[39m year\n\u001b[1;32m----> 7\u001b[0m \u001b[43mperson\u001b[49m\u001b[38;5;241;43m.\u001b[39;49m\u001b[43m__my_fun\u001b[49m(person(\u001b[38;5;124m'\u001b[39m\u001b[38;5;124mkhaled\u001b[39m\u001b[38;5;124m'\u001b[39m, \u001b[38;5;124m'\u001b[39m\u001b[38;5;124msameh\u001b[39m\u001b[38;5;124m'\u001b[39m))\n",
      "\u001b[1;31mAttributeError\u001b[0m: type object 'person' has no attribute '_student__my_fun'"
     ]
    }
   ],
   "source": [
    "class student(person):\n",
    "    def __init__(self, person, age, year):\n",
    "        super.__init__(person.fname, person.lname)\n",
    "        self.age = age\n",
    "        self.year = year\n",
    "\n",
    "    person.__my_fun(person('khaled', 'sameh'))"
   ]
  },
  {
   "cell_type": "code",
   "execution_count": 144,
   "id": "72ca9a31-a7ba-49e6-a0a7-eeb33ba98253",
   "metadata": {},
   "outputs": [
    {
     "ename": "AttributeError",
     "evalue": "'person' object has no attribute '__my_fun'",
     "output_type": "error",
     "traceback": [
      "\u001b[1;31m---------------------------------------------------------------------------\u001b[0m",
      "\u001b[1;31mAttributeError\u001b[0m                            Traceback (most recent call last)",
      "Cell \u001b[1;32mIn[144], line 4\u001b[0m\n\u001b[0;32m      2\u001b[0m o1\u001b[38;5;241m.\u001b[39mfname\n\u001b[0;32m      3\u001b[0m o1\u001b[38;5;241m.\u001b[39mlname\n\u001b[1;32m----> 4\u001b[0m \u001b[43mo1\u001b[49m\u001b[38;5;241;43m.\u001b[39;49m\u001b[43m__my_fun\u001b[49m()\n",
      "\u001b[1;31mAttributeError\u001b[0m: 'person' object has no attribute '__my_fun'"
     ]
    }
   ],
   "source": [
    "o1 = person('ahmed', 'ali')\n",
    "o1.fname\n",
    "o1.lname\n",
    "o1.__my_fun()"
   ]
  },
  {
   "cell_type": "code",
   "execution_count": 146,
   "id": "51823bfe-3f56-4c66-a217-36d08e1d6fd7",
   "metadata": {},
   "outputs": [
    {
     "name": "stdout",
     "output_type": "stream",
     "text": [
      "1\n",
      "2\n"
     ]
    }
   ],
   "source": [
    "x = [1,2,3,4,5]\n",
    "# creates an iterator object y from the list x.\n",
    "# Iterators provide a way to sequentially access the elements of an iterable object.\n",
    "y = iter(x)\n",
    "\n",
    "print(next(y)) # prints the first element of the iterator y, which is 1.\n",
    "print(next(y)) # prints the second element of the iterator y, which is 2."
   ]
  },
  {
   "cell_type": "code",
   "execution_count": 148,
   "id": "141b931b-287e-4942-9e95-6156fd724691",
   "metadata": {},
   "outputs": [
    {
     "name": "stdout",
     "output_type": "stream",
     "text": [
      "Toyota\n",
      "2024\n",
      "Drive\n"
     ]
    }
   ],
   "source": [
    "class car:\n",
    "    def __init__(self, brand, model):\n",
    "        self.brand = brand\n",
    "        self.model = model\n",
    "    def move(self):\n",
    "        print('Drive')\n",
    "\n",
    "class boat:\n",
    "    def __init__(self, brand, model):\n",
    "        self.brand = brand\n",
    "        self.model = model\n",
    "    def move(self):\n",
    "        print('Sail')\n",
    "\n",
    "class plane:\n",
    "    def __init__(self, brand, model):\n",
    "        self.brand = brand\n",
    "        self.model = model\n",
    "    def move(self):\n",
    "        print('fly')\n",
    "\n",
    "\n",
    "car1 = car('Toyota', 2024)\n",
    "print(car1.brand)\n",
    "print(car1.model)\n",
    "car1.move()"
   ]
  },
  {
   "cell_type": "code",
   "execution_count": 152,
   "id": "ea86b996-c6b1-4f0c-ac39-ecd54d75f2db",
   "metadata": {},
   "outputs": [
    {
     "name": "stdout",
     "output_type": "stream",
     "text": [
      "Toyota\n",
      "move\n"
     ]
    }
   ],
   "source": [
    "class Vehicle:\n",
    "    def __init__(self, brand, model):\n",
    "        self.brand = brand\n",
    "        self.model = model\n",
    "    def move(self):\n",
    "        print('move')\n",
    "\n",
    "class car(Vehicle):\n",
    "    pass\n",
    "\n",
    "class boat(Vehicle):\n",
    "    def move(self):\n",
    "        print('Sail')\n",
    "\n",
    "class plane(Vehicle):\n",
    "    def move(self):\n",
    "        print('fly')\n",
    "\n",
    "\n",
    "car1 = car('Toyota', 2019)\n",
    "print(car1.brand)\n",
    "car1.move()"
   ]
  },
  {
   "cell_type": "code",
   "execution_count": 156,
   "id": "e4f67a3a-4b3a-4d2d-8f71-bda1712e7023",
   "metadata": {},
   "outputs": [
    {
     "name": "stdout",
     "output_type": "stream",
     "text": [
      "16\n",
      "180.5\n",
      "50\n"
     ]
    }
   ],
   "source": [
    "w = 180.5 # global variable\n",
    "\n",
    "def my_fun(d):\n",
    "    global u # global variable u, even if it's not explicitly defined outside the function.\n",
    "    u = 50\n",
    "    print(d)\n",
    "\n",
    "    \n",
    "my_fun(16)\n",
    "print(w)\n",
    "print(u)"
   ]
  }
 ],
 "metadata": {
  "kernelspec": {
   "display_name": "Python 3 (ipykernel)",
   "language": "python",
   "name": "python3"
  },
  "language_info": {
   "codemirror_mode": {
    "name": "ipython",
    "version": 3
   },
   "file_extension": ".py",
   "mimetype": "text/x-python",
   "name": "python",
   "nbconvert_exporter": "python",
   "pygments_lexer": "ipython3",
   "version": "3.12.5"
  }
 },
 "nbformat": 4,
 "nbformat_minor": 5
}
