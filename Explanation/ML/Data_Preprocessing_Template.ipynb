{
 "cells": [
  {
   "cell_type": "markdown",
   "metadata": {
    "colab_type": "text",
    "id": "WOw8yMd1VlnD"
   },
   "source": [
    "# Data Preprocessing Template"
   ]
  },
  {
   "cell_type": "markdown",
   "metadata": {
    "colab_type": "text",
    "id": "NvUGC8QQV6bV"
   },
   "source": [
    "## Importing the libraries"
   ]
  },
  {
   "cell_type": "code",
   "execution_count": 1,
   "metadata": {
    "colab": {},
    "colab_type": "code",
    "id": "wfFEXZC0WS-V"
   },
   "outputs": [],
   "source": [
    "import pandas as pd\n",
    "import os\n",
    "\n",
    "path = r'D:\\Projects\\Software_Engineering\\Artificial_Intelligence\\Huawei_Internship_16_Sep/Datasets'"
   ]
  },
  {
   "cell_type": "markdown",
   "metadata": {
    "colab_type": "text",
    "id": "fhYaZ-ENV_c5"
   },
   "source": [
    "## Importing the dataset"
   ]
  },
  {
   "cell_type": "code",
   "execution_count": 2,
   "metadata": {
    "colab": {},
    "colab_type": "code",
    "id": "aqHTg9bxWT_u"
   },
   "outputs": [
    {
     "data": {
      "text/html": [
       "<div>\n",
       "<style scoped>\n",
       "    .dataframe tbody tr th:only-of-type {\n",
       "        vertical-align: middle;\n",
       "    }\n",
       "\n",
       "    .dataframe tbody tr th {\n",
       "        vertical-align: top;\n",
       "    }\n",
       "\n",
       "    .dataframe thead th {\n",
       "        text-align: right;\n",
       "    }\n",
       "</style>\n",
       "<table border=\"1\" class=\"dataframe\">\n",
       "  <thead>\n",
       "    <tr style=\"text-align: right;\">\n",
       "      <th></th>\n",
       "      <th>Country</th>\n",
       "      <th>Age</th>\n",
       "      <th>Salary</th>\n",
       "      <th>Purchased</th>\n",
       "    </tr>\n",
       "  </thead>\n",
       "  <tbody>\n",
       "    <tr>\n",
       "      <th>0</th>\n",
       "      <td>France</td>\n",
       "      <td>44.0</td>\n",
       "      <td>72000.0</td>\n",
       "      <td>No</td>\n",
       "    </tr>\n",
       "    <tr>\n",
       "      <th>1</th>\n",
       "      <td>Spain</td>\n",
       "      <td>27.0</td>\n",
       "      <td>48000.0</td>\n",
       "      <td>Yes</td>\n",
       "    </tr>\n",
       "    <tr>\n",
       "      <th>2</th>\n",
       "      <td>Germany</td>\n",
       "      <td>30.0</td>\n",
       "      <td>54000.0</td>\n",
       "      <td>No</td>\n",
       "    </tr>\n",
       "    <tr>\n",
       "      <th>3</th>\n",
       "      <td>Spain</td>\n",
       "      <td>38.0</td>\n",
       "      <td>61000.0</td>\n",
       "      <td>No</td>\n",
       "    </tr>\n",
       "    <tr>\n",
       "      <th>4</th>\n",
       "      <td>Germany</td>\n",
       "      <td>NaN</td>\n",
       "      <td>10.0</td>\n",
       "      <td>Yes</td>\n",
       "    </tr>\n",
       "  </tbody>\n",
       "</table>\n",
       "</div>"
      ],
      "text/plain": [
       "   Country   Age   Salary Purchased\n",
       "0   France  44.0  72000.0        No\n",
       "1    Spain  27.0  48000.0       Yes\n",
       "2  Germany  30.0  54000.0        No\n",
       "3    Spain  38.0  61000.0        No\n",
       "4  Germany   NaN     10.0       Yes"
      ]
     },
     "execution_count": 2,
     "metadata": {},
     "output_type": "execute_result"
    }
   ],
   "source": [
    "dataset = pd.read_csv(os.path.join(path, 'Data.csv'))\n",
    "dataset.head()"
   ]
  },
  {
   "cell_type": "code",
   "execution_count": 3,
   "metadata": {},
   "outputs": [
    {
     "name": "stdout",
     "output_type": "stream",
     "text": [
      "X.shape: (10, 3)\n",
      "y.shape: (10,)\n"
     ]
    }
   ],
   "source": [
    "# iloc: This stands for \"integer location-based indexing\"\n",
    "# is used to select rows and columns based on their integer positions.\n",
    "# dataset.iloc[0:5, 1:3]  # Selects rows 0-4 and columns 1-2 (exclusive of column 3).\n",
    "\n",
    "X = dataset.iloc[:, :-1].values\n",
    "y = dataset.iloc[:, -1].values\n",
    "\n",
    "\n",
    "print(f'X.shape: {X.shape}')\n",
    "print(f'y.shape: {y.shape}')"
   ]
  },
  {
   "cell_type": "code",
   "execution_count": 4,
   "metadata": {},
   "outputs": [],
   "source": [
    "def display_split():\n",
    "    print(f'X_train\\n{x_train}\\n\\n')\n",
    "    print(f'y_train\\n{y_train}\\n\\n')\n",
    "    print(f'X_test\\n{x_test}\\n\\n')\n",
    "    print(f'y_test\\n{y_test}\\n\\n')"
   ]
  },
  {
   "cell_type": "markdown",
   "metadata": {
    "colab_type": "text",
    "id": "3abSxRqvWEIB"
   },
   "source": [
    "## Splitting the dataset into the Training set and Test set"
   ]
  },
  {
   "cell_type": "code",
   "execution_count": 5,
   "metadata": {
    "colab": {},
    "colab_type": "code",
    "id": "hm48sif-WWsh"
   },
   "outputs": [
    {
     "name": "stdout",
     "output_type": "stream",
     "text": [
      "X_train\n",
      "[['France' 35.0 58000.0]\n",
      " ['Spain' 38.0 61000.0]\n",
      " ['Spain' 50.0 nan]\n",
      " ['France' 48.0 nan]\n",
      " ['France' 44.0 72000.0]\n",
      " ['France' 37.0 67000.0]\n",
      " ['Germany' nan 10.0]\n",
      " ['Germany' 50.0 83000.0]]\n",
      "\n",
      "\n",
      "y_train\n",
      "['Yes' 'No' 'No' 'Yes' 'No' 'Yes' 'Yes' 'No']\n",
      "\n",
      "\n",
      "X_test\n",
      "[['Spain' 27.0 48000.0]\n",
      " ['Germany' 30.0 54000.0]]\n",
      "\n",
      "\n",
      "y_test\n",
      "['Yes' 'No']\n",
      "\n",
      "\n"
     ]
    }
   ],
   "source": [
    "from sklearn.model_selection import train_test_split\n",
    "\n",
    "x_train, x_test, y_train, y_test =train_test_split(X, y, test_size=0.2)\n",
    "display_split()"
   ]
  },
  {
   "cell_type": "code",
   "execution_count": 6,
   "metadata": {},
   "outputs": [
    {
     "name": "stdout",
     "output_type": "stream",
     "text": [
      "X_train\n",
      "[['Spain' 27.0 48000.0]\n",
      " ['Germany' 30.0 54000.0]\n",
      " ['France' 37.0 67000.0]\n",
      " ['Spain' 50.0 nan]\n",
      " ['France' 48.0 nan]\n",
      " ['France' 44.0 72000.0]\n",
      " ['Spain' 38.0 61000.0]\n",
      " ['Germany' 50.0 83000.0]]\n",
      "\n",
      "\n",
      "y_train\n",
      "['Yes' 'No' 'Yes' 'No' 'Yes' 'No' 'No' 'No']\n",
      "\n",
      "\n",
      "X_test\n",
      "[['France' 35.0 58000.0]\n",
      " ['Germany' nan 10.0]]\n",
      "\n",
      "\n",
      "y_test\n",
      "['Yes' 'Yes']\n",
      "\n",
      "\n"
     ]
    }
   ],
   "source": [
    "x_train, x_test, y_train, y_test  = train_test_split(X, y, test_size=0.2, train_size=0.8, random_state=3)\n",
    "display_split()"
   ]
  },
  {
   "cell_type": "code",
   "execution_count": 7,
   "metadata": {},
   "outputs": [
    {
     "name": "stdout",
     "output_type": "stream",
     "text": [
      "[['Germany' nan 10.0]\n",
      " ['France' 37.0 67000.0]\n",
      " ['Spain' 27.0 48000.0]\n",
      " ['Spain' 50.0 nan]\n",
      " ['France' 48.0 nan]\n",
      " ['Spain' 38.0 61000.0]\n",
      " ['France' 44.0 72000.0]\n",
      " ['France' 35.0 58000.0]]\n"
     ]
    }
   ],
   "source": [
    "import numpy as np\n",
    "\n",
    "data = np.array([\n",
    "       ['Germany', np.nan, 10.0],\n",
    "       ['France', 37.0, 67000.0],\n",
    "       ['Spain', 27.0, 48000.0],\n",
    "       ['Spain', 50.0, np.nan],\n",
    "       ['France', 48.0, np.nan],\n",
    "       ['Spain', 38.0, 61000.0],\n",
    "       ['France', 44.0, 72000.0],\n",
    "       ['France', 35.0, 58000.0]], dtype=object)\n",
    "\n",
    "print(data)"
   ]
  },
  {
   "cell_type": "code",
   "execution_count": 8,
   "metadata": {},
   "outputs": [],
   "source": [
    "def display_shape():\n",
    "    print(f'x_train.shape: {x_train.shape}')\n",
    "    print(f'x_test.shape: {x_test.shape}')\n",
    "    print(f'y_train.shape: {y_train.shape}')\n",
    "    print(f'y_test.shape: {y_test.shape}')"
   ]
  },
  {
   "cell_type": "code",
   "execution_count": 9,
   "metadata": {},
   "outputs": [
    {
     "name": "stdout",
     "output_type": "stream",
     "text": [
      "x_train.shape: (8, 3)\n",
      "x_test.shape: (2, 3)\n",
      "y_train.shape: (8,)\n",
      "y_test.shape: (2,)\n"
     ]
    }
   ],
   "source": [
    "display_shape()"
   ]
  }
 ],
 "metadata": {
  "colab": {
   "authorship_tag": "ABX9TyOD2/gZgY69JdiiGJVNfu7s",
   "collapsed_sections": [],
   "name": "data_preprocessing_template.ipynb",
   "provenance": [],
   "toc_visible": true
  },
  "kernelspec": {
   "display_name": "Python 3 (ipykernel)",
   "language": "python",
   "name": "python3"
  },
  "language_info": {
   "codemirror_mode": {
    "name": "ipython",
    "version": 3
   },
   "file_extension": ".py",
   "mimetype": "text/x-python",
   "name": "python",
   "nbconvert_exporter": "python",
   "pygments_lexer": "ipython3",
   "version": "3.12.5"
  }
 },
 "nbformat": 4,
 "nbformat_minor": 4
}
