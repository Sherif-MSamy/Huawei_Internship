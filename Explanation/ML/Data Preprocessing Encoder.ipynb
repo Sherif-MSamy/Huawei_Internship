{
 "cells": [
  {
   "cell_type": "code",
   "execution_count": 1,
   "metadata": {},
   "outputs": [
    {
     "data": {
      "text/html": [
       "<div>\n",
       "<style scoped>\n",
       "    .dataframe tbody tr th:only-of-type {\n",
       "        vertical-align: middle;\n",
       "    }\n",
       "\n",
       "    .dataframe tbody tr th {\n",
       "        vertical-align: top;\n",
       "    }\n",
       "\n",
       "    .dataframe thead th {\n",
       "        text-align: right;\n",
       "    }\n",
       "</style>\n",
       "<table border=\"1\" class=\"dataframe\">\n",
       "  <thead>\n",
       "    <tr style=\"text-align: right;\">\n",
       "      <th></th>\n",
       "      <th>Country</th>\n",
       "      <th>Age</th>\n",
       "      <th>Salary</th>\n",
       "      <th>Purchased</th>\n",
       "    </tr>\n",
       "  </thead>\n",
       "  <tbody>\n",
       "    <tr>\n",
       "      <th>0</th>\n",
       "      <td>France</td>\n",
       "      <td>44.0</td>\n",
       "      <td>72000.0</td>\n",
       "      <td>No</td>\n",
       "    </tr>\n",
       "    <tr>\n",
       "      <th>1</th>\n",
       "      <td>Spain</td>\n",
       "      <td>27.0</td>\n",
       "      <td>48000.0</td>\n",
       "      <td>Yes</td>\n",
       "    </tr>\n",
       "    <tr>\n",
       "      <th>2</th>\n",
       "      <td>Germany</td>\n",
       "      <td>30.0</td>\n",
       "      <td>54000.0</td>\n",
       "      <td>No</td>\n",
       "    </tr>\n",
       "    <tr>\n",
       "      <th>3</th>\n",
       "      <td>Spain</td>\n",
       "      <td>38.0</td>\n",
       "      <td>61000.0</td>\n",
       "      <td>No</td>\n",
       "    </tr>\n",
       "    <tr>\n",
       "      <th>4</th>\n",
       "      <td>Germany</td>\n",
       "      <td>NaN</td>\n",
       "      <td>10.0</td>\n",
       "      <td>Yes</td>\n",
       "    </tr>\n",
       "    <tr>\n",
       "      <th>5</th>\n",
       "      <td>France</td>\n",
       "      <td>35.0</td>\n",
       "      <td>58000.0</td>\n",
       "      <td>Yes</td>\n",
       "    </tr>\n",
       "    <tr>\n",
       "      <th>6</th>\n",
       "      <td>Spain</td>\n",
       "      <td>50.0</td>\n",
       "      <td>NaN</td>\n",
       "      <td>No</td>\n",
       "    </tr>\n",
       "    <tr>\n",
       "      <th>7</th>\n",
       "      <td>France</td>\n",
       "      <td>48.0</td>\n",
       "      <td>NaN</td>\n",
       "      <td>Yes</td>\n",
       "    </tr>\n",
       "    <tr>\n",
       "      <th>8</th>\n",
       "      <td>Germany</td>\n",
       "      <td>50.0</td>\n",
       "      <td>83000.0</td>\n",
       "      <td>No</td>\n",
       "    </tr>\n",
       "    <tr>\n",
       "      <th>9</th>\n",
       "      <td>France</td>\n",
       "      <td>37.0</td>\n",
       "      <td>67000.0</td>\n",
       "      <td>Yes</td>\n",
       "    </tr>\n",
       "  </tbody>\n",
       "</table>\n",
       "</div>"
      ],
      "text/plain": [
       "   Country   Age   Salary Purchased\n",
       "0   France  44.0  72000.0        No\n",
       "1    Spain  27.0  48000.0       Yes\n",
       "2  Germany  30.0  54000.0        No\n",
       "3    Spain  38.0  61000.0        No\n",
       "4  Germany   NaN     10.0       Yes\n",
       "5   France  35.0  58000.0       Yes\n",
       "6    Spain  50.0      NaN        No\n",
       "7   France  48.0      NaN       Yes\n",
       "8  Germany  50.0  83000.0        No\n",
       "9   France  37.0  67000.0       Yes"
      ]
     },
     "execution_count": 1,
     "metadata": {},
     "output_type": "execute_result"
    }
   ],
   "source": [
    "import pandas as pd\n",
    "import os\n",
    "path = r'D:\\Projects\\Software_Engineering\\Artificial_Intelligence\\Huawei_Internship_16_Sep/Datasets'\n",
    "\n",
    "df = pd.read_csv(os.path.join(path, 'Data.csv'))\n",
    "df"
   ]
  },
  {
   "cell_type": "markdown",
   "metadata": {},
   "source": [
    "* labelencoder: used with 1D array only, it's used to convert categorical labels (strings or other non-numeric data) into numerical form.\n",
    "\n",
    "* OrdinalEncoder: Encodes categorical variables as integers (similar to LabelEncoder, but for multiple columns).\n",
    "\n",
    "* OneHotEncoder:\n",
    "\n",
    "Input:\n",
    "- [['cat'], ['dog'], ['fish'], ['dog'], ['cat']]\n",
    "\n",
    "Output:\n",
    "- 'cat' → [1, 0, 0]\n",
    "- 'dog' → [0, 1, 0]\n",
    "- 'fish' → [0, 0, 1]\n",
    "\n",
    "\n",
    "ColumnTransformer: This allows you to apply different transformations to specific columns\n",
    "\n",
    "Every Encoder have the following Components:\n",
    "- fit(): This method learns the unique classes (labels) in the data.\n",
    "- transform(): This method converts the labels into numeric values after learning their mapping.\n",
    "- fit_transform(): This is a combination of the above two steps. It first learns the classes with fit(), then immediately transforms them into numerical values with transform() in a single step."
   ]
  },
  {
   "cell_type": "code",
   "execution_count": 2,
   "metadata": {},
   "outputs": [
    {
     "name": "stdout",
     "output_type": "stream",
     "text": [
      "0     No\n",
      "1    Yes\n",
      "2     No\n",
      "3     No\n",
      "4    Yes\n",
      "5    Yes\n",
      "6     No\n",
      "7    Yes\n",
      "8     No\n",
      "9    Yes\n",
      "Name: Purchased, dtype: object\n",
      "0    0\n",
      "1    1\n",
      "2    0\n",
      "3    0\n",
      "4    1\n",
      "5    1\n",
      "6    0\n",
      "7    1\n",
      "8    0\n",
      "9    1\n",
      "Name: Purchased, dtype: int32\n",
      "   France  Germany  Spain  Age    Salary  Purchased\n",
      "0     1.0      0.0    0.0  5.0  0.867454        0.0\n",
      "1     0.0      0.0    1.0  0.0  0.578262        1.0\n",
      "2     0.0      1.0    0.0  1.0  0.650560        0.0\n",
      "3     0.0      0.0    1.0  4.0  0.734908        0.0\n",
      "4     0.0      1.0    0.0  NaN  0.000000        1.0\n",
      "5     1.0      0.0    0.0  2.0  0.698759        1.0\n",
      "6     0.0      0.0    1.0  7.0       NaN        0.0\n",
      "7     1.0      0.0    0.0  6.0       NaN        1.0\n",
      "8     0.0      1.0    0.0  7.0  1.000000        0.0\n",
      "9     1.0      0.0    0.0  3.0  0.807206        1.0\n"
     ]
    }
   ],
   "source": [
    "from sklearn.preprocessing import LabelEncoder\n",
    "\n",
    "print(df['Purchased'])\n",
    "df['Purchased'] = LabelEncoder().fit_transform(df['Purchased'])\n",
    "print(df['Purchased'])\n",
    "\n",
    "from sklearn.compose import ColumnTransformer\n",
    "from sklearn.preprocessing import OneHotEncoder, OrdinalEncoder, MinMaxScaler\n",
    "\n",
    "# tf = ColumnTransformer(transformers=[name of Transformer, type of Transformer, cols in dataset to apply])\n",
    "tf = ColumnTransformer(\n",
    "    transformers=[\n",
    "        ('Country_encoder', OneHotEncoder(), ['Country']),\n",
    "        ('age_encoder', OrdinalEncoder(), ['Age']),\n",
    "        ('Salary_encoder', MinMaxScaler(), ['Salary'])\n",
    "        ],\n",
    "        remainder='passthrough' # Keep other columns as-is\n",
    "    )\n",
    "\n",
    "result = tf.fit_transform(df)\n",
    "result = pd.DataFrame(result, columns=['France', 'Germany', 'Spain', 'Age', 'Salary', 'Purchased'])\n",
    "\n",
    "\n",
    "print(result)"
   ]
  },
  {
   "cell_type": "code",
   "execution_count": 3,
   "metadata": {},
   "outputs": [
    {
     "name": "stdout",
     "output_type": "stream",
     "text": [
      "X: [['France' 44.0 72000.0]\n",
      " ['Spain' 27.0 48000.0]\n",
      " ['Germany' 30.0 54000.0]\n",
      " ['Spain' 38.0 61000.0]\n",
      " ['Germany' nan 10.0]\n",
      " ['France' 35.0 58000.0]\n",
      " ['Spain' 50.0 nan]\n",
      " ['France' 48.0 nan]\n",
      " ['Germany' 50.0 83000.0]\n",
      " ['France' 37.0 67000.0]]\n",
      "y: ['No' 'Yes' 'No' 'No' 'Yes' 'Yes' 'No' 'Yes' 'No' 'Yes']\n",
      "\n",
      "\n",
      "\n",
      "X: [0 2 1 2 1 0 2 0 1 0]\n",
      "y: [0 1 0 0 1 1 0 1 0 1]\n"
     ]
    },
    {
     "name": "stderr",
     "output_type": "stream",
     "text": [
      "c:\\Users\\EngSherifMostafa\\AppData\\Local\\Programs\\Python\\Python312\\Lib\\site-packages\\sklearn\\preprocessing\\_label.py:114: DataConversionWarning: A column-vector y was passed when a 1d array was expected. Please change the shape of y to (n_samples, ), for example using ravel().\n",
      "  y = column_or_1d(y, warn=True)\n"
     ]
    }
   ],
   "source": [
    "import pandas as pd\n",
    "\n",
    "data = pd.read_csv(os.path.join(path, 'Data.csv'))\n",
    "X = data.iloc[ : , 0:-1].values\n",
    "y = data.iloc[ : , -1].values\n",
    "print(f'X: {X}')\n",
    "print(f'y: {y}')\n",
    "print('\\n\\n')\n",
    "\n",
    "\n",
    "from sklearn.preprocessing import LabelEncoder\n",
    "X = LabelEncoder().fit_transform(X[:, 0:1])\n",
    "print(f'X: {X}')\n",
    "y = LabelEncoder().fit_transform(y)\n",
    "print(f'y: {y}')\n"
   ]
  },
  {
   "cell_type": "code",
   "execution_count": 4,
   "metadata": {},
   "outputs": [
    {
     "name": "stdout",
     "output_type": "stream",
     "text": [
      "X_train.shape: (8,)\n",
      "X_test.shape: (2,)\n"
     ]
    }
   ],
   "source": [
    "from sklearn.model_selection import train_test_split\n",
    "X_train, X_test, y_train, y_test = train_test_split(X, y, test_size=0.2, random_state=0)\n",
    "\n",
    "print(f'X_train.shape: {X_train.shape}')\n",
    "print(f'X_test.shape: {X_test.shape}')"
   ]
  },
  {
   "cell_type": "code",
   "execution_count": 5,
   "metadata": {},
   "outputs": [
    {
     "name": "stdout",
     "output_type": "stream",
     "text": [
      "X_train.shape: (8,)\n",
      "X_train_new_shape.shape: (4, 2)\n",
      "X_train: [1 0 2 2 0 2 0 0]\n",
      "X_train_new_shape: [[1 0]\n",
      " [2 2]\n",
      " [0 2]\n",
      " [0 0]]\n",
      "X_train_new_shape type: <class 'numpy.int32'>\n",
      "X_train_new_shape_new_type type: <class 'numpy.float64'>\n"
     ]
    }
   ],
   "source": [
    "X_train_new_shape = X_train.reshape(4, 2)\n",
    "\n",
    "print(f'X_train.shape: {X_train.shape}')\n",
    "print(f'X_train_new_shape.shape: {X_train_new_shape.shape}')\n",
    "\n",
    "print(f'X_train: {X_train}')\n",
    "print(f'X_train_new_shape: {X_train_new_shape}')\n",
    "\n",
    "print(f'X_train_new_shape type: {type(X_train_new_shape[0, 0])}')\n",
    "X_train_new_shape_new_type = X_train_new_shape.astype(float)\n",
    "print(f'X_train_new_shape_new_type type: {type(X_train_new_shape_new_type[0, 0])}')"
   ]
  },
  {
   "cell_type": "markdown",
   "metadata": {},
   "source": [
    " The Pearson correlation coefficient measures the linear relationship between two dataset\n",
    "\n",
    "* 1 means a perfect positive linear relationship.\n",
    "* -1 means a perfect negative linear relationship.\n",
    "* 0 means no linear relationship."
   ]
  },
  {
   "cell_type": "code",
   "execution_count": 6,
   "metadata": {},
   "outputs": [
    {
     "name": "stdout",
     "output_type": "stream",
     "text": [
      "corrcoef:\n",
      "[[ 1.         -0.54772256]\n",
      " [-0.54772256  1.        ]]\n"
     ]
    }
   ],
   "source": [
    "import numpy as np\n",
    "\n",
    "sample_1 = np.array([1, 4, 3, 4])\n",
    "sample_2 = np.array([3, 2, 4, 1])\n",
    "\n",
    "corrcoef = np.corrcoef(sample_1, sample_2)\n",
    "print(f'corrcoef:\\n{corrcoef}')"
   ]
  },
  {
   "cell_type": "code",
   "execution_count": 7,
   "metadata": {},
   "outputs": [
    {
     "name": "stdout",
     "output_type": "stream",
     "text": [
      "sample_1:\n",
      "[[ 5]\n",
      " [26]]\n",
      "sample_2:\n",
      "[[11]\n",
      " [23]]\n"
     ]
    }
   ],
   "source": [
    "sample_1 = np.random.randint(1, 50, size=(2, 1))\n",
    "sample_2 = np.random.randint(1, 50, size=(2, 1))\n",
    "\n",
    "print(f'sample_1:\\n{sample_1}')\n",
    "print(f'sample_2:\\n{sample_2}')"
   ]
  }
 ],
 "metadata": {
  "kernelspec": {
   "display_name": "Python 3 (ipykernel)",
   "language": "python",
   "name": "python3"
  },
  "language_info": {
   "codemirror_mode": {
    "name": "ipython",
    "version": 3
   },
   "file_extension": ".py",
   "mimetype": "text/x-python",
   "name": "python",
   "nbconvert_exporter": "python",
   "pygments_lexer": "ipython3",
   "version": "3.12.5"
  }
 },
 "nbformat": 4,
 "nbformat_minor": 4
}
