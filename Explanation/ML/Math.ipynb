{
 "cells": [
  {
   "cell_type": "markdown",
   "metadata": {},
   "source": [
    "# 1.2 Implementation\n",
    "Import corresponding modules in advance."
   ]
  },
  {
   "cell_type": "code",
   "execution_count": 225,
   "metadata": {},
   "outputs": [
    {
     "data": {
      "text/plain": [
       "'import math    math.sqrt(5)\\nimport math as mt    mt.sqrt(5)\\nfrom math import sqrt      sqrt(5)\\nfrom math import *         sqrt(5), power(5), ceil(5)'"
      ]
     },
     "execution_count": 225,
     "metadata": {},
     "output_type": "execute_result"
    }
   ],
   "source": [
    "import math \n",
    "import numpy as np\n",
    "\n",
    "'''import math    math.sqrt(5)\n",
    "import math as mt    mt.sqrt(5)\n",
    "from math import sqrt      sqrt(5)\n",
    "from math import *         sqrt(5), power(5), ceil(5)'''"
   ]
  },
  {
   "cell_type": "code",
   "execution_count": 226,
   "metadata": {},
   "outputs": [
    {
     "name": "stdout",
     "output_type": "stream",
     "text": [
      "2.0\n",
      "2.0\n",
      "2.0\n",
      "2.0\n",
      "11\n",
      "10\n",
      "11\n"
     ]
    }
   ],
   "source": [
    "import math  \n",
    "\n",
    "import math as mt\n",
    "from math import * \n",
    "from math import sqrt\n",
    "\n",
    "print(math.sqrt(4))\n",
    "print(mt.sqrt(4))\n",
    "print(sqrt(4))\n",
    "print(sqrt(4))\n",
    "print(math.ceil(10.1))\n",
    "print(math.floor(10.9))\n",
    "print(round(10.6))"
   ]
  },
  {
   "cell_type": "code",
   "execution_count": 227,
   "metadata": {},
   "outputs": [
    {
     "name": "stdout",
     "output_type": "stream",
     "text": [
      "-0.8390715290764524\n",
      "0.6483608274590866\n",
      "2.0\n",
      "4\n"
     ]
    }
   ],
   "source": [
    "import math\n",
    "import math as mt\n",
    "from math import sqrt\n",
    "from math import *\n",
    "\n",
    "print(math.cos(10))\n",
    "print(mt.tan(10))\n",
    "print(sqrt(4))\n",
    "print(ceil(3.4))"
   ]
  },
  {
   "cell_type": "code",
   "execution_count": 228,
   "metadata": {},
   "outputs": [
    {
     "name": "stdout",
     "output_type": "stream",
     "text": [
      "3\n",
      "5\n",
      "2.718281828459045\n",
      "2.718281828459045\n",
      "7.38905609893065\n"
     ]
    }
   ],
   "source": [
    "import math\n",
    "\n",
    "print(math.floor(3.9))\n",
    "print(math.ceil(4.9))\n",
    "print(math.e)\n",
    "print(math.exp(1))\n",
    "print(math.exp(2))"
   ]
  },
  {
   "cell_type": "code",
   "execution_count": 229,
   "metadata": {},
   "outputs": [
    {
     "data": {
      "text/plain": [
       "5"
      ]
     },
     "execution_count": 229,
     "metadata": {},
     "output_type": "execute_result"
    }
   ],
   "source": [
    "round(4.9)"
   ]
  },
  {
   "cell_type": "code",
   "execution_count": 230,
   "metadata": {},
   "outputs": [
    {
     "data": {
      "text/plain": [
       "5"
      ]
     },
     "execution_count": 230,
     "metadata": {},
     "output_type": "execute_result"
    }
   ],
   "source": [
    "math.ceil(4.01)"
   ]
  },
  {
   "cell_type": "markdown",
   "metadata": {},
   "source": [
    "# 1.2.2 floor Implementation\n",
    "The value of floor(x) is the maximum integer less than or equal to x. If x is an integer, the\n",
    "returned value is x.\n",
    "# Code:"
   ]
  },
  {
   "cell_type": "code",
   "execution_count": 231,
   "metadata": {},
   "outputs": [
    {
     "data": {
      "text/plain": [
       "4"
      ]
     },
     "execution_count": 231,
     "metadata": {},
     "output_type": "execute_result"
    }
   ],
   "source": [
    "math.floor(4.1)"
   ]
  },
  {
   "cell_type": "code",
   "execution_count": 232,
   "metadata": {},
   "outputs": [
    {
     "data": {
      "text/plain": [
       "4"
      ]
     },
     "execution_count": 232,
     "metadata": {},
     "output_type": "execute_result"
    }
   ],
   "source": [
    "math.floor(4.999)"
   ]
  },
  {
   "cell_type": "markdown",
   "metadata": {},
   "source": [
    "# 1.2.3 cos Implementation\n",
    "The cos(x) parameter is the cosine ofx, where x must be a radian (math.pi/4 is a radian,\n",
    "indicating an angle of 45 degrees).\n",
    "# Code:"
   ]
  },
  {
   "cell_type": "code",
   "execution_count": 233,
   "metadata": {},
   "outputs": [
    {
     "data": {
      "text/plain": [
       "0.15425144988758405"
      ]
     },
     "execution_count": 233,
     "metadata": {},
     "output_type": "execute_result"
    }
   ],
   "source": [
    "mt.cos(30)"
   ]
  },
  {
   "cell_type": "code",
   "execution_count": 234,
   "metadata": {},
   "outputs": [
    {
     "name": "stdout",
     "output_type": "stream",
     "text": [
      "0.15425144988758405\n",
      "3.141592653589793\n",
      "0.5000000000000001\n"
     ]
    }
   ],
   "source": [
    "print(math.cos(30))\n",
    "print(math.pi)\n",
    "print(math.cos(math.pi/3))"
   ]
  },
  {
   "cell_type": "code",
   "execution_count": 235,
   "metadata": {},
   "outputs": [
    {
     "name": "stdout",
     "output_type": "stream",
     "text": [
      "3.141592653589793\n",
      "2.718281828459045\n"
     ]
    }
   ],
   "source": [
    "print(math.pi)\n",
    "print(math.exp(1))"
   ]
  },
  {
   "cell_type": "code",
   "execution_count": 236,
   "metadata": {},
   "outputs": [
    {
     "name": "stdout",
     "output_type": "stream",
     "text": [
      "0.15425144988758405\n",
      "0.5000000000000001\n"
     ]
    }
   ],
   "source": [
    "print(math.cos(30))\n",
    "print(math.cos(math.pi/3))"
   ]
  },
  {
   "cell_type": "code",
   "execution_count": 237,
   "metadata": {},
   "outputs": [
    {
     "data": {
      "text/plain": [
       "0.7071067811865476"
      ]
     },
     "execution_count": 237,
     "metadata": {},
     "output_type": "execute_result"
    }
   ],
   "source": [
    "math.cos(math.pi/4)"
   ]
  },
  {
   "cell_type": "code",
   "execution_count": 238,
   "metadata": {},
   "outputs": [
    {
     "data": {
      "text/plain": [
       "0.5000000000000001"
      ]
     },
     "execution_count": 238,
     "metadata": {},
     "output_type": "execute_result"
    }
   ],
   "source": [
    "math.cos(math.pi/3)"
   ]
  },
  {
   "cell_type": "markdown",
   "metadata": {},
   "source": [
    "# 1.2.4 tan Implementation\n",
    "The tan(x) parameter returns the tangent value of x (radian).\n",
    "# Code:\n"
   ]
  },
  {
   "cell_type": "code",
   "execution_count": 239,
   "metadata": {},
   "outputs": [
    {
     "data": {
      "text/plain": [
       "0.5773502691896257"
      ]
     },
     "execution_count": 239,
     "metadata": {},
     "output_type": "execute_result"
    }
   ],
   "source": [
    "math.tan(math.pi/6)"
   ]
  },
  {
   "cell_type": "code",
   "execution_count": 240,
   "metadata": {},
   "outputs": [],
   "source": [
    "from math import *"
   ]
  },
  {
   "cell_type": "code",
   "execution_count": 241,
   "metadata": {},
   "outputs": [
    {
     "data": {
      "text/plain": [
       "0.5773502691896257"
      ]
     },
     "execution_count": 241,
     "metadata": {},
     "output_type": "execute_result"
    }
   ],
   "source": [
    "tan(pi/6)"
   ]
  },
  {
   "cell_type": "code",
   "execution_count": 242,
   "metadata": {},
   "outputs": [
    {
     "data": {
      "text/plain": [
       "0.7853981633974483"
      ]
     },
     "execution_count": 242,
     "metadata": {},
     "output_type": "execute_result"
    }
   ],
   "source": [
    "math.pi/4"
   ]
  },
  {
   "cell_type": "markdown",
   "metadata": {},
   "source": [
    "# 1.2.5 degrees Implementation\n",
    "The degrees(x) parameter converts x from a radian to an angle.\n",
    "# Code:\n",
    "\n"
   ]
  },
  {
   "cell_type": "code",
   "execution_count": 243,
   "metadata": {},
   "outputs": [
    {
     "data": {
      "text/plain": [
       "90.0"
      ]
     },
     "execution_count": 243,
     "metadata": {},
     "output_type": "execute_result"
    }
   ],
   "source": [
    "import math\n",
    "math.degrees(math.pi/2)"
   ]
  },
  {
   "cell_type": "code",
   "execution_count": 244,
   "metadata": {},
   "outputs": [
    {
     "data": {
      "text/plain": [
       "180.0"
      ]
     },
     "execution_count": 244,
     "metadata": {},
     "output_type": "execute_result"
    }
   ],
   "source": [
    "degrees(math.pi)"
   ]
  },
  {
   "cell_type": "code",
   "execution_count": 245,
   "metadata": {},
   "outputs": [
    {
     "data": {
      "text/plain": [
       "45.0"
      ]
     },
     "execution_count": 245,
     "metadata": {},
     "output_type": "execute_result"
    }
   ],
   "source": [
    "math.degrees(math.pi/4)"
   ]
  },
  {
   "cell_type": "markdown",
   "metadata": {},
   "source": [
    "# 1.2.6 exp Implementation\n",
    "The exp(x) parameter returns math.e, that is, the x power of 2.71828.\n",
    "# Code:\n"
   ]
  },
  {
   "cell_type": "code",
   "execution_count": 246,
   "metadata": {},
   "outputs": [
    {
     "data": {
      "text/plain": [
       "2.718281828459045"
      ]
     },
     "execution_count": 246,
     "metadata": {},
     "output_type": "execute_result"
    }
   ],
   "source": [
    "math.exp(1)"
   ]
  },
  {
   "cell_type": "code",
   "execution_count": 247,
   "metadata": {},
   "outputs": [
    {
     "name": "stdout",
     "output_type": "stream",
     "text": [
      "8.0\n",
      "1.0\n",
      "1.0\n",
      "False\n",
      "2\n"
     ]
    }
   ],
   "source": [
    "print(math.pow(2,3))\n",
    "print(math.log(math.e)) # ln()\n",
    "print(math.log10(10))\n",
    "print(math.isnan(5)) # nan = not a number\n",
    "print(math.trunc(2.1))"
   ]
  },
  {
   "cell_type": "code",
   "execution_count": 248,
   "metadata": {},
   "outputs": [
    {
     "name": "stdout",
     "output_type": "stream",
     "text": [
      "4\n",
      "2.718281828459045\n",
      "0.15425144988758405\n",
      "0.5000000000000001\n",
      "59.99999999999999\n",
      "512.0\n",
      "4\n",
      "2.302585092994046\n",
      "1.0\n",
      "False\n",
      "0.8660254037844387\n",
      "2.0\n",
      "3\n",
      "3\n",
      "4\n"
     ]
    }
   ],
   "source": [
    "import math\n",
    "\n",
    "print(ceil(3.1))\n",
    "print(exp(1))\n",
    "print(cos(30))\n",
    "print(cos(math.pi/3))\n",
    "print(degrees(math.pi/3))\n",
    "print(pow(2,9))\n",
    "print(floor(4.1))\n",
    "print(log(10)) # ln()\n",
    "print(log10(10))\n",
    "print(isnan(5))\n",
    "print(cos(radians(30)))\n",
    "print(sqrt(4))\n",
    "print(trunc(3.7))\n",
    "print(floor(3.1))\n",
    "print(round(3.7))"
   ]
  },
  {
   "cell_type": "markdown",
   "metadata": {},
   "source": [
    "# 1.2.7 fabs Implementation\n",
    "The fabs(x) parameter returns the absolute value of x.\n",
    "# Code:\n"
   ]
  },
  {
   "cell_type": "code",
   "execution_count": 249,
   "metadata": {},
   "outputs": [
    {
     "data": {
      "text/plain": [
       "0.003"
      ]
     },
     "execution_count": 249,
     "metadata": {},
     "output_type": "execute_result"
    }
   ],
   "source": [
    "math.fabs(-0.003)"
   ]
  },
  {
   "cell_type": "code",
   "execution_count": 250,
   "metadata": {},
   "outputs": [
    {
     "name": "stdout",
     "output_type": "stream",
     "text": [
      "1.0\n",
      "24\n",
      "15.0\n",
      "2.0\n"
     ]
    }
   ],
   "source": [
    "print(math.fabs(-1))\n",
    "\n",
    "print(math.factorial(4))\n",
    "\n",
    "x = [1,2,3,4,5]\n",
    "print(math.fsum(x))\n",
    "print(math.fmod(20,3)) # remainder of 20 divided by 3"
   ]
  },
  {
   "cell_type": "code",
   "execution_count": 251,
   "metadata": {},
   "outputs": [
    {
     "data": {
      "text/plain": [
       "6"
      ]
     },
     "execution_count": 251,
     "metadata": {},
     "output_type": "execute_result"
    }
   ],
   "source": [
    "math.factorial(3) # 3*2*1# 5*4*3*2*1"
   ]
  },
  {
   "cell_type": "code",
   "execution_count": 252,
   "metadata": {},
   "outputs": [
    {
     "data": {
      "text/plain": [
       "10.0"
      ]
     },
     "execution_count": 252,
     "metadata": {},
     "output_type": "execute_result"
    }
   ],
   "source": [
    "math.fsum([1,2,3,4])"
   ]
  },
  {
   "cell_type": "code",
   "execution_count": 253,
   "metadata": {},
   "outputs": [
    {
     "data": {
      "text/plain": [
       "2.0"
      ]
     },
     "execution_count": 253,
     "metadata": {},
     "output_type": "execute_result"
    }
   ],
   "source": [
    "math.fmod(20,3)"
   ]
  },
  {
   "cell_type": "code",
   "execution_count": 254,
   "metadata": {},
   "outputs": [
    {
     "data": {
      "text/plain": [
       "2.302585092994046"
      ]
     },
     "execution_count": 254,
     "metadata": {},
     "output_type": "execute_result"
    }
   ],
   "source": [
    "math.log(10)"
   ]
  },
  {
   "cell_type": "code",
   "execution_count": 255,
   "metadata": {},
   "outputs": [
    {
     "data": {
      "text/plain": [
       "10.0"
      ]
     },
     "execution_count": 255,
     "metadata": {},
     "output_type": "execute_result"
    }
   ],
   "source": [
    "math.sqrt(100)"
   ]
  },
  {
   "cell_type": "code",
   "execution_count": 256,
   "metadata": {},
   "outputs": [
    {
     "data": {
      "text/plain": [
       "3.141592653589793"
      ]
     },
     "execution_count": 256,
     "metadata": {},
     "output_type": "execute_result"
    }
   ],
   "source": [
    "math.pi"
   ]
  },
  {
   "cell_type": "code",
   "execution_count": 257,
   "metadata": {},
   "outputs": [
    {
     "data": {
      "text/plain": [
       "81.0"
      ]
     },
     "execution_count": 257,
     "metadata": {},
     "output_type": "execute_result"
    }
   ],
   "source": [
    "math.pow(3,4)"
   ]
  },
  {
   "cell_type": "code",
   "execution_count": 258,
   "metadata": {},
   "outputs": [
    {
     "data": {
      "text/plain": [
       "6"
      ]
     },
     "execution_count": 258,
     "metadata": {},
     "output_type": "execute_result"
    }
   ],
   "source": [
    "math.trunc(6.789)"
   ]
  },
  {
   "cell_type": "code",
   "execution_count": 259,
   "metadata": {},
   "outputs": [
    {
     "name": "stdout",
     "output_type": "stream",
     "text": [
      "4\n",
      "<built-in function degrees>\n",
      "<built-in function radians>\n"
     ]
    }
   ],
   "source": [
    "print(round(3.7))\n",
    "\n",
    "print(math.degrees)\n",
    "print(math.radians)"
   ]
  },
  {
   "cell_type": "markdown",
   "metadata": {},
   "source": [
    "# 2.2 Linear Algebra Implementation\n",
    "Import corresponding modules in advance."
   ]
  },
  {
   "cell_type": "markdown",
   "metadata": {},
   "source": [
    "# 2.2.1 Tensor Implementation\n",
    "Generate a two-dimensional tensor whose elements are 0 and two dimensions are 3 and 4.\n",
    "# Code:"
   ]
  },
  {
   "cell_type": "code",
   "execution_count": 260,
   "metadata": {},
   "outputs": [
    {
     "name": "stdout",
     "output_type": "stream",
     "text": [
      "3\n",
      "4.0\n",
      "3.0\n",
      "3.0\n",
      "<class 'numpy.float64'>\n",
      "[[0. 0. 0.]\n",
      " [0. 0. 0.]\n",
      " [0. 0. 0.]]\n",
      "<class 'numpy.ndarray'>\n",
      "2\n",
      "6\n",
      "[1 5]\n",
      "6\n",
      "1\n",
      "3.5\n",
      "[[[1 2 3]]]\n"
     ]
    }
   ],
   "source": [
    "#pip install numpy\n",
    "\n",
    "import numpy as np\n",
    "print(np.abs(-3))\n",
    "print(np.ceil(3.3))\n",
    "print(np.floor(3.1))\n",
    "\n",
    "x = np.trunc(3.6)\n",
    "print(x)\n",
    "print(type(x))\n",
    "\n",
    "print(np.zeros((3,3)))\n",
    "\n",
    "x = np.ones((3,3))\n",
    "print(type(x))\n",
    "x = np.array([ # array of lists\n",
    "    [1,2,3],\n",
    "    [4,5,6]\n",
    "    ])\n",
    "\n",
    "print(x.ndim)\n",
    "print(x.size) # prints the total number of elements in the array\n",
    "\n",
    "print(x.diagonal())\n",
    "print(x.max())\n",
    "print(x.min())\n",
    "print(x.mean())\n",
    "\n",
    "\n",
    "x = np.array([1, 2, 3], ndmin=3)\n",
    "print(x)"
   ]
  },
  {
   "cell_type": "code",
   "execution_count": 261,
   "metadata": {},
   "outputs": [
    {
     "name": "stdout",
     "output_type": "stream",
     "text": [
      "[1. 1. 1. 1. 1.]\n",
      "\n",
      "\n",
      "[[0. 0. 0. 0. 0.]\n",
      " [0. 0. 0. 0. 0.]\n",
      " [0. 0. 0. 0. 0.]\n",
      " [0. 0. 0. 0. 0.]\n",
      " [0. 0. 0. 0. 0.]]\n",
      "\n",
      "\n",
      "[[1. 1. 1. 1.]\n",
      " [1. 1. 1. 1.]\n",
      " [1. 1. 1. 1.]\n",
      " [1. 1. 1. 1.]]\n",
      "\n",
      "\n",
      "[1 2 3 4 5]\n",
      "1\n",
      "\n",
      "\n",
      "[[ 6  7  8  9 10]]\n",
      "2\n",
      "\n",
      "\n",
      "[[[1 2 3 4 5]]]\n",
      "\n",
      "\n",
      "[[ 1  2  3  4  5]\n",
      " [ 1  2  3 40  5]\n",
      " [ 1  2  3  4 50]]\n",
      "2\n",
      "(3, 5)\n",
      "15\n"
     ]
    }
   ],
   "source": [
    "import numpy as np\n",
    "\n",
    "print(np.ones(5)) # vector\n",
    "print('\\n')\n",
    "\n",
    "print(np.zeros((5,5)))\n",
    "print('\\n')\n",
    "\n",
    "print(np.ones((4,4)))\n",
    "print('\\n')\n",
    "\n",
    "x = np.array((1,2,3,4,5))\n",
    "print(x)\n",
    "print(x.ndim)\n",
    "print('\\n')\n",
    "\n",
    "y = np.array((6,7,8,9,10), ndmin=2)\n",
    "print(y)\n",
    "print(y.ndim)\n",
    "print('\\n')\n",
    "\n",
    "x = np.array([1,2,3,4,5], ndmin=3)\n",
    "print(x)\n",
    "print('\\n')\n",
    "\n",
    "z = np.array(( # array of tuples\n",
    "    [1,2,3,4,5],\n",
    "    [1,2,3,40,5],\n",
    "    [1,2,3,4,50])\n",
    "    )\n",
    "\n",
    "print(z)\n",
    "print(z.ndim)\n",
    "print(z.shape) # rows * columns\n",
    "print(z.size) # number of elements in array"
   ]
  },
  {
   "cell_type": "markdown",
   "metadata": {},
   "source": [
    "Tuple vs List in Array Creation: A Breakdown\n",
    "\n",
    "In Python, both tuples and lists can be used to create NumPy arrays. However, there are key differences between them that can affect how the array is created and manipulated.\n",
    "\n",
    "Tuples:\n",
    "-------\n",
    "Immutable: Once created, tuples cannot be modified. This means you cannot add, remove, or change elements within a tuple.\n",
    "Slower for array creation: Creating a NumPy array from a tuple is generally slower than using a list, especially for large arrays.\n",
    "Use cases: Tuples are often used for representing fixed collections of data, such as coordinates or constants.\n",
    "\n",
    "Lists:\n",
    "-------\n",
    "Mutable: Lists can be modified after creation. You can add, remove, or change elements as needed.\n",
    "Faster for array creation: Creating a NumPy array from a list is generally faster than using a tuple, especially for large arrays.\n",
    "Use cases: Lists are more versatile and commonly used for creating and manipulating arrays in NumPy."
   ]
  },
  {
   "cell_type": "code",
   "execution_count": 262,
   "metadata": {},
   "outputs": [
    {
     "name": "stdout",
     "output_type": "stream",
     "text": [
      "[[0. 0. 0. 0. 0.]\n",
      " [0. 0. 0. 0. 0.]\n",
      " [0. 0. 0. 0. 0.]\n",
      " [0. 0. 0. 0. 0.]\n",
      " [0. 0. 0. 0. 0.]]\n",
      "0\n",
      "1\n",
      "2\n",
      "3\n",
      "7\n",
      "[[[1 2 3 4]]]\n",
      "number of dimensions:  3\n",
      "int32\n",
      "['aa' 'b' 'c' 'dd']\n",
      "<U2\n",
      "int8\n"
     ]
    }
   ],
   "source": [
    "import numpy as np\n",
    "\n",
    "print(np.zeros((5,5)))\n",
    "\n",
    "x = np.array((1,2,3,4,5))\n",
    "a = np.array(10)\n",
    "b = np.array([1,2,3,4])\n",
    "c = np.array ([\n",
    "    [1,2],\n",
    "    [4,7],\n",
    "    [7,8]\n",
    "    ])\n",
    "d = np.array([\n",
    "    [[1,2,3,6], [4,5,6,9]],\n",
    "    [[7,8,9,20], [10,11,13,12]]\n",
    "    ])\n",
    "\n",
    "print(a.ndim)\n",
    "print(b.ndim)\n",
    "print(c.ndim)\n",
    "print(d.ndim)\n",
    "\n",
    "print(c[1,-1])\n",
    "\n",
    "\n",
    "arr = np.array([1, 2, 3, 4], ndmin=3)\n",
    "print(arr)\n",
    "print('number of dimensions: ', arr.ndim)\n",
    "print(arr.dtype)\n",
    "\n",
    "arr = np.array(['aa', 'b', 'c', 'dd'])\n",
    "print(arr)\n",
    "print(arr.dtype) # U2: Unicode strings with a maximum length of 2 characters.\n",
    "\n",
    "# The data type of this array is i1, which indicates that the elements are signed integers with a size of 1 byte.\n",
    "# This is a common data type for storing small integers efficiently.\n",
    "rr = np.array([1, 2, 3, 4], dtype='i1')\n",
    "print(rr.dtype) # 1 byte = 8 bit"
   ]
  },
  {
   "cell_type": "code",
   "execution_count": 263,
   "metadata": {},
   "outputs": [
    {
     "name": "stdout",
     "output_type": "stream",
     "text": [
      "None\n",
      "[1 2 3 4 5]\n"
     ]
    }
   ],
   "source": [
    "arr = np.array([1, 2, 3, 4, 5])\n",
    "x = arr.copy()\n",
    "arr[0] = 42\n",
    "\n",
    "arr = np.array([1, 2, 3, 4, 5])\n",
    "x = arr.view()\n",
    "arr[0] = 42\n",
    "\n",
    "arr = np.array([1, 2, 3, 4, 5])\n",
    "\n",
    "x = arr.copy()\n",
    "y = arr.view()\n",
    "\n",
    "print(x.base)\n",
    "print(y.base)"
   ]
  },
  {
   "cell_type": "code",
   "execution_count": 264,
   "metadata": {},
   "outputs": [
    {
     "data": {
      "text/plain": [
       "array([[[0., 0., 0.],\n",
       "        [0., 0., 0.]],\n",
       "\n",
       "       [[0., 0., 0.],\n",
       "        [0., 0., 0.]],\n",
       "\n",
       "       [[0., 0., 0.],\n",
       "        [0., 0., 0.]],\n",
       "\n",
       "       [[0., 0., 0.],\n",
       "        [0., 0., 0.]]])"
      ]
     },
     "execution_count": 264,
     "metadata": {},
     "output_type": "execute_result"
    }
   ],
   "source": [
    "x = np.zeros((4,2,3))\n",
    "x"
   ]
  },
  {
   "cell_type": "code",
   "execution_count": 265,
   "metadata": {},
   "outputs": [
    {
     "name": "stdout",
     "output_type": "stream",
     "text": [
      "(3, 4)\n",
      "(3, 4)\n",
      "[[ 1  2  3 12  4  5  6 11  7  8  9 10]]\n",
      "[[ 1  2  3 12  4  5  6 11  7  8  9 10]]\n"
     ]
    }
   ],
   "source": [
    "x = np.array(([1,2,3,12], [4,5,6,11], [7,8,9,10]))\n",
    "x\n",
    "y =  np.array(([1,2,3,12], [4,5,6,11], [7,8,9,10]))\n",
    "print(x.shape)\n",
    "print(y.shape)\n",
    "y.reshape(2,3, 1, 2)\n",
    "#(1,2), (1,2), (1,2)\n",
    "#(1,2), (1,2), (1,2)\n",
    "print(x.reshape(1,-1))\n",
    "print(x.reshape(1,12))"
   ]
  },
  {
   "cell_type": "code",
   "execution_count": null,
   "metadata": {},
   "outputs": [],
   "source": []
  },
  {
   "cell_type": "code",
   "execution_count": 266,
   "metadata": {},
   "outputs": [
    {
     "name": "stdout",
     "output_type": "stream",
     "text": [
      "(1, 1, 1, 1, 5)\n",
      "[[[[[1 2 3 4 5]]]]]\n"
     ]
    }
   ],
   "source": [
    "arr = np.array( [ [  [1,2,3] , [4,5,6]  ] , [  [7,8,9] , [10,11,12]    ] ])\n",
    "arr\n",
    "#print(arr.shape)\n",
    "arr = np.array([1,2,3,4,5], ndmin = 5)\n",
    "print(arr.shape)\n",
    "print(arr)"
   ]
  },
  {
   "cell_type": "code",
   "execution_count": 267,
   "metadata": {},
   "outputs": [
    {
     "data": {
      "text/plain": [
       "array([[0, 1, 2, 3, 4, 5, 6, 7, 8, 9]])"
      ]
     },
     "execution_count": 267,
     "metadata": {},
     "output_type": "execute_result"
    }
   ],
   "source": [
    "import numpy as np\n",
    "x = np.array([[1,2,3], [10,20,30]])\n",
    "x.shape\n",
    "x.reshape(3,2)\n",
    "x.reshape(6,1)\n",
    "x.reshape(1,6)\n",
    "x.reshape(6,1)\n",
    "y = np.arange(5)\n",
    "y\n",
    "y.reshape(5,1)\n",
    "y.reshape(1,5)\n",
    "x = np.arange(10)\n",
    "x\n",
    "x.reshape(2,5)\n",
    "x.reshape(5,2)\n",
    "\n",
    "x = np.arange(10)\n",
    "x\n",
    "x.reshape(1,-1)\n",
    "x.reshape(-1,10)\n"
   ]
  },
  {
   "cell_type": "code",
   "execution_count": 268,
   "metadata": {},
   "outputs": [
    {
     "data": {
      "text/plain": [
       "array([0, 1, 2, 3, 4, 5, 6, 7, 8, 9])"
      ]
     },
     "execution_count": 268,
     "metadata": {},
     "output_type": "execute_result"
    }
   ],
   "source": [
    "x = np.arange(10)\n",
    "x"
   ]
  },
  {
   "cell_type": "code",
   "execution_count": 269,
   "metadata": {},
   "outputs": [
    {
     "name": "stdout",
     "output_type": "stream",
     "text": [
      "(3, 3)\n",
      "(1, 9)\n",
      "[[1 2 3 4 5 6 7 8 9]]\n"
     ]
    }
   ],
   "source": [
    "arr = np.array([ [1,2,3], [4,5,6] ,[7,8,9]  ])\n",
    "print(arr.shape)\n",
    "x = arr.reshape(1,-1)\n",
    "\n",
    "print(x.shape)\n",
    "print(x)"
   ]
  },
  {
   "cell_type": "code",
   "execution_count": 270,
   "metadata": {},
   "outputs": [
    {
     "name": "stdout",
     "output_type": "stream",
     "text": [
      "[[1 2]\n",
      " [3 4]\n",
      " [5 6]]\n"
     ]
    }
   ],
   "source": [
    "arr = np.array([1, 2, 3, 4, 5, 6, 7, 8])\n",
    "\n",
    "#print(arr.reshape(2, 4).base)\n",
    "arr = np.array([[1, 2, 3], [4, 5, 6]])\n",
    "\n",
    "newarr = arr.reshape(3,-1)\n",
    "\n",
    "print(newarr)"
   ]
  },
  {
   "cell_type": "code",
   "execution_count": 271,
   "metadata": {},
   "outputs": [
    {
     "name": "stdout",
     "output_type": "stream",
     "text": [
      "1\n",
      "2\n",
      "3\n",
      "4\n",
      "5\n",
      "6\n",
      "7\n",
      "8\n",
      "9\n",
      "10\n"
     ]
    }
   ],
   "source": [
    "x = np.array([ [1,2,3,4,5], [6,7,8,9,10] ] )\n",
    "for i in x:\n",
    "    for y in i:\n",
    "        print(y)"
   ]
  },
  {
   "cell_type": "code",
   "execution_count": 272,
   "metadata": {},
   "outputs": [
    {
     "data": {
      "text/plain": [
       "array([[[0.12161815],\n",
       "        [0.53521436],\n",
       "        [0.73207573]],\n",
       "\n",
       "       [[0.25789576],\n",
       "        [0.61289753],\n",
       "        [0.47047163]],\n",
       "\n",
       "       [[0.85068217],\n",
       "        [0.40079781],\n",
       "        [0.03335132]]])"
      ]
     },
     "execution_count": 272,
     "metadata": {},
     "output_type": "execute_result"
    }
   ],
   "source": [
    "np.random.rand(3,3,1)"
   ]
  },
  {
   "cell_type": "code",
   "execution_count": 273,
   "metadata": {},
   "outputs": [
    {
     "data": {
      "text/plain": [
       "array([[0., 0., 0., 0.],\n",
       "       [0., 0., 0., 0.],\n",
       "       [0., 0., 0., 0.]])"
      ]
     },
     "execution_count": 273,
     "metadata": {},
     "output_type": "execute_result"
    }
   ],
   "source": [
    "np.zeros((3,4))"
   ]
  },
  {
   "cell_type": "code",
   "execution_count": 274,
   "metadata": {},
   "outputs": [
    {
     "data": {
      "text/plain": [
       "array([[[0.2074412 , 0.45046062, 0.6222258 , 0.38155893],\n",
       "        [0.28662905, 0.40132006, 0.54225351, 0.19499386],\n",
       "        [0.60520757, 0.42491935, 0.23906997, 0.94181906]],\n",
       "\n",
       "       [[0.37212104, 0.33470902, 0.2904218 , 0.78818221],\n",
       "        [0.94655547, 0.24015171, 0.74689027, 0.60532506],\n",
       "        [0.84258948, 0.56083017, 0.57302187, 0.5918148 ]]])"
      ]
     },
     "execution_count": 274,
     "metadata": {},
     "output_type": "execute_result"
    }
   ],
   "source": [
    "np.random.rand(2,3,4)"
   ]
  },
  {
   "cell_type": "markdown",
   "metadata": {},
   "source": [
    "# 2.2.2 Matrix Implementation\n",
    "In mathematics, a matrix is a set of complex numbers or real numbers arranged by a\n",
    "rectangular array. A matrix is derived from a square array consisted of coefficients and\n",
    "constants of an equation set.\n",
    "Create a 3x3 zero matrix. The parameter of the zeros function in the matrix is of the tuple\n",
    "type (3, 3).\n",
    "# Code:"
   ]
  },
  {
   "cell_type": "code",
   "execution_count": 275,
   "metadata": {},
   "outputs": [],
   "source": [
    "#np.mat(np.zeros((3,2)))"
   ]
  },
  {
   "cell_type": "code",
   "execution_count": 276,
   "metadata": {},
   "outputs": [
    {
     "data": {
      "text/plain": [
       "matrix([[1., 1., 1.],\n",
       "        [1., 1., 1.],\n",
       "        [1., 1., 1.]])"
      ]
     },
     "execution_count": 276,
     "metadata": {},
     "output_type": "execute_result"
    }
   ],
   "source": [
    "np.mat(np.ones((3,3)))"
   ]
  },
  {
   "cell_type": "markdown",
   "metadata": {},
   "source": [
    "# 2.2.3 Identity Matrix Implementation\n",
    "Identity matrix is a square array whose diagonal elements are all 1 and other elements are 0.\n",
    "# Code:"
   ]
  },
  {
   "cell_type": "code",
   "execution_count": 277,
   "metadata": {},
   "outputs": [
    {
     "data": {
      "text/plain": [
       "array([[1., 0., 0., 0.],\n",
       "       [0., 1., 0., 0.],\n",
       "       [0., 0., 1., 0.],\n",
       "       [0., 0., 0., 1.]])"
      ]
     },
     "execution_count": 277,
     "metadata": {},
     "output_type": "execute_result"
    }
   ],
   "source": [
    "np.eye(4)"
   ]
  },
  {
   "cell_type": "markdown",
   "metadata": {},
   "source": [
    "# 2.2.4 reshape Operation\n",
    "There is no ‘reshape’ operation in mathematics, but it is a very common operation in the\n",
    "operation libraries such as the numpy and TensorFlow. The reshape operation is used to\n",
    "change the dimension number of a tensor and size of each dimension. For example, a 10x10\n",
    "image is directly saved as a sequence containing 100 elements. After the system reads the\n",
    "image, you can transform the image from 1x100 to 10x10 through the reshape operation. The\n",
    "example is as follows:\n",
    "# Code:\n",
    "# Generate a vector that contains integers from 0 to 11.\n"
   ]
  },
  {
   "cell_type": "code",
   "execution_count": 278,
   "metadata": {},
   "outputs": [
    {
     "data": {
      "text/plain": [
       "array([[ 0,  1,  2,  3,  4,  5,  6,  7,  8,  9, 10, 11]])"
      ]
     },
     "execution_count": 278,
     "metadata": {},
     "output_type": "execute_result"
    }
   ],
   "source": [
    "y = np.arange(12)\n",
    "y.shape\n",
    "y.reshape(1,12)"
   ]
  },
  {
   "cell_type": "code",
   "execution_count": 279,
   "metadata": {},
   "outputs": [
    {
     "data": {
      "text/plain": [
       "array([ 0,  1,  2,  3,  4,  5,  6,  7,  8,  9, 10, 11])"
      ]
     },
     "execution_count": 279,
     "metadata": {},
     "output_type": "execute_result"
    }
   ],
   "source": [
    "x = np.arange(12)\n",
    "x"
   ]
  },
  {
   "cell_type": "code",
   "execution_count": 280,
   "metadata": {},
   "outputs": [
    {
     "data": {
      "text/plain": [
       "(12,)"
      ]
     },
     "execution_count": 280,
     "metadata": {},
     "output_type": "execute_result"
    }
   ],
   "source": [
    "x.shape"
   ]
  },
  {
   "cell_type": "code",
   "execution_count": 281,
   "metadata": {},
   "outputs": [
    {
     "data": {
      "text/plain": [
       "array([[ 0,  1,  2,  3,  4,  5,  6,  7,  8,  9, 10, 11]])"
      ]
     },
     "execution_count": 281,
     "metadata": {},
     "output_type": "execute_result"
    }
   ],
   "source": [
    "x = x.reshape(1,12)\n",
    "x"
   ]
  },
  {
   "cell_type": "code",
   "execution_count": 282,
   "metadata": {},
   "outputs": [
    {
     "data": {
      "text/plain": [
       "(1, 12)"
      ]
     },
     "execution_count": 282,
     "metadata": {},
     "output_type": "execute_result"
    }
   ],
   "source": [
    "x.shape"
   ]
  },
  {
   "cell_type": "code",
   "execution_count": 283,
   "metadata": {},
   "outputs": [
    {
     "data": {
      "text/plain": [
       "array([[ 0,  1,  2,  3],\n",
       "       [ 4,  5,  6,  7],\n",
       "       [ 8,  9, 10, 11]])"
      ]
     },
     "execution_count": 283,
     "metadata": {},
     "output_type": "execute_result"
    }
   ],
   "source": [
    "x = x.reshape(3,4)\n",
    "x"
   ]
  },
  {
   "cell_type": "markdown",
   "metadata": {},
   "source": [
    "# 2.2.5 Transposition Implementation\n",
    "The transposition of vectors and matrices is exchanging the row and column. For the\n",
    "transposition of the tensors in three dimensions and above, you need to specify the\n",
    "transposition dimension.\n",
    "# Code:\n",
    "## Generate a vector x containing five elements and transposes the vector.\n"
   ]
  },
  {
   "cell_type": "code",
   "execution_count": 284,
   "metadata": {},
   "outputs": [],
   "source": [
    "import numpy as np"
   ]
  },
  {
   "cell_type": "code",
   "execution_count": 285,
   "metadata": {},
   "outputs": [
    {
     "data": {
      "text/plain": [
       "array([[0, 1, 2, 3, 4]])"
      ]
     },
     "execution_count": 285,
     "metadata": {},
     "output_type": "execute_result"
    }
   ],
   "source": [
    "x = np.arange(5).reshape(1,-1)\n",
    "x"
   ]
  },
  {
   "cell_type": "code",
   "execution_count": 286,
   "metadata": {},
   "outputs": [
    {
     "data": {
      "text/plain": [
       "array([[0],\n",
       "       [1],\n",
       "       [2],\n",
       "       [3],\n",
       "       [4]])"
      ]
     },
     "execution_count": 286,
     "metadata": {},
     "output_type": "execute_result"
    }
   ],
   "source": [
    "x.T"
   ]
  },
  {
   "cell_type": "code",
   "execution_count": 287,
   "metadata": {},
   "outputs": [
    {
     "name": "stdout",
     "output_type": "stream",
     "text": [
      "[[ 0  1  2  3]\n",
      " [ 4  5  6  7]\n",
      " [ 8  9 10 11]]\n"
     ]
    },
    {
     "data": {
      "text/plain": [
       "array([[ 0,  4,  8],\n",
       "       [ 1,  5,  9],\n",
       "       [ 2,  6, 10],\n",
       "       [ 3,  7, 11]])"
      ]
     },
     "execution_count": 287,
     "metadata": {},
     "output_type": "execute_result"
    }
   ],
   "source": [
    "A = np.arange(12).reshape(3,4)\n",
    "print(A)\n",
    "A.transpose(0,1)\n",
    "A.transpose(1,0)"
   ]
  },
  {
   "cell_type": "code",
   "execution_count": 288,
   "metadata": {},
   "outputs": [
    {
     "name": "stdout",
     "output_type": "stream",
     "text": [
      "[[ 0  1  2  3]\n",
      " [ 4  5  6  7]\n",
      " [ 8  9 10 11]]\n"
     ]
    },
    {
     "data": {
      "text/plain": [
       "array([[[ 0,  2,  4],\n",
       "        [ 6,  8, 10]],\n",
       "\n",
       "       [[ 1,  3,  5],\n",
       "        [ 7,  9, 11]]])"
      ]
     },
     "execution_count": 288,
     "metadata": {},
     "output_type": "execute_result"
    }
   ],
   "source": [
    "A = np.arange(12).reshape(3,4)\n",
    "print(A)\n",
    "A.transpose(0,1)\n",
    "A.transpose(1,0)\n",
    "A = np.arange(12).reshape(2,3, 2)\n",
    "A.transpose(2,0,1) # 2, 2, 3"
   ]
  },
  {
   "cell_type": "code",
   "execution_count": 289,
   "metadata": {},
   "outputs": [
    {
     "data": {
      "text/plain": [
       "array([[ 0,  1,  2,  3],\n",
       "       [ 4,  5,  6,  7],\n",
       "       [ 8,  9, 10, 11]])"
      ]
     },
     "execution_count": 289,
     "metadata": {},
     "output_type": "execute_result"
    }
   ],
   "source": [
    "A = np.arange(12).reshape(3,4)\n",
    "A"
   ]
  },
  {
   "cell_type": "code",
   "execution_count": 290,
   "metadata": {},
   "outputs": [
    {
     "name": "stdout",
     "output_type": "stream",
     "text": [
      "A [[ 0  1  2  3]\n",
      " [ 4  5  6  7]\n",
      " [ 8  9 10 11]]\n",
      "A T [[ 0  4  8]\n",
      " [ 1  5  9]\n",
      " [ 2  6 10]\n",
      " [ 3  7 11]]\n",
      "A3 [[ 0  1  2  3]\n",
      " [ 4  5  6  7]\n",
      " [ 8  9 10 11]]\n",
      "A4 [[ 0  4  8]\n",
      " [ 1  5  9]\n",
      " [ 2  6 10]\n",
      " [ 3  7 11]]\n"
     ]
    }
   ],
   "source": [
    "A = np.arange(12).reshape(3,4)\n",
    "print('A',A)\n",
    "print('A T',A.T)\n",
    "print('A3', A.transpose(0,1))\n",
    "print('A4', A.transpose(1,0))"
   ]
  },
  {
   "cell_type": "code",
   "execution_count": 291,
   "metadata": {},
   "outputs": [
    {
     "data": {
      "text/plain": [
       "array([[ 0,  4,  8],\n",
       "       [ 1,  5,  9],\n",
       "       [ 2,  6, 10],\n",
       "       [ 3,  7, 11]])"
      ]
     },
     "execution_count": 291,
     "metadata": {},
     "output_type": "execute_result"
    }
   ],
   "source": [
    "A.T"
   ]
  },
  {
   "cell_type": "code",
   "execution_count": 292,
   "metadata": {},
   "outputs": [
    {
     "data": {
      "text/plain": [
       "array([[[ 0,  1,  2,  3],\n",
       "        [ 4,  5,  6,  7],\n",
       "        [ 8,  9, 10, 11]],\n",
       "\n",
       "       [[12, 13, 14, 15],\n",
       "        [16, 17, 18, 19],\n",
       "        [20, 21, 22, 23]]])"
      ]
     },
     "execution_count": 292,
     "metadata": {},
     "output_type": "execute_result"
    }
   ],
   "source": [
    "B = np.arange(24).reshape(2,3,4) # [0,1,2]   \n",
    "B"
   ]
  },
  {
   "cell_type": "code",
   "execution_count": 293,
   "metadata": {},
   "outputs": [
    {
     "data": {
      "text/plain": [
       "array([[[ 0,  4,  8],\n",
       "        [12, 16, 20]],\n",
       "\n",
       "       [[ 1,  5,  9],\n",
       "        [13, 17, 21]],\n",
       "\n",
       "       [[ 2,  6, 10],\n",
       "        [14, 18, 22]],\n",
       "\n",
       "       [[ 3,  7, 11],\n",
       "        [15, 19, 23]]])"
      ]
     },
     "execution_count": 293,
     "metadata": {},
     "output_type": "execute_result"
    }
   ],
   "source": [
    "B.transpose(2,0,1) # 0,1,2 # (4, 2, 3)"
   ]
  },
  {
   "cell_type": "code",
   "execution_count": 294,
   "metadata": {},
   "outputs": [
    {
     "data": {
      "text/plain": [
       "array([[[ 0,  4,  8],\n",
       "        [12, 16, 20]],\n",
       "\n",
       "       [[ 1,  5,  9],\n",
       "        [13, 17, 21]],\n",
       "\n",
       "       [[ 2,  6, 10],\n",
       "        [14, 18, 22]],\n",
       "\n",
       "       [[ 3,  7, 11],\n",
       "        [15, 19, 23]]])"
      ]
     },
     "execution_count": 294,
     "metadata": {},
     "output_type": "execute_result"
    }
   ],
   "source": [
    "B.transpose(2,0,1) # 2,3,4 # 0,1,2  4, 2, 3 [0,1,2]"
   ]
  },
  {
   "cell_type": "markdown",
   "metadata": {},
   "source": [
    "# 2.2.6 Matrix Multiplication Implementation\n",
    "To multiply the matrix A and matrix B, the column quantity of A must be equal to the row\n",
    "quantity of B.\n",
    "# Code:\n"
   ]
  },
  {
   "cell_type": "code",
   "execution_count": 295,
   "metadata": {},
   "outputs": [],
   "source": [
    "A = np.arange(6).reshape(3,2)\n",
    "B = np.arange(6).reshape(2,3) # 3*3"
   ]
  },
  {
   "cell_type": "code",
   "execution_count": 296,
   "metadata": {},
   "outputs": [
    {
     "data": {
      "text/plain": [
       "array([[0, 1],\n",
       "       [2, 3],\n",
       "       [4, 5]])"
      ]
     },
     "execution_count": 296,
     "metadata": {},
     "output_type": "execute_result"
    }
   ],
   "source": [
    "A"
   ]
  },
  {
   "cell_type": "code",
   "execution_count": 297,
   "metadata": {},
   "outputs": [
    {
     "data": {
      "text/plain": [
       "array([[0, 1, 2],\n",
       "       [3, 4, 5]])"
      ]
     },
     "execution_count": 297,
     "metadata": {},
     "output_type": "execute_result"
    }
   ],
   "source": [
    "B"
   ]
  },
  {
   "cell_type": "code",
   "execution_count": 298,
   "metadata": {},
   "outputs": [
    {
     "data": {
      "text/plain": [
       "array([[ 3,  4,  5],\n",
       "       [ 9, 14, 19],\n",
       "       [15, 24, 33]])"
      ]
     },
     "execution_count": 298,
     "metadata": {},
     "output_type": "execute_result"
    }
   ],
   "source": [
    "np.matmul(A,B)"
   ]
  },
  {
   "cell_type": "markdown",
   "metadata": {},
   "source": [
    "# 2.2.7 Matrix Corresponding Operation\n",
    "Matrix corresponding operations are operations for tensors of the same shape and size. For\n",
    "example, adding, subtracting, multiplying, and dividing the elements with the same position\n",
    "in two tensors.\n",
    "# Code:\n",
    "# Matrix creation\n"
   ]
  },
  {
   "cell_type": "code",
   "execution_count": 299,
   "metadata": {},
   "outputs": [
    {
     "data": {
      "text/plain": [
       "array([[0, 1],\n",
       "       [2, 3],\n",
       "       [4, 5]])"
      ]
     },
     "execution_count": 299,
     "metadata": {},
     "output_type": "execute_result"
    }
   ],
   "source": [
    "A = np.arange(6).reshape(3,2)\n",
    "A"
   ]
  },
  {
   "cell_type": "code",
   "execution_count": 300,
   "metadata": {},
   "outputs": [
    {
     "data": {
      "text/plain": [
       "array([[ 0,  1],\n",
       "       [ 4,  9],\n",
       "       [16, 25]])"
      ]
     },
     "execution_count": 300,
     "metadata": {},
     "output_type": "execute_result"
    }
   ],
   "source": [
    "A*A"
   ]
  },
  {
   "cell_type": "code",
   "execution_count": 301,
   "metadata": {},
   "outputs": [
    {
     "data": {
      "text/plain": [
       "array([[ 0,  2],\n",
       "       [ 4,  6],\n",
       "       [ 8, 10]])"
      ]
     },
     "execution_count": 301,
     "metadata": {},
     "output_type": "execute_result"
    }
   ],
   "source": [
    "A + A"
   ]
  },
  {
   "cell_type": "markdown",
   "metadata": {},
   "source": [
    "# 2.2.8 Inverse Matrix Implementation\n",
    "Inverse matrix implementation is applicable only to square matrices.\n",
    "# Code:\n"
   ]
  },
  {
   "cell_type": "code",
   "execution_count": 302,
   "metadata": {},
   "outputs": [
    {
     "data": {
      "text/plain": [
       "array([[0, 1],\n",
       "       [2, 3]])"
      ]
     },
     "execution_count": 302,
     "metadata": {},
     "output_type": "execute_result"
    }
   ],
   "source": [
    "A = np.arange(4).reshape(2,2)\n",
    "A"
   ]
  },
  {
   "cell_type": "code",
   "execution_count": 303,
   "metadata": {},
   "outputs": [
    {
     "data": {
      "text/plain": [
       "array([[-1.5,  0.5],\n",
       "       [ 1. ,  0. ]])"
      ]
     },
     "execution_count": 303,
     "metadata": {},
     "output_type": "execute_result"
    }
   ],
   "source": [
    "np.linalg.inv(A)"
   ]
  },
  {
   "cell_type": "code",
   "execution_count": 304,
   "metadata": {},
   "outputs": [
    {
     "data": {
      "text/plain": [
       "-2.0"
      ]
     },
     "execution_count": 304,
     "metadata": {},
     "output_type": "execute_result"
    }
   ],
   "source": [
    "import numpy as np \n",
    "np.linalg.inv(A)\n",
    "np.linalg.det(A)\n"
   ]
  },
  {
   "cell_type": "markdown",
   "metadata": {},
   "source": [
    "# 2.2.9 Eigenvalue and Eigenvector\n",
    "Obtain the eigenvalue and eigenvector of a matrix.\n",
    "# Code:\n"
   ]
  },
  {
   "cell_type": "code",
   "execution_count": 305,
   "metadata": {},
   "outputs": [],
   "source": [
    "import numpy as np # Introduce the numpy module.\n",
    "x= np.arange(4).reshape(2,2)"
   ]
  },
  {
   "cell_type": "code",
   "execution_count": 306,
   "metadata": {},
   "outputs": [
    {
     "data": {
      "text/plain": [
       "array([[0, 1],\n",
       "       [2, 3]])"
      ]
     },
     "execution_count": 306,
     "metadata": {},
     "output_type": "execute_result"
    }
   ],
   "source": [
    "x"
   ]
  },
  {
   "cell_type": "code",
   "execution_count": 307,
   "metadata": {},
   "outputs": [],
   "source": [
    "a,b= np.linalg.eig(x) "
   ]
  },
  {
   "cell_type": "code",
   "execution_count": 308,
   "metadata": {},
   "outputs": [
    {
     "data": {
      "text/plain": [
       "array([-0.56155281,  3.56155281])"
      ]
     },
     "execution_count": 308,
     "metadata": {},
     "output_type": "execute_result"
    }
   ],
   "source": [
    "a"
   ]
  },
  {
   "cell_type": "code",
   "execution_count": 309,
   "metadata": {},
   "outputs": [
    {
     "data": {
      "text/plain": [
       "array([[-0.87192821, -0.27032301],\n",
       "       [ 0.48963374, -0.96276969]])"
      ]
     },
     "execution_count": 309,
     "metadata": {},
     "output_type": "execute_result"
    }
   ],
   "source": [
    "b"
   ]
  },
  {
   "cell_type": "markdown",
   "metadata": {},
   "source": [
    "# 2.2.10 Determinant\n",
    "Obtain the determinant of a matrix.\n",
    "# Code:"
   ]
  },
  {
   "cell_type": "code",
   "execution_count": 310,
   "metadata": {},
   "outputs": [
    {
     "data": {
      "text/plain": [
       "-2.0"
      ]
     },
     "execution_count": 310,
     "metadata": {},
     "output_type": "execute_result"
    }
   ],
   "source": [
    "np.linalg.det(x)"
   ]
  },
  {
   "cell_type": "markdown",
   "metadata": {},
   "source": [
    "# 2.2.11 Singular Value Decomposition\n",
    "Create a matrix and perform singular value decomposition on the matrix.\n",
    "# Code:\n"
   ]
  },
  {
   "cell_type": "code",
   "execution_count": 311,
   "metadata": {},
   "outputs": [],
   "source": [
    "dataMat = [[1,1,1,0,0],\n",
    " [2,2,2,0,0],\n",
    " [1,1,1,0,0],\n",
    " [5,5,5,0,0],\n",
    " [1,1,0,2,2]] # 5*5"
   ]
  },
  {
   "cell_type": "code",
   "execution_count": 312,
   "metadata": {},
   "outputs": [],
   "source": [
    "dataMat = np.mat(dataMat)\n",
    "U,Simga,VT = np.linalg.svd(dataMat)"
   ]
  },
  {
   "cell_type": "code",
   "execution_count": 313,
   "metadata": {},
   "outputs": [
    {
     "data": {
      "text/plain": [
       "matrix([[-1.78064631e-01, -2.34744938e-02,  9.82557191e-01,\n",
       "          2.55992727e-02, -4.08409122e-02],\n",
       "        [-3.56129261e-01, -4.69489876e-02, -8.88026466e-02,\n",
       "          9.28675681e-01,  2.53635904e-02],\n",
       "        [-1.78064631e-01, -2.34744938e-02, -7.22652741e-02,\n",
       "         -4.96207581e-02, -9.79825212e-01],\n",
       "        [-8.90323153e-01, -1.17372469e-01, -1.46537325e-01,\n",
       "         -3.66665975e-01,  1.93987789e-01],\n",
       "        [-1.30700450e-01,  9.91421904e-01,  1.38777878e-16,\n",
       "         -2.30718222e-16, -5.20417043e-18]])"
      ]
     },
     "execution_count": 313,
     "metadata": {},
     "output_type": "execute_result"
    }
   ],
   "source": [
    "U"
   ]
  },
  {
   "cell_type": "code",
   "execution_count": 314,
   "metadata": {},
   "outputs": [
    {
     "data": {
      "text/plain": [
       "array([9.71946559e+00, 2.92095680e+00, 1.55006458e-15, 7.75255049e-17,\n",
       "       2.80852393e-33])"
      ]
     },
     "execution_count": 314,
     "metadata": {},
     "output_type": "execute_result"
    }
   ],
   "source": [
    "Simga"
   ]
  },
  {
   "cell_type": "code",
   "execution_count": 315,
   "metadata": {},
   "outputs": [
    {
     "data": {
      "text/plain": [
       "matrix([[-5.81380112e-01, -5.81380112e-01, -5.67932825e-01,\n",
       "         -2.68945754e-02, -2.68945754e-02],\n",
       "        [ 9.02829499e-02,  9.02829499e-02, -2.49133882e-01,\n",
       "          6.78833664e-01,  6.78833664e-01],\n",
       "        [-7.95884448e-01,  5.42563216e-01,  2.53321232e-01,\n",
       "          6.33303080e-02,  6.33303080e-02],\n",
       "        [-1.42877918e-01, -5.99559264e-01,  7.42437182e-01,\n",
       "          1.85609295e-01,  1.85609295e-01],\n",
       "        [-0.00000000e+00,  1.54864761e-16, -1.48501146e-16,\n",
       "          7.07106781e-01, -7.07106781e-01]])"
      ]
     },
     "execution_count": 315,
     "metadata": {},
     "output_type": "execute_result"
    }
   ],
   "source": [
    "VT"
   ]
  },
  {
   "cell_type": "markdown",
   "metadata": {},
   "source": [
    "# 2.2.12 Linear Equation Solving\n",
    "Solving a linear equation is simple because it requires only one function (scipy.linalg.solve).\n",
    "An example is finding the solution of the following system of non-homogeneous linear\n",
    "equations:\n",
    "3x_1 + x_2 - 2x_3 = 5\n",
    "x_1 - x_2 + 4x_3 = -2\n",
    "2x_1 + 3x_3 = 2.5\n",
    "# Code:"
   ]
  },
  {
   "cell_type": "code",
   "execution_count": 316,
   "metadata": {},
   "outputs": [],
   "source": [
    "from scipy.linalg import solve\n",
    "a = np.array([[3, 1, -2], [1, -1, 4], [2, 0, 3]])\n",
    "b = np.array([5, -2, 2.5])\n",
    "x = solve(a, b)"
   ]
  },
  {
   "cell_type": "code",
   "execution_count": 317,
   "metadata": {},
   "outputs": [
    {
     "data": {
      "text/plain": [
       "array([0.5, 4.5, 0.5])"
      ]
     },
     "execution_count": 317,
     "metadata": {},
     "output_type": "execute_result"
    }
   ],
   "source": [
    "x"
   ]
  },
  {
   "cell_type": "code",
   "execution_count": 318,
   "metadata": {},
   "outputs": [
    {
     "name": "stdout",
     "output_type": "stream",
     "text": [
      "[[1 0 0]\n",
      " [0 2 0]\n",
      " [0 0 3]]\n"
     ]
    }
   ],
   "source": [
    "import numpy as np\n",
    "x=np.diag([1,2,3])\n",
    "print(x)"
   ]
  },
  {
   "cell_type": "code",
   "execution_count": 319,
   "metadata": {},
   "outputs": [
    {
     "name": "stdout",
     "output_type": "stream",
     "text": [
      "3\n"
     ]
    }
   ],
   "source": [
    "arr1 = np.array([1, 2, 3])\n",
    "\n",
    "arr2 = np.array([4, 5, 6])\n",
    "\n",
    "arr = np.concatenate((arr1, arr2))\n",
    "\n",
    "arr1 = np.array([[1, 2], [3, 4]])\n",
    "\n",
    "arr2 = np.array([[5, 6], [7, 8]])\n",
    "\n",
    "arr = np.concatenate((arr1, arr2), axis=1)\n",
    "\n",
    "arr = np.array([1, 2, 3, 4, 5, 6])\n",
    "\n",
    "newarr = np.array_split(arr, 4)\n",
    "\n",
    "arr = np.array([[1, 2], [3, 4], [5, 6], [7, 8], [9, 10], [11, 12]])\n",
    "\n",
    "newarr = np.array_split(arr, 3)\n",
    "\n",
    "arr = np.array([1, 2, 3, 4, 5, 4, 4])\n",
    "\n",
    "x = np.where(arr%2 == 0)\n",
    "\n",
    "arr = np.array([6, 7, 8, 9])\n",
    "\n",
    "x = np.searchsorted(arr, 7)\n",
    "\n",
    "arr = np.array([[3, 2, 4], [5, 0, 1]])\n",
    "from numpy import random\n",
    "x = random.rand(20)\n",
    "x=random.randint(100, size=(5))\n",
    "x = random.randint(100, size=(3, 5))\n",
    "x = random.choice([3, 5, 7, 9])\n",
    "\n",
    "print(x)"
   ]
  },
  {
   "cell_type": "code",
   "execution_count": 320,
   "metadata": {},
   "outputs": [
    {
     "data": {
      "text/plain": [
       "array([[ 5.82401831e+01, -2.51417442e+00],\n",
       "       [ 2.85340028e+01,  2.53981943e+00],\n",
       "       [-1.95362907e-01,  1.26563555e+00],\n",
       "       [-2.89247286e+01, -8.54833394e-03],\n",
       "       [-5.76540944e+01, -1.28273221e+00]])"
      ]
     },
     "execution_count": 320,
     "metadata": {},
     "output_type": "execute_result"
    }
   ],
   "source": [
    "import numpy as np\n",
    "x = np.array([ [1,2,3,4,5], [4,5,6,20,30], [7,8,9,40,50], [10,11,12,60,70], [13,14,15,80,90]  ])\n",
    "\n",
    "from sklearn.decomposition import PCA\n",
    "pca=PCA(n_components = 2)\n",
    "x = pca.fit_transform(x)\n",
    "x"
   ]
  },
  {
   "cell_type": "markdown",
   "metadata": {},
   "source": [
    "# 3 Probability Theory Experiment"
   ]
  },
  {
   "cell_type": "markdown",
   "metadata": {},
   "source": [
    "# 3.2 Probability Theory Implementation\n",
    "Import the corresponding modules in advance.\n"
   ]
  },
  {
   "cell_type": "code",
   "execution_count": 321,
   "metadata": {},
   "outputs": [
    {
     "data": {
      "text/plain": [
       "array([[-6.65373894, -3.46088979],\n",
       "       [-3.09457391,  0.8207389 ],\n",
       "       [ 0.46459113,  5.1023676 ],\n",
       "       [ 9.28372172, -2.4622167 ]])"
      ]
     },
     "execution_count": 321,
     "metadata": {},
     "output_type": "execute_result"
    }
   ],
   "source": [
    "import numpy as np\n",
    "X_train = np.array([[1,2,3,6], [4,5,6,8], [7,8,9,10], [2,5,10,20]])\n",
    "from sklearn.decomposition import PCA\n",
    "pca = PCA(n_components = 2)\n",
    "X_train = pca.fit_transform(X_train)\n",
    "X_train"
   ]
  },
  {
   "cell_type": "code",
   "execution_count": 322,
   "metadata": {},
   "outputs": [],
   "source": [
    "import numpy as np\n",
    "import scipy as sp"
   ]
  },
  {
   "cell_type": "code",
   "execution_count": 323,
   "metadata": {},
   "outputs": [
    {
     "data": {
      "text/plain": [
       "array([3.5, 4.5, 5.5, 6.5, 7.5])"
      ]
     },
     "execution_count": 323,
     "metadata": {},
     "output_type": "execute_result"
    }
   ],
   "source": [
    "\n",
    "z = [1,2,3,4,5], [6,7,8,9,10]\n",
    "'''1 2 3 4 5 \n",
    "6 7 8 9 10'''\n",
    "\n",
    "np.mean(z, 0)"
   ]
  },
  {
   "cell_type": "code",
   "execution_count": 324,
   "metadata": {},
   "outputs": [],
   "source": [
    "b = [1,3,5,6]\n",
    "ll = [[1,2,3,4,5,6],[3,4,5,6,7,8]]"
   ]
  },
  {
   "cell_type": "code",
   "execution_count": 325,
   "metadata": {},
   "outputs": [
    {
     "data": {
      "text/plain": [
       "3.75"
      ]
     },
     "execution_count": 325,
     "metadata": {},
     "output_type": "execute_result"
    }
   ],
   "source": [
    "np.mean(b)"
   ]
  },
  {
   "cell_type": "code",
   "execution_count": 326,
   "metadata": {},
   "outputs": [
    {
     "data": {
      "text/plain": [
       "array([3.5, 5.5])"
      ]
     },
     "execution_count": 326,
     "metadata": {},
     "output_type": "execute_result"
    }
   ],
   "source": [
    "np.mean(ll) # Calculate the average value of all elements.\n",
    "\n",
    "np.mean(ll,0) # Calculate the average value by column.\n",
    "np.mean(ll,1) # Calculate the average value by row."
   ]
  },
  {
   "cell_type": "markdown",
   "metadata": {},
   "source": [
    "#3.2.2 Variance and Standard Deviation Implementation\n",
    "# Prepare the data.\n",
    " \n",
    "# Find the variance.\n",
    "# Code:"
   ]
  },
  {
   "cell_type": "code",
   "execution_count": 327,
   "metadata": {},
   "outputs": [
    {
     "data": {
      "text/plain": [
       "[3, 4, 5, 6, 7, 8]"
      ]
     },
     "execution_count": 327,
     "metadata": {},
     "output_type": "execute_result"
    }
   ],
   "source": [
    "b=[1,3,5,6]\n",
    "ll=[[1,2,3,4,5,6],[3,4,5,6,7,8]]\n",
    "ll[1]"
   ]
  },
  {
   "cell_type": "code",
   "execution_count": 328,
   "metadata": {},
   "outputs": [
    {
     "data": {
      "text/plain": [
       "3.6875"
      ]
     },
     "execution_count": 328,
     "metadata": {},
     "output_type": "execute_result"
    }
   ],
   "source": [
    "np.var(b)"
   ]
  },
  {
   "cell_type": "code",
   "execution_count": 329,
   "metadata": {},
   "outputs": [
    {
     "data": {
      "text/plain": [
       "2.9166666666666665"
      ]
     },
     "execution_count": 329,
     "metadata": {},
     "output_type": "execute_result"
    }
   ],
   "source": [
    "np.var(ll[0])"
   ]
  },
  {
   "cell_type": "code",
   "execution_count": 330,
   "metadata": {},
   "outputs": [
    {
     "data": {
      "text/plain": [
       "2.9166666666666665"
      ]
     },
     "execution_count": 330,
     "metadata": {},
     "output_type": "execute_result"
    }
   ],
   "source": [
    "np.var(ll[0])"
   ]
  },
  {
   "cell_type": "markdown",
   "metadata": {},
   "source": [
    "# 3.2.3 Standard Deviation Implementation\n",
    "# Prepare the data.\n",
    "\n",
    "# Code:\n"
   ]
  },
  {
   "cell_type": "code",
   "execution_count": 331,
   "metadata": {},
   "outputs": [],
   "source": [
    "b=[1,3,5,6]\n",
    "ll=[[1,2,3,4,5,6],[3,4,5,6,7,8]]"
   ]
  },
  {
   "cell_type": "code",
   "execution_count": 332,
   "metadata": {},
   "outputs": [
    {
     "data": {
      "text/plain": [
       "1.920286436967152"
      ]
     },
     "execution_count": 332,
     "metadata": {},
     "output_type": "execute_result"
    }
   ],
   "source": [
    "np.std(b)"
   ]
  },
  {
   "cell_type": "markdown",
   "metadata": {},
   "source": [
    "# 3.2.4 Covariance Implementation\n",
    "# Prepare the data."
   ]
  },
  {
   "cell_type": "code",
   "execution_count": 333,
   "metadata": {},
   "outputs": [
    {
     "data": {
      "text/plain": [
       "array(4.91666667)"
      ]
     },
     "execution_count": 333,
     "metadata": {},
     "output_type": "execute_result"
    }
   ],
   "source": [
    "b=[1,3,5,6]\n",
    "np.cov(b)"
   ]
  },
  {
   "cell_type": "markdown",
   "metadata": {},
   "source": [
    "## 3.2.5 Correlation Coefficient\n",
    "# Prepare the data.\n"
   ]
  },
  {
   "cell_type": "code",
   "execution_count": 334,
   "metadata": {},
   "outputs": [],
   "source": [
    "vc=[1,2,39,0,80]\n",
    "vb=[1,20,38,0,8]"
   ]
  },
  {
   "cell_type": "code",
   "execution_count": 335,
   "metadata": {},
   "outputs": [
    {
     "data": {
      "text/plain": [
       "array([[1.       , 0.2361089],\n",
       "       [0.2361089, 1.       ]])"
      ]
     },
     "execution_count": 335,
     "metadata": {},
     "output_type": "execute_result"
    }
   ],
   "source": [
    "np.corrcoef(vc,vb)"
   ]
  },
  {
   "cell_type": "markdown",
   "metadata": {},
   "source": [
    "# 3.2.6 Binomial Distribution Implementation"
   ]
  },
  {
   "cell_type": "code",
   "execution_count": 336,
   "metadata": {},
   "outputs": [
    {
     "name": "stdout",
     "output_type": "stream",
     "text": [
      "[[ 0.07780595 -0.92316297 -0.95723631]\n",
      " [ 2.05892684  0.6587172   1.34415134]]\n"
     ]
    },
    {
     "ename": "NameError",
     "evalue": "name 'sns' is not defined",
     "output_type": "error",
     "traceback": [
      "\u001b[1;31m---------------------------------------------------------------------------\u001b[0m",
      "\u001b[1;31mNameError\u001b[0m                                 Traceback (most recent call last)",
      "Cell \u001b[1;32mIn[336], line 8\u001b[0m\n\u001b[0;32m      4\u001b[0m x \u001b[38;5;241m=\u001b[39m random\u001b[38;5;241m.\u001b[39mnormal(size\u001b[38;5;241m=\u001b[39m(\u001b[38;5;241m2\u001b[39m, \u001b[38;5;241m3\u001b[39m))\n\u001b[0;32m      7\u001b[0m \u001b[38;5;28mprint\u001b[39m(x)\n\u001b[1;32m----> 8\u001b[0m \u001b[43msns\u001b[49m\u001b[38;5;241m.\u001b[39mdistplot(x, hist\u001b[38;5;241m=\u001b[39m\u001b[38;5;28;01mFalse\u001b[39;00m)\n\u001b[0;32m     10\u001b[0m plt\u001b[38;5;241m.\u001b[39mshow()\n",
      "\u001b[1;31mNameError\u001b[0m: name 'sns' is not defined"
     ]
    }
   ],
   "source": [
    "from numpy import random\n",
    "\n",
    "x = random.binomial(n=15, p=0.3, size=10)\n",
    "x = random.normal(size=(2, 3))\n",
    "\n",
    "\n",
    "print(x)\n",
    "sns.distplot(x, hist=False)\n",
    "\n",
    "plt.show()"
   ]
  },
  {
   "cell_type": "code",
   "execution_count": 277,
   "metadata": {},
   "outputs": [
    {
     "name": "stderr",
     "output_type": "stream",
     "text": [
      "C:\\Users\\EngSherifMostafa\\AppData\\Local\\Temp\\ipykernel_2580\\1413033242.py:6: UserWarning: \n",
      "\n",
      "`distplot` is a deprecated function and will be removed in seaborn v0.14.0.\n",
      "\n",
      "Please adapt your code to use either `displot` (a figure-level function with\n",
      "similar flexibility) or `histplot` (an axes-level function for histograms).\n",
      "\n",
      "For a guide to updating your code to use the new functions, please see\n",
      "https://gist.github.com/mwaskom/de44147ed2974457ad6372750bbe5751\n",
      "\n",
      "  sns.distplot(random.binomial(n=10, p=0.5, size=1000), hist=True, kde=False)\n"
     ]
    },
    {
     "data": {
      "image/png": "[encoded data removed]",
      "text/plain": [
       "<Figure size 640x480 with 1 Axes>"
      ]
     },
     "metadata": {},
     "output_type": "display_data"
    },
    {
     "data": {
      "text/plain": [
       "Text(0, 0.5, 'y')"
      ]
     },
     "execution_count": 277,
     "metadata": {},
     "output_type": "execute_result"
    },
    {
     "data": {
      "image/png": "[encoded data removed]",
      "text/plain": [
       "<Figure size 640x480 with 1 Axes>"
      ]
     },
     "metadata": {},
     "output_type": "display_data"
    }
   ],
   "source": [
    "from numpy import random\n",
    "\n",
    "import matplotlib.pyplot as plt\n",
    "import seaborn as sns\n",
    "\n",
    "sns.distplot(random.binomial(n=10, p=0.5, size=1000), hist=True, kde=False)\n",
    "\n",
    "plt.show()\n",
    "plt.xlabel('X')\n",
    "plt.ylabel('y')"
   ]
  },
  {
   "cell_type": "code",
   "execution_count": 278,
   "metadata": {},
   "outputs": [
    {
     "name": "stdout",
     "output_type": "stream",
     "text": [
      "[1 2 1 3 2 4 1 1 3 2]\n"
     ]
    }
   ],
   "source": [
    "x = random.poisson(lam=2, size=10)\n",
    "\n",
    "print(x)"
   ]
  },
  {
   "cell_type": "code",
   "execution_count": 279,
   "metadata": {},
   "outputs": [
    {
     "name": "stderr",
     "output_type": "stream",
     "text": [
      "C:\\Users\\EngSherifMostafa\\AppData\\Local\\Temp\\ipykernel_2580\\3265260757.py:1: UserWarning: \n",
      "\n",
      "`distplot` is a deprecated function and will be removed in seaborn v0.14.0.\n",
      "\n",
      "Please adapt your code to use either `displot` (a figure-level function with\n",
      "similar flexibility) or `histplot` (an axes-level function for histograms).\n",
      "\n",
      "For a guide to updating your code to use the new functions, please see\n",
      "https://gist.github.com/mwaskom/de44147ed2974457ad6372750bbe5751\n",
      "\n",
      "  sns.distplot(random.poisson(lam=2, size=1000), kde=False)\n"
     ]
    },
    {
     "data": {
      "image/png": "[encoded data removed]",
      "text/plain": [
       "<Figure size 640x480 with 1 Axes>"
      ]
     },
     "metadata": {},
     "output_type": "display_data"
    }
   ],
   "source": [
    "sns.distplot(random.poisson(lam=2, size=1000), kde=False)\n",
    "\n",
    "plt.show()"
   ]
  },
  {
   "cell_type": "code",
   "execution_count": 280,
   "metadata": {},
   "outputs": [],
   "source": [
    "from scipy.stats import bernoulli, betabinom, norm, expon, beta"
   ]
  },
  {
   "cell_type": "code",
   "execution_count": 281,
   "metadata": {},
   "outputs": [
    {
     "name": "stdout",
     "output_type": "stream",
     "text": [
      "Data: [2 4 1 ... 1 3 3]\n",
      "Mean: 2.9765\n",
      "SD: 1.45133\n"
     ]
    },
    {
     "data": {
      "image/png": "[encoded data removed]",
      "text/plain": [
       "<Figure size 640x480 with 1 Axes>"
      ]
     },
     "metadata": {},
     "output_type": "display_data"
    }
   ],
   "source": [
    "from scipy.stats import binom, norm, beta, expon\n",
    "import numpy as np\n",
    "import matplotlib.pyplot as plt\n",
    "binom_sim = binom.rvs(n=10, p=0.3, size=10000)\n",
    "print('Data:',binom_sim)\n",
    "print('Mean: %g' % np.mean(binom_sim))\n",
    "print('SD: %g' % np.std(binom_sim, ddof=2)) #Delta Degrees of Freedom\n",
    "plt.hist(binom_sim, bins=10)\n",
    "plt.xlabel(('x'))\n",
    "plt.ylabel('density')\n",
    "plt.show()"
   ]
  },
  {
   "cell_type": "markdown",
   "metadata": {},
   "source": [
    "# 3.2.7 Poisson Distribution Implementation"
   ]
  },
  {
   "cell_type": "code",
   "execution_count": 282,
   "metadata": {},
   "outputs": [
    {
     "ename": "AttributeError",
     "evalue": "Rectangle.set() got an unexpected keyword argument 'normed'",
     "output_type": "error",
     "traceback": [
      "\u001b[1;31m---------------------------------------------------------------------------\u001b[0m",
      "\u001b[1;31mAttributeError\u001b[0m                            Traceback (most recent call last)",
      "Cell \u001b[1;32mIn[282], line 5\u001b[0m\n\u001b[0;32m      3\u001b[0m x \u001b[38;5;241m=\u001b[39m np\u001b[38;5;241m.\u001b[39mrandom\u001b[38;5;241m.\u001b[39mpoisson(lam\u001b[38;5;241m=\u001b[39m\u001b[38;5;241m5\u001b[39m, size\u001b[38;5;241m=\u001b[39m\u001b[38;5;241m10000\u001b[39m)\n\u001b[0;32m      4\u001b[0m pillar \u001b[38;5;241m=\u001b[39m \u001b[38;5;241m15\u001b[39m\n\u001b[1;32m----> 5\u001b[0m a \u001b[38;5;241m=\u001b[39m \u001b[43mplt\u001b[49m\u001b[38;5;241;43m.\u001b[39;49m\u001b[43mhist\u001b[49m\u001b[43m(\u001b[49m\u001b[43mx\u001b[49m\u001b[43m,\u001b[49m\u001b[43m \u001b[49m\u001b[43mbins\u001b[49m\u001b[38;5;241;43m=\u001b[39;49m\u001b[43mpillar\u001b[49m\u001b[43m,\u001b[49m\u001b[43m \u001b[49m\u001b[43mnormed\u001b[49m\u001b[38;5;241;43m=\u001b[39;49m\u001b[38;5;28;43;01mTrue\u001b[39;49;00m\u001b[43m,\u001b[49m\u001b[43m \u001b[49m\u001b[38;5;28;43mrange\u001b[39;49m\u001b[38;5;241;43m=\u001b[39;49m\u001b[43m[\u001b[49m\u001b[38;5;241;43m0\u001b[39;49m\u001b[43m,\u001b[49m\u001b[43m \u001b[49m\u001b[43mpillar\u001b[49m\u001b[43m]\u001b[49m\u001b[43m,\u001b[49m\u001b[43m \u001b[49m\u001b[43mcolor\u001b[49m\u001b[38;5;241;43m=\u001b[39;49m\u001b[38;5;124;43m'\u001b[39;49m\u001b[38;5;124;43mg\u001b[39;49m\u001b[38;5;124;43m'\u001b[39;49m\u001b[43m,\u001b[49m\u001b[43m \u001b[49m\u001b[43malpha\u001b[49m\u001b[38;5;241;43m=\u001b[39;49m\u001b[38;5;241;43m0.5\u001b[39;49m\u001b[43m)\u001b[49m \u001b[38;5;66;03m# density = True,stacked= True\u001b[39;00m\n\u001b[0;32m      6\u001b[0m plt\u001b[38;5;241m.\u001b[39mplot(a[\u001b[38;5;241m1\u001b[39m][\u001b[38;5;241m0\u001b[39m:pillar], a[\u001b[38;5;241m0\u001b[39m], \u001b[38;5;124m'\u001b[39m\u001b[38;5;124mr\u001b[39m\u001b[38;5;124m'\u001b[39m) \u001b[38;5;66;03m# plt.plot(x,y)\u001b[39;00m\n\u001b[0;32m      7\u001b[0m plt\u001b[38;5;241m.\u001b[39mgrid()\n",
      "File \u001b[1;32mc:\\Users\\EngSherifMostafa\\AppData\\Local\\Programs\\Python\\Python312\\Lib\\site-packages\\matplotlib\\pyplot.py:3236\u001b[0m, in \u001b[0;36mhist\u001b[1;34m(x, bins, range, density, weights, cumulative, bottom, histtype, align, orientation, rwidth, log, color, label, stacked, data, **kwargs)\u001b[0m\n\u001b[0;32m   3211\u001b[0m \u001b[38;5;129m@_copy_docstring_and_deprecators\u001b[39m(Axes\u001b[38;5;241m.\u001b[39mhist)\n\u001b[0;32m   3212\u001b[0m \u001b[38;5;28;01mdef\u001b[39;00m \u001b[38;5;21mhist\u001b[39m(\n\u001b[0;32m   3213\u001b[0m     x: ArrayLike \u001b[38;5;241m|\u001b[39m Sequence[ArrayLike],\n\u001b[1;32m   (...)\u001b[0m\n\u001b[0;32m   3234\u001b[0m     BarContainer \u001b[38;5;241m|\u001b[39m Polygon \u001b[38;5;241m|\u001b[39m \u001b[38;5;28mlist\u001b[39m[BarContainer \u001b[38;5;241m|\u001b[39m Polygon],\n\u001b[0;32m   3235\u001b[0m ]:\n\u001b[1;32m-> 3236\u001b[0m     \u001b[38;5;28;01mreturn\u001b[39;00m \u001b[43mgca\u001b[49m\u001b[43m(\u001b[49m\u001b[43m)\u001b[49m\u001b[38;5;241;43m.\u001b[39;49m\u001b[43mhist\u001b[49m\u001b[43m(\u001b[49m\n\u001b[0;32m   3237\u001b[0m \u001b[43m        \u001b[49m\u001b[43mx\u001b[49m\u001b[43m,\u001b[49m\n\u001b[0;32m   3238\u001b[0m \u001b[43m        \u001b[49m\u001b[43mbins\u001b[49m\u001b[38;5;241;43m=\u001b[39;49m\u001b[43mbins\u001b[49m\u001b[43m,\u001b[49m\n\u001b[0;32m   3239\u001b[0m \u001b[43m        \u001b[49m\u001b[38;5;28;43mrange\u001b[39;49m\u001b[38;5;241;43m=\u001b[39;49m\u001b[38;5;28;43mrange\u001b[39;49m\u001b[43m,\u001b[49m\n\u001b[0;32m   3240\u001b[0m \u001b[43m        \u001b[49m\u001b[43mdensity\u001b[49m\u001b[38;5;241;43m=\u001b[39;49m\u001b[43mdensity\u001b[49m\u001b[43m,\u001b[49m\n\u001b[0;32m   3241\u001b[0m \u001b[43m        \u001b[49m\u001b[43mweights\u001b[49m\u001b[38;5;241;43m=\u001b[39;49m\u001b[43mweights\u001b[49m\u001b[43m,\u001b[49m\n\u001b[0;32m   3242\u001b[0m \u001b[43m        \u001b[49m\u001b[43mcumulative\u001b[49m\u001b[38;5;241;43m=\u001b[39;49m\u001b[43mcumulative\u001b[49m\u001b[43m,\u001b[49m\n\u001b[0;32m   3243\u001b[0m \u001b[43m        \u001b[49m\u001b[43mbottom\u001b[49m\u001b[38;5;241;43m=\u001b[39;49m\u001b[43mbottom\u001b[49m\u001b[43m,\u001b[49m\n\u001b[0;32m   3244\u001b[0m \u001b[43m        \u001b[49m\u001b[43mhisttype\u001b[49m\u001b[38;5;241;43m=\u001b[39;49m\u001b[43mhisttype\u001b[49m\u001b[43m,\u001b[49m\n\u001b[0;32m   3245\u001b[0m \u001b[43m        \u001b[49m\u001b[43malign\u001b[49m\u001b[38;5;241;43m=\u001b[39;49m\u001b[43malign\u001b[49m\u001b[43m,\u001b[49m\n\u001b[0;32m   3246\u001b[0m \u001b[43m        \u001b[49m\u001b[43morientation\u001b[49m\u001b[38;5;241;43m=\u001b[39;49m\u001b[43morientation\u001b[49m\u001b[43m,\u001b[49m\n\u001b[0;32m   3247\u001b[0m \u001b[43m        \u001b[49m\u001b[43mrwidth\u001b[49m\u001b[38;5;241;43m=\u001b[39;49m\u001b[43mrwidth\u001b[49m\u001b[43m,\u001b[49m\n\u001b[0;32m   3248\u001b[0m \u001b[43m        \u001b[49m\u001b[43mlog\u001b[49m\u001b[38;5;241;43m=\u001b[39;49m\u001b[43mlog\u001b[49m\u001b[43m,\u001b[49m\n\u001b[0;32m   3249\u001b[0m \u001b[43m        \u001b[49m\u001b[43mcolor\u001b[49m\u001b[38;5;241;43m=\u001b[39;49m\u001b[43mcolor\u001b[49m\u001b[43m,\u001b[49m\n\u001b[0;32m   3250\u001b[0m \u001b[43m        \u001b[49m\u001b[43mlabel\u001b[49m\u001b[38;5;241;43m=\u001b[39;49m\u001b[43mlabel\u001b[49m\u001b[43m,\u001b[49m\n\u001b[0;32m   3251\u001b[0m \u001b[43m        \u001b[49m\u001b[43mstacked\u001b[49m\u001b[38;5;241;43m=\u001b[39;49m\u001b[43mstacked\u001b[49m\u001b[43m,\u001b[49m\n\u001b[0;32m   3252\u001b[0m \u001b[43m        \u001b[49m\u001b[38;5;241;43m*\u001b[39;49m\u001b[38;5;241;43m*\u001b[39;49m\u001b[43m(\u001b[49m\u001b[43m{\u001b[49m\u001b[38;5;124;43m\"\u001b[39;49m\u001b[38;5;124;43mdata\u001b[39;49m\u001b[38;5;124;43m\"\u001b[39;49m\u001b[43m:\u001b[49m\u001b[43m \u001b[49m\u001b[43mdata\u001b[49m\u001b[43m}\u001b[49m\u001b[43m \u001b[49m\u001b[38;5;28;43;01mif\u001b[39;49;00m\u001b[43m \u001b[49m\u001b[43mdata\u001b[49m\u001b[43m \u001b[49m\u001b[38;5;129;43;01mis\u001b[39;49;00m\u001b[43m \u001b[49m\u001b[38;5;129;43;01mnot\u001b[39;49;00m\u001b[43m \u001b[49m\u001b[38;5;28;43;01mNone\u001b[39;49;00m\u001b[43m \u001b[49m\u001b[38;5;28;43;01melse\u001b[39;49;00m\u001b[43m \u001b[49m\u001b[43m{\u001b[49m\u001b[43m}\u001b[49m\u001b[43m)\u001b[49m\u001b[43m,\u001b[49m\n\u001b[0;32m   3253\u001b[0m \u001b[43m        \u001b[49m\u001b[38;5;241;43m*\u001b[39;49m\u001b[38;5;241;43m*\u001b[39;49m\u001b[43mkwargs\u001b[49m\u001b[43m,\u001b[49m\n\u001b[0;32m   3254\u001b[0m \u001b[43m    \u001b[49m\u001b[43m)\u001b[49m\n",
      "File \u001b[1;32mc:\\Users\\EngSherifMostafa\\AppData\\Local\\Programs\\Python\\Python312\\Lib\\site-packages\\matplotlib\\__init__.py:1478\u001b[0m, in \u001b[0;36m_preprocess_data.<locals>.inner\u001b[1;34m(ax, data, *args, **kwargs)\u001b[0m\n\u001b[0;32m   1475\u001b[0m \u001b[38;5;129m@functools\u001b[39m\u001b[38;5;241m.\u001b[39mwraps(func)\n\u001b[0;32m   1476\u001b[0m \u001b[38;5;28;01mdef\u001b[39;00m \u001b[38;5;21minner\u001b[39m(ax, \u001b[38;5;241m*\u001b[39margs, data\u001b[38;5;241m=\u001b[39m\u001b[38;5;28;01mNone\u001b[39;00m, \u001b[38;5;241m*\u001b[39m\u001b[38;5;241m*\u001b[39mkwargs):\n\u001b[0;32m   1477\u001b[0m     \u001b[38;5;28;01mif\u001b[39;00m data \u001b[38;5;129;01mis\u001b[39;00m \u001b[38;5;28;01mNone\u001b[39;00m:\n\u001b[1;32m-> 1478\u001b[0m         \u001b[38;5;28;01mreturn\u001b[39;00m \u001b[43mfunc\u001b[49m\u001b[43m(\u001b[49m\u001b[43max\u001b[49m\u001b[43m,\u001b[49m\u001b[43m \u001b[49m\u001b[38;5;241;43m*\u001b[39;49m\u001b[38;5;28;43mmap\u001b[39;49m\u001b[43m(\u001b[49m\u001b[43msanitize_sequence\u001b[49m\u001b[43m,\u001b[49m\u001b[43m \u001b[49m\u001b[43margs\u001b[49m\u001b[43m)\u001b[49m\u001b[43m,\u001b[49m\u001b[43m \u001b[49m\u001b[38;5;241;43m*\u001b[39;49m\u001b[38;5;241;43m*\u001b[39;49m\u001b[43mkwargs\u001b[49m\u001b[43m)\u001b[49m\n\u001b[0;32m   1480\u001b[0m     bound \u001b[38;5;241m=\u001b[39m new_sig\u001b[38;5;241m.\u001b[39mbind(ax, \u001b[38;5;241m*\u001b[39margs, \u001b[38;5;241m*\u001b[39m\u001b[38;5;241m*\u001b[39mkwargs)\n\u001b[0;32m   1481\u001b[0m     auto_label \u001b[38;5;241m=\u001b[39m (bound\u001b[38;5;241m.\u001b[39marguments\u001b[38;5;241m.\u001b[39mget(label_namer)\n\u001b[0;32m   1482\u001b[0m                   \u001b[38;5;129;01mor\u001b[39;00m bound\u001b[38;5;241m.\u001b[39mkwargs\u001b[38;5;241m.\u001b[39mget(label_namer))\n",
      "File \u001b[1;32mc:\\Users\\EngSherifMostafa\\AppData\\Local\\Programs\\Python\\Python312\\Lib\\site-packages\\matplotlib\\axes\\_axes.py:7015\u001b[0m, in \u001b[0;36mAxes.hist\u001b[1;34m(self, x, bins, range, density, weights, cumulative, bottom, histtype, align, orientation, rwidth, log, color, label, stacked, **kwargs)\u001b[0m\n\u001b[0;32m   7013\u001b[0m \u001b[38;5;28;01mif\u001b[39;00m patch:\n\u001b[0;32m   7014\u001b[0m     p \u001b[38;5;241m=\u001b[39m patch[\u001b[38;5;241m0\u001b[39m]\n\u001b[1;32m-> 7015\u001b[0m     \u001b[43mp\u001b[49m\u001b[38;5;241;43m.\u001b[39;49m\u001b[43m_internal_update\u001b[49m\u001b[43m(\u001b[49m\u001b[43mkwargs\u001b[49m\u001b[43m)\u001b[49m\n\u001b[0;32m   7016\u001b[0m     \u001b[38;5;28;01mif\u001b[39;00m lbl \u001b[38;5;129;01mis\u001b[39;00m \u001b[38;5;129;01mnot\u001b[39;00m \u001b[38;5;28;01mNone\u001b[39;00m:\n\u001b[0;32m   7017\u001b[0m         p\u001b[38;5;241m.\u001b[39mset_label(lbl)\n",
      "File \u001b[1;32mc:\\Users\\EngSherifMostafa\\AppData\\Local\\Programs\\Python\\Python312\\Lib\\site-packages\\matplotlib\\artist.py:1219\u001b[0m, in \u001b[0;36mArtist._internal_update\u001b[1;34m(self, kwargs)\u001b[0m\n\u001b[0;32m   1212\u001b[0m \u001b[38;5;28;01mdef\u001b[39;00m \u001b[38;5;21m_internal_update\u001b[39m(\u001b[38;5;28mself\u001b[39m, kwargs):\n\u001b[0;32m   1213\u001b[0m \u001b[38;5;250m    \u001b[39m\u001b[38;5;124;03m\"\"\"\u001b[39;00m\n\u001b[0;32m   1214\u001b[0m \u001b[38;5;124;03m    Update artist properties without prenormalizing them, but generating\u001b[39;00m\n\u001b[0;32m   1215\u001b[0m \u001b[38;5;124;03m    errors as if calling `set`.\u001b[39;00m\n\u001b[0;32m   1216\u001b[0m \n\u001b[0;32m   1217\u001b[0m \u001b[38;5;124;03m    The lack of prenormalization is to maintain backcompatibility.\u001b[39;00m\n\u001b[0;32m   1218\u001b[0m \u001b[38;5;124;03m    \"\"\"\u001b[39;00m\n\u001b[1;32m-> 1219\u001b[0m     \u001b[38;5;28;01mreturn\u001b[39;00m \u001b[38;5;28;43mself\u001b[39;49m\u001b[38;5;241;43m.\u001b[39;49m\u001b[43m_update_props\u001b[49m\u001b[43m(\u001b[49m\n\u001b[0;32m   1220\u001b[0m \u001b[43m        \u001b[49m\u001b[43mkwargs\u001b[49m\u001b[43m,\u001b[49m\u001b[43m \u001b[49m\u001b[38;5;124;43m\"\u001b[39;49m\u001b[38;5;132;43;01m{cls.__name__}\u001b[39;49;00m\u001b[38;5;124;43m.set() got an unexpected keyword argument \u001b[39;49m\u001b[38;5;124;43m\"\u001b[39;49m\n\u001b[0;32m   1221\u001b[0m \u001b[43m        \u001b[49m\u001b[38;5;124;43m\"\u001b[39;49m\u001b[38;5;132;43;01m{prop_name!r}\u001b[39;49;00m\u001b[38;5;124;43m\"\u001b[39;49m\u001b[43m)\u001b[49m\n",
      "File \u001b[1;32mc:\\Users\\EngSherifMostafa\\AppData\\Local\\Programs\\Python\\Python312\\Lib\\site-packages\\matplotlib\\artist.py:1193\u001b[0m, in \u001b[0;36mArtist._update_props\u001b[1;34m(self, props, errfmt)\u001b[0m\n\u001b[0;32m   1191\u001b[0m             func \u001b[38;5;241m=\u001b[39m \u001b[38;5;28mgetattr\u001b[39m(\u001b[38;5;28mself\u001b[39m, \u001b[38;5;124mf\u001b[39m\u001b[38;5;124m\"\u001b[39m\u001b[38;5;124mset_\u001b[39m\u001b[38;5;132;01m{\u001b[39;00mk\u001b[38;5;132;01m}\u001b[39;00m\u001b[38;5;124m\"\u001b[39m, \u001b[38;5;28;01mNone\u001b[39;00m)\n\u001b[0;32m   1192\u001b[0m             \u001b[38;5;28;01mif\u001b[39;00m \u001b[38;5;129;01mnot\u001b[39;00m \u001b[38;5;28mcallable\u001b[39m(func):\n\u001b[1;32m-> 1193\u001b[0m                 \u001b[38;5;28;01mraise\u001b[39;00m \u001b[38;5;167;01mAttributeError\u001b[39;00m(\n\u001b[0;32m   1194\u001b[0m                     errfmt\u001b[38;5;241m.\u001b[39mformat(\u001b[38;5;28mcls\u001b[39m\u001b[38;5;241m=\u001b[39m\u001b[38;5;28mtype\u001b[39m(\u001b[38;5;28mself\u001b[39m), prop_name\u001b[38;5;241m=\u001b[39mk))\n\u001b[0;32m   1195\u001b[0m             ret\u001b[38;5;241m.\u001b[39mappend(func(v))\n\u001b[0;32m   1196\u001b[0m \u001b[38;5;28;01mif\u001b[39;00m ret:\n",
      "\u001b[1;31mAttributeError\u001b[0m: Rectangle.set() got an unexpected keyword argument 'normed'"
     ]
    },
    {
     "data": {
      "image/png": "[encoded data removed]",
      "text/plain": [
       "<Figure size 640x480 with 1 Axes>"
      ]
     },
     "metadata": {},
     "output_type": "display_data"
    }
   ],
   "source": [
    "import numpy as np\n",
    "import matplotlib.pyplot as plt\n",
    "x = np.random.poisson(lam=5, size=10000)\n",
    "pillar = 15\n",
    "a = plt.hist(x, bins=pillar, normed=True, range=[0, pillar], color='g', alpha=0.5) # density = True,stacked= True\n",
    "plt.plot(a[1][0:pillar], a[0], 'r') # plt.plot(x,y)\n",
    "plt.grid()\n",
    "plt.show()"
   ]
  },
  {
   "cell_type": "code",
   "execution_count": 283,
   "metadata": {},
   "outputs": [
    {
     "name": "stderr",
     "output_type": "stream",
     "text": [
      "C:\\Users\\EngSherifMostafa\\AppData\\Local\\Temp\\ipykernel_2580\\322012398.py:3: UserWarning: \n",
      "\n",
      "`distplot` is a deprecated function and will be removed in seaborn v0.14.0.\n",
      "\n",
      "Please adapt your code to use either `displot` (a figure-level function with\n",
      "similar flexibility) or `kdeplot` (an axes-level function for kernel density plots).\n",
      "\n",
      "For a guide to updating your code to use the new functions, please see\n",
      "https://gist.github.com/mwaskom/de44147ed2974457ad6372750bbe5751\n",
      "\n",
      "  sns.distplot(random.uniform(size=1000), hist=False)\n"
     ]
    },
    {
     "data": {
      "image/png": "[encoded data removed]",
      "text/plain": [
       "<Figure size 640x480 with 1 Axes>"
      ]
     },
     "metadata": {},
     "output_type": "display_data"
    }
   ],
   "source": [
    "x = random.uniform(size=(2, 3))\n",
    "\n",
    "sns.distplot(random.uniform(size=1000), hist=False)\n",
    "\n",
    "plt.show()"
   ]
  },
  {
   "cell_type": "markdown",
   "metadata": {},
   "source": [
    "# 3.2.8 Normal Distribution"
   ]
  },
  {
   "cell_type": "code",
   "execution_count": 284,
   "metadata": {},
   "outputs": [
    {
     "data": {
      "image/png": "[encoded data removed]",
      "text/plain": [
       "<Figure size 640x480 with 1 Axes>"
      ]
     },
     "metadata": {},
     "output_type": "display_data"
    }
   ],
   "source": [
    "'''!pip isnatll matplotlib\n",
    "!pip'''\n",
    "from scipy.stats import norm, beta\n",
    "import numpy as np\n",
    "import matplotlib.pyplot as plt\n",
    "mu = 0\n",
    "sigma = 1\n",
    "x = np.arange(-5, 5, 0.1)\n",
    "y = norm.pdf(x, mu, sigma)\n",
    "plt.plot(x, y)\n",
    "plt.xlabel('x')\n",
    "plt.ylabel('density')\n",
    "plt.show()"
   ]
  },
  {
   "cell_type": "markdown",
   "metadata": {},
   "source": [
    "# 3.2.9 beta Distribution"
   ]
  },
  {
   "cell_type": "code",
   "execution_count": 285,
   "metadata": {},
   "outputs": [
    {
     "data": {
      "text/plain": [
       "array([1, 1, 2, 0, 2, 0])"
      ]
     },
     "execution_count": 285,
     "metadata": {},
     "output_type": "execute_result"
    }
   ],
   "source": [
    "x = random.multinomial(n=6, pvals=[1/6, 1/6, 1/6, 1/6, 1/6, 1/6])\n",
    "x"
   ]
  },
  {
   "cell_type": "code",
   "execution_count": 286,
   "metadata": {},
   "outputs": [
    {
     "data": {
      "text/plain": [
       "array([[4.65158001, 1.22732793, 3.74412077],\n",
       "       [6.29069816, 0.37231981, 2.21066984],\n",
       "       [0.9231375 , 0.56006105, 2.39758385]])"
      ]
     },
     "execution_count": 286,
     "metadata": {},
     "output_type": "execute_result"
    }
   ],
   "source": [
    "x = random.exponential(scale=2, size=(3, 3))\n",
    "x"
   ]
  },
  {
   "cell_type": "code",
   "execution_count": 287,
   "metadata": {},
   "outputs": [
    {
     "data": {
      "image/png": "[encoded data removed]",
      "text/plain": [
       "<Figure size 640x480 with 1 Axes>"
      ]
     },
     "metadata": {},
     "output_type": "display_data"
    }
   ],
   "source": [
    "from scipy.stats import beta\n",
    "import numpy as np\n",
    "import matplotlib.pyplot as plt\n",
    "a = 0.5\n",
    "b = 0.5\n",
    "x = np.arange(0.01, 1, 0.01)\n",
    "y = beta.pdf(x, a, b)\n",
    "plt.plot(x, y)\n",
    "plt.title('Beta: a=%.1f,b=%.1f' % (a, b))\n",
    "plt.xlabel('x')\n",
    "plt.ylabel('density')\n",
    "plt.show()"
   ]
  },
  {
   "cell_type": "markdown",
   "metadata": {},
   "source": [
    "# 3.2.10 Exponential Distribution"
   ]
  },
  {
   "cell_type": "code",
   "execution_count": 288,
   "metadata": {},
   "outputs": [
    {
     "data": {
      "image/png": "[encoded data removed]",
      "text/plain": [
       "<Figure size 640x480 with 1 Axes>"
      ]
     },
     "metadata": {},
     "output_type": "display_data"
    }
   ],
   "source": [
    "from scipy.stats import expon\n",
    "import numpy as np\n",
    "import matplotlib.pyplot as plt\n",
    "lam = 0.5\n",
    "x = np.arange(0, 15, 0.1)\n",
    "y = expon.pdf(x, lam)\n",
    "plt.plot(x, y)\n",
    "plt.title('Exponential: lam=%.2f' % lam)\n",
    "plt.xlabel('x')\n",
    "plt.ylabel('density')\n",
    "plt.show()"
   ]
  },
  {
   "cell_type": "code",
   "execution_count": 289,
   "metadata": {},
   "outputs": [
    {
     "data": {
      "text/plain": [
       "1.5219280948873626"
      ]
     },
     "execution_count": 289,
     "metadata": {},
     "output_type": "execute_result"
    }
   ],
   "source": [
    "from scipy.stats import entropy \n",
    "entropy([  0.2 , 0.4, 0.4  ],  base =2)"
   ]
  },
  {
   "cell_type": "code",
   "execution_count": 290,
   "metadata": {},
   "outputs": [
    {
     "data": {
      "text/plain": [
       "0.8112781244591328"
      ]
     },
     "execution_count": 290,
     "metadata": {},
     "output_type": "execute_result"
    }
   ],
   "source": [
    "from scipy.stats import entropy\n",
    "entropy([1/2, 1/2], base=2)\n",
    "entropy([0.75, 0.25], base=2)"
   ]
  },
  {
   "cell_type": "code",
   "execution_count": 291,
   "metadata": {},
   "outputs": [
    {
     "name": "stdout",
     "output_type": "stream",
     "text": [
      "1e+24\n"
     ]
    }
   ],
   "source": [
    "from scipy import constants\n",
    "\n",
    "print(constants.yotta)"
   ]
  },
  {
   "cell_type": "code",
   "execution_count": 292,
   "metadata": {},
   "outputs": [
    {
     "name": "stdout",
     "output_type": "stream",
     "text": [
      "[[4.61346014 1.87068134 0.87642928]\n",
      " [0.07040134 0.35492891 1.02832548]]\n"
     ]
    }
   ],
   "source": [
    "from numpy import random\n",
    "\n",
    "x = random.chisquare(df=2, size=(2, 3))\n",
    "print(x)"
   ]
  },
  {
   "cell_type": "markdown",
   "metadata": {},
   "source": [
    "# 4.1 Least Square Implementation\n",
    "4.1.1 Algorithm"
   ]
  },
  {
   "cell_type": "code",
   "execution_count": 293,
   "metadata": {},
   "outputs": [
    {
     "name": "stdout",
     "output_type": "stream",
     "text": [
      "Fitting Parameters:  [ 9.29313539e+02 -3.91580392e+03  6.81000840e+03 -6.37351259e+03\n",
      "  3.50855627e+03 -1.13191000e+03  1.78836171e+02 -5.53265383e+00\n",
      " -8.83591235e-03]\n"
     ]
    },
    {
     "data": {
      "image/png": "[encoded data removed]",
      "text/plain": [
       "<Figure size 640x480 with 1 Axes>"
      ]
     },
     "metadata": {},
     "output_type": "display_data"
    }
   ],
   "source": [
    "import numpy as np # Introduce the numpy.\n",
    "import scipy as sp\n",
    "import pylab as pl\n",
    "from scipy.optimize import leastsq # Introduce the least square function.\n",
    "n = 9 # Degree of polynomial\n",
    "# Target function\n",
    "def real_func(x):\n",
    "    return np.sin(2 * np.pi * x)\n",
    "# Polynomial function\n",
    "def fit_func(p, x):\n",
    "    f = np.poly1d(p) # x1 ^2 + x2 + x3 + b  \n",
    "    return f(x)\n",
    "# Residual function\n",
    "def residuals_func(p, y, x):\n",
    "    ret = fit_func(p, x) - y\n",
    "    return ret\n",
    "x = np.linspace(0, 1, 9) # Randomly selected nine points as x.\n",
    "x_points = np.linspace(0, 1, 1000) # Continuous points required for drawing the graph\n",
    "y0 = real_func(x) # Target function\n",
    "y1 = [np.random.normal(0, 0.1) + y for y in y0] # Function after the positive distribution noise\n",
    "p_init = np.random.randn(n) # Randomly initialize polynomial parameters.\n",
    "plsq = leastsq(residuals_func, p_init, args=(y1, x))\n",
    "print('Fitting Parameters: ', plsq[0]) # Output fitting parameters.\n",
    "pl.plot(x_points, real_func(x_points), label='real')\n",
    "pl.plot(x_points, fit_func(plsq[0], x_points), label='fitted curve')\n",
    "pl.plot(x, y1, 'bo', label='with noise')\n",
    "\n",
    "pl.legend()\n",
    "pl.show()"
   ]
  },
  {
   "cell_type": "markdown",
   "metadata": {},
   "source": [
    "# 4.2 Gradient Descent Implementation"
   ]
  },
  {
   "cell_type": "code",
   "execution_count": 294,
   "metadata": {},
   "outputs": [
    {
     "name": "stdout",
     "output_type": "stream",
     "text": [
      " theta0: 4.413108, theta1: 6.334989, theta2: 17.647797, error1: 2599.197050\n",
      " theta0: 4.431857, theta1: 4.081457, theta2: 17.146560, error1: 2378.222856\n",
      " theta0: 4.698050, theta1: 2.476571, theta2: 17.398667, error1: 2239.597269\n",
      " theta0: 5.059624, theta1: 1.191820, theta2: 17.938396, error1: 2094.166923\n",
      " theta0: 5.452389, theta1: 0.084155, theta2: 18.569379, error1: 1949.070116\n",
      " theta0: 5.849591, theta1: -0.910170, theta2: 19.209984, error1: 1813.759639\n",
      " theta0: 6.240401, theta1: -1.820893, theta2: 19.827371, error1: 1692.087376\n",
      " theta0: 6.620742, theta1: -2.663075, theta2: 20.409381, error1: 1584.584178\n",
      " theta0: 6.989383, theta1: -3.445357, theta2: 20.952549, error1: 1490.372359\n",
      " theta0: 7.346269, theta1: -4.173490, theta2: 21.457003, error1: 1408.107696\n",
      " theta0: 7.691818, theta1: -4.851856, theta2: 21.924295, error1: 1336.378234\n",
      " theta0: 8.026620, theta1: -5.484121, theta2: 22.356484, error1: 1273.856443\n",
      " theta0: 8.351309, theta1: -6.073526, theta2: 22.755750, error1: 1219.347772\n",
      " theta0: 8.666512, theta1: -6.623017, theta2: 23.124239, error1: 1171.797847\n",
      " theta0: 8.972832, theta1: -7.135309, theta2: 23.463997, error1: 1130.284227\n",
      " theta0: 9.270834, theta1: -7.612919, theta2: 23.776954, error1: 1094.003280\n",
      " theta0: 9.561051, theta1: -8.058189, theta2: 24.064919, error1: 1062.256319\n",
      " theta0: 9.843981, theta1: -8.473302, theta2: 24.329583, error1: 1034.436535\n",
      " theta0: 10.120087, theta1: -8.860291, theta2: 24.572522, error1: 1010.017226\n",
      " theta0: 10.389803, theta1: -9.221053, theta2: 24.795209, error1: 988.541400\n",
      " theta0: 10.653534, theta1: -9.557355, theta2: 24.999017, error1: 969.612654\n",
      " theta0: 10.911655, theta1: -9.870846, theta2: 25.185227, error1: 952.887234\n",
      " theta0: 11.164520, theta1: -10.163065, theta2: 25.355033, error1: 938.067107\n",
      " theta0: 11.412456, theta1: -10.435445, theta2: 25.509549, error1: 924.893949\n",
      " theta0: 11.655770, theta1: -10.689324, theta2: 25.649814, error1: 913.143908\n",
      " theta0: 11.894746, theta1: -10.925949, theta2: 25.776796, error1: 902.623057\n",
      " theta0: 12.129651, theta1: -11.146483, theta2: 25.891400, error1: 893.163446\n",
      " theta0: 12.360734, theta1: -11.352011, theta2: 25.994467, error1: 884.619666\n",
      " theta0: 12.588227, theta1: -11.543545, theta2: 26.086784, error1: 876.865864\n",
      " theta0: 12.812345, theta1: -11.722028, theta2: 26.169083, error1: 869.793159\n",
      " theta0: 13.033290, theta1: -11.888341, theta2: 26.242047, error1: 863.307385\n",
      " theta0: 13.251250, theta1: -12.043303, theta2: 26.306315, error1: 857.327140\n",
      " theta0: 13.466401, theta1: -12.187680, theta2: 26.362479, error1: 851.782088\n",
      " theta0: 13.678907, theta1: -12.322187, theta2: 26.411095, error1: 846.611483\n",
      " theta0: 13.888919, theta1: -12.447487, theta2: 26.452680, error1: 841.762893\n",
      " theta0: 14.096582, theta1: -12.564203, theta2: 26.487714, error1: 837.191088\n",
      " theta0: 14.302027, theta1: -12.672913, theta2: 26.516649, error1: 832.857072\n",
      " theta0: 14.505380, theta1: -12.774157, theta2: 26.539903, error1: 828.727253\n",
      " theta0: 14.706754, theta1: -12.868439, theta2: 26.557867, error1: 824.772711\n",
      " theta0: 14.906259, theta1: -12.956227, theta2: 26.570905, error1: 820.968571\n",
      " theta0: 15.103996, theta1: -13.037961, theta2: 26.579358, error1: 817.293454\n",
      " theta0: 15.300058, theta1: -13.114048, theta2: 26.583543, error1: 813.729009\n",
      " theta0: 15.494533, theta1: -13.184869, theta2: 26.583755, error1: 810.259494\n",
      " theta0: 15.687502, theta1: -13.250780, theta2: 26.580269, error1: 806.871425\n",
      " theta0: 15.879044, theta1: -13.312111, theta2: 26.573344, error1: 803.553267\n",
      " theta0: 16.069228, theta1: -13.369173, theta2: 26.563219, error1: 800.295165\n",
      " theta0: 16.258121, theta1: -13.422251, theta2: 26.550118, error1: 797.088712\n",
      " theta0: 16.445786, theta1: -13.471617, theta2: 26.534248, error1: 793.926750\n",
      " theta0: 16.632280, theta1: -13.517519, theta2: 26.515805, error1: 790.803196\n",
      " theta0: 16.817658, theta1: -13.560193, theta2: 26.494969, error1: 787.712891\n",
      " theta0: 17.001970, theta1: -13.599855, theta2: 26.471910, error1: 784.651470\n",
      " theta0: 17.185263, theta1: -13.636709, theta2: 26.446786, error1: 781.615250\n",
      " theta0: 17.367582, theta1: -13.670944, theta2: 26.419743, error1: 778.601133\n",
      " theta0: 17.548967, theta1: -13.702738, theta2: 26.390919, error1: 775.606522\n",
      " theta0: 17.729457, theta1: -13.732254, theta2: 26.360441, error1: 772.629248\n",
      " theta0: 17.909088, theta1: -13.759648, theta2: 26.328429, error1: 769.667508\n",
      " theta0: 18.087894, theta1: -13.785062, theta2: 26.294994, error1: 766.719812\n",
      " theta0: 18.265906, theta1: -13.808630, theta2: 26.260239, error1: 763.784934\n",
      " theta0: 18.443152, theta1: -13.830477, theta2: 26.224261, error1: 760.861875\n",
      " theta0: 18.619661, theta1: -13.850719, theta2: 26.187150, error1: 757.949826\n",
      " theta0: 18.795458, theta1: -13.869464, theta2: 26.148991, error1: 755.048141\n",
      " theta0: 18.970566, theta1: -13.886813, theta2: 26.109861, error1: 752.156309\n",
      " theta0: 19.145009, theta1: -13.902862, theta2: 26.069833, error1: 749.273934\n",
      " theta0: 19.318807, theta1: -13.917698, theta2: 26.028976, error1: 746.400716\n",
      " theta0: 19.491979, theta1: -13.931402, theta2: 25.987354, error1: 743.536433\n",
      " theta0: 19.664544, theta1: -13.944052, theta2: 25.945024, error1: 740.680932\n",
      " theta0: 19.836519, theta1: -13.955719, theta2: 25.902044, error1: 737.834112\n",
      " theta0: 20.007919, theta1: -13.966470, theta2: 25.858463, error1: 734.995919\n",
      " theta0: 20.178761, theta1: -13.976365, theta2: 25.814331, error1: 732.166332\n",
      " theta0: 20.349057, theta1: -13.985464, theta2: 25.769691, error1: 729.345362\n",
      " theta0: 20.518821, theta1: -13.993821, theta2: 25.724585, error1: 726.533040\n",
      " theta0: 20.688066, theta1: -14.001485, theta2: 25.679053, error1: 723.729419\n",
      " theta0: 20.856801, theta1: -14.008503, theta2: 25.633131, error1: 720.934561\n",
      " theta0: 21.025040, theta1: -14.014920, theta2: 25.586851, error1: 718.148540\n",
      " theta0: 21.192791, theta1: -14.020776, theta2: 25.540247, error1: 715.371439\n",
      " theta0: 21.360063, theta1: -14.026110, theta2: 25.493347, error1: 712.603341\n",
      " theta0: 21.526867, theta1: -14.030956, theta2: 25.446178, error1: 709.844335\n",
      " theta0: 21.693210, theta1: -14.035348, theta2: 25.398766, error1: 707.094509\n",
      " theta0: 21.859099, theta1: -14.039316, theta2: 25.351135, error1: 704.353952\n",
      " theta0: 22.024543, theta1: -14.042891, theta2: 25.303307, error1: 701.622750\n",
      " theta0: 22.189549, theta1: -14.046098, theta2: 25.255302, error1: 698.900986\n",
      " theta0: 22.354122, theta1: -14.048962, theta2: 25.207140, error1: 696.188742\n",
      " theta0: 22.518268, theta1: -14.051507, theta2: 25.158839, error1: 693.486092\n",
      " theta0: 22.681995, theta1: -14.053754, theta2: 25.110415, error1: 690.793111\n",
      " theta0: 22.845306, theta1: -14.055725, theta2: 25.061883, error1: 688.109865\n",
      " theta0: 23.008207, theta1: -14.057437, theta2: 25.013260, error1: 685.436419\n",
      " theta0: 23.170703, theta1: -14.058909, theta2: 24.964557, error1: 682.772830\n",
      " theta0: 23.332798, theta1: -14.060157, theta2: 24.915787, error1: 680.119154\n",
      " theta0: 23.494497, theta1: -14.061197, theta2: 24.866963, error1: 677.475438\n",
      " theta0: 23.655804, theta1: -14.062042, theta2: 24.818095, error1: 674.841727\n",
      " theta0: 23.816722, theta1: -14.062706, theta2: 24.769193, error1: 672.218062\n",
      " theta0: 23.977255, theta1: -14.063202, theta2: 24.720266, error1: 669.604477\n",
      " theta0: 24.137406, theta1: -14.063541, theta2: 24.671324, error1: 667.001003\n",
      " theta0: 24.297179, theta1: -14.063734, theta2: 24.622375, error1: 664.407668\n",
      " theta0: 24.456576, theta1: -14.063791, theta2: 24.573426, error1: 661.824493\n",
      " theta0: 24.615601, theta1: -14.063721, theta2: 24.524484, error1: 659.251498\n",
      " theta0: 24.774257, theta1: -14.063534, theta2: 24.475556, error1: 656.688697\n",
      " theta0: 24.932545, theta1: -14.063237, theta2: 24.426649, error1: 654.136103\n",
      " theta0: 25.090468, theta1: -14.062839, theta2: 24.377767, error1: 651.593724\n",
      " theta0: 25.248030, theta1: -14.062345, theta2: 24.328916, error1: 649.061564\n",
      " theta0: 25.405231, theta1: -14.061764, theta2: 24.280101, error1: 646.539626\n",
      " theta0: 25.562075, theta1: -14.061101, theta2: 24.231327, error1: 644.027909\n",
      " theta0: 25.718562, theta1: -14.060362, theta2: 24.182598, error1: 641.526409\n",
      " theta0: 25.874696, theta1: -14.059552, theta2: 24.133918, error1: 639.035121\n",
      " theta0: 26.030478, theta1: -14.058676, theta2: 24.085290, error1: 636.554035\n",
      " theta0: 26.185910, theta1: -14.057739, theta2: 24.036718, error1: 634.083143\n",
      " theta0: 26.340993, theta1: -14.056746, theta2: 23.988206, error1: 631.622430\n",
      " theta0: 26.495730, theta1: -14.055700, theta2: 23.939755, error1: 629.171883\n",
      " theta0: 26.650121, theta1: -14.054605, theta2: 23.891370, error1: 626.731484\n",
      " theta0: 26.804168, theta1: -14.053466, theta2: 23.843051, error1: 624.301216\n",
      " theta0: 26.957874, theta1: -14.052284, theta2: 23.794803, error1: 621.881059\n",
      " theta0: 27.111238, theta1: -14.051063, theta2: 23.746626, error1: 619.470992\n",
      " theta0: 27.264264, theta1: -14.049807, theta2: 23.698523, error1: 617.070992\n",
      " theta0: 27.416951, theta1: -14.048517, theta2: 23.650496, error1: 614.681036\n",
      " theta0: 27.569301, theta1: -14.047197, theta2: 23.602546, error1: 612.301098\n",
      " theta0: 27.721316, theta1: -14.045848, theta2: 23.554675, error1: 609.931152\n",
      " theta0: 27.872996, theta1: -14.044472, theta2: 23.506885, error1: 607.571172\n",
      " theta0: 28.024343, theta1: -14.043073, theta2: 23.459177, error1: 605.221128\n",
      " theta0: 28.175358, theta1: -14.041651, theta2: 23.411552, error1: 602.880993\n",
      " theta0: 28.326042, theta1: -14.040208, theta2: 23.364011, error1: 600.550736\n",
      " theta0: 28.476396, theta1: -14.038747, theta2: 23.316555, error1: 598.230327\n",
      " theta0: 28.626422, theta1: -14.037268, theta2: 23.269186, error1: 595.919734\n",
      " theta0: 28.776119, theta1: -14.035773, theta2: 23.221904, error1: 593.618927\n",
      " theta0: 28.925490, theta1: -14.034263, theta2: 23.174710, error1: 591.327872\n",
      " theta0: 29.074535, theta1: -14.032740, theta2: 23.127605, error1: 589.046537\n",
      " theta0: 29.223255, theta1: -14.031205, theta2: 23.080589, error1: 586.774888\n",
      " theta0: 29.371652, theta1: -14.029658, theta2: 23.033663, error1: 584.512891\n",
      " theta0: 29.519725, theta1: -14.028101, theta2: 22.986828, error1: 582.260514\n",
      " theta0: 29.667476, theta1: -14.026535, theta2: 22.940084, error1: 580.017720\n",
      " theta0: 29.814906, theta1: -14.024961, theta2: 22.893432, error1: 577.784475\n",
      " theta0: 29.962016, theta1: -14.023379, theta2: 22.846872, error1: 575.560744\n",
      " theta0: 30.108806, theta1: -14.021790, theta2: 22.800404, error1: 573.346492\n",
      " theta0: 30.255277, theta1: -14.020195, theta2: 22.754028, error1: 571.141682\n",
      " theta0: 30.401431, theta1: -14.018594, theta2: 22.707746, error1: 568.946280\n",
      " theta0: 30.547268, theta1: -14.016989, theta2: 22.661558, error1: 566.760249\n",
      " theta0: 30.692789, theta1: -14.015379, theta2: 22.615462, error1: 564.583553\n",
      " theta0: 30.837994, theta1: -14.013766, theta2: 22.569461, error1: 562.416156\n",
      " theta0: 30.982884, theta1: -14.012149, theta2: 22.523553, error1: 560.258021\n",
      " theta0: 31.127461, theta1: -14.010530, theta2: 22.477740, error1: 558.109113\n",
      " theta0: 31.271725, theta1: -14.008908, theta2: 22.432021, error1: 555.969394\n",
      " theta0: 31.415677, theta1: -14.007284, theta2: 22.386396, error1: 553.838827\n",
      " theta0: 31.559317, theta1: -14.005658, theta2: 22.340865, error1: 551.717377\n",
      " theta0: 31.702647, theta1: -14.004032, theta2: 22.295429, error1: 549.605007\n",
      " theta0: 31.845666, theta1: -14.002404, theta2: 22.250087, error1: 547.501679\n",
      " theta0: 31.988376, theta1: -14.000776, theta2: 22.204840, error1: 545.407358\n",
      " theta0: 32.130778, theta1: -13.999147, theta2: 22.159688, error1: 543.322006\n",
      " theta0: 32.272872, theta1: -13.997519, theta2: 22.114630, error1: 541.245586\n",
      " theta0: 32.414659, theta1: -13.995890, theta2: 22.069666, error1: 539.178064\n",
      " theta0: 32.556139, theta1: -13.994262, theta2: 22.024797, error1: 537.119400\n",
      " theta0: 32.697314, theta1: -13.992634, theta2: 21.980023, error1: 535.069560\n",
      " theta0: 32.838184, theta1: -13.991008, theta2: 21.935342, error1: 533.028506\n",
      " theta0: 32.978749, theta1: -13.989382, theta2: 21.890757, error1: 530.996202\n",
      " theta0: 33.119011, theta1: -13.987757, theta2: 21.846265, error1: 528.972612\n",
      " theta0: 33.258970, theta1: -13.986134, theta2: 21.801868, error1: 526.957699\n",
      " theta0: 33.398627, theta1: -13.984512, theta2: 21.757565, error1: 524.951428\n",
      " theta0: 33.537983, theta1: -13.982891, theta2: 21.713356, error1: 522.953761\n",
      " theta0: 33.677037, theta1: -13.981273, theta2: 21.669240, error1: 520.964663\n",
      " theta0: 33.815792, theta1: -13.979656, theta2: 21.625219, error1: 518.984098\n",
      " theta0: 33.954247, theta1: -13.978041, theta2: 21.581291, error1: 517.012030\n",
      " theta0: 34.092403, theta1: -13.976428, theta2: 21.537457, error1: 515.048423\n",
      " theta0: 34.230261, theta1: -13.974817, theta2: 21.493716, error1: 513.093242\n",
      " theta0: 34.367822, theta1: -13.973209, theta2: 21.450069, error1: 511.146451\n",
      " theta0: 34.505085, theta1: -13.971603, theta2: 21.406514, error1: 509.208014\n",
      " theta0: 34.642053, theta1: -13.969999, theta2: 21.363053, error1: 507.277897\n",
      " theta0: 34.778725, theta1: -13.968397, theta2: 21.319685, error1: 505.356063\n",
      " theta0: 34.915102, theta1: -13.966798, theta2: 21.276409, error1: 503.442478\n",
      " theta0: 35.051185, theta1: -13.965202, theta2: 21.233226, error1: 501.537106\n",
      " theta0: 35.186975, theta1: -13.963608, theta2: 21.190136, error1: 499.639914\n",
      " theta0: 35.322472, theta1: -13.962017, theta2: 21.147137, error1: 497.750865\n",
      " theta0: 35.457676, theta1: -13.960429, theta2: 21.104231, error1: 495.869926\n",
      " theta0: 35.592589, theta1: -13.958843, theta2: 21.061417, error1: 493.997061\n",
      " theta0: 35.727210, theta1: -13.957260, theta2: 21.018695, error1: 492.132237\n",
      " theta0: 35.861542, theta1: -13.955680, theta2: 20.976064, error1: 490.275419\n",
      " theta0: 35.995584, theta1: -13.954103, theta2: 20.933525, error1: 488.426574\n",
      " theta0: 36.129336, theta1: -13.952528, theta2: 20.891077, error1: 486.585666\n",
      " theta0: 36.262800, theta1: -13.950957, theta2: 20.848720, error1: 484.752662\n",
      " theta0: 36.395977, theta1: -13.949389, theta2: 20.806454, error1: 482.927528\n",
      " theta0: 36.528866, theta1: -13.947823, theta2: 20.764279, error1: 481.110231\n",
      " theta0: 36.661469, theta1: -13.946261, theta2: 20.722195, error1: 479.300737\n",
      " theta0: 36.793785, theta1: -13.944701, theta2: 20.680201, error1: 477.499013\n",
      " theta0: 36.925817, theta1: -13.943145, theta2: 20.638297, error1: 475.705026\n",
      " theta0: 37.057563, theta1: -13.941591, theta2: 20.596484, error1: 473.918741\n",
      " theta0: 37.189026, theta1: -13.940041, theta2: 20.554760, error1: 472.140128\n",
      " theta0: 37.320205, theta1: -13.938494, theta2: 20.513126, error1: 470.369151\n",
      " theta0: 37.451101, theta1: -13.936949, theta2: 20.471582, error1: 468.605780\n",
      " theta0: 37.581715, theta1: -13.935408, theta2: 20.430127, error1: 466.849981\n",
      " theta0: 37.712048, theta1: -13.933870, theta2: 20.388761, error1: 465.101721\n",
      " theta0: 37.842099, theta1: -13.932335, theta2: 20.347484, error1: 463.360969\n",
      " theta0: 37.971870, theta1: -13.930804, theta2: 20.306296, error1: 461.627692\n",
      " theta0: 38.101362, theta1: -13.929275, theta2: 20.265197, error1: 459.901859\n",
      " theta0: 38.230574, theta1: -13.927749, theta2: 20.224186, error1: 458.183436\n",
      " theta0: 38.359507, theta1: -13.926227, theta2: 20.183263, error1: 456.472394\n",
      " theta0: 38.488163, theta1: -13.924708, theta2: 20.142429, error1: 454.768699\n",
      " theta0: 38.616541, theta1: -13.923192, theta2: 20.101682, error1: 453.072320\n",
      " theta0: 38.744642, theta1: -13.921679, theta2: 20.061023, error1: 451.383226\n",
      " theta0: 38.872467, theta1: -13.920169, theta2: 20.020452, error1: 449.701385\n",
      " theta0: 39.000017, theta1: -13.918662, theta2: 19.979968, error1: 448.026768\n",
      " theta0: 39.127291, theta1: -13.917159, theta2: 19.939571, error1: 446.359341\n",
      " theta0: 39.254291, theta1: -13.915658, theta2: 19.899262, error1: 444.699075\n",
      " theta0: 39.381018, theta1: -13.914161, theta2: 19.859039, error1: 443.045939\n",
      " theta0: 39.507471, theta1: -13.912667, theta2: 19.818903, error1: 441.399902\n",
      " theta0: 39.633652, theta1: -13.911176, theta2: 19.778853, error1: 439.760934\n",
      " theta0: 39.759560, theta1: -13.909688, theta2: 19.738890, error1: 438.129004\n",
      " theta0: 39.885197, theta1: -13.908203, theta2: 19.699012, error1: 436.504082\n",
      " theta0: 40.010563, theta1: -13.906722, theta2: 19.659221, error1: 434.886138\n",
      " theta0: 40.135659, theta1: -13.905243, theta2: 19.619515, error1: 433.275142\n",
      " theta0: 40.260486, theta1: -13.903768, theta2: 19.579895, error1: 431.671065\n",
      " theta0: 40.385043, theta1: -13.902296, theta2: 19.540360, error1: 430.073875\n",
      " theta0: 40.509332, theta1: -13.900827, theta2: 19.500911, error1: 428.483545\n",
      " theta0: 40.633352, theta1: -13.899361, theta2: 19.461546, error1: 426.900043\n",
      " theta0: 40.757106, theta1: -13.897898, theta2: 19.422266, error1: 425.323342\n",
      " theta0: 40.880592, theta1: -13.896438, theta2: 19.383071, error1: 423.753412\n",
      " theta0: 41.003813, theta1: -13.894982, theta2: 19.343960, error1: 422.190223\n",
      " theta0: 41.126767, theta1: -13.893528, theta2: 19.304934, error1: 420.633747\n",
      " theta0: 41.249457, theta1: -13.892078, theta2: 19.265992, error1: 419.083954\n",
      " theta0: 41.371882, theta1: -13.890631, theta2: 19.227133, error1: 417.540817\n",
      " theta0: 41.494043, theta1: -13.889187, theta2: 19.188359, error1: 416.004306\n",
      " theta0: 41.615941, theta1: -13.887746, theta2: 19.149668, error1: 414.474393\n",
      " theta0: 41.737576, theta1: -13.886308, theta2: 19.111060, error1: 412.951050\n",
      " theta0: 41.858949, theta1: -13.884873, theta2: 19.072536, error1: 411.434248\n",
      " theta0: 41.980060, theta1: -13.883441, theta2: 19.034094, error1: 409.923960\n",
      " theta0: 42.100911, theta1: -13.882012, theta2: 18.995736, error1: 408.420157\n",
      " theta0: 42.221500, theta1: -13.880586, theta2: 18.957460, error1: 406.922811\n",
      " theta0: 42.341830, theta1: -13.879164, theta2: 18.919267, error1: 405.431895\n",
      " theta0: 42.461900, theta1: -13.877744, theta2: 18.881156, error1: 403.947380\n",
      " theta0: 42.581711, theta1: -13.876328, theta2: 18.843127, error1: 402.469241\n",
      " theta0: 42.701265, theta1: -13.874914, theta2: 18.805180, error1: 400.997448\n",
      " theta0: 42.820560, theta1: -13.873504, theta2: 18.767315, error1: 399.531975\n",
      " theta0: 42.939598, theta1: -13.872096, theta2: 18.729531, error1: 398.072795\n",
      " theta0: 43.058380, theta1: -13.870692, theta2: 18.691829, error1: 396.619880\n",
      " theta0: 43.176905, theta1: -13.869290, theta2: 18.654208, error1: 395.173204\n",
      " theta0: 43.295175, theta1: -13.867892, theta2: 18.616669, error1: 393.732739\n",
      " theta0: 43.413190, theta1: -13.866496, theta2: 18.579210, error1: 392.298460\n",
      " theta0: 43.530951, theta1: -13.865104, theta2: 18.541832, error1: 390.870339\n",
      " theta0: 43.648458, theta1: -13.863715, theta2: 18.504534, error1: 389.448350\n",
      " theta0: 43.765711, theta1: -13.862328, theta2: 18.467317, error1: 388.032467\n",
      " theta0: 43.882712, theta1: -13.860945, theta2: 18.430181, error1: 386.622663\n",
      " theta0: 43.999460, theta1: -13.859564, theta2: 18.393124, error1: 385.218912\n",
      " theta0: 44.115957, theta1: -13.858187, theta2: 18.356147, error1: 383.821188\n",
      " theta0: 44.232203, theta1: -13.856812, theta2: 18.319250, error1: 382.429466\n",
      " theta0: 44.348198, theta1: -13.855441, theta2: 18.282432, error1: 381.043719\n",
      " theta0: 44.463943, theta1: -13.854072, theta2: 18.245694, error1: 379.663923\n",
      " theta0: 44.579439, theta1: -13.852706, theta2: 18.209035, error1: 378.290050\n",
      " theta0: 44.694685, theta1: -13.851344, theta2: 18.172455, error1: 376.922076\n",
      " theta0: 44.809683, theta1: -13.849984, theta2: 18.135953, error1: 375.559975\n",
      " theta0: 44.924433, theta1: -13.848627, theta2: 18.099531, error1: 374.203723\n",
      " theta0: 45.038936, theta1: -13.847273, theta2: 18.063187, error1: 372.853293\n",
      " theta0: 45.153192, theta1: -13.845922, theta2: 18.026921, error1: 371.508662\n",
      " theta0: 45.267202, theta1: -13.844574, theta2: 17.990734, error1: 370.169803\n",
      " theta0: 45.380966, theta1: -13.843229, theta2: 17.954624, error1: 368.836692\n",
      " theta0: 45.494484, theta1: -13.841886, theta2: 17.918592, error1: 367.509306\n",
      " theta0: 45.607758, theta1: -13.840547, theta2: 17.882638, error1: 366.187617\n",
      " theta0: 45.720788, theta1: -13.839210, theta2: 17.846762, error1: 364.871604\n",
      " theta0: 45.833574, theta1: -13.837877, theta2: 17.810963, error1: 363.561240\n",
      " theta0: 45.946117, theta1: -13.836546, theta2: 17.775241, error1: 362.256502\n",
      " theta0: 46.058417, theta1: -13.835218, theta2: 17.739596, error1: 360.957365\n",
      " theta0: 46.170475, theta1: -13.833893, theta2: 17.704028, error1: 359.663806\n",
      " theta0: 46.282292, theta1: -13.832571, theta2: 17.668536, error1: 358.375800\n",
      " theta0: 46.393868, theta1: -13.831251, theta2: 17.633121, error1: 357.093323\n",
      " theta0: 46.505203, theta1: -13.829935, theta2: 17.597783, error1: 355.816353\n",
      " theta0: 46.616298, theta1: -13.828621, theta2: 17.562520, error1: 354.544864\n",
      " theta0: 46.727153, theta1: -13.827310, theta2: 17.527334, error1: 353.278834\n",
      " theta0: 46.837770, theta1: -13.826002, theta2: 17.492223, error1: 352.018239\n",
      " theta0: 46.948148, theta1: -13.824697, theta2: 17.457189, error1: 350.763056\n",
      " theta0: 47.058288, theta1: -13.823395, theta2: 17.422229, error1: 349.513261\n",
      " theta0: 47.168191, theta1: -13.822095, theta2: 17.387345, error1: 348.268831\n",
      " theta0: 47.277857, theta1: -13.820798, theta2: 17.352537, error1: 347.029743\n",
      " theta0: 47.387286, theta1: -13.819504, theta2: 17.317803, error1: 345.795975\n",
      " theta0: 47.496480, theta1: -13.818213, theta2: 17.283144, error1: 344.567503\n",
      " theta0: 47.605438, theta1: -13.816925, theta2: 17.248560, error1: 343.344304\n",
      " theta0: 47.714161, theta1: -13.815639, theta2: 17.214050, error1: 342.126356\n",
      " theta0: 47.822650, theta1: -13.814356, theta2: 17.179615, error1: 340.913637\n",
      " theta0: 47.930905, theta1: -13.813076, theta2: 17.145254, error1: 339.706123\n",
      " theta0: 48.038927, theta1: -13.811799, theta2: 17.110967, error1: 338.503793\n",
      " theta0: 48.146715, theta1: -13.810524, theta2: 17.076754, error1: 337.306624\n",
      " theta0: 48.254272, theta1: -13.809252, theta2: 17.042615, error1: 336.114594\n",
      " theta0: 48.361596, theta1: -13.807983, theta2: 17.008549, error1: 334.927680\n",
      " theta0: 48.468690, theta1: -13.806717, theta2: 16.974557, error1: 333.745862\n",
      " theta0: 48.575552, theta1: -13.805453, theta2: 16.940638, error1: 332.569117\n",
      " theta0: 48.682184, theta1: -13.804192, theta2: 16.906792, error1: 331.397422\n",
      " theta0: 48.788586, theta1: -13.802934, theta2: 16.873020, error1: 330.230757\n",
      " theta0: 48.894759, theta1: -13.801679, theta2: 16.839320, error1: 329.069100\n",
      " theta0: 49.000702, theta1: -13.800426, theta2: 16.805692, error1: 327.912429\n",
      " theta0: 49.106418, theta1: -13.799176, theta2: 16.772137, error1: 326.760723\n",
      " theta0: 49.211905, theta1: -13.797928, theta2: 16.738655, error1: 325.613960\n",
      " theta0: 49.317166, theta1: -13.796684, theta2: 16.705244, error1: 324.472120\n",
      " theta0: 49.422199, theta1: -13.795442, theta2: 16.671906, error1: 323.335181\n",
      " theta0: 49.527006, theta1: -13.794202, theta2: 16.638640, error1: 322.203121\n",
      " theta0: 49.631586, theta1: -13.792966, theta2: 16.605445, error1: 321.075921\n",
      " theta0: 49.735942, theta1: -13.791732, theta2: 16.572322, error1: 319.953559\n",
      " theta0: 49.840072, theta1: -13.790500, theta2: 16.539270, error1: 318.836014\n",
      " theta0: 49.943978, theta1: -13.789272, theta2: 16.506289, error1: 317.723266\n",
      " theta0: 50.047660, theta1: -13.788046, theta2: 16.473380, error1: 316.615293\n",
      " theta0: 50.151119, theta1: -13.786822, theta2: 16.440541, error1: 315.512076\n",
      " theta0: 50.254354, theta1: -13.785602, theta2: 16.407774, error1: 314.413594\n",
      " theta0: 50.357367, theta1: -13.784383, theta2: 16.375076, error1: 313.319827\n",
      " theta0: 50.460158, theta1: -13.783168, theta2: 16.342450, error1: 312.230754\n",
      " theta0: 50.562727, theta1: -13.781955, theta2: 16.309894, error1: 311.146355\n",
      " theta0: 50.665075, theta1: -13.780745, theta2: 16.277408, error1: 310.066611\n",
      " theta0: 50.767203, theta1: -13.779537, theta2: 16.244992, error1: 308.991500\n",
      " theta0: 50.869110, theta1: -13.778332, theta2: 16.212645, error1: 307.921004\n",
      " theta0: 50.970798, theta1: -13.777130, theta2: 16.180369, error1: 306.855102\n",
      " theta0: 51.072266, theta1: -13.775930, theta2: 16.148162, error1: 305.793774\n",
      " theta0: 51.173516, theta1: -13.774733, theta2: 16.116025, error1: 304.737002\n",
      " theta0: 51.274547, theta1: -13.773538, theta2: 16.083956, error1: 303.684764\n",
      " theta0: 51.375361, theta1: -13.772346, theta2: 16.051957, error1: 302.637043\n",
      " theta0: 51.475957, theta1: -13.771156, theta2: 16.020027, error1: 301.593818\n",
      " theta0: 51.576336, theta1: -13.769969, theta2: 15.988166, error1: 300.555070\n",
      " theta0: 51.676500, theta1: -13.768785, theta2: 15.956374, error1: 299.520780\n",
      " theta0: 51.776447, theta1: -13.767603, theta2: 15.924650, error1: 298.490928\n",
      " theta0: 51.876178, theta1: -13.766424, theta2: 15.892994, error1: 297.465496\n",
      " theta0: 51.975695, theta1: -13.765247, theta2: 15.861407, error1: 296.444465\n",
      " theta0: 52.074997, theta1: -13.764073, theta2: 15.829888, error1: 295.427815\n",
      " theta0: 52.174085, theta1: -13.762901, theta2: 15.798436, error1: 294.415528\n",
      " theta0: 52.272960, theta1: -13.761732, theta2: 15.767053, error1: 293.407586\n",
      " theta0: 52.371621, theta1: -13.760565, theta2: 15.735737, error1: 292.403968\n",
      " theta0: 52.470070, theta1: -13.759401, theta2: 15.704488, error1: 291.404658\n",
      " theta0: 52.568306, theta1: -13.758239, theta2: 15.673308, error1: 290.409635\n",
      " theta0: 52.666331, theta1: -13.757080, theta2: 15.642194, error1: 289.418883\n",
      " theta0: 52.764144, theta1: -13.755923, theta2: 15.611147, error1: 288.432382\n",
      " theta0: 52.861746, theta1: -13.754769, theta2: 15.580167, error1: 287.450114\n",
      " theta0: 52.959138, theta1: -13.753618, theta2: 15.549254, error1: 286.472061\n",
      " theta0: 53.056320, theta1: -13.752468, theta2: 15.518408, error1: 285.498206\n",
      " theta0: 53.153293, theta1: -13.751322, theta2: 15.487628, error1: 284.528529\n",
      " theta0: 53.250057, theta1: -13.750178, theta2: 15.456915, error1: 283.563012\n",
      " theta0: 53.346612, theta1: -13.749036, theta2: 15.426267, error1: 282.601639\n",
      " theta0: 53.442958, theta1: -13.747896, theta2: 15.395686, error1: 281.644392\n",
      " theta0: 53.539097, theta1: -13.746760, theta2: 15.365171, error1: 280.691251\n",
      " theta0: 53.635029, theta1: -13.745625, theta2: 15.334721, error1: 279.742200\n",
      " theta0: 53.730754, theta1: -13.744493, theta2: 15.304337, error1: 278.797222\n",
      " theta0: 53.826273, theta1: -13.743364, theta2: 15.274019, error1: 277.856298\n",
      " theta0: 53.921586, theta1: -13.742237, theta2: 15.243766, error1: 276.919412\n",
      " theta0: 54.016693, theta1: -13.741112, theta2: 15.213578, error1: 275.986545\n",
      " theta0: 54.111595, theta1: -13.739990, theta2: 15.183456, error1: 275.057682\n",
      " theta0: 54.206293, theta1: -13.738870, theta2: 15.153398, error1: 274.132803\n",
      " theta0: 54.300787, theta1: -13.737753, theta2: 15.123405, error1: 273.211893\n",
      " theta0: 54.395076, theta1: -13.736638, theta2: 15.093477, error1: 272.294934\n",
      " theta0: 54.489163, theta1: -13.735525, theta2: 15.063613, error1: 271.381910\n",
      " theta0: 54.583047, theta1: -13.734415, theta2: 15.033813, error1: 270.472802\n",
      " theta0: 54.676728, theta1: -13.733307, theta2: 15.004078, error1: 269.567596\n",
      " theta0: 54.770208, theta1: -13.732202, theta2: 14.974407, error1: 268.666273\n",
      " theta0: 54.863486, theta1: -13.731099, theta2: 14.944800, error1: 267.768817\n",
      " theta0: 54.956562, theta1: -13.729998, theta2: 14.915257, error1: 266.875211\n",
      " theta0: 55.049439, theta1: -13.728900, theta2: 14.885777, error1: 265.985440\n",
      " theta0: 55.142114, theta1: -13.727804, theta2: 14.856361, error1: 265.099486\n",
      " theta0: 55.234591, theta1: -13.726710, theta2: 14.827008, error1: 264.217332\n",
      " theta0: 55.326867, theta1: -13.725619, theta2: 14.797719, error1: 263.338964\n",
      " theta0: 55.418945, theta1: -13.724530, theta2: 14.768493, error1: 262.464364\n",
      " theta0: 55.510825, theta1: -13.723444, theta2: 14.739329, error1: 261.593516\n",
      " theta0: 55.602506, theta1: -13.722360, theta2: 14.710229, error1: 260.726404\n",
      " theta0: 55.693990, theta1: -13.721278, theta2: 14.681191, error1: 259.863012\n",
      " theta0: 55.785276, theta1: -13.720199, theta2: 14.652216, error1: 259.003324\n",
      " theta0: 55.876366, theta1: -13.719121, theta2: 14.623304, error1: 258.147324\n",
      " theta0: 55.967259, theta1: -13.718047, theta2: 14.594454, error1: 257.294997\n",
      " theta0: 56.057957, theta1: -13.716974, theta2: 14.565666, error1: 256.446325\n",
      " theta0: 56.148458, theta1: -13.715904, theta2: 14.536940, error1: 255.601295\n",
      " theta0: 56.238765, theta1: -13.714836, theta2: 14.508276, error1: 254.759890\n",
      " theta0: 56.328877, theta1: -13.713771, theta2: 14.479673, error1: 253.922094\n",
      " theta0: 56.418795, theta1: -13.712707, theta2: 14.451133, error1: 253.087892\n",
      " theta0: 56.508519, theta1: -13.711646, theta2: 14.422654, error1: 252.257269\n",
      " theta0: 56.598050, theta1: -13.710588, theta2: 14.394236, error1: 251.430209\n",
      " theta0: 56.687387, theta1: -13.709531, theta2: 14.365880, error1: 250.606696\n",
      " theta0: 56.776532, theta1: -13.708477, theta2: 14.337584, error1: 249.786716\n",
      " theta0: 56.865485, theta1: -13.707425, theta2: 14.309350, error1: 248.970254\n",
      " theta0: 56.954246, theta1: -13.706376, theta2: 14.281176, error1: 248.157294\n",
      " theta0: 57.042816, theta1: -13.705328, theta2: 14.253064, error1: 247.347821\n",
      " theta0: 57.131194, theta1: -13.704283, theta2: 14.225012, error1: 246.541821\n",
      " theta0: 57.219383, theta1: -13.703240, theta2: 14.197020, error1: 245.739278\n",
      " theta0: 57.307381, theta1: -13.702200, theta2: 14.169089, error1: 244.940177\n",
      " theta0: 57.395189, theta1: -13.701161, theta2: 14.141218, error1: 244.144504\n",
      " theta0: 57.482808, theta1: -13.700125, theta2: 14.113407, error1: 243.352244\n",
      " theta0: 57.570239, theta1: -13.699091, theta2: 14.085656, error1: 242.563382\n",
      " theta0: 57.657480, theta1: -13.698060, theta2: 14.057964, error1: 241.777904\n",
      " theta0: 57.744534, theta1: -13.697030, theta2: 14.030333, error1: 240.995794\n",
      " theta0: 57.831400, theta1: -13.696003, theta2: 14.002761, error1: 240.217040\n",
      " theta0: 57.918079, theta1: -13.694978, theta2: 13.975249, error1: 239.441626\n",
      " theta0: 58.004571, theta1: -13.693955, theta2: 13.947795, error1: 238.669537\n",
      " theta0: 58.090876, theta1: -13.692935, theta2: 13.920401, error1: 237.900761\n",
      " theta0: 58.176996, theta1: -13.691917, theta2: 13.893066, error1: 237.135281\n",
      " theta0: 58.262930, theta1: -13.690900, theta2: 13.865790, error1: 236.373085\n",
      " theta0: 58.348678, theta1: -13.689886, theta2: 13.838573, error1: 235.614157\n",
      " theta0: 58.434242, theta1: -13.688875, theta2: 13.811414, error1: 234.858485\n",
      " theta0: 58.519621, theta1: -13.687865, theta2: 13.784314, error1: 234.106054\n",
      " theta0: 58.604816, theta1: -13.686858, theta2: 13.757273, error1: 233.356850\n",
      " theta0: 58.689828, theta1: -13.685852, theta2: 13.730290, error1: 232.610859\n",
      " theta0: 58.774656, theta1: -13.684849, theta2: 13.703364, error1: 231.868067\n",
      " theta0: 58.859301, theta1: -13.683848, theta2: 13.676497, error1: 231.128461\n",
      " theta0: 58.943764, theta1: -13.682850, theta2: 13.649688, error1: 230.392027\n",
      " theta0: 59.028045, theta1: -13.681853, theta2: 13.622937, error1: 229.658752\n",
      " theta0: 59.112144, theta1: -13.680858, theta2: 13.596243, error1: 228.928621\n",
      " theta0: 59.196062, theta1: -13.679866, theta2: 13.569607, error1: 228.201621\n",
      " theta0: 59.279799, theta1: -13.678876, theta2: 13.543028, error1: 227.477740\n",
      " theta0: 59.363355, theta1: -13.677888, theta2: 13.516507, error1: 226.756962\n",
      " theta0: 59.446732, theta1: -13.676902, theta2: 13.490042, error1: 226.039276\n",
      " theta0: 59.529928, theta1: -13.675918, theta2: 13.463635, error1: 225.324667\n",
      " theta0: 59.612945, theta1: -13.674937, theta2: 13.437285, error1: 224.613123\n",
      " theta0: 59.695784, theta1: -13.673957, theta2: 13.410991, error1: 223.904631\n",
      " theta0: 59.778443, theta1: -13.672980, theta2: 13.384755, error1: 223.199176\n",
      " theta0: 59.860925, theta1: -13.672004, theta2: 13.358574, error1: 222.496747\n",
      " theta0: 59.943228, theta1: -13.671031, theta2: 13.332451, error1: 221.797330\n",
      " theta0: 60.025355, theta1: -13.670060, theta2: 13.306383, error1: 221.100912\n",
      " theta0: 60.107304, theta1: -13.669091, theta2: 13.280372, error1: 220.407480\n",
      " theta0: 60.189076, theta1: -13.668124, theta2: 13.254417, error1: 219.717022\n",
      " theta0: 60.270673, theta1: -13.667159, theta2: 13.228517, error1: 219.029525\n",
      " theta0: 60.352093, theta1: -13.666196, theta2: 13.202674, error1: 218.344976\n",
      " theta0: 60.433338, theta1: -13.665235, theta2: 13.176886, error1: 217.663362\n",
      " theta0: 60.514407, theta1: -13.664277, theta2: 13.151154, error1: 216.984671\n",
      " theta0: 60.595302, theta1: -13.663320, theta2: 13.125477, error1: 216.308890\n",
      " theta0: 60.676023, theta1: -13.662366, theta2: 13.099856, error1: 215.636007\n",
      " theta0: 60.756569, theta1: -13.661413, theta2: 13.074290, error1: 214.966009\n",
      " theta0: 60.836942, theta1: -13.660463, theta2: 13.048779, error1: 214.298884\n",
      " theta0: 60.917142, theta1: -13.659514, theta2: 13.023323, error1: 213.634619\n",
      " theta0: 60.997169, theta1: -13.658568, theta2: 12.997922, error1: 212.973203\n",
      " theta0: 61.077023, theta1: -13.657624, theta2: 12.972575, error1: 212.314622\n",
      " theta0: 61.156705, theta1: -13.656682, theta2: 12.947284, error1: 211.658865\n",
      " theta0: 61.236215, theta1: -13.655741, theta2: 12.922047, error1: 211.005920\n",
      " theta0: 61.315554, theta1: -13.654803, theta2: 12.896864, error1: 210.355775\n",
      " theta0: 61.394722, theta1: -13.653867, theta2: 12.871735, error1: 209.708416\n",
      " theta0: 61.473719, theta1: -13.652933, theta2: 12.846661, error1: 209.063834\n",
      " theta0: 61.552546, theta1: -13.652001, theta2: 12.821641, error1: 208.422015\n",
      " theta0: 61.631203, theta1: -13.651071, theta2: 12.796674, error1: 207.782948\n",
      " theta0: 61.709691, theta1: -13.650143, theta2: 12.771762, error1: 207.146620\n",
      " theta0: 61.788009, theta1: -13.649216, theta2: 12.746903, error1: 206.513021\n",
      " theta0: 61.866158, theta1: -13.648292, theta2: 12.722098, error1: 205.882138\n",
      " theta0: 61.944139, theta1: -13.647370, theta2: 12.697346, error1: 205.253960\n",
      " theta0: 62.021952, theta1: -13.646450, theta2: 12.672648, error1: 204.628475\n",
      " theta0: 62.099597, theta1: -13.645532, theta2: 12.648003, error1: 204.005672\n",
      " theta0: 62.177075, theta1: -13.644616, theta2: 12.623411, error1: 203.385539\n",
      " theta0: 62.254385, theta1: -13.643702, theta2: 12.598872, error1: 202.768064\n",
      " theta0: 62.331529, theta1: -13.642789, theta2: 12.574385, error1: 202.153236\n",
      " theta0: 62.408507, theta1: -13.641879, theta2: 12.549952, error1: 201.541044\n",
      " theta0: 62.485319, theta1: -13.640971, theta2: 12.525572, error1: 200.931477\n",
      " theta0: 62.561965, theta1: -13.640064, theta2: 12.501243, error1: 200.324522\n",
      " theta0: 62.638446, theta1: -13.639160, theta2: 12.476968, error1: 199.720170\n",
      " theta0: 62.714762, theta1: -13.638258, theta2: 12.452745, error1: 199.118408\n",
      " theta0: 62.790913, theta1: -13.637357, theta2: 12.428573, error1: 198.519226\n",
      " theta0: 62.866901, theta1: -13.636459, theta2: 12.404454, error1: 197.922613\n",
      " theta0: 62.942724, theta1: -13.635562, theta2: 12.380387, error1: 197.328557\n",
      " theta0: 63.018385, theta1: -13.634667, theta2: 12.356372, error1: 196.737047\n",
      " theta0: 63.093882, theta1: -13.633775, theta2: 12.332409, error1: 196.148073\n",
      " theta0: 63.169216, theta1: -13.632884, theta2: 12.308497, error1: 195.561624\n",
      " theta0: 63.244388, theta1: -13.631995, theta2: 12.284637, error1: 194.977688\n",
      " theta0: 63.319398, theta1: -13.631108, theta2: 12.260829, error1: 194.396256\n",
      " theta0: 63.394246, theta1: -13.630223, theta2: 12.237071, error1: 193.817316\n",
      " theta0: 63.468932, theta1: -13.629340, theta2: 12.213365, error1: 193.240857\n",
      " theta0: 63.543458, theta1: -13.628458, theta2: 12.189710, error1: 192.666869\n",
      " theta0: 63.617823, theta1: -13.627579, theta2: 12.166106, error1: 192.095342\n",
      " theta0: 63.692028, theta1: -13.626701, theta2: 12.142553, error1: 191.526264\n",
      " theta0: 63.766073, theta1: -13.625826, theta2: 12.119050, error1: 190.959625\n",
      " theta0: 63.839958, theta1: -13.624952, theta2: 12.095599, error1: 190.395415\n",
      " theta0: 63.913684, theta1: -13.624080, theta2: 12.072197, error1: 189.833624\n",
      " theta0: 63.987251, theta1: -13.623210, theta2: 12.048847, error1: 189.274240\n",
      " theta0: 64.060659, theta1: -13.622342, theta2: 12.025546, error1: 188.717254\n",
      " theta0: 64.133910, theta1: -13.621476, theta2: 12.002296, error1: 188.162655\n",
      " theta0: 64.207002, theta1: -13.620612, theta2: 11.979096, error1: 187.610433\n",
      " theta0: 64.279936, theta1: -13.619749, theta2: 11.955946, error1: 187.060577\n",
      " theta0: 64.352714, theta1: -13.618889, theta2: 11.932846, error1: 186.513079\n",
      " theta0: 64.425334, theta1: -13.618030, theta2: 11.909796, error1: 185.967927\n",
      " theta0: 64.497798, theta1: -13.617173, theta2: 11.886795, error1: 185.425111\n",
      " theta0: 64.570106, theta1: -13.616318, theta2: 11.863844, error1: 184.884621\n",
      " theta0: 64.642258, theta1: -13.615465, theta2: 11.840942, error1: 184.346448\n",
      " theta0: 64.714255, theta1: -13.614614, theta2: 11.818090, error1: 183.810581\n",
      " theta0: 64.786096, theta1: -13.613764, theta2: 11.795287, error1: 183.277011\n",
      " theta0: 64.857782, theta1: -13.612916, theta2: 11.772534, error1: 182.745728\n",
      " theta0: 64.929314, theta1: -13.612071, theta2: 11.749829, error1: 182.216721\n",
      " theta0: 65.000691, theta1: -13.611227, theta2: 11.727173, error1: 181.689981\n",
      " theta0: 65.071915, theta1: -13.610384, theta2: 11.704566, error1: 181.165499\n",
      " theta0: 65.142985, theta1: -13.609544, theta2: 11.682008, error1: 180.643264\n",
      " theta0: 65.213902, theta1: -13.608705, theta2: 11.659498, error1: 180.123267\n",
      " theta0: 65.284666, theta1: -13.607869, theta2: 11.637037, error1: 179.605498\n",
      " theta0: 65.355278, theta1: -13.607034, theta2: 11.614625, error1: 179.089948\n",
      " theta0: 65.425737, theta1: -13.606200, theta2: 11.592260, error1: 178.576608\n",
      " theta0: 65.496044, theta1: -13.605369, theta2: 11.569944, error1: 178.065467\n",
      " theta0: 65.566200, theta1: -13.604539, theta2: 11.547676, error1: 177.556516\n",
      " theta0: 65.636205, theta1: -13.603712, theta2: 11.525456, error1: 177.049746\n",
      " theta0: 65.706058, theta1: -13.602886, theta2: 11.503284, error1: 176.545148\n",
      " theta0: 65.775762, theta1: -13.602061, theta2: 11.481160, error1: 176.042712\n",
      " theta0: 65.845314, theta1: -13.601239, theta2: 11.459083, error1: 175.542429\n",
      " theta0: 65.914717, theta1: -13.600418, theta2: 11.437054, error1: 175.044289\n",
      " theta0: 65.983971, theta1: -13.599599, theta2: 11.415073, error1: 174.548284\n",
      " theta0: 66.053075, theta1: -13.598782, theta2: 11.393138, error1: 174.054404\n",
      " theta0: 66.122030, theta1: -13.597967, theta2: 11.371252, error1: 173.562640\n",
      " theta0: 66.190836, theta1: -13.597153, theta2: 11.349412, error1: 173.072983\n",
      " theta0: 66.259494, theta1: -13.596341, theta2: 11.327619, error1: 172.585424\n",
      " theta0: 66.328004, theta1: -13.595531, theta2: 11.305874, error1: 172.099955\n",
      " theta0: 66.396366, theta1: -13.594723, theta2: 11.284175, error1: 171.616565\n",
      " theta0: 66.464581, theta1: -13.593916, theta2: 11.262523, error1: 171.135246\n",
      " theta0: 66.532649, theta1: -13.593111, theta2: 11.240918, error1: 170.655989\n",
      " theta0: 66.600571, theta1: -13.592308, theta2: 11.219359, error1: 170.178786\n",
      " theta0: 66.668345, theta1: -13.591507, theta2: 11.197847, error1: 169.703627\n",
      " theta0: 66.735974, theta1: -13.590707, theta2: 11.176381, error1: 169.230504\n",
      " theta0: 66.803457, theta1: -13.589909, theta2: 11.154961, error1: 168.759408\n",
      " theta0: 66.870794, theta1: -13.589113, theta2: 11.133588, error1: 168.290330\n",
      " theta0: 66.937987, theta1: -13.588318, theta2: 11.112261, error1: 167.823262\n",
      " theta0: 67.005034, theta1: -13.587525, theta2: 11.090979, error1: 167.358194\n",
      " theta0: 67.071937, theta1: -13.586734, theta2: 11.069744, error1: 166.895119\n",
      " theta0: 67.138695, theta1: -13.585945, theta2: 11.048554, error1: 166.434028\n",
      " theta0: 67.205310, theta1: -13.585157, theta2: 11.027410, error1: 165.974912\n",
      " theta0: 67.271781, theta1: -13.584371, theta2: 11.006312, error1: 165.517763\n",
      " theta0: 67.338109, theta1: -13.583587, theta2: 10.985259, error1: 165.062572\n",
      " theta0: 67.404294, theta1: -13.582804, theta2: 10.964251, error1: 164.609331\n",
      " theta0: 67.470336, theta1: -13.582023, theta2: 10.943289, error1: 164.158032\n",
      " theta0: 67.536236, theta1: -13.581244, theta2: 10.922372, error1: 163.708666\n",
      " theta0: 67.601994, theta1: -13.580466, theta2: 10.901500, error1: 163.261225\n",
      " theta0: 67.667610, theta1: -13.579690, theta2: 10.880673, error1: 162.815700\n",
      " theta0: 67.733084, theta1: -13.578916, theta2: 10.859891, error1: 162.372084\n",
      " theta0: 67.798417, theta1: -13.578144, theta2: 10.839153, error1: 161.930369\n",
      " theta0: 67.863610, theta1: -13.577373, theta2: 10.818461, error1: 161.490545\n",
      " theta0: 67.928662, theta1: -13.576603, theta2: 10.797813, error1: 161.052605\n",
      " theta0: 67.993574, theta1: -13.575836, theta2: 10.777209, error1: 160.616541\n",
      " theta0: 68.058346, theta1: -13.575070, theta2: 10.756650, error1: 160.182345\n",
      " theta0: 68.122978, theta1: -13.574306, theta2: 10.736135, error1: 159.750008\n",
      " theta0: 68.187471, theta1: -13.573543, theta2: 10.715665, error1: 159.319523\n",
      " theta0: 68.251824, theta1: -13.572782, theta2: 10.695238, error1: 158.890883\n",
      " theta0: 68.316040, theta1: -13.572023, theta2: 10.674856, error1: 158.464078\n",
      " theta0: 68.380116, theta1: -13.571265, theta2: 10.654518, error1: 158.039101\n",
      " theta0: 68.444055, theta1: -13.570509, theta2: 10.634223, error1: 157.615944\n",
      " theta0: 68.507855, theta1: -13.569754, theta2: 10.613972, error1: 157.194599\n",
      " theta0: 68.571519, theta1: -13.569002, theta2: 10.593765, error1: 156.775059\n",
      " theta0: 68.635045, theta1: -13.568250, theta2: 10.573601, error1: 156.357316\n",
      " theta0: 68.698434, theta1: -13.567501, theta2: 10.553481, error1: 155.941362\n",
      " theta0: 68.761686, theta1: -13.566753, theta2: 10.533404, error1: 155.527190\n",
      " theta0: 68.824802, theta1: -13.566007, theta2: 10.513371, error1: 155.114791\n",
      " theta0: 68.887782, theta1: -13.565262, theta2: 10.493381, error1: 154.704158\n",
      " theta0: 68.950626, theta1: -13.564519, theta2: 10.473433, error1: 154.295284\n",
      " theta0: 69.013335, theta1: -13.563777, theta2: 10.453529, error1: 153.888161\n",
      " theta0: 69.075908, theta1: -13.563037, theta2: 10.433668, error1: 153.482782\n",
      " theta0: 69.138347, theta1: -13.562299, theta2: 10.413849, error1: 153.079138\n",
      " theta0: 69.200651, theta1: -13.561562, theta2: 10.394074, error1: 152.677223\n",
      " theta0: 69.262820, theta1: -13.560827, theta2: 10.374341, error1: 152.277029\n",
      " theta0: 69.324856, theta1: -13.560093, theta2: 10.354650, error1: 151.878549\n",
      " theta0: 69.386758, theta1: -13.559361, theta2: 10.335002, error1: 151.481775\n",
      " theta0: 69.448526, theta1: -13.558631, theta2: 10.315396, error1: 151.086700\n",
      " theta0: 69.510162, theta1: -13.557902, theta2: 10.295832, error1: 150.693317\n",
      " theta0: 69.571664, theta1: -13.557175, theta2: 10.276311, error1: 150.301619\n",
      " theta0: 69.633034, theta1: -13.556449, theta2: 10.256832, error1: 149.911598\n",
      " theta0: 69.694272, theta1: -13.555725, theta2: 10.237395, error1: 149.523246\n",
      " theta0: 69.755377, theta1: -13.555003, theta2: 10.217999, error1: 149.136558\n",
      " theta0: 69.816351, theta1: -13.554281, theta2: 10.198646, error1: 148.751525\n",
      " theta0: 69.877194, theta1: -13.553562, theta2: 10.179334, error1: 148.368141\n",
      " theta0: 69.937905, theta1: -13.552844, theta2: 10.160064, error1: 147.986399\n",
      " theta0: 69.998485, theta1: -13.552128, theta2: 10.140835, error1: 147.606291\n",
      " theta0: 70.058935, theta1: -13.551413, theta2: 10.121648, error1: 147.227810\n",
      " theta0: 70.119254, theta1: -13.550700, theta2: 10.102502, error1: 146.850950\n",
      " theta0: 70.179444, theta1: -13.549988, theta2: 10.083397, error1: 146.475704\n",
      " theta0: 70.239503, theta1: -13.549278, theta2: 10.064334, error1: 146.102064\n",
      " theta0: 70.299434, theta1: -13.548569, theta2: 10.045312, error1: 145.730024\n",
      " theta0: 70.359235, theta1: -13.547862, theta2: 10.026330, error1: 145.359576\n",
      " theta0: 70.418907, theta1: -13.547156, theta2: 10.007390, error1: 144.990715\n",
      " theta0: 70.478450, theta1: -13.546452, theta2: 9.988490, error1: 144.623433\n",
      " theta0: 70.537865, theta1: -13.545750, theta2: 9.969631, error1: 144.257723\n",
      " theta0: 70.597152, theta1: -13.545049, theta2: 9.950813, error1: 143.893579\n",
      " theta0: 70.656312, theta1: -13.544349, theta2: 9.932036, error1: 143.530994\n",
      " theta0: 70.715343, theta1: -13.543651, theta2: 9.913299, error1: 143.169961\n",
      " theta0: 70.774248, theta1: -13.542954, theta2: 9.894602, error1: 142.810473\n",
      " theta0: 70.833025, theta1: -13.542259, theta2: 9.875946, error1: 142.452525\n",
      " theta0: 70.891676, theta1: -13.541566, theta2: 9.857329, error1: 142.096109\n",
      " theta0: 70.950200, theta1: -13.540874, theta2: 9.838753, error1: 141.741219\n",
      " theta0: 71.008598, theta1: -13.540183, theta2: 9.820217, error1: 141.387847\n",
      " theta0: 71.066870, theta1: -13.539494, theta2: 9.801721, error1: 141.035989\n",
      " theta0: 71.125017, theta1: -13.538807, theta2: 9.783265, error1: 140.685636\n",
      " theta0: 71.183038, theta1: -13.538120, theta2: 9.764849, error1: 140.336784\n",
      " theta0: 71.240934, theta1: -13.537436, theta2: 9.746472, error1: 139.989424\n",
      " theta0: 71.298706, theta1: -13.536753, theta2: 9.728135, error1: 139.643552\n",
      " theta0: 71.356353, theta1: -13.536071, theta2: 9.709837, error1: 139.299160\n",
      " theta0: 71.413875, theta1: -13.535391, theta2: 9.691579, error1: 138.956242\n",
      " theta0: 71.471274, theta1: -13.534712, theta2: 9.673360, error1: 138.614792\n",
      " theta0: 71.528549, theta1: -13.534035, theta2: 9.655181, error1: 138.274803\n",
      " theta0: 71.585700, theta1: -13.533359, theta2: 9.637041, error1: 137.936270\n",
      " theta0: 71.642728, theta1: -13.532685, theta2: 9.618940, error1: 137.599185\n",
      " theta0: 71.699633, theta1: -13.532012, theta2: 9.600877, error1: 137.263544\n",
      " theta0: 71.756416, theta1: -13.531340, theta2: 9.582854, error1: 136.929338\n",
      " theta0: 71.813076, theta1: -13.530670, theta2: 9.564870, error1: 136.596564\n",
      " theta0: 71.869614, theta1: -13.530002, theta2: 9.546924, error1: 136.265213\n",
      " theta0: 71.926030, theta1: -13.529335, theta2: 9.529017, error1: 135.935281\n",
      " theta0: 71.982325, theta1: -13.528669, theta2: 9.511149, error1: 135.606760\n",
      " theta0: 72.038498, theta1: -13.528005, theta2: 9.493319, error1: 135.279646\n",
      " theta0: 72.094550, theta1: -13.527342, theta2: 9.475528, error1: 134.953931\n",
      " theta0: 72.150481, theta1: -13.526680, theta2: 9.457775, error1: 134.629611\n",
      " theta0: 72.206292, theta1: -13.526021, theta2: 9.440060, error1: 134.306678\n",
      " theta0: 72.261982, theta1: -13.525362, theta2: 9.422384, error1: 133.985128\n",
      " theta0: 72.317552, theta1: -13.524705, theta2: 9.404745, error1: 133.664953\n",
      " theta0: 72.373003, theta1: -13.524049, theta2: 9.387145, error1: 133.346149\n",
      " theta0: 72.428334, theta1: -13.523395, theta2: 9.369582, error1: 133.028709\n",
      " theta0: 72.483545, theta1: -13.522742, theta2: 9.352058, error1: 132.712627\n",
      " theta0: 72.538638, theta1: -13.522091, theta2: 9.334571, error1: 132.397898\n",
      " theta0: 72.593612, theta1: -13.521440, theta2: 9.317122, error1: 132.084515\n",
      " theta0: 72.648467, theta1: -13.520792, theta2: 9.299710, error1: 131.772474\n",
      " theta0: 72.703204, theta1: -13.520145, theta2: 9.282336, error1: 131.461768\n",
      " theta0: 72.757823, theta1: -13.519499, theta2: 9.265000, error1: 131.152391\n",
      " theta0: 72.812325, theta1: -13.518854, theta2: 9.247701, error1: 130.844338\n",
      " theta0: 72.866709, theta1: -13.518211, theta2: 9.230439, error1: 130.537603\n",
      " theta0: 72.920975, theta1: -13.517569, theta2: 9.213214, error1: 130.232181\n",
      " theta0: 72.975125, theta1: -13.516929, theta2: 9.196027, error1: 129.928066\n",
      " theta0: 73.029158, theta1: -13.516290, theta2: 9.178876, error1: 129.625251\n",
      " theta0: 73.083074, theta1: -13.515653, theta2: 9.161763, error1: 129.323733\n",
      " theta0: 73.136874, theta1: -13.515016, theta2: 9.144686, error1: 129.023504\n",
      " theta0: 73.190559, theta1: -13.514382, theta2: 9.127646, error1: 128.724560\n",
      " theta0: 73.244127, theta1: -13.513748, theta2: 9.110643, error1: 128.426895\n",
      " theta0: 73.297580, theta1: -13.513116, theta2: 9.093677, error1: 128.130503\n",
      " theta0: 73.350918, theta1: -13.512485, theta2: 9.076747, error1: 127.835380\n",
      " theta0: 73.404141, theta1: -13.511856, theta2: 9.059854, error1: 127.541519\n",
      " theta0: 73.457249, theta1: -13.511228, theta2: 9.042997, error1: 127.248915\n",
      " theta0: 73.510242, theta1: -13.510601, theta2: 9.026176, error1: 126.957563\n",
      " theta0: 73.563122, theta1: -13.509976, theta2: 9.009392, error1: 126.667458\n",
      " theta0: 73.615887, theta1: -13.509352, theta2: 8.992644, error1: 126.378593\n",
      " theta0: 73.668539, theta1: -13.508729, theta2: 8.975932, error1: 126.090965\n",
      " theta0: 73.721077, theta1: -13.508108, theta2: 8.959256, error1: 125.804566\n",
      " theta0: 73.773502, theta1: -13.507488, theta2: 8.942616, error1: 125.519393\n",
      " theta0: 73.825814, theta1: -13.506870, theta2: 8.926011, error1: 125.235440\n",
      " theta0: 73.878013, theta1: -13.506252, theta2: 8.909443, error1: 124.952701\n",
      " theta0: 73.930099, theta1: -13.505637, theta2: 8.892910, error1: 124.671172\n",
      " theta0: 73.982073, theta1: -13.505022, theta2: 8.876413, error1: 124.390848\n",
      " theta0: 74.033936, theta1: -13.504409, theta2: 8.859952, error1: 124.111722\n",
      " theta0: 74.085686, theta1: -13.503797, theta2: 8.843526, error1: 123.833790\n",
      " theta0: 74.137325, theta1: -13.503186, theta2: 8.827135, error1: 123.557047\n",
      " theta0: 74.188852, theta1: -13.502577, theta2: 8.810780, error1: 123.281488\n",
      " theta0: 74.240269, theta1: -13.501969, theta2: 8.794460, error1: 123.007107\n",
      " theta0: 74.291574, theta1: -13.501362, theta2: 8.778175, error1: 122.733900\n",
      " theta0: 74.342769, theta1: -13.500757, theta2: 8.761926, error1: 122.461862\n",
      " theta0: 74.393854, theta1: -13.500153, theta2: 8.745711, error1: 122.190987\n",
      " theta0: 74.444829, theta1: -13.499550, theta2: 8.729531, error1: 121.921270\n",
      " theta0: 74.495693, theta1: -13.498948, theta2: 8.713387, error1: 121.652707\n",
      " theta0: 74.546448, theta1: -13.498348, theta2: 8.697277, error1: 121.385293\n",
      " theta0: 74.597094, theta1: -13.497749, theta2: 8.681201, error1: 121.119022\n",
      " theta0: 74.647630, theta1: -13.497152, theta2: 8.665161, error1: 120.853890\n",
      " theta0: 74.698058, theta1: -13.496555, theta2: 8.649155, error1: 120.589893\n",
      " theta0: 74.748376, theta1: -13.495960, theta2: 8.633183, error1: 120.327024\n",
      " theta0: 74.798587, theta1: -13.495367, theta2: 8.617246, error1: 120.065279\n",
      " theta0: 74.848689, theta1: -13.494774, theta2: 8.601343, error1: 119.804653\n",
      " theta0: 74.898683, theta1: -13.494183, theta2: 8.585475, error1: 119.545143\n",
      " theta0: 74.948569, theta1: -13.493593, theta2: 8.569640, error1: 119.286741\n",
      " theta0: 74.998348, theta1: -13.493005, theta2: 8.553840, error1: 119.029445\n",
      " theta0: 75.048019, theta1: -13.492417, theta2: 8.538074, error1: 118.773249\n",
      " theta0: 75.097583, theta1: -13.491831, theta2: 8.522342, error1: 118.518149\n",
      " theta0: 75.147041, theta1: -13.491246, theta2: 8.506644, error1: 118.264140\n",
      " theta0: 75.196392, theta1: -13.490663, theta2: 8.490980, error1: 118.011216\n",
      " theta0: 75.245636, theta1: -13.490080, theta2: 8.475349, error1: 117.759374\n",
      " theta0: 75.294774, theta1: -13.489499, theta2: 8.459752, error1: 117.508609\n",
      " theta0: 75.343807, theta1: -13.488919, theta2: 8.444189, error1: 117.258917\n",
      " theta0: 75.392733, theta1: -13.488341, theta2: 8.428659, error1: 117.010291\n",
      " theta0: 75.441555, theta1: -13.487764, theta2: 8.413163, error1: 116.762729\n",
      " theta0: 75.490271, theta1: -13.487188, theta2: 8.397700, error1: 116.516226\n",
      " theta0: 75.538881, theta1: -13.486613, theta2: 8.382271, error1: 116.270776\n",
      " theta0: 75.587388, theta1: -13.486039, theta2: 8.366874, error1: 116.026376\n",
      " theta0: 75.635789, theta1: -13.485467, theta2: 8.351511, error1: 115.783020\n",
      " theta0: 75.684086, theta1: -13.484896, theta2: 8.336181, error1: 115.540706\n",
      " theta0: 75.732279, theta1: -13.484326, theta2: 8.320885, error1: 115.299427\n",
      " theta0: 75.780369, theta1: -13.483757, theta2: 8.305621, error1: 115.059179\n",
      " theta0: 75.828354, theta1: -13.483190, theta2: 8.290390, error1: 114.819959\n",
      " theta0: 75.876236, theta1: -13.482624, theta2: 8.275192, error1: 114.581761\n",
      " theta0: 75.924015, theta1: -13.482059, theta2: 8.260026, error1: 114.344582\n",
      " theta0: 75.971691, theta1: -13.481495, theta2: 8.244893, error1: 114.108417\n",
      " theta0: 76.019264, theta1: -13.480932, theta2: 8.229793, error1: 113.873261\n",
      " theta0: 76.066735, theta1: -13.480371, theta2: 8.214726, error1: 113.639110\n",
      " theta0: 76.114103, theta1: -13.479811, theta2: 8.199691, error1: 113.405961\n",
      " theta0: 76.161369, theta1: -13.479252, theta2: 8.184688, error1: 113.173808\n",
      " theta0: 76.208533, theta1: -13.478694, theta2: 8.169718, error1: 112.942647\n",
      " theta0: 76.255596, theta1: -13.478138, theta2: 8.154780, error1: 112.712474\n",
      " theta0: 76.302557, theta1: -13.477582, theta2: 8.139874, error1: 112.483286\n",
      " theta0: 76.349417, theta1: -13.477028, theta2: 8.125000, error1: 112.255077\n",
      " theta0: 76.396176, theta1: -13.476475, theta2: 8.110159, error1: 112.027843\n",
      " theta0: 76.442834, theta1: -13.475924, theta2: 8.095349, error1: 111.801581\n",
      " theta0: 76.489391, theta1: -13.475373, theta2: 8.080571, error1: 111.576286\n",
      " theta0: 76.535848, theta1: -13.474824, theta2: 8.065826, error1: 111.351954\n",
      " theta0: 76.582205, theta1: -13.474275, theta2: 8.051112, error1: 111.128580\n",
      " theta0: 76.628462, theta1: -13.473728, theta2: 8.036429, error1: 110.906161\n",
      " theta0: 76.674620, theta1: -13.473183, theta2: 8.021779, error1: 110.684693\n",
      " theta0: 76.720677, theta1: -13.472638, theta2: 8.007160, error1: 110.464172\n",
      " theta0: 76.766636, theta1: -13.472095, theta2: 7.992572, error1: 110.244592\n",
      " theta0: 76.812495, theta1: -13.471552, theta2: 7.978016, error1: 110.025952\n",
      " theta0: 76.858256, theta1: -13.471011, theta2: 7.963491, error1: 109.808245\n",
      " theta0: 76.903918, theta1: -13.470471, theta2: 7.948998, error1: 109.591469\n",
      " theta0: 76.949481, theta1: -13.469932, theta2: 7.934535, error1: 109.375620\n",
      " theta0: 76.994947, theta1: -13.469395, theta2: 7.920104, error1: 109.160693\n",
      " theta0: 77.040314, theta1: -13.468858, theta2: 7.905704, error1: 108.946684\n",
      " theta0: 77.085583, theta1: -13.468323, theta2: 7.891336, error1: 108.733590\n",
      " theta0: 77.130755, theta1: -13.467789, theta2: 7.876998, error1: 108.521406\n",
      " theta0: 77.175830, theta1: -13.467256, theta2: 7.862691, error1: 108.310129\n",
      " theta0: 77.220807, theta1: -13.466724, theta2: 7.848415, error1: 108.099755\n",
      " theta0: 77.265687, theta1: -13.466193, theta2: 7.834169, error1: 107.890280\n",
      " theta0: 77.310471, theta1: -13.465664, theta2: 7.819955, error1: 107.681700\n",
      " theta0: 77.355158, theta1: -13.465135, theta2: 7.805771, error1: 107.474011\n",
      " theta0: 77.399749, theta1: -13.464608, theta2: 7.791617, error1: 107.267210\n",
      " theta0: 77.444243, theta1: -13.464082, theta2: 7.777494, error1: 107.061292\n",
      " theta0: 77.488642, theta1: -13.463557, theta2: 7.763402, error1: 106.856254\n",
      " theta0: 77.532945, theta1: -13.463033, theta2: 7.749340, error1: 106.652092\n",
      " theta0: 77.577152, theta1: -13.462510, theta2: 7.735308, error1: 106.448803\n",
      " theta0: 77.621265, theta1: -13.461989, theta2: 7.721306, error1: 106.246381\n",
      " theta0: 77.665282, theta1: -13.461468, theta2: 7.707335, error1: 106.044825\n",
      " theta0: 77.709204, theta1: -13.460949, theta2: 7.693394, error1: 105.844130\n",
      " theta0: 77.753031, theta1: -13.460430, theta2: 7.679482, error1: 105.644292\n",
      " theta0: 77.796764, theta1: -13.459913, theta2: 7.665601, error1: 105.445308\n",
      " theta0: 77.840403, theta1: -13.459397, theta2: 7.651750, error1: 105.247174\n",
      " theta0: 77.883948, theta1: -13.458882, theta2: 7.637929, error1: 105.049886\n",
      " theta0: 77.927399, theta1: -13.458369, theta2: 7.624137, error1: 104.853442\n",
      " theta0: 77.970756, theta1: -13.457856, theta2: 7.610375, error1: 104.657836\n",
      " theta0: 78.014019, theta1: -13.457344, theta2: 7.596643, error1: 104.463066\n",
      " theta0: 78.057190, theta1: -13.456834, theta2: 7.582940, error1: 104.269128\n",
      " theta0: 78.100267, theta1: -13.456324, theta2: 7.569267, error1: 104.076018\n",
      " theta0: 78.143252, theta1: -13.455816, theta2: 7.555624, error1: 103.883734\n",
      " theta0: 78.186143, theta1: -13.455309, theta2: 7.542009, error1: 103.692270\n",
      " theta0: 78.228943, theta1: -13.454803, theta2: 7.528425, error1: 103.501625\n",
      " theta0: 78.271650, theta1: -13.454298, theta2: 7.514869, error1: 103.311794\n",
      " theta0: 78.314265, theta1: -13.453794, theta2: 7.501343, error1: 103.122773\n",
      " theta0: 78.356788, theta1: -13.453291, theta2: 7.487845, error1: 102.934560\n",
      " theta0: 78.399219, theta1: -13.452789, theta2: 7.474377, error1: 102.747151\n",
      " theta0: 78.441559, theta1: -13.452289, theta2: 7.460938, error1: 102.560542\n",
      " theta0: 78.483808, theta1: -13.451789, theta2: 7.447528, error1: 102.374730\n",
      " theta0: 78.525966, theta1: -13.451291, theta2: 7.434147, error1: 102.189712\n",
      " theta0: 78.568033, theta1: -13.450793, theta2: 7.420795, error1: 102.005484\n",
      " theta0: 78.610009, theta1: -13.450297, theta2: 7.407471, error1: 101.822043\n",
      " theta0: 78.651894, theta1: -13.449801, theta2: 7.394176, error1: 101.639385\n",
      " theta0: 78.693690, theta1: -13.449307, theta2: 7.380910, error1: 101.457507\n",
      " theta0: 78.735395, theta1: -13.448814, theta2: 7.367673, error1: 101.276406\n",
      " theta0: 78.777010, theta1: -13.448322, theta2: 7.354464, error1: 101.096078\n",
      " theta0: 78.818536, theta1: -13.447831, theta2: 7.341283, error1: 100.916521\n",
      " theta0: 78.859972, theta1: -13.447341, theta2: 7.328131, error1: 100.737730\n",
      " theta0: 78.901318, theta1: -13.446852, theta2: 7.315007, error1: 100.559702\n",
      " theta0: 78.942576, theta1: -13.446364, theta2: 7.301912, error1: 100.382435\n",
      " theta0: 78.983745, theta1: -13.445877, theta2: 7.288845, error1: 100.205925\n",
      " theta0: 79.024825, theta1: -13.445392, theta2: 7.275805, error1: 100.030168\n",
      " theta0: 79.065816, theta1: -13.444907, theta2: 7.262794, error1: 99.855162\n",
      " theta0: 79.106719, theta1: -13.444423, theta2: 7.249812, error1: 99.680903\n",
      " theta0: 79.147534, theta1: -13.443940, theta2: 7.236857, error1: 99.507388\n",
      " theta0: 79.188261, theta1: -13.443459, theta2: 7.223930, error1: 99.334614\n",
      " theta0: 79.228900, theta1: -13.442978, theta2: 7.211030, error1: 99.162578\n",
      " theta0: 79.269451, theta1: -13.442499, theta2: 7.198159, error1: 98.991276\n",
      " theta0: 79.309915, theta1: -13.442020, theta2: 7.185316, error1: 98.820705\n",
      " theta0: 79.350292, theta1: -13.441543, theta2: 7.172500, error1: 98.650863\n",
      " theta0: 79.390582, theta1: -13.441066, theta2: 7.159711, error1: 98.481746\n",
      " theta0: 79.430785, theta1: -13.440591, theta2: 7.146951, error1: 98.313350\n",
      " theta0: 79.470901, theta1: -13.440117, theta2: 7.134217, error1: 98.145674\n",
      " theta0: 79.510931, theta1: -13.439643, theta2: 7.121512, error1: 97.978713\n",
      " theta0: 79.550874, theta1: -13.439171, theta2: 7.108833, error1: 97.812466\n",
      " theta0: 79.590731, theta1: -13.438700, theta2: 7.096182, error1: 97.646928\n",
      " theta0: 79.630503, theta1: -13.438229, theta2: 7.083559, error1: 97.482096\n",
      " theta0: 79.670189, theta1: -13.437760, theta2: 7.070962, error1: 97.317968\n",
      " theta0: 79.709789, theta1: -13.437292, theta2: 7.058393, error1: 97.154541\n",
      " theta0: 79.749303, theta1: -13.436825, theta2: 7.045850, error1: 96.991811\n",
      " theta0: 79.788733, theta1: -13.436358, theta2: 7.033335, error1: 96.829776\n",
      " theta0: 79.828078, theta1: -13.435893, theta2: 7.020847, error1: 96.668433\n",
      " theta0: 79.867337, theta1: -13.435429, theta2: 7.008385, error1: 96.507778\n",
      " theta0: 79.906513, theta1: -13.434966, theta2: 6.995951, error1: 96.347809\n",
      " theta0: 79.945603, theta1: -13.434503, theta2: 6.983543, error1: 96.188522\n",
      " theta0: 79.984610, theta1: -13.434042, theta2: 6.971162, error1: 96.029916\n",
      " theta0: 80.023532, theta1: -13.433582, theta2: 6.958808, error1: 95.871986\n",
      " theta0: 80.062370, theta1: -13.433123, theta2: 6.946481, error1: 95.714731\n",
      " theta0: 80.101125, theta1: -13.432664, theta2: 6.934179, error1: 95.558146\n",
      " theta0: 80.139796, theta1: -13.432207, theta2: 6.921905, error1: 95.402230\n",
      " theta0: 80.178384, theta1: -13.431751, theta2: 6.909657, error1: 95.246979\n",
      " theta0: 80.216889, theta1: -13.431295, theta2: 6.897435, error1: 95.092391\n",
      " theta0: 80.255310, theta1: -13.430841, theta2: 6.885240, error1: 94.938462\n",
      " theta0: 80.293649, theta1: -13.430388, theta2: 6.873071, error1: 94.785191\n",
      " theta0: 80.331905, theta1: -13.429935, theta2: 6.860928, error1: 94.632573\n",
      " theta0: 80.370079, theta1: -13.429484, theta2: 6.848812, error1: 94.480607\n",
      " theta0: 80.408170, theta1: -13.429034, theta2: 6.836721, error1: 94.329289\n",
      " theta0: 80.446179, theta1: -13.428584, theta2: 6.824657, error1: 94.178616\n",
      " theta0: 80.484107, theta1: -13.428136, theta2: 6.812618, error1: 94.028587\n",
      " theta0: 80.521952, theta1: -13.427688, theta2: 6.800606, error1: 93.879198\n",
      " theta0: 80.559716, theta1: -13.427241, theta2: 6.788619, error1: 93.730446\n",
      " theta0: 80.597399, theta1: -13.426796, theta2: 6.776658, error1: 93.582329\n",
      " theta0: 80.635000, theta1: -13.426351, theta2: 6.764723, error1: 93.434844\n",
      " theta0: 80.672520, theta1: -13.425908, theta2: 6.752814, error1: 93.287988\n",
      " theta0: 80.709960, theta1: -13.425465, theta2: 6.740931, error1: 93.141758\n",
      " theta0: 80.747318, theta1: -13.425023, theta2: 6.729073, error1: 92.996153\n",
      " theta0: 80.784596, theta1: -13.424582, theta2: 6.717240, error1: 92.851168\n",
      " theta0: 80.821794, theta1: -13.424142, theta2: 6.705434, error1: 92.706802\n",
      " theta0: 80.858912, theta1: -13.423703, theta2: 6.693652, error1: 92.563053\n",
      " theta0: 80.895949, theta1: -13.423266, theta2: 6.681896, error1: 92.419916\n",
      " theta0: 80.932907, theta1: -13.422829, theta2: 6.670165, error1: 92.277390\n",
      " theta0: 80.969785, theta1: -13.422392, theta2: 6.658460, error1: 92.135472\n",
      " theta0: 81.006584, theta1: -13.421957, theta2: 6.646780, error1: 91.994159\n",
      " theta0: 81.043303, theta1: -13.421523, theta2: 6.635125, error1: 91.853449\n",
      " theta0: 81.079943, theta1: -13.421090, theta2: 6.623495, error1: 91.713339\n",
      " theta0: 81.116504, theta1: -13.420657, theta2: 6.611890, error1: 91.573827\n",
      " theta0: 81.152986, theta1: -13.420226, theta2: 6.600311, error1: 91.434910\n",
      " theta0: 81.189390, theta1: -13.419796, theta2: 6.588756, error1: 91.296585\n",
      " theta0: 81.225715, theta1: -13.419366, theta2: 6.577226, error1: 91.158851\n",
      " theta0: 81.261962, theta1: -13.418937, theta2: 6.565721, error1: 91.021704\n",
      " theta0: 81.298131, theta1: -13.418510, theta2: 6.554241, error1: 90.885142\n",
      " theta0: 81.334221, theta1: -13.418083, theta2: 6.542785, error1: 90.749162\n",
      " theta0: 81.370234, theta1: -13.417657, theta2: 6.531354, error1: 90.613762\n",
      " theta0: 81.406170, theta1: -13.417232, theta2: 6.519948, error1: 90.478940\n",
      " theta0: 81.442027, theta1: -13.416808, theta2: 6.508567, error1: 90.344693\n",
      " theta0: 81.477808, theta1: -13.416385, theta2: 6.497210, error1: 90.211018\n",
      " theta0: 81.513511, theta1: -13.415963, theta2: 6.485877, error1: 90.077913\n",
      " theta0: 81.549138, theta1: -13.415542, theta2: 6.474569, error1: 89.945376\n",
      " theta0: 81.584687, theta1: -13.415121, theta2: 6.463285, error1: 89.813404\n",
      " theta0: 81.620160, theta1: -13.414702, theta2: 6.452026, error1: 89.681994\n",
      " theta0: 81.655557, theta1: -13.414283, theta2: 6.440791, error1: 89.551146\n",
      " theta0: 81.690877, theta1: -13.413866, theta2: 6.429580, error1: 89.420855\n",
      " theta0: 81.726121, theta1: -13.413449, theta2: 6.418393, error1: 89.291119\n",
      " theta0: 81.761289, theta1: -13.413033, theta2: 6.407231, error1: 89.161937\n",
      " theta0: 81.796381, theta1: -13.412618, theta2: 6.396092, error1: 89.033305\n",
      " theta0: 81.831398, theta1: -13.412204, theta2: 6.384978, error1: 88.905223\n",
      " theta0: 81.866339, theta1: -13.411791, theta2: 6.373887, error1: 88.777686\n",
      " theta0: 81.901205, theta1: -13.411378, theta2: 6.362820, error1: 88.650692\n",
      " theta0: 81.935996, theta1: -13.410967, theta2: 6.351777, error1: 88.524241\n",
      " theta0: 81.970711, theta1: -13.410556, theta2: 6.340758, error1: 88.398328\n",
      " theta0: 82.005352, theta1: -13.410147, theta2: 6.329763, error1: 88.272952\n",
      " theta0: 82.039918, theta1: -13.409738, theta2: 6.318792, error1: 88.148111\n",
      " theta0: 82.074410, theta1: -13.409330, theta2: 6.307844, error1: 88.023802\n",
      " theta0: 82.108827, theta1: -13.408923, theta2: 6.296919, error1: 87.900023\n",
      " theta0: 82.143170, theta1: -13.408517, theta2: 6.286019, error1: 87.776771\n",
      " theta0: 82.177439, theta1: -13.408112, theta2: 6.275141, error1: 87.654045\n",
      " theta0: 82.211634, theta1: -13.407708, theta2: 6.264288, error1: 87.531842\n",
      " theta0: 82.245756, theta1: -13.407304, theta2: 6.253457, error1: 87.410160\n",
      " theta0: 82.279804, theta1: -13.406901, theta2: 6.242650, error1: 87.288996\n",
      " theta0: 82.313778, theta1: -13.406500, theta2: 6.231866, error1: 87.168349\n",
      " theta0: 82.347680, theta1: -13.406099, theta2: 6.221106, error1: 87.048216\n",
      " theta0: 82.381508, theta1: -13.405699, theta2: 6.210369, error1: 86.928596\n",
      " theta0: 82.415263, theta1: -13.405300, theta2: 6.199654, error1: 86.809485\n",
      " theta0: 82.448945, theta1: -13.404901, theta2: 6.188963, error1: 86.690882\n",
      " theta0: 82.482555, theta1: -13.404504, theta2: 6.178295, error1: 86.572784\n",
      " theta0: 82.516093, theta1: -13.404107, theta2: 6.167650, error1: 86.455189\n",
      " theta0: 82.549558, theta1: -13.403712, theta2: 6.157028, error1: 86.338096\n",
      " theta0: 82.582951, theta1: -13.403317, theta2: 6.146429, error1: 86.221502\n",
      " theta0: 82.616272, theta1: -13.402923, theta2: 6.135853, error1: 86.105404\n",
      " theta0: 82.649521, theta1: -13.402530, theta2: 6.125299, error1: 85.989801\n",
      " theta0: 82.682698, theta1: -13.402137, theta2: 6.114768, error1: 85.874691\n",
      " theta0: 82.715804, theta1: -13.401746, theta2: 6.104260, error1: 85.760072\n",
      " theta0: 82.748839, theta1: -13.401355, theta2: 6.093775, error1: 85.645941\n",
      " theta0: 82.781802, theta1: -13.400965, theta2: 6.083312, error1: 85.532296\n",
      " theta0: 82.814695, theta1: -13.400576, theta2: 6.072872, error1: 85.419135\n",
      " theta0: 82.847516, theta1: -13.400188, theta2: 6.062454, error1: 85.306457\n",
      " theta0: 82.880267, theta1: -13.399801, theta2: 6.052059, error1: 85.194258\n",
      " theta0: 82.912947, theta1: -13.399415, theta2: 6.041686, error1: 85.082538\n",
      " theta0: 82.945556, theta1: -13.399029, theta2: 6.031335, error1: 84.971294\n",
      " theta0: 82.978096, theta1: -13.398644, theta2: 6.021007, error1: 84.860523\n",
      " theta0: 83.010565, theta1: -13.398260, theta2: 6.010701, error1: 84.750225\n",
      " theta0: 83.042964, theta1: -13.397877, theta2: 6.000417, error1: 84.640396\n",
      " theta0: 83.075293, theta1: -13.397495, theta2: 5.990156, error1: 84.531036\n",
      " theta0: 83.107553, theta1: -13.397113, theta2: 5.979916, error1: 84.422141\n",
      " theta0: 83.139743, theta1: -13.396733, theta2: 5.969699, error1: 84.313710\n",
      " theta0: 83.171864, theta1: -13.396353, theta2: 5.959503, error1: 84.205741\n",
      " theta0: 83.203915, theta1: -13.395974, theta2: 5.949330, error1: 84.098232\n",
      " theta0: 83.235898, theta1: -13.395596, theta2: 5.939179, error1: 83.991181\n",
      " theta0: 83.267811, theta1: -13.395218, theta2: 5.929049, error1: 83.884586\n",
      " theta0: 83.299656, theta1: -13.394842, theta2: 5.918941, error1: 83.778445\n",
      " theta0: 83.331432, theta1: -13.394466, theta2: 5.908855, error1: 83.672756\n",
      " theta0: 83.363139, theta1: -13.394091, theta2: 5.898791, error1: 83.567517\n",
      " theta0: 83.394778, theta1: -13.393717, theta2: 5.888749, error1: 83.462726\n",
      " theta0: 83.426349, theta1: -13.393344, theta2: 5.878728, error1: 83.358382\n",
      " theta0: 83.457852, theta1: -13.392971, theta2: 5.868729, error1: 83.254482\n",
      " theta0: 83.489287, theta1: -13.392599, theta2: 5.858751, error1: 83.151025\n",
      " theta0: 83.520654, theta1: -13.392228, theta2: 5.848795, error1: 83.048008\n",
      " theta0: 83.551954, theta1: -13.391858, theta2: 5.838860, error1: 82.945430\n",
      " theta0: 83.583186, theta1: -13.391489, theta2: 5.828947, error1: 82.843288\n",
      " theta0: 83.614350, theta1: -13.391121, theta2: 5.819055, error1: 82.741582\n",
      " theta0: 83.645448, theta1: -13.390753, theta2: 5.809184, error1: 82.640309\n",
      " theta0: 83.676479, theta1: -13.390386, theta2: 5.799335, error1: 82.539467\n",
      " theta0: 83.707442, theta1: -13.390020, theta2: 5.789507, error1: 82.439054\n",
      " theta0: 83.738339, theta1: -13.389654, theta2: 5.779700, error1: 82.339069\n",
      " theta0: 83.769169, theta1: -13.389290, theta2: 5.769914, error1: 82.239510\n",
      " theta0: 83.799933, theta1: -13.388926, theta2: 5.760149, error1: 82.140375\n",
      " theta0: 83.830631, theta1: -13.388563, theta2: 5.750406, error1: 82.041662\n",
      " theta0: 83.861262, theta1: -13.388201, theta2: 5.740683, error1: 81.943369\n",
      " theta0: 83.891827, theta1: -13.387839, theta2: 5.730982, error1: 81.845494\n",
      " theta0: 83.922327, theta1: -13.387479, theta2: 5.721301, error1: 81.748036\n",
      " theta0: 83.952760, theta1: -13.387119, theta2: 5.711641, error1: 81.650994\n",
      " theta0: 83.983128, theta1: -13.386760, theta2: 5.702002, error1: 81.554364\n",
      " theta0: 84.013431, theta1: -13.386401, theta2: 5.692384, error1: 81.458145\n",
      " theta0: 84.043668, theta1: -13.386044, theta2: 5.682786, error1: 81.362337\n",
      " theta0: 84.073840, theta1: -13.385687, theta2: 5.673209, error1: 81.266936\n",
      " theta0: 84.103947, theta1: -13.385331, theta2: 5.663653, error1: 81.171941\n",
      " theta0: 84.133989, theta1: -13.384976, theta2: 5.654117, error1: 81.077351\n",
      " theta0: 84.163967, theta1: -13.384621, theta2: 5.644602, error1: 80.983163\n",
      " theta0: 84.193880, theta1: -13.384268, theta2: 5.635108, error1: 80.889376\n",
      " theta0: 84.223728, theta1: -13.383915, theta2: 5.625634, error1: 80.795988\n",
      " theta0: 84.253512, theta1: -13.383562, theta2: 5.616180, error1: 80.702998\n",
      " theta0: 84.283231, theta1: -13.383211, theta2: 5.606747, error1: 80.610403\n",
      " theta0: 84.312887, theta1: -13.382860, theta2: 5.597334, error1: 80.518203\n",
      " theta0: 84.342479, theta1: -13.382510, theta2: 5.587941, error1: 80.426395\n",
      " theta0: 84.372007, theta1: -13.382161, theta2: 5.578569, error1: 80.334978\n",
      " theta0: 84.401471, theta1: -13.381813, theta2: 5.569217, error1: 80.243950\n",
      " theta0: 84.430872, theta1: -13.381465, theta2: 5.559885, error1: 80.153309\n",
      " theta0: 84.460209, theta1: -13.381118, theta2: 5.550573, error1: 80.063054\n",
      " theta0: 84.489483, theta1: -13.380772, theta2: 5.541281, error1: 79.973183\n",
      " theta0: 84.518694, theta1: -13.380427, theta2: 5.532009, error1: 79.883694\n",
      " theta0: 84.547842, theta1: -13.380082, theta2: 5.522757, error1: 79.794586\n",
      " theta0: 84.576927, theta1: -13.379738, theta2: 5.513525, error1: 79.705858\n",
      " theta0: 84.605950, theta1: -13.379395, theta2: 5.504313, error1: 79.617507\n",
      " theta0: 84.634910, theta1: -13.379052, theta2: 5.495121, error1: 79.529531\n",
      " theta0: 84.663807, theta1: -13.378711, theta2: 5.485949, error1: 79.441931\n",
      " theta0: 84.692643, theta1: -13.378370, theta2: 5.476797, error1: 79.354702\n",
      " theta0: 84.721416, theta1: -13.378029, theta2: 5.467664, error1: 79.267845\n",
      " theta0: 84.750127, theta1: -13.377690, theta2: 5.458551, error1: 79.181358\n",
      " theta0: 84.778776, theta1: -13.377351, theta2: 5.449457, error1: 79.095238\n",
      " theta0: 84.807363, theta1: -13.377013, theta2: 5.440383, error1: 79.009485\n",
      " theta0: 84.835889, theta1: -13.376676, theta2: 5.431329, error1: 78.924097\n",
      " theta0: 84.864353, theta1: -13.376339, theta2: 5.422294, error1: 78.839072\n",
      " theta0: 84.892756, theta1: -13.376003, theta2: 5.413279, error1: 78.754408\n",
      " theta0: 84.921098, theta1: -13.375668, theta2: 5.404283, error1: 78.670105\n",
      " theta0: 84.949378, theta1: -13.375334, theta2: 5.395307, error1: 78.586160\n",
      " theta0: 84.977598, theta1: -13.375000, theta2: 5.386350, error1: 78.502572\n",
      " theta0: 85.005757, theta1: -13.374667, theta2: 5.377412, error1: 78.419340\n",
      " theta0: 85.033855, theta1: -13.374335, theta2: 5.368493, error1: 78.336462\n",
      " theta0: 85.061892, theta1: -13.374003, theta2: 5.359594, error1: 78.253936\n",
      " theta0: 85.089869, theta1: -13.373673, theta2: 5.350714, error1: 78.171762\n",
      " theta0: 85.117786, theta1: -13.373342, theta2: 5.341853, error1: 78.089937\n",
      " theta0: 85.145643, theta1: -13.373013, theta2: 5.333011, error1: 78.008460\n",
      " theta0: 85.173439, theta1: -13.372684, theta2: 5.324188, error1: 77.927329\n",
      " theta0: 85.201176, theta1: -13.372356, theta2: 5.315384, error1: 77.846543\n",
      " theta0: 85.228852, theta1: -13.372029, theta2: 5.306599, error1: 77.766101\n",
      " theta0: 85.256470, theta1: -13.371702, theta2: 5.297834, error1: 77.686001\n",
      " theta0: 85.284027, theta1: -13.371377, theta2: 5.289087, error1: 77.606242\n",
      " theta0: 85.311525, theta1: -13.371051, theta2: 5.280358, error1: 77.526821\n",
      " theta0: 85.338964, theta1: -13.370727, theta2: 5.271649, error1: 77.447739\n",
      " theta0: 85.366344, theta1: -13.370403, theta2: 5.262959, error1: 77.368993\n",
      " theta0: 85.393665, theta1: -13.370080, theta2: 5.254287, error1: 77.290581\n",
      " theta0: 85.420927, theta1: -13.369758, theta2: 5.245634, error1: 77.212503\n",
      " theta0: 85.448130, theta1: -13.369436, theta2: 5.236999, error1: 77.134757\n",
      " theta0: 85.475274, theta1: -13.369115, theta2: 5.228383, error1: 77.057341\n",
      " theta0: 85.502360, theta1: -13.368795, theta2: 5.219786, error1: 76.980255\n",
      " theta0: 85.529387, theta1: -13.368475, theta2: 5.211207, error1: 76.903496\n",
      " theta0: 85.556357, theta1: -13.368156, theta2: 5.202647, error1: 76.827063\n",
      " theta0: 85.583268, theta1: -13.367838, theta2: 5.194105, error1: 76.750956\n",
      " theta0: 85.610121, theta1: -13.367521, theta2: 5.185582, error1: 76.675172\n",
      " theta0: 85.636916, theta1: -13.367204, theta2: 5.177077, error1: 76.599710\n",
      " theta0: 85.663654, theta1: -13.366888, theta2: 5.168590, error1: 76.524569\n",
      " theta0: 85.690333, theta1: -13.366572, theta2: 5.160122, error1: 76.449747\n",
      " theta0: 85.716956, theta1: -13.366257, theta2: 5.151672, error1: 76.375243\n",
      " theta0: 85.743521, theta1: -13.365943, theta2: 5.143240, error1: 76.301056\n",
      " theta0: 85.770028, theta1: -13.365630, theta2: 5.134826, error1: 76.227185\n",
      " theta0: 85.796479, theta1: -13.365317, theta2: 5.126431, error1: 76.153627\n",
      " theta0: 85.822872, theta1: -13.365005, theta2: 5.118053, error1: 76.080382\n",
      " theta0: 85.849209, theta1: -13.364693, theta2: 5.109694, error1: 76.007448\n",
      " theta0: 85.875489, theta1: -13.364383, theta2: 5.101352, error1: 75.934824\n",
      " theta0: 85.901712, theta1: -13.364073, theta2: 5.093029, error1: 75.862509\n",
      " theta0: 85.927878, theta1: -13.363763, theta2: 5.084723, error1: 75.790501\n",
      " theta0: 85.953989, theta1: -13.363454, theta2: 5.076436, error1: 75.718799\n",
      " theta0: 85.980043, theta1: -13.363146, theta2: 5.068166, error1: 75.647401\n",
      " theta0: 86.006040, theta1: -13.362839, theta2: 5.059914, error1: 75.576307\n",
      " theta0: 86.031982, theta1: -13.362532, theta2: 5.051680, error1: 75.505515\n",
      " theta0: 86.057868, theta1: -13.362226, theta2: 5.043464, error1: 75.435024\n",
      " theta0: 86.083698, theta1: -13.361921, theta2: 5.035265, error1: 75.364833\n",
      " theta0: 86.109472, theta1: -13.361616, theta2: 5.027084, error1: 75.294939\n",
      " theta0: 86.135191, theta1: -13.361312, theta2: 5.018921, error1: 75.225343\n",
      " theta0: 86.160854, theta1: -13.361008, theta2: 5.010775, error1: 75.156042\n",
      " theta0: 86.186462, theta1: -13.360705, theta2: 5.002647, error1: 75.087036\n",
      " theta0: 86.212015, theta1: -13.360403, theta2: 4.994536, error1: 75.018323\n",
      " theta0: 86.237513, theta1: -13.360102, theta2: 4.986443, error1: 74.949901\n",
      " theta0: 86.262955, theta1: -13.359801, theta2: 4.978367, error1: 74.881771\n",
      " theta0: 86.288343, theta1: -13.359501, theta2: 4.970309, error1: 74.813929\n",
      " theta0: 86.313676, theta1: -13.359201, theta2: 4.962268, error1: 74.746376\n",
      " theta0: 86.338955, theta1: -13.358902, theta2: 4.954244, error1: 74.679110\n",
      " theta0: 86.364179, theta1: -13.358604, theta2: 4.946238, error1: 74.612129\n",
      " theta0: 86.389349, theta1: -13.358306, theta2: 4.938249, error1: 74.545433\n",
      " theta0: 86.414464, theta1: -13.358009, theta2: 4.930277, error1: 74.479021\n",
      " theta0: 86.439525, theta1: -13.357713, theta2: 4.922323, error1: 74.412890\n",
      " theta0: 86.464532, theta1: -13.357417, theta2: 4.914385, error1: 74.347040\n",
      " theta0: 86.489486, theta1: -13.357122, theta2: 4.906465, error1: 74.281470\n",
      " theta0: 86.514385, theta1: -13.356828, theta2: 4.898561, error1: 74.216178\n",
      " theta0: 86.539231, theta1: -13.356534, theta2: 4.890675, error1: 74.151164\n",
      " theta0: 86.564023, theta1: -13.356241, theta2: 4.882806, error1: 74.086426\n",
      " theta0: 86.588762, theta1: -13.355948, theta2: 4.874954, error1: 74.021962\n",
      " theta0: 86.613448, theta1: -13.355656, theta2: 4.867118, error1: 73.957772\n",
      " theta0: 86.638080, theta1: -13.355365, theta2: 4.859300, error1: 73.893855\n",
      " theta0: 86.662659, theta1: -13.355074, theta2: 4.851498, error1: 73.830209\n",
      " theta0: 86.687186, theta1: -13.354784, theta2: 4.843713, error1: 73.766834\n",
      " theta0: 86.711659, theta1: -13.354495, theta2: 4.835945, error1: 73.703727\n",
      " theta0: 86.736080, theta1: -13.354206, theta2: 4.828194, error1: 73.640889\n",
      " theta0: 86.760447, theta1: -13.353918, theta2: 4.820459, error1: 73.578317\n",
      " theta0: 86.784763, theta1: -13.353630, theta2: 4.812742, error1: 73.516010\n",
      " theta0: 86.809026, theta1: -13.353344, theta2: 4.805040, error1: 73.453969\n",
      " theta0: 86.833237, theta1: -13.353057, theta2: 4.797356, error1: 73.392190\n",
      " theta0: 86.857395, theta1: -13.352772, theta2: 4.789688, error1: 73.330674\n",
      " theta0: 86.881502, theta1: -13.352487, theta2: 4.782036, error1: 73.269419\n",
      " theta0: 86.905556, theta1: -13.352202, theta2: 4.774401, error1: 73.208424\n",
      " theta0: 86.929559, theta1: -13.351918, theta2: 4.766782, error1: 73.147688\n",
      " theta0: 86.953509, theta1: -13.351635, theta2: 4.759180, error1: 73.087210\n",
      " theta0: 86.977409, theta1: -13.351352, theta2: 4.751594, error1: 73.026988\n",
      " theta0: 87.001256, theta1: -13.351070, theta2: 4.744025, error1: 72.967022\n",
      " theta0: 87.025053, theta1: -13.350789, theta2: 4.736472, error1: 72.907311\n",
      " theta0: 87.048798, theta1: -13.350508, theta2: 4.728935, error1: 72.847852\n",
      " theta0: 87.072491, theta1: -13.350228, theta2: 4.721414, error1: 72.788647\n",
      " theta0: 87.096134, theta1: -13.349948, theta2: 4.713910, error1: 72.729692\n",
      " theta0: 87.119726, theta1: -13.349670, theta2: 4.706422, error1: 72.670988\n",
      " theta0: 87.143267, theta1: -13.349391, theta2: 4.698950, error1: 72.612532\n",
      " theta0: 87.166757, theta1: -13.349113, theta2: 4.691494, error1: 72.554325\n",
      " theta0: 87.190197, theta1: -13.348836, theta2: 4.684054, error1: 72.496365\n",
      " theta0: 87.213586, theta1: -13.348560, theta2: 4.676630, error1: 72.438650\n",
      " theta0: 87.236924, theta1: -13.348284, theta2: 4.669222, error1: 72.381181\n",
      " theta0: 87.260212, theta1: -13.348008, theta2: 4.661830, error1: 72.323955\n",
      " theta0: 87.283450, theta1: -13.347733, theta2: 4.654454, error1: 72.266972\n",
      " theta0: 87.306638, theta1: -13.347459, theta2: 4.647094, error1: 72.210231\n",
      " theta0: 87.329776, theta1: -13.347186, theta2: 4.639750, error1: 72.153730\n",
      " theta0: 87.352864, theta1: -13.346913, theta2: 4.632422, error1: 72.097469\n",
      " theta0: 87.375903, theta1: -13.346640, theta2: 4.625109, error1: 72.041447\n",
      " theta0: 87.398891, theta1: -13.346368, theta2: 4.617812, error1: 71.985663\n",
      " theta0: 87.421830, theta1: -13.346097, theta2: 4.610531, error1: 71.930115\n",
      " theta0: 87.444720, theta1: -13.345826, theta2: 4.603266, error1: 71.874803\n",
      " theta0: 87.467560, theta1: -13.345556, theta2: 4.596016, error1: 71.819725\n",
      " theta0: 87.490351, theta1: -13.345287, theta2: 4.588782, error1: 71.764881\n",
      " theta0: 87.513093, theta1: -13.345018, theta2: 4.581564, error1: 71.710269\n",
      " theta0: 87.535786, theta1: -13.344750, theta2: 4.574361, error1: 71.655889\n",
      " theta0: 87.558430, theta1: -13.344482, theta2: 4.567174, error1: 71.601740\n",
      " theta0: 87.581026, theta1: -13.344215, theta2: 4.560002, error1: 71.547820\n",
      " theta0: 87.603572, theta1: -13.343948, theta2: 4.552845, error1: 71.494129\n",
      " theta0: 87.626070, theta1: -13.343682, theta2: 4.545704, error1: 71.440666\n",
      " theta0: 87.648519, theta1: -13.343417, theta2: 4.538579, error1: 71.387429\n",
      " theta0: 87.670920, theta1: -13.343152, theta2: 4.531468, error1: 71.334418\n",
      " theta0: 87.693273, theta1: -13.342887, theta2: 4.524374, error1: 71.281632\n",
      " theta0: 87.715577, theta1: -13.342624, theta2: 4.517294, error1: 71.229070\n",
      " theta0: 87.737834, theta1: -13.342360, theta2: 4.510230, error1: 71.176730\n",
      " theta0: 87.760042, theta1: -13.342098, theta2: 4.503180, error1: 71.124613\n",
      " theta0: 87.782203, theta1: -13.341836, theta2: 4.496146, error1: 71.072716\n",
      " theta0: 87.804315, theta1: -13.341574, theta2: 4.489128, error1: 71.021040\n",
      " theta0: 87.826381, theta1: -13.341313, theta2: 4.482124, error1: 70.969582\n",
      " theta0: 87.848398, theta1: -13.341053, theta2: 4.475136, error1: 70.918343\n",
      " theta0: 87.870368, theta1: -13.340793, theta2: 4.468162, error1: 70.867320\n",
      " theta0: 87.892291, theta1: -13.340534, theta2: 4.461204, error1: 70.816514\n",
      " theta0: 87.914166, theta1: -13.340275, theta2: 4.454260, error1: 70.765924\n",
      " theta0: 87.935995, theta1: -13.340017, theta2: 4.447332, error1: 70.715547\n",
      " theta0: 87.957776, theta1: -13.339760, theta2: 4.440418, error1: 70.665385\n",
      " theta0: 87.979510, theta1: -13.339503, theta2: 4.433520, error1: 70.615435\n",
      " theta0: 88.001198, theta1: -13.339246, theta2: 4.426636, error1: 70.565696\n",
      " theta0: 88.022838, theta1: -13.338990, theta2: 4.419767, error1: 70.516169\n",
      " theta0: 88.044432, theta1: -13.338735, theta2: 4.412913, error1: 70.466851\n",
      " theta0: 88.065980, theta1: -13.338480, theta2: 4.406073, error1: 70.417742\n",
      " theta0: 88.087481, theta1: -13.338226, theta2: 4.399249, error1: 70.368841\n",
      " theta0: 88.108936, theta1: -13.337972, theta2: 4.392439, error1: 70.320148\n",
      " theta0: 88.130344, theta1: -13.337719, theta2: 4.385644, error1: 70.271661\n",
      " theta0: 88.151706, theta1: -13.337466, theta2: 4.378863, error1: 70.223379\n",
      " theta0: 88.173023, theta1: -13.337214, theta2: 4.372097, error1: 70.175302\n",
      " theta0: 88.194293, theta1: -13.336963, theta2: 4.365346, error1: 70.127429\n",
      " theta0: 88.215517, theta1: -13.336712, theta2: 4.358609, error1: 70.079758\n",
      " theta0: 88.236696, theta1: -13.336461, theta2: 4.351887, error1: 70.032289\n",
      " theta0: 88.257829, theta1: -13.336211, theta2: 4.345179, error1: 69.985022\n",
      " theta0: 88.278916, theta1: -13.335962, theta2: 4.338486, error1: 69.937954\n",
      " theta0: 88.299958, theta1: -13.335713, theta2: 4.331807, error1: 69.891086\n",
      " theta0: 88.320955, theta1: -13.335465, theta2: 4.325142, error1: 69.844417\n",
      " theta0: 88.341906, theta1: -13.335217, theta2: 4.318492, error1: 69.797945\n",
      " theta0: 88.362813, theta1: -13.334970, theta2: 4.311856, error1: 69.751670\n",
      " theta0: 88.383674, theta1: -13.334723, theta2: 4.305235, error1: 69.705591\n",
      " theta0: 88.404490, theta1: -13.334477, theta2: 4.298628, error1: 69.659707\n",
      " theta0: 88.425261, theta1: -13.334232, theta2: 4.292035, error1: 69.614018\n",
      " theta0: 88.445988, theta1: -13.333987, theta2: 4.285456, error1: 69.568522\n",
      " theta0: 88.466670, theta1: -13.333742, theta2: 4.278891, error1: 69.523219\n",
      " theta0: 88.487307, theta1: -13.333498, theta2: 4.272341, error1: 69.478107\n",
      " theta0: 88.507900, theta1: -13.333254, theta2: 4.265805, error1: 69.433187\n",
      " theta0: 88.528448, theta1: -13.333011, theta2: 4.259283, error1: 69.388456\n",
      " theta0: 88.548952, theta1: -13.332769, theta2: 4.252774, error1: 69.343915\n",
      " theta0: 88.569412, theta1: -13.332527, theta2: 4.246280, error1: 69.299563\n",
      " theta0: 88.589828, theta1: -13.332286, theta2: 4.239800, error1: 69.255399\n",
      " theta0: 88.610199, theta1: -13.332045, theta2: 4.233334, error1: 69.211421\n",
      " theta0: 88.630527, theta1: -13.331804, theta2: 4.226882, error1: 69.167630\n",
      " theta0: 88.650811, theta1: -13.331564, theta2: 4.220443, error1: 69.124024\n",
      " theta0: 88.671052, theta1: -13.331325, theta2: 4.214019, error1: 69.080603\n",
      " theta0: 88.691248, theta1: -13.331086, theta2: 4.207608, error1: 69.037365\n",
      " theta0: 88.711401, theta1: -13.330848, theta2: 4.201212, error1: 68.994311\n",
      " theta0: 88.731511, theta1: -13.330610, theta2: 4.194829, error1: 68.951438\n",
      " theta0: 88.751577, theta1: -13.330373, theta2: 4.188460, error1: 68.908747\n",
      " theta0: 88.771600, theta1: -13.330136, theta2: 4.182104, error1: 68.866237\n",
      " theta0: 88.791580, theta1: -13.329900, theta2: 4.175762, error1: 68.823907\n",
      " theta0: 88.811517, theta1: -13.329664, theta2: 4.169434, error1: 68.781756\n",
      " theta0: 88.831411, theta1: -13.329429, theta2: 4.163120, error1: 68.739783\n",
      " theta0: 88.851262, theta1: -13.329194, theta2: 4.156819, error1: 68.697988\n",
      " theta0: 88.871070, theta1: -13.328960, theta2: 4.150532, error1: 68.656370\n",
      " theta0: 88.890836, theta1: -13.328726, theta2: 4.144258, error1: 68.614928\n",
      " theta0: 88.910558, theta1: -13.328493, theta2: 4.137998, error1: 68.573661\n",
      " theta0: 88.930239, theta1: -13.328260, theta2: 4.131751, error1: 68.532569\n",
      " theta0: 88.949877, theta1: -13.328028, theta2: 4.125518, error1: 68.491651\n",
      " theta0: 88.969472, theta1: -13.327796, theta2: 4.119298, error1: 68.450906\n",
      " theta0: 88.989026, theta1: -13.327565, theta2: 4.113092, error1: 68.410333\n",
      " theta0: 89.008537, theta1: -13.327334, theta2: 4.106899, error1: 68.369932\n",
      " theta0: 89.028006, theta1: -13.327104, theta2: 4.100719, error1: 68.329702\n",
      " theta0: 89.047433, theta1: -13.326874, theta2: 4.094553, error1: 68.289642\n",
      " theta0: 89.066818, theta1: -13.326645, theta2: 4.088400, error1: 68.249751\n",
      " theta0: 89.086162, theta1: -13.326416, theta2: 4.082260, error1: 68.210029\n",
      " theta0: 89.105464, theta1: -13.326188, theta2: 4.076133, error1: 68.170476\n",
      " theta0: 89.124724, theta1: -13.325960, theta2: 4.070020, error1: 68.131089\n",
      " theta0: 89.143942, theta1: -13.325733, theta2: 4.063920, error1: 68.091869\n",
      " theta0: 89.163120, theta1: -13.325506, theta2: 4.057833, error1: 68.052815\n",
      " theta0: 89.182256, theta1: -13.325280, theta2: 4.051759, error1: 68.013926\n",
      " theta0: 89.201350, theta1: -13.325054, theta2: 4.045698, error1: 67.975202\n",
      " theta0: 89.220404, theta1: -13.324829, theta2: 4.039650, error1: 67.936641\n",
      " theta0: 89.239416, theta1: -13.324604, theta2: 4.033616, error1: 67.898244\n",
      " theta0: 89.258388, theta1: -13.324380, theta2: 4.027594, error1: 67.860008\n",
      " theta0: 89.277318, theta1: -13.324156, theta2: 4.021585, error1: 67.821935\n",
      " theta0: 89.296208, theta1: -13.323933, theta2: 4.015590, error1: 67.784022\n",
      " theta0: 89.315057, theta1: -13.323710, theta2: 4.009607, error1: 67.746270\n",
      " theta0: 89.333865, theta1: -13.323487, theta2: 4.003637, error1: 67.708677\n",
      " theta0: 89.352633, theta1: -13.323265, theta2: 3.997680, error1: 67.671244\n",
      " theta0: 89.371360, theta1: -13.323044, theta2: 3.991736, error1: 67.633968\n",
      " theta0: 89.390047, theta1: -13.322823, theta2: 3.985804, error1: 67.596850\n",
      " theta0: 89.408694, theta1: -13.322603, theta2: 3.979886, error1: 67.559889\n",
      " theta0: 89.427300, theta1: -13.322383, theta2: 3.973980, error1: 67.523084\n",
      " theta0: 89.445867, theta1: -13.322163, theta2: 3.968087, error1: 67.486435\n",
      " theta0: 89.464393, theta1: -13.321944, theta2: 3.962206, error1: 67.449941\n",
      " theta0: 89.482880, theta1: -13.321725, theta2: 3.956339, error1: 67.413601\n",
      " theta0: 89.501326, theta1: -13.321507, theta2: 3.950484, error1: 67.377414\n",
      " theta0: 89.519733, theta1: -13.321290, theta2: 3.944641, error1: 67.341381\n",
      " theta0: 89.538100, theta1: -13.321072, theta2: 3.938811, error1: 67.305500\n",
      " theta0: 89.556428, theta1: -13.320856, theta2: 3.932994, error1: 67.269770\n",
      " theta0: 89.574716, theta1: -13.320639, theta2: 3.927189, error1: 67.234191\n",
      " theta0: 89.592964, theta1: -13.320424, theta2: 3.921397, error1: 67.198763\n",
      " theta0: 89.611173, theta1: -13.320208, theta2: 3.915617, error1: 67.163485\n",
      " theta0: 89.629344, theta1: -13.319993, theta2: 3.909850, error1: 67.128355\n",
      " theta0: 89.647474, theta1: -13.319779, theta2: 3.904095, error1: 67.093374\n",
      " theta0: 89.665566, theta1: -13.319565, theta2: 3.898353, error1: 67.058541\n",
      " theta0: 89.683619, theta1: -13.319352, theta2: 3.892622, error1: 67.023854\n",
      " theta0: 89.701633, theta1: -13.319139, theta2: 3.886905, error1: 66.989315\n",
      " theta0: 89.719608, theta1: -13.318926, theta2: 3.881199, error1: 66.954921\n",
      " theta0: 89.737544, theta1: -13.318714, theta2: 3.875506, error1: 66.920673\n",
      " theta0: 89.755441, theta1: -13.318502, theta2: 3.869825, error1: 66.886569\n",
      " theta0: 89.773300, theta1: -13.318291, theta2: 3.864157, error1: 66.852609\n",
      " theta0: 89.791121, theta1: -13.318080, theta2: 3.858500, error1: 66.818793\n",
      " theta0: 89.808903, theta1: -13.317870, theta2: 3.852856, error1: 66.785119\n",
      " theta0: 89.826647, theta1: -13.317660, theta2: 3.847224, error1: 66.751588\n",
      " theta0: 89.844352, theta1: -13.317451, theta2: 3.841604, error1: 66.718198\n",
      " theta0: 89.862020, theta1: -13.317242, theta2: 3.835997, error1: 66.684950\n",
      " theta0: 89.879649, theta1: -13.317034, theta2: 3.830401, error1: 66.651841\n",
      " theta0: 89.897240, theta1: -13.316825, theta2: 3.824817, error1: 66.618873\n",
      " theta0: 89.914793, theta1: -13.316618, theta2: 3.819246, error1: 66.586044\n",
      " theta0: 89.932309, theta1: -13.316411, theta2: 3.813686, error1: 66.553353\n",
      " theta0: 89.949787, theta1: -13.316204, theta2: 3.808139, error1: 66.520800\n",
      " theta0: 89.967227, theta1: -13.315998, theta2: 3.802603, error1: 66.488385\n",
      " theta0: 89.984629, theta1: -13.315792, theta2: 3.797079, error1: 66.456107\n",
      " theta0: 90.001994, theta1: -13.315587, theta2: 3.791568, error1: 66.423965\n",
      " theta0: 90.019322, theta1: -13.315382, theta2: 3.786068, error1: 66.391958\n",
      " theta0: 90.036612, theta1: -13.315177, theta2: 3.780580, error1: 66.360087\n",
      " theta0: 90.053865, theta1: -13.314973, theta2: 3.775104, error1: 66.328350\n",
      " theta0: 90.071080, theta1: -13.314770, theta2: 3.769639, error1: 66.296748\n",
      " theta0: 90.088259, theta1: -13.314567, theta2: 3.764187, error1: 66.265278\n",
      " theta0: 90.105400, theta1: -13.314364, theta2: 3.758746, error1: 66.233942\n",
      " theta0: 90.122505, theta1: -13.314162, theta2: 3.753317, error1: 66.202737\n",
      " theta0: 90.139573, theta1: -13.313960, theta2: 3.747899, error1: 66.171665\n",
      " theta0: 90.156604, theta1: -13.313759, theta2: 3.742493, error1: 66.140723\n",
      " theta0: 90.173598, theta1: -13.313558, theta2: 3.737099, error1: 66.109912\n",
      " theta0: 90.190555, theta1: -13.313357, theta2: 3.731717, error1: 66.079231\n",
      " theta0: 90.207476, theta1: -13.313157, theta2: 3.726346, error1: 66.048680\n",
      " theta0: 90.224361, theta1: -13.312957, theta2: 3.720987, error1: 66.018257\n",
      " theta0: 90.241209, theta1: -13.312758, theta2: 3.715639, error1: 65.987963\n",
      " theta0: 90.258021, theta1: -13.312559, theta2: 3.710303, error1: 65.957796\n",
      " theta0: 90.274796, theta1: -13.312361, theta2: 3.704978, error1: 65.927757\n",
      " theta0: 90.291536, theta1: -13.312163, theta2: 3.699665, error1: 65.897845\n",
      " theta0: 90.308239, theta1: -13.311965, theta2: 3.694363, error1: 65.868059\n",
      " theta0: 90.324906, theta1: -13.311768, theta2: 3.689073, error1: 65.838398\n",
      " theta0: 90.341538, theta1: -13.311572, theta2: 3.683794, error1: 65.808862\n",
      " theta0: 90.358133, theta1: -13.311375, theta2: 3.678526, error1: 65.779452\n",
      " theta0: 90.374693, theta1: -13.311180, theta2: 3.673270, error1: 65.750165\n",
      " theta0: 90.391217, theta1: -13.310984, theta2: 3.668025, error1: 65.721001\n",
      " theta0: 90.407706, theta1: -13.310789, theta2: 3.662792, error1: 65.691961\n",
      " theta0: 90.424159, theta1: -13.310595, theta2: 3.657569, error1: 65.663043\n",
      " theta0: 90.440576, theta1: -13.310401, theta2: 3.652358, error1: 65.634247\n",
      " theta0: 90.456958, theta1: -13.310207, theta2: 3.647159, error1: 65.605572\n",
      " theta0: 90.473305, theta1: -13.310014, theta2: 3.641970, error1: 65.577019\n",
      " theta0: 90.489616, theta1: -13.309821, theta2: 3.636793, error1: 65.548585\n",
      " theta0: 90.505892, theta1: -13.309628, theta2: 3.631626, error1: 65.520272\n",
      " theta0: 90.522134, theta1: -13.309436, theta2: 3.626471, error1: 65.492078\n",
      " theta0: 90.538340, theta1: -13.309245, theta2: 3.621327, error1: 65.464003\n",
      " theta0: 90.554511, theta1: -13.309053, theta2: 3.616195, error1: 65.436046\n",
      " theta0: 90.570648, theta1: -13.308862, theta2: 3.611073, error1: 65.408207\n",
      " theta0: 90.586749, theta1: -13.308672, theta2: 3.605962, error1: 65.380485\n",
      " theta0: 90.602816, theta1: -13.308482, theta2: 3.600862, error1: 65.352881\n",
      " theta0: 90.618848, theta1: -13.308292, theta2: 3.595773, error1: 65.325392\n",
      " theta0: 90.634846, theta1: -13.308103, theta2: 3.590696, error1: 65.298020\n",
      " theta0: 90.650809, theta1: -13.307915, theta2: 3.585629, error1: 65.270762\n",
      " theta0: 90.666738, theta1: -13.307726, theta2: 3.580573, error1: 65.243620\n",
      " theta0: 90.682633, theta1: -13.307538, theta2: 3.575528, error1: 65.216592\n",
      " theta0: 90.698493, theta1: -13.307351, theta2: 3.570494, error1: 65.189678\n",
      " theta0: 90.714319, theta1: -13.307164, theta2: 3.565470, error1: 65.162877\n",
      " theta0: 90.730111, theta1: -13.306977, theta2: 3.560458, error1: 65.136189\n",
      " theta0: 90.745869, theta1: -13.306790, theta2: 3.555456, error1: 65.109614\n",
      " theta0: 90.761593, theta1: -13.306605, theta2: 3.550465, error1: 65.083151\n",
      " theta0: 90.777283, theta1: -13.306419, theta2: 3.545485, error1: 65.056799\n",
      " theta0: 90.792939, theta1: -13.306234, theta2: 3.540516, error1: 65.030558\n",
      " theta0: 90.808561, theta1: -13.306049, theta2: 3.535557, error1: 65.004428\n",
      " theta0: 90.824150, theta1: -13.305865, theta2: 3.530609, error1: 64.978407\n",
      " theta0: 90.839705, theta1: -13.305681, theta2: 3.525672, error1: 64.952497\n",
      " theta0: 90.855227, theta1: -13.305497, theta2: 3.520745, error1: 64.926695\n",
      " theta0: 90.870715, theta1: -13.305314, theta2: 3.515829, error1: 64.901002\n",
      " theta0: 90.886170, theta1: -13.305131, theta2: 3.510924, error1: 64.875418\n",
      " theta0: 90.901591, theta1: -13.304949, theta2: 3.506029, error1: 64.849941\n",
      " theta0: 90.916979, theta1: -13.304767, theta2: 3.501144, error1: 64.824571\n",
      " theta0: 90.932334, theta1: -13.304586, theta2: 3.496271, error1: 64.799308\n",
      " theta0: 90.947656, theta1: -13.304404, theta2: 3.491407, error1: 64.774152\n",
      " theta0: 90.962945, theta1: -13.304224, theta2: 3.486554, error1: 64.749102\n",
      " theta0: 90.978201, theta1: -13.304043, theta2: 3.481712, error1: 64.724157\n",
      " theta0: 90.993424, theta1: -13.303863, theta2: 3.476880, error1: 64.699317\n",
      " theta0: 91.008614, theta1: -13.303684, theta2: 3.472059, error1: 64.674581\n",
      " theta0: 91.023772, theta1: -13.303504, theta2: 3.467248, error1: 64.649950\n",
      " theta0: 91.038897, theta1: -13.303325, theta2: 3.462447, error1: 64.625422\n",
      " theta0: 91.053989, theta1: -13.303147, theta2: 3.457656, error1: 64.600998\n",
      " theta0: 91.069049, theta1: -13.302969, theta2: 3.452876, error1: 64.576676\n",
      " theta0: 91.084076, theta1: -13.302791, theta2: 3.448107, error1: 64.552457\n",
      " theta0: 91.099071, theta1: -13.302614, theta2: 3.443347, error1: 64.528340\n",
      " theta0: 91.114033, theta1: -13.302437, theta2: 3.438598, error1: 64.504324\n",
      " theta0: 91.128963, theta1: -13.302260, theta2: 3.433859, error1: 64.480409\n",
      " theta0: 91.143861, theta1: -13.302084, theta2: 3.429130, error1: 64.456595\n",
      " theta0: 91.158727, theta1: -13.301908, theta2: 3.424412, error1: 64.432881\n",
      " theta0: 91.173561, theta1: -13.301733, theta2: 3.419703, error1: 64.409267\n",
      " theta0: 91.188363, theta1: -13.301558, theta2: 3.415005, error1: 64.385753\n",
      " theta0: 91.203133, theta1: -13.301383, theta2: 3.410317, error1: 64.362337\n",
      " theta0: 91.217871, theta1: -13.301209, theta2: 3.405639, error1: 64.339019\n",
      " theta0: 91.232578, theta1: -13.301035, theta2: 3.400971, error1: 64.315800\n",
      " theta0: 91.247252, theta1: -13.300862, theta2: 3.396313, error1: 64.292679\n",
      " theta0: 91.261895, theta1: -13.300688, theta2: 3.391665, error1: 64.269654\n",
      " theta0: 91.276507, theta1: -13.300516, theta2: 3.387028, error1: 64.246727\n",
      " theta0: 91.291087, theta1: -13.300343, theta2: 3.382400, error1: 64.223896\n",
      " theta0: 91.305635, theta1: -13.300171, theta2: 3.377782, error1: 64.201161\n",
      " theta0: 91.320153, theta1: -13.300000, theta2: 3.373174, error1: 64.178522\n",
      " theta0: 91.334639, theta1: -13.299828, theta2: 3.368576, error1: 64.155978\n",
      " theta0: 91.349093, theta1: -13.299657, theta2: 3.363988, error1: 64.133528\n",
      " theta0: 91.363517, theta1: -13.299487, theta2: 3.359410, error1: 64.111173\n",
      " theta0: 91.377909, theta1: -13.299317, theta2: 3.354842, error1: 64.088912\n",
      " theta0: 91.392271, theta1: -13.299147, theta2: 3.350283, error1: 64.066745\n",
      " theta0: 91.406601, theta1: -13.298977, theta2: 3.345735, error1: 64.044671\n",
      " theta0: 91.420901, theta1: -13.298808, theta2: 3.341196, error1: 64.022690\n",
      " theta0: 91.435169, theta1: -13.298640, theta2: 3.336667, error1: 64.000801\n",
      " theta0: 91.449407, theta1: -13.298471, theta2: 3.332148, error1: 63.979004\n",
      " theta0: 91.463614, theta1: -13.298303, theta2: 3.327638, error1: 63.957298\n",
      " theta0: 91.477791, theta1: -13.298136, theta2: 3.323138, error1: 63.935684\n",
      " theta0: 91.491937, theta1: -13.297968, theta2: 3.318648, error1: 63.914161\n",
      " theta0: 91.506053, theta1: -13.297801, theta2: 3.314168, error1: 63.892728\n",
      " theta0: 91.520138, theta1: -13.297635, theta2: 3.309697, error1: 63.871386\n",
      " theta0: 91.534193, theta1: -13.297469, theta2: 3.305236, error1: 63.850133\n",
      " theta0: 91.548217, theta1: -13.297303, theta2: 3.300785, error1: 63.828969\n",
      " theta0: 91.562211, theta1: -13.297137, theta2: 3.296343, error1: 63.807894\n",
      " theta0: 91.576175, theta1: -13.296972, theta2: 3.291910, error1: 63.786908\n",
      " theta0: 91.590109, theta1: -13.296807, theta2: 3.287488, error1: 63.766010\n",
      " theta0: 91.604013, theta1: -13.296643, theta2: 3.283074, error1: 63.745200\n",
      " theta0: 91.617887, theta1: -13.296479, theta2: 3.278671, error1: 63.724477\n",
      " theta0: 91.631731, theta1: -13.296315, theta2: 3.274277, error1: 63.703841\n",
      " theta0: 91.645546, theta1: -13.296152, theta2: 3.269892, error1: 63.683292\n",
      " theta0: 91.659330, theta1: -13.295989, theta2: 3.265517, error1: 63.662830\n",
      " theta0: 91.673085, theta1: -13.295826, theta2: 3.261151, error1: 63.642453\n",
      " theta0: 91.686810, theta1: -13.295664, theta2: 3.256794, error1: 63.622162\n",
      " theta0: 91.700505, theta1: -13.295502, theta2: 3.252447, error1: 63.601956\n",
      " theta0: 91.714171, theta1: -13.295340, theta2: 3.248109, error1: 63.581834\n",
      " theta0: 91.727808, theta1: -13.295179, theta2: 3.243781, error1: 63.561798\n",
      " theta0: 91.741415, theta1: -13.295018, theta2: 3.239462, error1: 63.541845\n",
      " theta0: 91.754993, theta1: -13.294858, theta2: 3.235152, error1: 63.521977\n",
      " theta0: 91.768541, theta1: -13.294697, theta2: 3.230852, error1: 63.502191\n",
      " theta0: 91.782060, theta1: -13.294538, theta2: 3.226561, error1: 63.482489\n",
      " theta0: 91.795551, theta1: -13.294378, theta2: 3.222279, error1: 63.462870\n",
      " theta0: 91.809012, theta1: -13.294219, theta2: 3.218006, error1: 63.443333\n",
      " theta0: 91.822444, theta1: -13.294060, theta2: 3.213743, error1: 63.423877\n",
      " theta0: 91.835847, theta1: -13.293902, theta2: 3.209489, error1: 63.404504\n",
      " theta0: 91.849221, theta1: -13.293743, theta2: 3.205244, error1: 63.385212\n",
      " theta0: 91.862566, theta1: -13.293586, theta2: 3.201008, error1: 63.366001\n",
      " theta0: 91.875883, theta1: -13.293428, theta2: 3.196781, error1: 63.346870\n",
      " theta0: 91.889171, theta1: -13.293271, theta2: 3.192563, error1: 63.327820\n",
      " theta0: 91.902430, theta1: -13.293114, theta2: 3.188355, error1: 63.308850\n",
      " theta0: 91.915661, theta1: -13.292958, theta2: 3.184155, error1: 63.289959\n",
      " theta0: 91.928863, theta1: -13.292802, theta2: 3.179965, error1: 63.271147\n",
      " theta0: 91.942037, theta1: -13.292646, theta2: 3.175783, error1: 63.252415\n",
      " theta0: 91.955182, theta1: -13.292490, theta2: 3.171611, error1: 63.233761\n",
      " theta0: 91.968299, theta1: -13.292335, theta2: 3.167447, error1: 63.215185\n",
      " theta0: 91.981387, theta1: -13.292181, theta2: 3.163293, error1: 63.196688\n",
      " theta0: 91.994448, theta1: -13.292026, theta2: 3.159148, error1: 63.178267\n",
      " theta0: 92.007480, theta1: -13.291872, theta2: 3.155011, error1: 63.159925\n",
      " theta0: 92.020484, theta1: -13.291718, theta2: 3.150883, error1: 63.141659\n",
      " theta0: 92.033461, theta1: -13.291565, theta2: 3.146765, error1: 63.123469\n",
      " theta0: 92.046409, theta1: -13.291412, theta2: 3.142655, error1: 63.105356\n",
      " theta0: 92.059329, theta1: -13.291259, theta2: 3.138554, error1: 63.087319\n",
      " theta0: 92.072221, theta1: -13.291106, theta2: 3.134462, error1: 63.069358\n",
      " theta0: 92.085086, theta1: -13.290954, theta2: 3.130378, error1: 63.051472\n",
      " theta0: 92.097923, theta1: -13.290802, theta2: 3.126304, error1: 63.033661\n",
      " theta0: 92.110732, theta1: -13.290651, theta2: 3.122238, error1: 63.015924\n",
      " theta0: 92.123514, theta1: -13.290500, theta2: 3.118181, error1: 62.998262\n",
      " theta0: 92.136268, theta1: -13.290349, theta2: 3.114133, error1: 62.980674\n",
      " theta0: 92.148994, theta1: -13.290199, theta2: 3.110093, error1: 62.963160\n",
      " theta0: 92.161694, theta1: -13.290048, theta2: 3.106062, error1: 62.945719\n",
      " theta0: 92.174365, theta1: -13.289899, theta2: 3.102040, error1: 62.928351\n",
      " theta0: 92.187010, theta1: -13.289749, theta2: 3.098027, error1: 62.911056\n",
      " theta0: 92.199627, theta1: -13.289600, theta2: 3.094022, error1: 62.893834\n",
      " theta0: 92.212217, theta1: -13.289451, theta2: 3.090026, error1: 62.876683\n",
      " theta0: 92.224780, theta1: -13.289302, theta2: 3.086038, error1: 62.859605\n",
      " theta0: 92.237316, theta1: -13.289154, theta2: 3.082059, error1: 62.842598\n",
      " theta0: 92.249824, theta1: -13.289006, theta2: 3.078089, error1: 62.825662\n",
      " theta0: 92.262306, theta1: -13.288859, theta2: 3.074127, error1: 62.808798\n",
      " theta0: 92.274761, theta1: -13.288711, theta2: 3.070174, error1: 62.792004\n",
      " theta0: 92.287189, theta1: -13.288564, theta2: 3.066229, error1: 62.775280\n",
      " theta0: 92.299590, theta1: -13.288418, theta2: 3.062293, error1: 62.758626\n",
      " theta0: 92.311965, theta1: -13.288271, theta2: 3.058365, error1: 62.742043\n",
      " theta0: 92.324312, theta1: -13.288125, theta2: 3.054446, error1: 62.725528\n",
      " theta0: 92.336634, theta1: -13.287980, theta2: 3.050535, error1: 62.709083\n",
      " theta0: 92.348928, theta1: -13.287834, theta2: 3.046633, error1: 62.692707\n",
      " theta0: 92.361196, theta1: -13.287689, theta2: 3.042739, error1: 62.676399\n",
      " theta0: 92.373438, theta1: -13.287545, theta2: 3.038853, error1: 62.660160\n",
      " theta0: 92.385653, theta1: -13.287400, theta2: 3.034976, error1: 62.643988\n",
      " theta0: 92.397842, theta1: -13.287256, theta2: 3.031107, error1: 62.627885\n",
      " theta0: 92.410005, theta1: -13.287112, theta2: 3.027247, error1: 62.611848\n",
      " theta0: 92.422142, theta1: -13.286969, theta2: 3.023394, error1: 62.595879\n",
      " theta0: 92.434252, theta1: -13.286825, theta2: 3.019550, error1: 62.579977\n",
      " theta0: 92.446336, theta1: -13.286682, theta2: 3.015715, error1: 62.564141\n",
      " theta0: 92.458394, theta1: -13.286540, theta2: 3.011887, error1: 62.548372\n",
      " theta0: 92.470426, theta1: -13.286398, theta2: 3.008068, error1: 62.532668\n",
      " theta0: 92.482433, theta1: -13.286256, theta2: 3.004257, error1: 62.517031\n",
      " theta0: 92.494413, theta1: -13.286114, theta2: 3.000455, error1: 62.501459\n",
      " theta0: 92.506367, theta1: -13.285973, theta2: 2.996660, error1: 62.485952\n",
      " theta0: 92.518296, theta1: -13.285832, theta2: 2.992874, error1: 62.470509\n",
      " theta0: 92.530199, theta1: -13.285691, theta2: 2.989096, error1: 62.455132\n",
      " theta0: 92.542076, theta1: -13.285550, theta2: 2.985326, error1: 62.439819\n",
      " theta0: 92.553928, theta1: -13.285410, theta2: 2.981564, error1: 62.424570\n",
      " theta0: 92.565754, theta1: -13.285270, theta2: 2.977810, error1: 62.409384\n",
      " theta0: 92.577555, theta1: -13.285131, theta2: 2.974065, error1: 62.394262\n",
      " theta0: 92.589330, theta1: -13.284992, theta2: 2.970327, error1: 62.379204\n",
      " theta0: 92.601080, theta1: -13.284853, theta2: 2.966598, error1: 62.364208\n",
      " theta0: 92.612805, theta1: -13.284714, theta2: 2.962876, error1: 62.349276\n",
      " theta0: 92.624504, theta1: -13.284576, theta2: 2.959163, error1: 62.334405\n",
      " theta0: 92.636178, theta1: -13.284438, theta2: 2.955457, error1: 62.319597\n",
      " theta0: 92.647827, theta1: -13.284300, theta2: 2.951760, error1: 62.304851\n",
      " theta0: 92.659451, theta1: -13.284162, theta2: 2.948071, error1: 62.290166\n",
      " theta0: 92.671050, theta1: -13.284025, theta2: 2.944389, error1: 62.275543\n",
      " theta0: 92.682623, theta1: -13.283888, theta2: 2.940715, error1: 62.260981\n",
      " theta0: 92.694172, theta1: -13.283752, theta2: 2.937050, error1: 62.246480\n",
      " theta0: 92.705696, theta1: -13.283616, theta2: 2.933392, error1: 62.232040\n",
      " theta0: 92.717195, theta1: -13.283480, theta2: 2.929742, error1: 62.217659\n",
      " theta0: 92.728669, theta1: -13.283344, theta2: 2.926100, error1: 62.203339\n",
      " theta0: 92.740119, theta1: -13.283209, theta2: 2.922466, error1: 62.189079\n",
      " theta0: 92.751544, theta1: -13.283073, theta2: 2.918840, error1: 62.174879\n",
      " theta0: 92.762944, theta1: -13.282939, theta2: 2.915221, error1: 62.160738\n",
      " theta0: 92.774319, theta1: -13.282804, theta2: 2.911610, error1: 62.146655\n",
      " theta0: 92.785670, theta1: -13.282670, theta2: 2.908007, error1: 62.132632\n",
      " theta0: 92.796997, theta1: -13.282536, theta2: 2.904412, error1: 62.118668\n",
      " theta0: 92.808299, theta1: -13.282402, theta2: 2.900825, error1: 62.104761\n",
      " theta0: 92.819577, theta1: -13.282269, theta2: 2.897245, error1: 62.090913\n",
      " theta0: 92.830831, theta1: -13.282136, theta2: 2.893673, error1: 62.077123\n",
      " theta0: 92.842060, theta1: -13.282003, theta2: 2.890109, error1: 62.063390\n",
      " theta0: 92.853265, theta1: -13.281871, theta2: 2.886552, error1: 62.049715\n",
      " theta0: 92.864446, theta1: -13.281738, theta2: 2.883003, error1: 62.036096\n",
      " theta0: 92.875603, theta1: -13.281606, theta2: 2.879462, error1: 62.022535\n",
      " theta0: 92.886736, theta1: -13.281475, theta2: 2.875929, error1: 62.009030\n",
      " theta0: 92.897844, theta1: -13.281343, theta2: 2.872403, error1: 61.995582\n",
      " theta0: 92.908929, theta1: -13.281212, theta2: 2.868884, error1: 61.982190\n",
      " theta0: 92.919990, theta1: -13.281082, theta2: 2.865373, error1: 61.968854\n",
      " theta0: 92.931027, theta1: -13.280951, theta2: 2.861870, error1: 61.955573\n",
      " theta0: 92.942040, theta1: -13.280821, theta2: 2.858374, error1: 61.942348\n",
      " theta0: 92.953030, theta1: -13.280691, theta2: 2.854886, error1: 61.929178\n",
      " theta0: 92.963996, theta1: -13.280561, theta2: 2.851406, error1: 61.916063\n",
      " theta0: 92.974938, theta1: -13.280432, theta2: 2.847932, error1: 61.903003\n",
      " theta0: 92.985857, theta1: -13.280303, theta2: 2.844467, error1: 61.889998\n",
      " theta0: 92.996752, theta1: -13.280174, theta2: 2.841009, error1: 61.877046\n",
      " theta0: 93.007623, theta1: -13.280045, theta2: 2.837558, error1: 61.864149\n",
      " theta0: 93.018471, theta1: -13.279917, theta2: 2.834115, error1: 61.851306\n",
      " theta0: 93.029296, theta1: -13.279789, theta2: 2.830679, error1: 61.838516\n",
      " theta0: 93.040098, theta1: -13.279661, theta2: 2.827250, error1: 61.825779\n",
      " theta0: 93.050876, theta1: -13.279534, theta2: 2.823829, error1: 61.813096\n",
      " theta0: 93.061631, theta1: -13.279407, theta2: 2.820416, error1: 61.800466\n",
      " theta0: 93.072362, theta1: -13.279280, theta2: 2.817009, error1: 61.787888\n",
      " theta0: 93.083071, theta1: -13.279153, theta2: 2.813610, error1: 61.775363\n",
      " theta0: 93.093757, theta1: -13.279027, theta2: 2.810219, error1: 61.762890\n",
      " theta0: 93.104419, theta1: -13.278901, theta2: 2.806834, error1: 61.750469\n",
      " theta0: 93.115058, theta1: -13.278775, theta2: 2.803457, error1: 61.738100\n",
      " theta0: 93.125675, theta1: -13.278649, theta2: 2.800087, error1: 61.725782\n",
      " theta0: 93.136269, theta1: -13.278524, theta2: 2.796725, error1: 61.713516\n",
      " theta0: 93.146840, theta1: -13.278399, theta2: 2.793370, error1: 61.701301\n",
      " theta0: 93.157388, theta1: -13.278274, theta2: 2.790022, error1: 61.689137\n",
      " theta0: 93.167913, theta1: -13.278150, theta2: 2.786681, error1: 61.677023\n",
      " theta0: 93.178415, theta1: -13.278026, theta2: 2.783347, error1: 61.664961\n",
      " theta0: 93.188895, theta1: -13.277902, theta2: 2.780021, error1: 61.652948\n",
      " theta0: 93.199353, theta1: -13.277778, theta2: 2.776701, error1: 61.640985\n",
      " theta0: 93.209788, theta1: -13.277655, theta2: 2.773389, error1: 61.629073\n",
      " theta0: 93.220200, theta1: -13.277532, theta2: 2.770084, error1: 61.617210\n",
      " theta0: 93.230590, theta1: -13.277409, theta2: 2.766787, error1: 61.605396\n",
      " theta0: 93.240957, theta1: -13.277286, theta2: 2.763496, error1: 61.593632\n",
      " theta0: 93.251303, theta1: -13.277164, theta2: 2.760212, error1: 61.581917\n",
      " theta0: 93.261625, theta1: -13.277042, theta2: 2.756936, error1: 61.570250\n",
      " theta0: 93.271926, theta1: -13.276920, theta2: 2.753666, error1: 61.558632\n",
      " theta0: 93.282204, theta1: -13.276798, theta2: 2.750404, error1: 61.547063\n",
      " theta0: 93.292461, theta1: -13.276677, theta2: 2.747148, error1: 61.535542\n",
      " theta0: 93.302695, theta1: -13.276556, theta2: 2.743900, error1: 61.524068\n",
      " theta0: 93.312907, theta1: -13.276435, theta2: 2.740659, error1: 61.512643\n",
      " theta0: 93.323097, theta1: -13.276315, theta2: 2.737424, error1: 61.501265\n",
      " theta0: 93.333265, theta1: -13.276195, theta2: 2.734197, error1: 61.489935\n",
      " theta0: 93.343411, theta1: -13.276075, theta2: 2.730976, error1: 61.478651\n",
      " theta0: 93.353535, theta1: -13.275955, theta2: 2.727763, error1: 61.467415\n",
      " theta0: 93.363638, theta1: -13.275835, theta2: 2.724556, error1: 61.456226\n",
      " theta0: 93.373719, theta1: -13.275716, theta2: 2.721356, error1: 61.445083\n",
      " theta0: 93.383777, theta1: -13.275597, theta2: 2.718164, error1: 61.433986\n",
      " theta0: 93.393815, theta1: -13.275479, theta2: 2.714978, error1: 61.422936\n",
      " theta0: 93.403830, theta1: -13.275360, theta2: 2.711799, error1: 61.411932\n",
      " theta0: 93.413824, theta1: -13.275242, theta2: 2.708627, error1: 61.400973\n",
      " theta0: 93.423797, theta1: -13.275124, theta2: 2.705461, error1: 61.390060\n",
      " theta0: 93.433748, theta1: -13.275006, theta2: 2.702303, error1: 61.379193\n",
      " theta0: 93.443677, theta1: -13.274889, theta2: 2.699151, error1: 61.368371\n",
      " theta0: 93.453586, theta1: -13.274772, theta2: 2.696006, error1: 61.357594\n",
      " theta0: 93.463472, theta1: -13.274655, theta2: 2.692868, error1: 61.346861\n",
      " theta0: 93.473338, theta1: -13.274538, theta2: 2.689737, error1: 61.336174\n",
      " theta0: 93.483182, theta1: -13.274422, theta2: 2.686612, error1: 61.325530\n",
      " theta0: 93.493005, theta1: -13.274306, theta2: 2.683494, error1: 61.314931\n",
      " theta0: 93.502807, theta1: -13.274190, theta2: 2.680383, error1: 61.304377\n",
      " theta0: 93.512588, theta1: -13.274074, theta2: 2.677278, error1: 61.293866\n",
      " theta0: 93.522347, theta1: -13.273959, theta2: 2.674181, error1: 61.283398\n",
      " theta0: 93.532086, theta1: -13.273844, theta2: 2.671090, error1: 61.272975\n",
      " theta0: 93.541803, theta1: -13.273729, theta2: 2.668005, error1: 61.262595\n",
      " theta0: 93.551500, theta1: -13.273614, theta2: 2.664927, error1: 61.252257\n",
      " theta0: 93.561176, theta1: -13.273500, theta2: 2.661856, error1: 61.241963\n",
      " theta0: 93.570830, theta1: -13.273385, theta2: 2.658792, error1: 61.231712\n",
      " theta0: 93.580464, theta1: -13.273271, theta2: 2.655734, error1: 61.221503\n",
      " theta0: 93.590078, theta1: -13.273158, theta2: 2.652682, error1: 61.211337\n",
      " theta0: 93.599670, theta1: -13.273044, theta2: 2.649638, error1: 61.201213\n",
      " theta0: 93.609242, theta1: -13.272931, theta2: 2.646599, error1: 61.191131\n",
      " theta0: 93.618793, theta1: -13.272818, theta2: 2.643568, error1: 61.181091\n",
      " theta0: 93.628324, theta1: -13.272706, theta2: 2.640543, error1: 61.171093\n",
      " theta0: 93.637834, theta1: -13.272593, theta2: 2.637524, error1: 61.161136\n",
      " theta0: 93.647324, theta1: -13.272481, theta2: 2.634512, error1: 61.151221\n",
      " theta0: 93.656793, theta1: -13.272369, theta2: 2.631507, error1: 61.141346\n",
      " theta0: 93.666241, theta1: -13.272257, theta2: 2.628507, error1: 61.131513\n",
      " theta0: 93.675670, theta1: -13.272146, theta2: 2.625515, error1: 61.121721\n",
      " theta0: 93.685078, theta1: -13.272034, theta2: 2.622529, error1: 61.111969\n",
      " theta0: 93.694466, theta1: -13.271923, theta2: 2.619549, error1: 61.102258\n",
      " theta0: 93.703833, theta1: -13.271813, theta2: 2.616576, error1: 61.092588\n",
      " theta0: 93.713180, theta1: -13.271702, theta2: 2.613609, error1: 61.082957\n",
      " theta0: 93.722508, theta1: -13.271592, theta2: 2.610648, error1: 61.073366\n",
      " theta0: 93.731815, theta1: -13.271482, theta2: 2.607694, error1: 61.063816\n",
      " theta0: 93.741102, theta1: -13.271372, theta2: 2.604746, error1: 61.054305\n",
      " theta0: 93.750369, theta1: -13.271262, theta2: 2.601805, error1: 61.044833\n",
      " theta0: 93.759616, theta1: -13.271153, theta2: 2.598870, error1: 61.035401\n",
      " theta0: 93.768843, theta1: -13.271044, theta2: 2.595941, error1: 61.026008\n",
      " theta0: 93.778050, theta1: -13.270935, theta2: 2.593019, error1: 61.016654\n",
      " theta0: 93.787237, theta1: -13.270826, theta2: 2.590102, error1: 61.007338\n",
      " theta0: 93.796405, theta1: -13.270718, theta2: 2.587193, error1: 60.998062\n",
      " theta0: 93.805552, theta1: -13.270610, theta2: 2.584289, error1: 60.988824\n",
      " theta0: 93.814680, theta1: -13.270502, theta2: 2.581392, error1: 60.979624\n",
      " theta0: 93.823789, theta1: -13.270394, theta2: 2.578501, error1: 60.970462\n",
      " theta0: 93.832877, theta1: -13.270287, theta2: 2.575616, error1: 60.961339\n",
      " theta0: 93.841947, theta1: -13.270179, theta2: 2.572737, error1: 60.952253\n",
      " theta0: 93.850996, theta1: -13.270072, theta2: 2.569865, error1: 60.943205\n",
      " theta0: 93.860026, theta1: -13.269966, theta2: 2.566999, error1: 60.934194\n",
      " theta0: 93.869037, theta1: -13.269859, theta2: 2.564139, error1: 60.925221\n",
      " theta0: 93.878028, theta1: -13.269753, theta2: 2.561285, error1: 60.916285\n",
      " theta0: 93.887000, theta1: -13.269647, theta2: 2.558437, error1: 60.907387\n",
      " theta0: 93.895952, theta1: -13.269541, theta2: 2.555595, error1: 60.898525\n",
      " theta0: 93.904885, theta1: -13.269435, theta2: 2.552760, error1: 60.889699\n",
      " theta0: 93.913799, theta1: -13.269330, theta2: 2.549931, error1: 60.880911\n",
      " theta0: 93.922694, theta1: -13.269225, theta2: 2.547107, error1: 60.872159\n",
      " theta0: 93.931570, theta1: -13.269120, theta2: 2.544290, error1: 60.863443\n",
      " theta0: 93.940426, theta1: -13.269015, theta2: 2.541479, error1: 60.854763\n",
      " theta0: 93.949263, theta1: -13.268910, theta2: 2.538674, error1: 60.846119\n",
      " theta0: 93.958081, theta1: -13.268806, theta2: 2.535875, error1: 60.837512\n",
      " theta0: 93.966881, theta1: -13.268702, theta2: 2.533082, error1: 60.828939\n",
      " theta0: 93.975661, theta1: -13.268598, theta2: 2.530295, error1: 60.820403\n",
      " theta0: 93.984422, theta1: -13.268495, theta2: 2.527514, error1: 60.811901\n",
      " theta0: 93.993165, theta1: -13.268391, theta2: 2.524740, error1: 60.803435\n",
      " theta0: 94.001888, theta1: -13.268288, theta2: 2.521971, error1: 60.795004\n",
      " theta0: 94.010593, theta1: -13.268185, theta2: 2.519208, error1: 60.786608\n",
      " theta0: 94.019279, theta1: -13.268082, theta2: 2.516451, error1: 60.778247\n",
      " theta0: 94.027946, theta1: -13.267980, theta2: 2.513700, error1: 60.769920\n",
      " theta0: 94.036595, theta1: -13.267878, theta2: 2.510954, error1: 60.761628\n",
      " theta0: 94.045225, theta1: -13.267776, theta2: 2.508215, error1: 60.753370\n",
      " theta0: 94.053836, theta1: -13.267674, theta2: 2.505482, error1: 60.745147\n",
      " theta0: 94.062429, theta1: -13.267572, theta2: 2.502754, error1: 60.736957\n",
      " theta0: 94.071003, theta1: -13.267471, theta2: 2.500033, error1: 60.728801\n",
      " theta0: 94.079559, theta1: -13.267370, theta2: 2.497317, error1: 60.720680\n",
      " theta0: 94.088096, theta1: -13.267269, theta2: 2.494607, error1: 60.712591\n",
      " theta0: 94.096615, theta1: -13.267168, theta2: 2.491903, error1: 60.704537\n",
      " theta0: 94.105116, theta1: -13.267067, theta2: 2.489205, error1: 60.696515\n",
      " theta0: 94.113598, theta1: -13.266967, theta2: 2.486513, error1: 60.688527\n",
      " theta0: 94.122062, theta1: -13.266867, theta2: 2.483826, error1: 60.680572\n",
      " theta0: 94.130508, theta1: -13.266767, theta2: 2.481146, error1: 60.672649\n",
      " theta0: 94.138935, theta1: -13.266668, theta2: 2.478471, error1: 60.664760\n",
      " theta0: 94.147345, theta1: -13.266568, theta2: 2.475802, error1: 60.656903\n",
      " theta0: 94.155736, theta1: -13.266469, theta2: 2.473138, error1: 60.649079\n",
      " theta0: 94.164109, theta1: -13.266370, theta2: 2.470480, error1: 60.641287\n",
      " theta0: 94.172464, theta1: -13.266271, theta2: 2.467828, error1: 60.633527\n",
      " theta0: 94.180801, theta1: -13.266172, theta2: 2.465182, error1: 60.625800\n",
      " theta0: 94.189120, theta1: -13.266074, theta2: 2.462542, error1: 60.618104\n",
      " theta0: 94.197422, theta1: -13.265976, theta2: 2.459907, error1: 60.610440\n",
      " theta0: 94.205705, theta1: -13.265878, theta2: 2.457278, error1: 60.602808\n",
      " theta0: 94.213970, theta1: -13.265780, theta2: 2.454654, error1: 60.595207\n",
      " theta0: 94.222218, theta1: -13.265683, theta2: 2.452036, error1: 60.587638\n",
      " theta0: 94.230448, theta1: -13.265585, theta2: 2.449424, error1: 60.580101\n",
      " theta0: 94.238660, theta1: -13.265488, theta2: 2.446817, error1: 60.572594\n",
      " theta0: 94.246854, theta1: -13.265391, theta2: 2.444217, error1: 60.565118\n",
      " theta0: 94.255031, theta1: -13.265295, theta2: 2.441621, error1: 60.557673\n",
      " theta0: 94.263190, theta1: -13.265198, theta2: 2.439031, error1: 60.550259\n",
      " theta0: 94.271331, theta1: -13.265102, theta2: 2.436447, error1: 60.542876\n",
      " theta0: 94.279455, theta1: -13.265006, theta2: 2.433869, error1: 60.535523\n",
      " theta0: 94.287562, theta1: -13.264910, theta2: 2.431296, error1: 60.528201\n",
      " theta0: 94.295651, theta1: -13.264814, theta2: 2.428728, error1: 60.520909\n",
      " theta0: 94.303722, theta1: -13.264719, theta2: 2.426166, error1: 60.513647\n",
      " theta0: 94.311776, theta1: -13.264624, theta2: 2.423610, error1: 60.506415\n",
      " theta0: 94.319813, theta1: -13.264529, theta2: 2.421059, error1: 60.499212\n",
      " theta0: 94.327832, theta1: -13.264434, theta2: 2.418513, error1: 60.492040\n",
      " theta0: 94.335835, theta1: -13.264339, theta2: 2.415973, error1: 60.484897\n",
      " theta0: 94.343819, theta1: -13.264245, theta2: 2.413439, error1: 60.477784\n",
      " theta0: 94.351787, theta1: -13.264151, theta2: 2.410910, error1: 60.470700\n",
      " theta0: 94.359738, theta1: -13.264057, theta2: 2.408386, error1: 60.463645\n",
      " theta0: 94.367671, theta1: -13.263963, theta2: 2.405868, error1: 60.456620\n",
      " theta0: 94.375587, theta1: -13.263869, theta2: 2.403356, error1: 60.449623\n",
      " theta0: 94.383486, theta1: -13.263776, theta2: 2.400848, error1: 60.442655\n",
      " theta0: 94.391369, theta1: -13.263683, theta2: 2.398347, error1: 60.435716\n",
      " theta0: 94.399234, theta1: -13.263590, theta2: 2.395850, error1: 60.428806\n",
      " theta0: 94.407082, theta1: -13.263497, theta2: 2.393359, error1: 60.421924\n",
      " theta0: 94.414913, theta1: -13.263404, theta2: 2.390873, error1: 60.415071\n",
      " theta0: 94.422728, theta1: -13.263312, theta2: 2.388393, error1: 60.408246\n",
      " theta0: 94.430525, theta1: -13.263220, theta2: 2.385918, error1: 60.401449\n",
      " theta0: 94.438306, theta1: -13.263128, theta2: 2.383448, error1: 60.394680\n",
      " theta0: 94.446070, theta1: -13.263036, theta2: 2.380984, error1: 60.387939\n",
      " theta0: 94.453817, theta1: -13.262944, theta2: 2.378525, error1: 60.381226\n",
      " theta0: 94.461548, theta1: -13.262853, theta2: 2.376071, error1: 60.374540\n",
      " theta0: 94.469262, theta1: -13.262761, theta2: 2.373623, error1: 60.367883\n",
      " theta0: 94.476959, theta1: -13.262670, theta2: 2.371179, error1: 60.361252\n",
      " theta0: 94.484640, theta1: -13.262580, theta2: 2.368742, error1: 60.354649\n",
      " theta0: 94.492304, theta1: -13.262489, theta2: 2.366309, error1: 60.348073\n",
      " theta0: 94.499951, theta1: -13.262399, theta2: 2.363882, error1: 60.341524\n",
      " theta0: 94.507582, theta1: -13.262308, theta2: 2.361459, error1: 60.335002\n",
      " theta0: 94.515197, theta1: -13.262218, theta2: 2.359042, error1: 60.328508\n",
      " theta0: 94.522795, theta1: -13.262128, theta2: 2.356631, error1: 60.322039\n",
      " theta0: 94.530377, theta1: -13.262039, theta2: 2.354224, error1: 60.315598\n",
      " theta0: 94.537943, theta1: -13.261949, theta2: 2.351823, error1: 60.309183\n",
      " theta0: 94.545492, theta1: -13.261860, theta2: 2.349427, error1: 60.302794\n",
      " theta0: 94.553025, theta1: -13.261771, theta2: 2.347036, error1: 60.296432\n",
      " theta0: 94.560541, theta1: -13.261682, theta2: 2.344650, error1: 60.290096\n",
      " theta0: 94.568042, theta1: -13.261593, theta2: 2.342269, error1: 60.283786\n",
      " theta0: 94.575526, theta1: -13.261505, theta2: 2.339893, error1: 60.277503\n",
      " theta0: 94.582994, theta1: -13.261417, theta2: 2.337523, error1: 60.271244\n",
      " theta0: 94.590446, theta1: -13.261328, theta2: 2.335158, error1: 60.265012\n",
      " theta0: 94.597882, theta1: -13.261241, theta2: 2.332797, error1: 60.258806\n",
      " theta0: 94.605302, theta1: -13.261153, theta2: 2.330442, error1: 60.252625\n",
      " theta0: 94.612706, theta1: -13.261065, theta2: 2.328092, error1: 60.246469\n",
      " theta0: 94.620094, theta1: -13.260978, theta2: 2.325747, error1: 60.240339\n",
      " theta0: 94.627466, theta1: -13.260891, theta2: 2.323407, error1: 60.234234\n",
      " theta0: 94.634823, theta1: -13.260804, theta2: 2.321072, error1: 60.228154\n",
      " theta0: 94.642163, theta1: -13.260717, theta2: 2.318742, error1: 60.222099\n",
      " theta0: 94.649488, theta1: -13.260630, theta2: 2.316418, error1: 60.216069\n",
      " theta0: 94.656796, theta1: -13.260544, theta2: 2.314098, error1: 60.210064\n",
      " theta0: 94.664089, theta1: -13.260458, theta2: 2.311783, error1: 60.204084\n",
      " theta0: 94.671367, theta1: -13.260372, theta2: 2.309473, error1: 60.198128\n",
      " theta0: 94.678628, theta1: -13.260286, theta2: 2.307168, error1: 60.192196\n",
      " theta0: 94.685874, theta1: -13.260200, theta2: 2.304868, error1: 60.186289\n",
      " theta0: 94.693104, theta1: -13.260115, theta2: 2.302573, error1: 60.180407\n",
      " theta0: 94.700319, theta1: -13.260029, theta2: 2.300283, error1: 60.174548\n",
      " theta0: 94.707518, theta1: -13.259944, theta2: 2.297998, error1: 60.168714\n",
      " theta0: 94.714702, theta1: -13.259859, theta2: 2.295718, error1: 60.162904\n",
      " theta0: 94.721870, theta1: -13.259774, theta2: 2.293443, error1: 60.157117\n",
      " theta0: 94.729023, theta1: -13.259690, theta2: 2.291173, error1: 60.151355\n",
      " theta0: 94.736160, theta1: -13.259605, theta2: 2.288907, error1: 60.145616\n",
      " theta0: 94.743282, theta1: -13.259521, theta2: 2.286647, error1: 60.139900\n",
      " theta0: 94.750388, theta1: -13.259437, theta2: 2.284391, error1: 60.134208\n",
      " theta0: 94.757480, theta1: -13.259353, theta2: 2.282140, error1: 60.128540\n",
      " theta0: 94.764555, theta1: -13.259270, theta2: 2.279894, error1: 60.122894\n",
      " theta0: 94.771616, theta1: -13.259186, theta2: 2.277653, error1: 60.117272\n",
      " theta0: 94.778662, theta1: -13.259103, theta2: 2.275417, error1: 60.111673\n",
      " theta0: 94.785692, theta1: -13.259020, theta2: 2.273185, error1: 60.106098\n",
      " theta0: 94.792707, theta1: -13.258937, theta2: 2.270959, error1: 60.100544\n",
      " theta0: 94.799707, theta1: -13.258854, theta2: 2.268737, error1: 60.095014\n",
      " theta0: 94.806692, theta1: -13.258771, theta2: 2.266520, error1: 60.089507\n",
      " theta0: 94.813662, theta1: -13.258689, theta2: 2.264307, error1: 60.084022\n",
      " theta0: 94.820617, theta1: -13.258607, theta2: 2.262100, error1: 60.078559\n",
      " theta0: 94.827556, theta1: -13.258525, theta2: 2.259897, error1: 60.073119\n",
      " theta0: 94.834481, theta1: -13.258443, theta2: 2.257699, error1: 60.067702\n",
      " theta0: 94.841391, theta1: -13.258361, theta2: 2.255506, error1: 60.062306\n",
      " theta0: 94.848286, theta1: -13.258279, theta2: 2.253317, error1: 60.056933\n",
      " theta0: 94.855166, theta1: -13.258198, theta2: 2.251134, error1: 60.051582\n",
      " theta0: 94.862032, theta1: -13.258117, theta2: 2.248954, error1: 60.046253\n",
      " theta0: 94.868882, theta1: -13.258036, theta2: 2.246780, error1: 60.040945\n",
      " theta0: 94.875718, theta1: -13.257955, theta2: 2.244610, error1: 60.035660\n",
      " theta0: 94.882539, theta1: -13.257874, theta2: 2.242445, error1: 60.030396\n",
      " theta0: 94.889345, theta1: -13.257794, theta2: 2.240285, error1: 60.025153\n",
      " theta0: 94.896137, theta1: -13.257714, theta2: 2.238129, error1: 60.019933\n",
      " theta0: 94.902914, theta1: -13.257634, theta2: 2.235978, error1: 60.014733\n",
      " theta0: 94.909677, theta1: -13.257554, theta2: 2.233832, error1: 60.009555\n",
      " theta0: 94.916424, theta1: -13.257474, theta2: 2.231690, error1: 60.004398\n",
      " theta0: 94.923158, theta1: -13.257394, theta2: 2.229553, error1: 59.999263\n",
      " theta0: 94.929876, theta1: -13.257315, theta2: 2.227420, error1: 59.994148\n",
      " theta0: 94.936581, theta1: -13.257235, theta2: 2.225292, error1: 59.989054\n",
      " theta0: 94.943271, theta1: -13.257156, theta2: 2.223169, error1: 59.983981\n",
      " theta0: 94.949946, theta1: -13.257077, theta2: 2.221050, error1: 59.978929\n",
      " theta0: 94.956607, theta1: -13.256999, theta2: 2.218936, error1: 59.973898\n",
      " theta0: 94.963254, theta1: -13.256920, theta2: 2.216826, error1: 59.968887\n",
      " theta0: 94.969886, theta1: -13.256842, theta2: 2.214721, error1: 59.963897\n",
      " theta0: 94.976504, theta1: -13.256763, theta2: 2.212620, error1: 59.958927\n",
      " theta0: 94.983108, theta1: -13.256685, theta2: 2.210524, error1: 59.953978\n",
      " theta0: 94.989697, theta1: -13.256607, theta2: 2.208432, error1: 59.949049\n",
      " theta0: 94.996273, theta1: -13.256530, theta2: 2.206345, error1: 59.944140\n",
      " theta0: 95.002834, theta1: -13.256452, theta2: 2.204263, error1: 59.939251\n",
      " theta0: 95.009381, theta1: -13.256375, theta2: 2.202185, error1: 59.934382\n",
      " theta0: 95.015914, theta1: -13.256297, theta2: 2.200111, error1: 59.929533\n",
      " theta0: 95.022433, theta1: -13.256220, theta2: 2.198042, error1: 59.924704\n",
      " theta0: 95.028937, theta1: -13.256143, theta2: 2.195977, error1: 59.919895\n",
      " theta0: 95.035428, theta1: -13.256067, theta2: 2.193917, error1: 59.915105\n",
      " theta0: 95.041905, theta1: -13.255990, theta2: 2.191861, error1: 59.910336\n",
      " theta0: 95.048368, theta1: -13.255914, theta2: 2.189810, error1: 59.905585\n",
      " theta0: 95.054816, theta1: -13.255837, theta2: 2.187763, error1: 59.900854\n",
      " theta0: 95.061251, theta1: -13.255761, theta2: 2.185721, error1: 59.896142\n",
      " theta0: 95.067672, theta1: -13.255685, theta2: 2.183682, error1: 59.891450\n",
      " theta0: 95.074080, theta1: -13.255609, theta2: 2.181649, error1: 59.886777\n",
      " theta0: 95.080473, theta1: -13.255534, theta2: 2.179619, error1: 59.882123\n",
      " theta0: 95.086853, theta1: -13.255458, theta2: 2.177595, error1: 59.877488\n",
      " theta0: 95.093219, theta1: -13.255383, theta2: 2.175574, error1: 59.872872\n",
      " theta0: 95.099571, theta1: -13.255308, theta2: 2.173558, error1: 59.868274\n",
      " theta0: 95.105909, theta1: -13.255233, theta2: 2.171546, error1: 59.863696\n",
      " theta0: 95.112234, theta1: -13.255158, theta2: 2.169538, error1: 59.859136\n",
      " theta0: 95.118545, theta1: -13.255084, theta2: 2.167535, error1: 59.854595\n",
      " theta0: 95.124843, theta1: -13.255009, theta2: 2.165536, error1: 59.850073\n",
      " theta0: 95.131127, theta1: -13.254935, theta2: 2.163542, error1: 59.845569\n",
      " theta0: 95.137397, theta1: -13.254861, theta2: 2.161551, error1: 59.841083\n",
      " theta0: 95.143654, theta1: -13.254787, theta2: 2.159565, error1: 59.836616\n",
      " theta0: 95.149898, theta1: -13.254713, theta2: 2.157584, error1: 59.832167\n",
      " theta0: 95.156128, theta1: -13.254639, theta2: 2.155606, error1: 59.827736\n",
      " theta0: 95.162344, theta1: -13.254566, theta2: 2.153633, error1: 59.823323\n",
      " theta0: 95.168547, theta1: -13.254492, theta2: 2.151664, error1: 59.818928\n",
      " theta0: 95.174737, theta1: -13.254419, theta2: 2.149699, error1: 59.814551\n",
      " theta0: 95.180914, theta1: -13.254346, theta2: 2.147739, error1: 59.810192\n",
      " theta0: 95.187077, theta1: -13.254273, theta2: 2.145783, error1: 59.805851\n",
      " theta0: 95.193226, theta1: -13.254201, theta2: 2.143831, error1: 59.801528\n",
      " theta0: 95.199363, theta1: -13.254128, theta2: 2.141883, error1: 59.797222\n",
      " theta0: 95.205486, theta1: -13.254056, theta2: 2.139939, error1: 59.792934\n",
      " theta0: 95.211597, theta1: -13.253983, theta2: 2.138000, error1: 59.788663\n",
      " theta0: 95.217693, theta1: -13.253911, theta2: 2.136065, error1: 59.784410\n",
      " theta0: 95.223777, theta1: -13.253839, theta2: 2.134134, error1: 59.780174\n",
      " theta0: 95.229848, theta1: -13.253768, theta2: 2.132207, error1: 59.775955\n",
      " theta0: 95.235906, theta1: -13.253696, theta2: 2.130284, error1: 59.771754\n",
      " theta0: 95.241950, theta1: -13.253624, theta2: 2.128365, error1: 59.767570\n",
      " theta0: 95.247982, theta1: -13.253553, theta2: 2.126451, error1: 59.763402\n",
      " theta0: 95.254000, theta1: -13.253482, theta2: 2.124541, error1: 59.759252\n",
      " theta0: 95.260006, theta1: -13.253411, theta2: 2.122634, error1: 59.755119\n",
      " theta0: 95.265998, theta1: -13.253340, theta2: 2.120732, error1: 59.751002\n",
      " theta0: 95.271978, theta1: -13.253269, theta2: 2.118834, error1: 59.746903\n",
      " theta0: 95.277945, theta1: -13.253199, theta2: 2.116940, error1: 59.742820\n",
      " theta0: 95.283899, theta1: -13.253128, theta2: 2.115051, error1: 59.738753\n",
      " theta0: 95.289840, theta1: -13.253058, theta2: 2.113165, error1: 59.734704\n",
      " theta0: 95.295768, theta1: -13.252988, theta2: 2.111283, error1: 59.730670\n",
      " theta0: 95.301684, theta1: -13.252918, theta2: 2.109405, error1: 59.726654\n",
      " theta0: 95.307587, theta1: -13.252848, theta2: 2.107532, error1: 59.722653\n",
      " theta0: 95.313477, theta1: -13.252779, theta2: 2.105662, error1: 59.718669\n",
      " theta0: 95.319354, theta1: -13.252709, theta2: 2.103797, error1: 59.714701\n",
      " theta0: 95.325219, theta1: -13.252640, theta2: 2.101935, error1: 59.710749\n",
      " theta0: 95.331071, theta1: -13.252571, theta2: 2.100078, error1: 59.706814\n",
      " theta0: 95.336910, theta1: -13.252502, theta2: 2.098224, error1: 59.702894\n",
      " theta0: 95.342737, theta1: -13.252433, theta2: 2.096375, error1: 59.698990\n",
      " theta0: 95.348551, theta1: -13.252364, theta2: 2.094529, error1: 59.695102\n",
      " theta0: 95.354353, theta1: -13.252295, theta2: 2.092688, error1: 59.691230\n",
      " theta0: 95.360142, theta1: -13.252227, theta2: 2.090850, error1: 59.687374\n",
      " theta0: 95.365919, theta1: -13.252159, theta2: 2.089017, error1: 59.683534\n",
      " theta0: 95.371683, theta1: -13.252090, theta2: 2.087187, error1: 59.679709\n",
      " theta0: 95.377435, theta1: -13.252022, theta2: 2.085361, error1: 59.675899\n",
      " theta0: 95.383175, theta1: -13.251954, theta2: 2.083540, error1: 59.672106\n",
      " theta0: 95.388902, theta1: -13.251887, theta2: 2.081722, error1: 59.668327\n",
      " theta0: 95.394616, theta1: -13.251819, theta2: 2.079908, error1: 59.664564\n",
      " theta0: 95.400319, theta1: -13.251752, theta2: 2.078098, error1: 59.660816\n",
      " theta0: 95.406009, theta1: -13.251684, theta2: 2.076292, error1: 59.657084\n",
      " theta0: 95.411687, theta1: -13.251617, theta2: 2.074490, error1: 59.653366\n",
      " theta0: 95.417353, theta1: -13.251550, theta2: 2.072691, error1: 59.649664\n",
      " theta0: 95.423006, theta1: -13.251483, theta2: 2.070897, error1: 59.645977\n",
      " theta0: 95.428647, theta1: -13.251417, theta2: 2.069106, error1: 59.642305\n",
      " theta0: 95.434276, theta1: -13.251350, theta2: 2.067320, error1: 59.638648\n",
      " theta0: 95.439893, theta1: -13.251284, theta2: 2.065537, error1: 59.635005\n",
      " theta0: 95.445498, theta1: -13.251217, theta2: 2.063758, error1: 59.631378\n",
      " theta0: 95.451091, theta1: -13.251151, theta2: 2.061983, error1: 59.627765\n",
      " theta0: 95.456671, theta1: -13.251085, theta2: 2.060211, error1: 59.624167\n",
      " theta0: 95.462240, theta1: -13.251020, theta2: 2.058444, error1: 59.620583\n",
      " theta0: 95.467797, theta1: -13.250954, theta2: 2.056680, error1: 59.617014\n",
      " theta0: 95.473341, theta1: -13.250888, theta2: 2.054920, error1: 59.613459\n",
      " theta0: 95.478874, theta1: -13.250823, theta2: 2.053164, error1: 59.609919\n",
      " theta0: 95.484395, theta1: -13.250758, theta2: 2.051412, error1: 59.606394\n",
      " theta0: 95.489904, theta1: -13.250692, theta2: 2.049663, error1: 59.602882\n",
      " theta0: 95.495401, theta1: -13.250627, theta2: 2.047918, error1: 59.599385\n",
      " theta0: 95.500886, theta1: -13.250563, theta2: 2.046177, error1: 59.595902\n",
      " theta0: 95.506359, theta1: -13.250498, theta2: 2.044440, error1: 59.592433\n",
      " theta0: 95.511821, theta1: -13.250433, theta2: 2.042706, error1: 59.588978\n",
      " theta0: 95.517271, theta1: -13.250369, theta2: 2.040977, error1: 59.585538\n",
      " theta0: 95.522709, theta1: -13.250304, theta2: 2.039250, error1: 59.582111\n",
      " theta0: 95.528135, theta1: -13.250240, theta2: 2.037528, error1: 59.578698\n",
      " theta0: 95.533550, theta1: -13.250176, theta2: 2.035810, error1: 59.575299\n",
      " theta0: 95.538953, theta1: -13.250112, theta2: 2.034095, error1: 59.571914\n",
      " theta0: 95.544344, theta1: -13.250049, theta2: 2.032383, error1: 59.568542\n",
      " theta0: 95.549723, theta1: -13.249985, theta2: 2.030676, error1: 59.565184\n",
      " theta0: 95.555092, theta1: -13.249922, theta2: 2.028972, error1: 59.561840\n",
      " theta0: 95.560448, theta1: -13.249858, theta2: 2.027272, error1: 59.558509\n",
      " theta0: 95.565793, theta1: -13.249795, theta2: 2.025575, error1: 59.555192\n",
      " theta0: 95.571126, theta1: -13.249732, theta2: 2.023882, error1: 59.551888\n",
      " theta0: 95.576448, theta1: -13.249669, theta2: 2.022193, error1: 59.548598\n",
      " theta0: 95.581759, theta1: -13.249606, theta2: 2.020508, error1: 59.545321\n",
      " theta0: 95.587058, theta1: -13.249544, theta2: 2.018826, error1: 59.542057\n",
      " theta0: 95.592345, theta1: -13.249481, theta2: 2.017147, error1: 59.538806\n",
      " theta0: 95.597622, theta1: -13.249419, theta2: 2.015473, error1: 59.535569\n",
      " theta0: 95.602886, theta1: -13.249356, theta2: 2.013801, error1: 59.532345\n",
      " theta0: 95.608140, theta1: -13.249294, theta2: 2.012134, error1: 59.529133\n",
      " theta0: 95.613382, theta1: -13.249232, theta2: 2.010470, error1: 59.525935\n",
      " theta0: 95.618613, theta1: -13.249170, theta2: 2.008810, error1: 59.522750\n",
      " theta0: 95.623832, theta1: -13.249109, theta2: 2.007153, error1: 59.519577\n",
      " theta0: 95.629041, theta1: -13.249047, theta2: 2.005500, error1: 59.516418\n",
      " theta0: 95.634238, theta1: -13.248986, theta2: 2.003850, error1: 59.513271\n",
      " theta0: 95.639424, theta1: -13.248924, theta2: 2.002204, error1: 59.510137\n",
      " theta0: 95.644598, theta1: -13.248863, theta2: 2.000562, error1: 59.507016\n",
      " theta0: 95.649762, theta1: -13.248802, theta2: 1.998923, error1: 59.503907\n",
      " theta0: 95.654914, theta1: -13.248741, theta2: 1.997287, error1: 59.500811\n",
      " theta0: 95.660055, theta1: -13.248680, theta2: 1.995656, error1: 59.497727\n",
      " theta0: 95.665186, theta1: -13.248620, theta2: 1.994027, error1: 59.494656\n",
      " theta0: 95.670305, theta1: -13.248559, theta2: 1.992402, error1: 59.491597\n",
      " theta0: 95.675413, theta1: -13.248499, theta2: 1.990781, error1: 59.488551\n",
      " theta0: 95.680510, theta1: -13.248438, theta2: 1.989163, error1: 59.485517\n",
      " theta0: 95.685596, theta1: -13.248378, theta2: 1.987549, error1: 59.482495\n",
      " theta0: 95.690671, theta1: -13.248318, theta2: 1.985938, error1: 59.479485\n",
      " theta0: 95.695736, theta1: -13.248258, theta2: 1.984330, error1: 59.476488\n",
      " theta0: 95.700789, theta1: -13.248199, theta2: 1.982726, error1: 59.473502\n",
      " theta0: 95.705831, theta1: -13.248139, theta2: 1.981126, error1: 59.470529\n",
      " theta0: 95.710863, theta1: -13.248080, theta2: 1.979529, error1: 59.467568\n",
      " theta0: 95.715884, theta1: -13.248020, theta2: 1.977935, error1: 59.464618\n",
      " theta0: 95.720893, theta1: -13.247961, theta2: 1.976345, error1: 59.461681\n",
      " theta0: 95.725892, theta1: -13.247902, theta2: 1.974758, error1: 59.458755\n",
      " theta0: 95.730881, theta1: -13.247843, theta2: 1.973175, error1: 59.455842\n",
      " theta0: 95.735858, theta1: -13.247784, theta2: 1.971595, error1: 59.452940\n",
      " theta0: 95.740825, theta1: -13.247725, theta2: 1.970019, error1: 59.450049\n",
      " theta0: 95.745781, theta1: -13.247667, theta2: 1.968446, error1: 59.447171\n",
      " theta0: 95.750727, theta1: -13.247608, theta2: 1.966876, error1: 59.444304\n",
      " theta0: 95.755661, theta1: -13.247550, theta2: 1.965310, error1: 59.441448\n",
      " theta0: 95.760585, theta1: -13.247492, theta2: 1.963747, error1: 59.438604\n",
      " theta0: 95.765499, theta1: -13.247433, theta2: 1.962187, error1: 59.435772\n",
      " theta0: 95.770402, theta1: -13.247376, theta2: 1.960631, error1: 59.432951\n",
      " theta0: 95.775294, theta1: -13.247318, theta2: 1.959078, error1: 59.430141\n",
      " theta0: 95.780176, theta1: -13.247260, theta2: 1.957528, error1: 59.427343\n",
      " theta0: 95.785047, theta1: -13.247202, theta2: 1.955982, error1: 59.424556\n",
      " theta0: 95.789908, theta1: -13.247145, theta2: 1.954439, error1: 59.421780\n",
      " theta0: 95.794758, theta1: -13.247087, theta2: 1.952900, error1: 59.419015\n",
      " theta0: 95.799598, theta1: -13.247030, theta2: 1.951364, error1: 59.416262\n",
      " theta0: 95.804428, theta1: -13.246973, theta2: 1.949831, error1: 59.413519\n",
      " theta0: 95.809247, theta1: -13.246916, theta2: 1.948301, error1: 59.410788\n",
      " theta0: 95.814055, theta1: -13.246859, theta2: 1.946775, error1: 59.408068\n",
      " theta0: 95.818853, theta1: -13.246803, theta2: 1.945252, error1: 59.405358\n",
      " theta0: 95.823641, theta1: -13.246746, theta2: 1.943732, error1: 59.402660\n",
      " theta0: 95.828419, theta1: -13.246689, theta2: 1.942216, error1: 59.399972\n",
      " theta0: 95.833186, theta1: -13.246633, theta2: 1.940703, error1: 59.397295\n",
      " theta0: 95.837943, theta1: -13.246577, theta2: 1.939193, error1: 59.394629\n",
      " theta0: 95.842690, theta1: -13.246521, theta2: 1.937686, error1: 59.391974\n",
      " theta0: 95.847426, theta1: -13.246465, theta2: 1.936183, error1: 59.389329\n",
      " theta0: 95.852153, theta1: -13.246409, theta2: 1.934682, error1: 59.386695\n",
      " theta0: 95.856869, theta1: -13.246353, theta2: 1.933186, error1: 59.384072\n",
      " theta0: 95.861575, theta1: -13.246297, theta2: 1.931692, error1: 59.381459\n",
      " theta0: 95.866270, theta1: -13.246242, theta2: 1.930201, error1: 59.378857\n",
      " theta0: 95.870956, theta1: -13.246186, theta2: 1.928714, error1: 59.376265\n",
      " theta0: 95.875632, theta1: -13.246131, theta2: 1.927230, error1: 59.373683\n",
      " theta0: 95.880297, theta1: -13.246076, theta2: 1.925749, error1: 59.371112\n",
      " theta0: 95.884953, theta1: -13.246021, theta2: 1.924271, error1: 59.368552\n",
      " theta0: 95.889598, theta1: -13.245966, theta2: 1.922797, error1: 59.366001\n",
      " theta0: 95.894233, theta1: -13.245911, theta2: 1.921326, error1: 59.363461\n",
      " theta0: 95.898859, theta1: -13.245857, theta2: 1.919858, error1: 59.360931\n",
      " theta0: 95.903474, theta1: -13.245802, theta2: 1.918393, error1: 59.358411\n",
      " theta0: 95.908080, theta1: -13.245747, theta2: 1.916931, error1: 59.355902\n",
      " theta0: 95.912675, theta1: -13.245693, theta2: 1.915472, error1: 59.353402\n",
      " theta0: 95.917261, theta1: -13.245639, theta2: 1.914017, error1: 59.350912\n",
      " theta0: 95.921837, theta1: -13.245585, theta2: 1.912564, error1: 59.348433\n",
      " theta0: 95.926402, theta1: -13.245531, theta2: 1.911115, error1: 59.345963\n",
      " theta0: 95.930959, theta1: -13.245477, theta2: 1.909669, error1: 59.343504\n",
      " theta0: 95.935505, theta1: -13.245423, theta2: 1.908226, error1: 59.341054\n",
      " theta0: 95.940041, theta1: -13.245370, theta2: 1.906786, error1: 59.338614\n",
      " theta0: 95.944568, theta1: -13.245316, theta2: 1.905349, error1: 59.336184\n",
      " theta0: 95.949085, theta1: -13.245263, theta2: 1.903915, error1: 59.333763\n",
      " theta0: 95.953592, theta1: -13.245209, theta2: 1.902485, error1: 59.331352\n",
      " theta0: 95.958089, theta1: -13.245156, theta2: 1.901057, error1: 59.328951\n",
      " theta0: 95.962577, theta1: -13.245103, theta2: 1.899633, error1: 59.326560\n",
      " theta0: 95.967055, theta1: -13.245050, theta2: 1.898212, error1: 59.324178\n",
      " theta0: 95.971523, theta1: -13.244997, theta2: 1.896793, error1: 59.321806\n",
      " theta0: 95.975982, theta1: -13.244945, theta2: 1.895378, error1: 59.319443\n",
      " theta0: 95.980431, theta1: -13.244892, theta2: 1.893966, error1: 59.317090\n",
      " theta0: 95.984871, theta1: -13.244839, theta2: 1.892557, error1: 59.314746\n",
      " theta0: 95.989301, theta1: -13.244787, theta2: 1.891151, error1: 59.312411\n",
      " theta0: 95.993721, theta1: -13.244735, theta2: 1.889747, error1: 59.310086\n",
      " theta0: 95.998132, theta1: -13.244683, theta2: 1.888347, error1: 59.307770\n",
      " theta0: 96.002534, theta1: -13.244631, theta2: 1.886950, error1: 59.305464\n",
      " theta0: 96.006926, theta1: -13.244579, theta2: 1.885556, error1: 59.303166\n",
      " theta0: 96.011308, theta1: -13.244527, theta2: 1.884165, error1: 59.300878\n",
      " theta0: 96.015681, theta1: -13.244475, theta2: 1.882777, error1: 59.298599\n",
      " theta0: 96.020045, theta1: -13.244423, theta2: 1.881392, error1: 59.296329\n",
      " theta0: 96.024399, theta1: -13.244372, theta2: 1.880010, error1: 59.294069\n",
      " theta0: 96.028744, theta1: -13.244321, theta2: 1.878631, error1: 59.291817\n",
      " theta0: 96.033079, theta1: -13.244269, theta2: 1.877255, error1: 59.289574\n",
      " theta0: 96.037405, theta1: -13.244218, theta2: 1.875882, error1: 59.287341\n",
      " theta0: 96.041722, theta1: -13.244167, theta2: 1.874512, error1: 59.285116\n",
      " theta0: 96.046029, theta1: -13.244116, theta2: 1.873145, error1: 59.282900\n",
      " theta0: 96.050327, theta1: -13.244065, theta2: 1.871780, error1: 59.280693\n",
      " theta0: 96.054616, theta1: -13.244015, theta2: 1.870419, error1: 59.278495\n",
      " theta0: 96.058896, theta1: -13.243964, theta2: 1.869061, error1: 59.276305\n",
      " theta0: 96.063166, theta1: -13.243914, theta2: 1.867705, error1: 59.274125\n",
      " theta0: 96.067428, theta1: -13.243863, theta2: 1.866353, error1: 59.271953\n",
      " theta0: 96.071680, theta1: -13.243813, theta2: 1.865003, error1: 59.269789\n",
      " theta0: 96.075923, theta1: -13.243763, theta2: 1.863656, error1: 59.267635\n",
      " theta0: 96.080156, theta1: -13.243713, theta2: 1.862312, error1: 59.265489\n",
      " theta0: 96.084381, theta1: -13.243663, theta2: 1.860971, error1: 59.263351\n",
      " theta0: 96.088596, theta1: -13.243613, theta2: 1.859633, error1: 59.261223\n",
      " theta0: 96.092803, theta1: -13.243563, theta2: 1.858298, error1: 59.259102\n",
      " theta0: 96.097000, theta1: -13.243513, theta2: 1.856966, error1: 59.256990\n",
      " theta0: 96.101188, theta1: -13.243464, theta2: 1.855637, error1: 59.254887\n",
      " theta0: 96.105368, theta1: -13.243415, theta2: 1.854310, error1: 59.252792\n",
      " theta0: 96.109538, theta1: -13.243365, theta2: 1.852986, error1: 59.250705\n",
      " theta0: 96.113699, theta1: -13.243316, theta2: 1.851666, error1: 59.248626\n",
      " theta0: 96.117851, theta1: -13.243267, theta2: 1.850348, error1: 59.246556\n",
      " theta0: 96.121995, theta1: -13.243218, theta2: 1.849033, error1: 59.244495\n",
      " theta0: 96.126129, theta1: -13.243169, theta2: 1.847720, error1: 59.242441\n",
      " theta0: 96.130255, theta1: -13.243120, theta2: 1.846411, error1: 59.240395\n",
      " theta0: 96.134371, theta1: -13.243072, theta2: 1.845104, error1: 59.238358\n",
      " theta0: 96.138479, theta1: -13.243023, theta2: 1.843800, error1: 59.236329\n",
      " theta0: 96.142578, theta1: -13.242975, theta2: 1.842499, error1: 59.234308\n",
      " theta0: 96.146668, theta1: -13.242926, theta2: 1.841201, error1: 59.232295\n",
      " theta0: 96.150749, theta1: -13.242878, theta2: 1.839906, error1: 59.230290\n",
      " theta0: 96.154821, theta1: -13.242830, theta2: 1.838613, error1: 59.228293\n",
      " theta0: 96.158885, theta1: -13.242782, theta2: 1.837323, error1: 59.226304\n",
      " theta0: 96.162940, theta1: -13.242734, theta2: 1.836036, error1: 59.224323\n",
      " theta0: 96.166986, theta1: -13.242686, theta2: 1.834752, error1: 59.222350\n",
      " theta0: 96.171023, theta1: -13.242638, theta2: 1.833470, error1: 59.220384\n",
      " theta0: 96.175052, theta1: -13.242591, theta2: 1.832192, error1: 59.218427\n",
      " theta0: 96.179072, theta1: -13.242543, theta2: 1.830916, error1: 59.216477\n",
      " theta0: 96.183084, theta1: -13.242496, theta2: 1.829642, error1: 59.214535\n",
      " theta0: 96.187086, theta1: -13.242448, theta2: 1.828372, error1: 59.212601\n",
      " theta0: 96.191080, theta1: -13.242401, theta2: 1.827104, error1: 59.210674\n",
      " theta0: 96.195066, theta1: -13.242354, theta2: 1.825839, error1: 59.208755\n",
      " theta0: 96.199043, theta1: -13.242307, theta2: 1.824577, error1: 59.206844\n",
      " theta0: 96.203011, theta1: -13.242260, theta2: 1.823317, error1: 59.204940\n",
      " theta0: 96.206971, theta1: -13.242213, theta2: 1.822060, error1: 59.203044\n",
      " theta0: 96.210922, theta1: -13.242166, theta2: 1.820806, error1: 59.201156\n",
      " theta0: 96.214865, theta1: -13.242120, theta2: 1.819555, error1: 59.199275\n",
      " theta0: 96.218799, theta1: -13.242073, theta2: 1.818306, error1: 59.197401\n",
      " theta0: 96.222724, theta1: -13.242027, theta2: 1.817060, error1: 59.195535\n",
      " theta0: 96.226642, theta1: -13.241980, theta2: 1.815817, error1: 59.193676\n",
      " theta0: 96.230551, theta1: -13.241934, theta2: 1.814576, error1: 59.191825\n",
      " theta0: 96.234451, theta1: -13.241888, theta2: 1.813338, error1: 59.189981\n",
      " theta0: 96.238343, theta1: -13.241842, theta2: 1.812103, error1: 59.188144\n",
      " theta0: 96.242226, theta1: -13.241796, theta2: 1.810870, error1: 59.186315\n",
      " theta0: 96.246102, theta1: -13.241750, theta2: 1.809640, error1: 59.184493\n",
      " theta0: 96.249969, theta1: -13.241705, theta2: 1.808413, error1: 59.182678\n",
      " theta0: 96.253827, theta1: -13.241659, theta2: 1.807188, error1: 59.180870\n",
      " theta0: 96.257677, theta1: -13.241613, theta2: 1.805966, error1: 59.179070\n",
      " theta0: 96.261519, theta1: -13.241568, theta2: 1.804746, error1: 59.177277\n",
      " theta0: 96.265353, theta1: -13.241523, theta2: 1.803530, error1: 59.175490\n",
      " theta0: 96.269178, theta1: -13.241477, theta2: 1.802315, error1: 59.173711\n",
      " theta0: 96.272995, theta1: -13.241432, theta2: 1.801104, error1: 59.171939\n",
      " theta0: 96.276804, theta1: -13.241387, theta2: 1.799895, error1: 59.170174\n",
      " theta0: 96.280605, theta1: -13.241342, theta2: 1.798688, error1: 59.168416\n",
      " theta0: 96.284397, theta1: -13.241298, theta2: 1.797485, error1: 59.166665\n",
      " theta0: 96.288182, theta1: -13.241253, theta2: 1.796284, error1: 59.164921\n",
      " theta0: 96.291958, theta1: -13.241208, theta2: 1.795085, error1: 59.163184\n",
      " theta0: 96.295726, theta1: -13.241164, theta2: 1.793889, error1: 59.161453\n",
      " theta0: 96.299486, theta1: -13.241119, theta2: 1.792696, error1: 59.159730\n",
      " theta0: 96.303237, theta1: -13.241075, theta2: 1.791505, error1: 59.158013\n",
      " theta0: 96.306981, theta1: -13.241030, theta2: 1.790316, error1: 59.156304\n",
      " theta0: 96.310717, theta1: -13.240986, theta2: 1.789131, error1: 59.154600\n",
      " theta0: 96.314444, theta1: -13.240942, theta2: 1.787948, error1: 59.152904\n",
      " theta0: 96.318164, theta1: -13.240898, theta2: 1.786767, error1: 59.151215\n",
      " theta0: 96.321875, theta1: -13.240854, theta2: 1.785589, error1: 59.149532\n",
      " theta0: 96.325579, theta1: -13.240811, theta2: 1.784413, error1: 59.147855\n",
      " theta0: 96.329274, theta1: -13.240767, theta2: 1.783240, error1: 59.146186\n",
      " theta0: 96.332962, theta1: -13.240723, theta2: 1.782070, error1: 59.144523\n",
      " theta0: 96.336641, theta1: -13.240680, theta2: 1.780902, error1: 59.142866\n",
      " theta0: 96.340313, theta1: -13.240636, theta2: 1.779737, error1: 59.141216\n",
      " theta0: 96.343977, theta1: -13.240593, theta2: 1.778574, error1: 59.139573\n",
      " theta0: 96.347633, theta1: -13.240550, theta2: 1.777413, error1: 59.137936\n",
      " theta0: 96.351281, theta1: -13.240507, theta2: 1.776255, error1: 59.136306\n",
      " theta0: 96.354921, theta1: -13.240464, theta2: 1.775100, error1: 59.134682\n",
      " theta0: 96.358553, theta1: -13.240421, theta2: 1.773947, error1: 59.133064\n",
      " theta0: 96.362178, theta1: -13.240378, theta2: 1.772797, error1: 59.131453\n",
      " theta0: 96.365794, theta1: -13.240335, theta2: 1.771649, error1: 59.129848\n",
      " theta0: 96.369403, theta1: -13.240292, theta2: 1.770503, error1: 59.128250\n",
      " theta0: 96.373004, theta1: -13.240250, theta2: 1.769360, error1: 59.126658\n",
      " theta0: 96.376597, theta1: -13.240207, theta2: 1.768220, error1: 59.125072\n",
      " theta0: 96.380183, theta1: -13.240165, theta2: 1.767082, error1: 59.123493\n",
      " theta0: 96.383761, theta1: -13.240123, theta2: 1.765946, error1: 59.121919\n",
      " theta0: 96.387331, theta1: -13.240080, theta2: 1.764813, error1: 59.120352\n",
      " theta0: 96.390893, theta1: -13.240038, theta2: 1.763682, error1: 59.118791\n",
      " theta0: 96.394448, theta1: -13.239996, theta2: 1.762554, error1: 59.117236\n",
      " theta0: 96.397995, theta1: -13.239954, theta2: 1.761428, error1: 59.115688\n",
      " theta0: 96.401534, theta1: -13.239912, theta2: 1.760304, error1: 59.114145\n",
      " theta0: 96.405066, theta1: -13.239871, theta2: 1.759183, error1: 59.112609\n",
      " theta0: 96.408590, theta1: -13.239829, theta2: 1.758065, error1: 59.111078\n",
      " theta0: 96.412107, theta1: -13.239787, theta2: 1.756949, error1: 59.109554\n",
      " theta0: 96.415616, theta1: -13.239746, theta2: 1.755835, error1: 59.108036\n",
      " theta0: 96.419117, theta1: -13.239704, theta2: 1.754724, error1: 59.106523\n",
      " theta0: 96.422611, theta1: -13.239663, theta2: 1.753615, error1: 59.105017\n",
      " theta0: 96.426098, theta1: -13.239622, theta2: 1.752508, error1: 59.103516\n",
      " theta0: 96.429576, theta1: -13.239581, theta2: 1.751404, error1: 59.102022\n",
      " theta0: 96.433048, theta1: -13.239540, theta2: 1.750302, error1: 59.100533\n",
      " theta0: 96.436512, theta1: -13.239499, theta2: 1.749202, error1: 59.099050\n",
      " theta0: 96.439968, theta1: -13.239458, theta2: 1.748105, error1: 59.097573\n",
      " theta0: 96.443417, theta1: -13.239417, theta2: 1.747011, error1: 59.096102\n",
      " theta0: 96.446858, theta1: -13.239376, theta2: 1.745918, error1: 59.094637\n",
      " theta0: 96.450292, theta1: -13.239336, theta2: 1.744828, error1: 59.093177\n",
      " theta0: 96.453719, theta1: -13.239295, theta2: 1.743741, error1: 59.091723\n",
      " theta0: 96.457138, theta1: -13.239255, theta2: 1.742655, error1: 59.090275\n",
      " theta0: 96.460550, theta1: -13.239215, theta2: 1.741572, error1: 59.088833\n",
      " theta0: 96.463955, theta1: -13.239174, theta2: 1.740492, error1: 59.087396\n",
      " theta0: 96.467352, theta1: -13.239134, theta2: 1.739413, error1: 59.085965\n",
      " theta0: 96.470742, theta1: -13.239094, theta2: 1.738337, error1: 59.084539\n",
      " theta0: 96.474125, theta1: -13.239054, theta2: 1.737264, error1: 59.083120\n",
      " theta0: 96.477500, theta1: -13.239014, theta2: 1.736192, error1: 59.081705\n",
      " theta0: 96.480868, theta1: -13.238974, theta2: 1.735123, error1: 59.080297\n",
      " theta0: 96.484229, theta1: -13.238935, theta2: 1.734057, error1: 59.078893\n",
      " theta0: 96.487582, theta1: -13.238895, theta2: 1.732992, error1: 59.077496\n",
      " theta0: 96.490928, theta1: -13.238855, theta2: 1.731930, error1: 59.076103\n",
      " theta0: 96.494268, theta1: -13.238816, theta2: 1.730870, error1: 59.074717\n",
      " theta0: 96.497599, theta1: -13.238776, theta2: 1.729813, error1: 59.073335\n",
      " theta0: 96.500924, theta1: -13.238737, theta2: 1.728757, error1: 59.071959\n",
      " theta0: 96.504242, theta1: -13.238698, theta2: 1.727704, error1: 59.070589\n",
      " theta0: 96.507552, theta1: -13.238659, theta2: 1.726654, error1: 59.069224\n",
      " theta0: 96.510855, theta1: -13.238620, theta2: 1.725605, error1: 59.067864\n",
      " theta0: 96.514151, theta1: -13.238581, theta2: 1.724559, error1: 59.066510\n",
      " theta0: 96.517440, theta1: -13.238542, theta2: 1.723515, error1: 59.065161\n",
      " theta0: 96.520722, theta1: -13.238503, theta2: 1.722473, error1: 59.063817\n",
      " theta0: 96.523997, theta1: -13.238464, theta2: 1.721434, error1: 59.062478\n",
      " theta0: 96.527265, theta1: -13.238426, theta2: 1.720397, error1: 59.061145\n",
      " theta0: 96.530526, theta1: -13.238387, theta2: 1.719362, error1: 59.059817\n",
      " theta0: 96.533779, theta1: -13.238349, theta2: 1.718329, error1: 59.058494\n",
      " theta0: 96.537026, theta1: -13.238310, theta2: 1.717298, error1: 59.057176\n",
      " theta0: 96.540266, theta1: -13.238272, theta2: 1.716270, error1: 59.055864\n",
      " theta0: 96.543498, theta1: -13.238234, theta2: 1.715244, error1: 59.054556\n",
      " theta0: 96.546724, theta1: -13.238196, theta2: 1.714220, error1: 59.053254\n",
      " theta0: 96.549943, theta1: -13.238157, theta2: 1.713198, error1: 59.051957\n",
      " theta0: 96.553155, theta1: -13.238119, theta2: 1.712179, error1: 59.050665\n",
      " theta0: 96.556360, theta1: -13.238082, theta2: 1.711162, error1: 59.049378\n",
      " theta0: 96.559558, theta1: -13.238044, theta2: 1.710147, error1: 59.048096\n",
      " theta0: 96.562749, theta1: -13.238006, theta2: 1.709134, error1: 59.046819\n",
      " theta0: 96.565933, theta1: -13.237968, theta2: 1.708123, error1: 59.045547\n",
      " theta0: 96.569111, theta1: -13.237931, theta2: 1.707115, error1: 59.044280\n",
      " theta0: 96.572281, theta1: -13.237893, theta2: 1.706108, error1: 59.043018\n",
      " theta0: 96.575445, theta1: -13.237856, theta2: 1.705104, error1: 59.041761\n",
      " theta0: 96.578602, theta1: -13.237819, theta2: 1.704102, error1: 59.040508\n",
      " theta0: 96.581752, theta1: -13.237781, theta2: 1.703102, error1: 59.039261\n",
      " theta0: 96.584895, theta1: -13.237744, theta2: 1.702104, error1: 59.038019\n",
      " theta0: 96.588032, theta1: -13.237707, theta2: 1.701109, error1: 59.036781\n",
      " theta0: 96.591161, theta1: -13.237670, theta2: 1.700115, error1: 59.035548\n",
      " theta0: 96.594284, theta1: -13.237633, theta2: 1.699124, error1: 59.034320\n",
      " theta0: 96.597401, theta1: -13.237596, theta2: 1.698135, error1: 59.033097\n",
      " theta0: 96.600510, theta1: -13.237559, theta2: 1.697148, error1: 59.031879\n",
      " theta0: 96.603613, theta1: -13.237523, theta2: 1.696163, error1: 59.030665\n",
      " theta0: 96.606709, theta1: -13.237486, theta2: 1.695180, error1: 59.029456\n",
      " theta0: 96.609799, theta1: -13.237450, theta2: 1.694200, error1: 59.028252\n",
      " theta0: 96.612881, theta1: -13.237413, theta2: 1.693221, error1: 59.027053\n",
      " theta0: 96.615958, theta1: -13.237377, theta2: 1.692245, error1: 59.025858\n",
      " theta0: 96.619027, theta1: -13.237341, theta2: 1.691271, error1: 59.024668\n",
      " theta0: 96.622090, theta1: -13.237304, theta2: 1.690298, error1: 59.023482\n",
      " theta0: 96.625146, theta1: -13.237268, theta2: 1.689328, error1: 59.022302\n",
      " theta0: 96.628196, theta1: -13.237232, theta2: 1.688360, error1: 59.021125\n",
      " theta0: 96.631239, theta1: -13.237196, theta2: 1.687394, error1: 59.019954\n",
      " theta0: 96.634276, theta1: -13.237160, theta2: 1.686431, error1: 59.018787\n",
      " theta0: 96.637306, theta1: -13.237124, theta2: 1.685469, error1: 59.017624\n",
      " theta0: 96.640329, theta1: -13.237089, theta2: 1.684509, error1: 59.016466\n",
      " theta0: 96.643346, theta1: -13.237053, theta2: 1.683551, error1: 59.015312\n",
      " theta0: 96.646357, theta1: -13.237017, theta2: 1.682596, error1: 59.014163\n",
      " theta0: 96.649361, theta1: -13.236982, theta2: 1.681642, error1: 59.013019\n",
      " theta0: 96.652359, theta1: -13.236946, theta2: 1.680691, error1: 59.011879\n",
      " theta0: 96.655350, theta1: -13.236911, theta2: 1.679742, error1: 59.010743\n",
      " theta0: 96.658334, theta1: -13.236876, theta2: 1.678794, error1: 59.009612\n",
      " theta0: 96.661312, theta1: -13.236841, theta2: 1.677849, error1: 59.008485\n",
      " theta0: 96.664284, theta1: -13.236805, theta2: 1.676906, error1: 59.007362\n",
      " theta0: 96.667250, theta1: -13.236770, theta2: 1.675964, error1: 59.006244\n",
      " theta0: 96.670209, theta1: -13.236735, theta2: 1.675025, error1: 59.005131\n",
      " theta0: 96.673161, theta1: -13.236700, theta2: 1.674088, error1: 59.004021\n",
      " theta0: 96.676107, theta1: -13.236666, theta2: 1.673153, error1: 59.002916\n",
      " theta0: 96.679047, theta1: -13.236631, theta2: 1.672220, error1: 59.001815\n",
      " theta0: 96.681981, theta1: -13.236596, theta2: 1.671289, error1: 59.000719\n",
      " theta0: 96.684908, theta1: -13.236561, theta2: 1.670360, error1: 58.999626\n",
      " theta0: 96.687829, theta1: -13.236527, theta2: 1.669432, error1: 58.998538\n",
      " theta0: 96.690743, theta1: -13.236492, theta2: 1.668507, error1: 58.997454\n",
      " theta0: 96.693652, theta1: -13.236458, theta2: 1.667584, error1: 58.996375\n",
      " theta0: 96.696554, theta1: -13.236424, theta2: 1.666663, error1: 58.995299\n",
      " theta0: 96.699450, theta1: -13.236390, theta2: 1.665744, error1: 58.994228\n",
      " theta0: 96.702339, theta1: -13.236355, theta2: 1.664827, error1: 58.993161\n",
      " theta0: 96.705223, theta1: -13.236321, theta2: 1.663912, error1: 58.992098\n",
      " theta0: 96.708100, theta1: -13.236287, theta2: 1.662998, error1: 58.991039\n",
      " theta0: 96.710971, theta1: -13.236253, theta2: 1.662087, error1: 58.989984\n",
      " theta0: 96.713835, theta1: -13.236219, theta2: 1.661178, error1: 58.988934\n",
      " theta0: 96.716694, theta1: -13.236186, theta2: 1.660270, error1: 58.987887\n",
      " theta0: 96.719546, theta1: -13.236152, theta2: 1.659365, error1: 58.986845\n",
      " theta0: 96.722392, theta1: -13.236118, theta2: 1.658462, error1: 58.985806\n",
      " theta0: 96.725233, theta1: -13.236085, theta2: 1.657560, error1: 58.984772\n",
      " theta0: 96.728067, theta1: -13.236051, theta2: 1.656661, error1: 58.983741\n",
      " theta0: 96.730894, theta1: -13.236018, theta2: 1.655763, error1: 58.982715\n",
      " theta0: 96.733716, theta1: -13.235984, theta2: 1.654867, error1: 58.981692\n",
      " theta0: 96.736532, theta1: -13.235951, theta2: 1.653974, error1: 58.980674\n",
      " theta0: 96.739341, theta1: -13.235918, theta2: 1.653082, error1: 58.979659\n",
      " theta0: 96.742145, theta1: -13.235885, theta2: 1.652192, error1: 58.978648\n",
      " theta0: 96.744943, theta1: -13.235852, theta2: 1.651304, error1: 58.977642\n",
      " theta0: 96.747734, theta1: -13.235819, theta2: 1.650418, error1: 58.976639\n",
      " theta0: 96.750519, theta1: -13.235786, theta2: 1.649534, error1: 58.975640\n",
      " theta0: 96.753299, theta1: -13.235753, theta2: 1.648652, error1: 58.974645\n",
      " theta0: 96.756072, theta1: -13.235720, theta2: 1.647771, error1: 58.973653\n",
      " theta0: 96.758840, theta1: -13.235687, theta2: 1.646893, error1: 58.972666\n",
      " theta0: 96.761601, theta1: -13.235655, theta2: 1.646016, error1: 58.971682\n",
      " theta0: 96.764357, theta1: -13.235622, theta2: 1.645142, error1: 58.970702\n",
      " theta0: 96.767107, theta1: -13.235589, theta2: 1.644269, error1: 58.969726\n",
      " theta0: 96.769850, theta1: -13.235557, theta2: 1.643398, error1: 58.968754\n",
      " theta0: 96.772588, theta1: -13.235525, theta2: 1.642529, error1: 58.967786\n",
      " theta0: 96.775320, theta1: -13.235492, theta2: 1.641662, error1: 58.966821\n",
      " theta0: 96.778046, theta1: -13.235460, theta2: 1.640797, error1: 58.965860\n",
      " theta0: 96.780766, theta1: -13.235428, theta2: 1.639933, error1: 58.964902\n",
      " theta0: 96.783480, theta1: -13.235396, theta2: 1.639072, error1: 58.963949\n",
      " theta0: 96.786189, theta1: -13.235364, theta2: 1.638212, error1: 58.962999\n",
      " theta0: 96.788891, theta1: -13.235332, theta2: 1.637354, error1: 58.962052\n",
      " theta0: 96.791588, theta1: -13.235300, theta2: 1.636498, error1: 58.961110\n",
      " theta0: 96.794279, theta1: -13.235268, theta2: 1.635644, error1: 58.960171\n",
      " theta0: 96.796964, theta1: -13.235236, theta2: 1.634792, error1: 58.959235\n",
      " theta0: 96.799644, theta1: -13.235205, theta2: 1.633942, error1: 58.958303\n",
      " theta0: 96.802317, theta1: -13.235173, theta2: 1.633093, error1: 58.957375\n",
      " theta0: 96.804985, theta1: -13.235142, theta2: 1.632246, error1: 58.956451\n",
      " theta0: 96.807647, theta1: -13.235110, theta2: 1.631401, error1: 58.955529\n",
      " theta0: 96.810303, theta1: -13.235079, theta2: 1.630558, error1: 58.954612\n",
      " theta0: 96.812954, theta1: -13.235047, theta2: 1.629717, error1: 58.953698\n",
      " theta0: 96.815599, theta1: -13.235016, theta2: 1.628877, error1: 58.952787\n",
      " theta0: 96.818238, theta1: -13.234985, theta2: 1.628040, error1: 58.951880\n",
      " theta0: 96.820871, theta1: -13.234954, theta2: 1.627204, error1: 58.950977\n",
      " theta0: 96.823499, theta1: -13.234923, theta2: 1.626370, error1: 58.950077\n",
      " theta0: 96.826121, theta1: -13.234892, theta2: 1.625537, error1: 58.949180\n",
      " theta0: 96.828738, theta1: -13.234861, theta2: 1.624707, error1: 58.948287\n",
      " theta0: 96.831349, theta1: -13.234830, theta2: 1.623878, error1: 58.947397\n",
      " theta0: 96.833954, theta1: -13.234799, theta2: 1.623051, error1: 58.946511\n",
      " theta0: 96.836553, theta1: -13.234768, theta2: 1.622226, error1: 58.945628\n",
      " theta0: 96.839147, theta1: -13.234738, theta2: 1.621403, error1: 58.944749\n",
      " theta0: 96.841736, theta1: -13.234707, theta2: 1.620581, error1: 58.943873\n",
      " theta0: 96.844319, theta1: -13.234676, theta2: 1.619761, error1: 58.943000\n",
      " theta0: 96.846896, theta1: -13.234646, theta2: 1.618943, error1: 58.942131\n",
      " theta0: 96.849468, theta1: -13.234616, theta2: 1.618127, error1: 58.941265\n",
      " theta0: 96.852034, theta1: -13.234585, theta2: 1.617313, error1: 58.940402\n",
      " theta0: 96.854594, theta1: -13.234555, theta2: 1.616500, error1: 58.939542\n",
      " theta0: 96.857150, theta1: -13.234525, theta2: 1.615689, error1: 58.938686\n",
      " theta0: 96.859699, theta1: -13.234495, theta2: 1.614879, error1: 58.937833\n",
      " theta0: 96.862243, theta1: -13.234465, theta2: 1.614072, error1: 58.936984\n",
      " theta0: 96.864782, theta1: -13.234434, theta2: 1.613266, error1: 58.936138\n",
      " theta0: 96.867315, theta1: -13.234405, theta2: 1.612462, error1: 58.935294\n",
      " theta0: 96.869843, theta1: -13.234375, theta2: 1.611660, error1: 58.934455\n",
      " theta0: 96.872365, theta1: -13.234345, theta2: 1.610859, error1: 58.933618\n",
      " theta0: 96.874882, theta1: -13.234315, theta2: 1.610060, error1: 58.932785\n",
      " theta0: 96.877393, theta1: -13.234285, theta2: 1.609263, error1: 58.931954\n",
      " theta0: 96.879899, theta1: -13.234256, theta2: 1.608468, error1: 58.931127\n",
      " theta0: 96.882400, theta1: -13.234226, theta2: 1.607674, error1: 58.930303\n",
      " theta0: 96.884895, theta1: -13.234197, theta2: 1.606882, error1: 58.929483\n",
      " theta0: 96.887385, theta1: -13.234167, theta2: 1.606092, error1: 58.928665\n",
      " theta0: 96.889869, theta1: -13.234138, theta2: 1.605303, error1: 58.927851\n",
      " theta0: 96.892348, theta1: -13.234109, theta2: 1.604516, error1: 58.927039\n",
      " theta0: 96.894822, theta1: -13.234079, theta2: 1.603731, error1: 58.926231\n",
      " theta0: 96.897290, theta1: -13.234050, theta2: 1.602948, error1: 58.925426\n",
      " theta0: 96.899753, theta1: -13.234021, theta2: 1.602166, error1: 58.924624\n",
      " theta0: 96.902211, theta1: -13.233992, theta2: 1.601386, error1: 58.923825\n",
      " theta0: 96.904663, theta1: -13.233963, theta2: 1.600607, error1: 58.923029\n",
      " theta0: 96.907111, theta1: -13.233934, theta2: 1.599831, error1: 58.922236\n",
      " theta0: 96.909552, theta1: -13.233905, theta2: 1.599056, error1: 58.921446\n",
      " theta0: 96.911989, theta1: -13.233876, theta2: 1.598282, error1: 58.920659\n",
      " theta0: 96.914420, theta1: -13.233848, theta2: 1.597510, error1: 58.919875\n",
      " theta0: 96.916847, theta1: -13.233819, theta2: 1.596740, error1: 58.919094\n",
      " theta0: 96.919268, theta1: -13.233790, theta2: 1.595972, error1: 58.918316\n",
      " theta0: 96.921683, theta1: -13.233762, theta2: 1.595205, error1: 58.917542\n",
      " theta0: 96.924094, theta1: -13.233733, theta2: 1.594440, error1: 58.916770\n",
      " theta0: 96.926499, theta1: -13.233705, theta2: 1.593677, error1: 58.916001\n",
      " theta0: 96.928899, theta1: -13.233676, theta2: 1.592915, error1: 58.915234\n",
      " theta0: 96.931294, theta1: -13.233648, theta2: 1.592155, error1: 58.914471\n",
      " theta0: 96.933684, theta1: -13.233620, theta2: 1.591396, error1: 58.913711\n",
      " theta0: 96.936068, theta1: -13.233592, theta2: 1.590639, error1: 58.912954\n",
      " theta0: 96.938448, theta1: -13.233563, theta2: 1.589884, error1: 58.912199\n",
      " theta0: 96.940822, theta1: -13.233535, theta2: 1.589130, error1: 58.911447\n",
      " theta0: 96.943191, theta1: -13.233507, theta2: 1.588378, error1: 58.910699\n",
      " theta0: 96.945556, theta1: -13.233479, theta2: 1.587628, error1: 58.909953\n",
      " theta0: 96.947915, theta1: -13.233451, theta2: 1.586879, error1: 58.909210\n",
      " theta0: 96.950268, theta1: -13.233424, theta2: 1.586132, error1: 58.908469\n",
      " theta0: 96.952617, theta1: -13.233396, theta2: 1.585387, error1: 58.907732\n",
      " theta0: 96.954961, theta1: -13.233368, theta2: 1.584643, error1: 58.906997\n",
      " theta0: 96.957300, theta1: -13.233340, theta2: 1.583900, error1: 58.906266\n",
      " theta0: 96.959634, theta1: -13.233313, theta2: 1.583160, error1: 58.905537\n",
      " theta0: 96.961962, theta1: -13.233285, theta2: 1.582420, error1: 58.904810\n",
      " theta0: 96.964286, theta1: -13.233258, theta2: 1.581683, error1: 58.904087\n",
      " theta0: 96.966605, theta1: -13.233230, theta2: 1.580947, error1: 58.903366\n",
      " theta0: 96.968918, theta1: -13.233203, theta2: 1.580213, error1: 58.902648\n",
      " theta0: 96.971227, theta1: -13.233176, theta2: 1.579480, error1: 58.901933\n",
      " theta0: 96.973530, theta1: -13.233149, theta2: 1.578749, error1: 58.901220\n",
      " theta0: 96.975829, theta1: -13.233121, theta2: 1.578019, error1: 58.900510\n",
      " theta0: 96.978123, theta1: -13.233094, theta2: 1.577291, error1: 58.899803\n",
      " theta0: 96.980412, theta1: -13.233067, theta2: 1.576564, error1: 58.899098\n",
      " theta0: 96.982696, theta1: -13.233040, theta2: 1.575839, error1: 58.898397\n",
      " theta0: 96.984975, theta1: -13.233013, theta2: 1.575116, error1: 58.897697\n",
      " theta0: 96.987249, theta1: -13.232986, theta2: 1.574394, error1: 58.897001\n",
      " theta0: 96.989518, theta1: -13.232959, theta2: 1.573674, error1: 58.896307\n",
      " theta0: 96.991782, theta1: -13.232933, theta2: 1.572955, error1: 58.895616\n",
      " theta0: 96.994041, theta1: -13.232906, theta2: 1.572238, error1: 58.894927\n",
      " theta0: 96.996296, theta1: -13.232879, theta2: 1.571523, error1: 58.894241\n",
      " theta0: 96.998546, theta1: -13.232853, theta2: 1.570809, error1: 58.893558\n",
      " theta0: 97.000790, theta1: -13.232826, theta2: 1.570096, error1: 58.892877\n",
      " theta0: 97.003030, theta1: -13.232800, theta2: 1.569385, error1: 58.892199\n",
      " theta0: 97.005265, theta1: -13.232773, theta2: 1.568676, error1: 58.891523\n",
      " theta0: 97.007496, theta1: -13.232747, theta2: 1.567968, error1: 58.890850\n",
      " theta0: 97.009721, theta1: -13.232721, theta2: 1.567261, error1: 58.890179\n",
      " theta0: 97.011942, theta1: -13.232694, theta2: 1.566556, error1: 58.889511\n",
      " theta0: 97.014158, theta1: -13.232668, theta2: 1.565853, error1: 58.888845\n",
      " theta0: 97.016369, theta1: -13.232642, theta2: 1.565151, error1: 58.888182\n",
      " theta0: 97.018575, theta1: -13.232616, theta2: 1.564451, error1: 58.887522\n",
      " theta0: 97.020777, theta1: -13.232590, theta2: 1.563752, error1: 58.886864\n",
      " theta0: 97.022974, theta1: -13.232564, theta2: 1.563055, error1: 58.886208\n",
      " theta0: 97.025166, theta1: -13.232538, theta2: 1.562359, error1: 58.885555\n",
      " theta0: 97.027353, theta1: -13.232512, theta2: 1.561665, error1: 58.884905\n",
      " theta0: 97.029536, theta1: -13.232486, theta2: 1.560972, error1: 58.884257\n",
      " theta0: 97.031714, theta1: -13.232461, theta2: 1.560281, error1: 58.883611\n",
      " theta0: 97.033887, theta1: -13.232435, theta2: 1.559591, error1: 58.882968\n",
      " theta0: 97.036056, theta1: -13.232409, theta2: 1.558903, error1: 58.882327\n",
      " theta0: 97.038220, theta1: -13.232384, theta2: 1.558216, error1: 58.881688\n",
      " theta0: 97.040379, theta1: -13.232358, theta2: 1.557530, error1: 58.881052\n",
      " theta0: 97.042534, theta1: -13.232333, theta2: 1.556846, error1: 58.880419\n",
      " theta0: 97.044684, theta1: -13.232307, theta2: 1.556164, error1: 58.879788\n",
      " theta0: 97.046829, theta1: -13.232282, theta2: 1.555483, error1: 58.879159\n",
      " theta0: 97.048970, theta1: -13.232256, theta2: 1.554804, error1: 58.878532\n",
      " theta0: 97.051106, theta1: -13.232231, theta2: 1.554126, error1: 58.877908\n",
      " theta0: 97.053237, theta1: -13.232206, theta2: 1.553449, error1: 58.877286\n",
      " theta0: 97.055364, theta1: -13.232181, theta2: 1.552774, error1: 58.876667\n",
      " theta0: 97.057486, theta1: -13.232156, theta2: 1.552100, error1: 58.876050\n",
      " theta0: 97.059604, theta1: -13.232131, theta2: 1.551428, error1: 58.875435\n",
      " theta0: 97.061717, theta1: -13.232106, theta2: 1.550757, error1: 58.874823\n",
      " theta0: 97.063826, theta1: -13.232081, theta2: 1.550088, error1: 58.874213\n",
      " theta0: 97.065930, theta1: -13.232056, theta2: 1.549420, error1: 58.873605\n",
      " theta0: 97.068029, theta1: -13.232031, theta2: 1.548754, error1: 58.872999\n",
      " theta0: 97.070124, theta1: -13.232006, theta2: 1.548089, error1: 58.872396\n",
      " theta0: 97.072215, theta1: -13.231982, theta2: 1.547425, error1: 58.871795\n",
      " theta0: 97.074301, theta1: -13.231957, theta2: 1.546763, error1: 58.871196\n",
      " theta0: 97.076382, theta1: -13.231932, theta2: 1.546103, error1: 58.870600\n",
      " theta0: 97.078459, theta1: -13.231908, theta2: 1.545443, error1: 58.870005\n",
      " theta0: 97.080532, theta1: -13.231883, theta2: 1.544785, error1: 58.869413\n",
      " theta0: 97.082600, theta1: -13.231859, theta2: 1.544129, error1: 58.868823\n",
      " theta0: 97.084663, theta1: -13.231834, theta2: 1.543474, error1: 58.868236\n",
      " theta0: 97.086723, theta1: -13.231810, theta2: 1.542820, error1: 58.867650\n",
      " theta0: 97.088777, theta1: -13.231786, theta2: 1.542168, error1: 58.867067\n",
      " theta0: 97.090828, theta1: -13.231762, theta2: 1.541518, error1: 58.866486\n",
      " theta0: 97.092873, theta1: -13.231737, theta2: 1.540868, error1: 58.865907\n",
      " theta0: 97.094915, theta1: -13.231713, theta2: 1.540220, error1: 58.865331\n",
      " theta0: 97.096952, theta1: -13.231689, theta2: 1.539574, error1: 58.864756\n",
      " theta0: 97.098984, theta1: -13.231665, theta2: 1.538928, error1: 58.864184\n",
      " theta0: 97.101013, theta1: -13.231641, theta2: 1.538285, error1: 58.863614\n",
      " theta0: 97.103037, theta1: -13.231617, theta2: 1.537642, error1: 58.863045\n",
      " theta0: 97.105056, theta1: -13.231593, theta2: 1.537001, error1: 58.862480\n",
      " theta0: 97.107071, theta1: -13.231569, theta2: 1.536362, error1: 58.861916\n",
      " theta0: 97.109082, theta1: -13.231546, theta2: 1.535723, error1: 58.861354\n",
      " theta0: 97.111089, theta1: -13.231522, theta2: 1.535086, error1: 58.860794\n",
      " theta0: 97.113091, theta1: -13.231498, theta2: 1.534451, error1: 58.860237\n",
      " theta0: 97.115089, theta1: -13.231475, theta2: 1.533817, error1: 58.859681\n",
      " theta0: 97.117082, theta1: -13.231451, theta2: 1.533184, error1: 58.859128\n",
      " theta0: 97.119072, theta1: -13.231428, theta2: 1.532553, error1: 58.858577\n",
      " theta0: 97.121056, theta1: -13.231404, theta2: 1.531923, error1: 58.858027\n",
      " theta0: 97.123037, theta1: -13.231381, theta2: 1.531294, error1: 58.857480\n",
      " theta0: 97.125014, theta1: -13.231357, theta2: 1.530667, error1: 58.856935\n",
      " theta0: 97.126986, theta1: -13.231334, theta2: 1.530041, error1: 58.856392\n",
      " theta0: 97.128954, theta1: -13.231311, theta2: 1.529416, error1: 58.855851\n",
      " theta0: 97.130917, theta1: -13.231287, theta2: 1.528793, error1: 58.855312\n",
      " theta0: 97.132877, theta1: -13.231264, theta2: 1.528171, error1: 58.854775\n",
      " theta0: 97.134832, theta1: -13.231241, theta2: 1.527550, error1: 58.854240\n",
      " theta0: 97.136783, theta1: -13.231218, theta2: 1.526931, error1: 58.853707\n",
      " theta0: 97.138730, theta1: -13.231195, theta2: 1.526313, error1: 58.853176\n",
      " theta0: 97.140672, theta1: -13.231172, theta2: 1.525696, error1: 58.852646\n",
      " theta0: 97.142611, theta1: -13.231149, theta2: 1.525081, error1: 58.852119\n",
      " theta0: 97.144545, theta1: -13.231126, theta2: 1.524467, error1: 58.851594\n",
      " theta0: 97.146475, theta1: -13.231103, theta2: 1.523855, error1: 58.851071\n",
      " theta0: 97.148401, theta1: -13.231081, theta2: 1.523243, error1: 58.850550\n",
      " theta0: 97.150323, theta1: -13.231058, theta2: 1.522633, error1: 58.850030\n",
      " theta0: 97.152240, theta1: -13.231035, theta2: 1.522025, error1: 58.849513\n",
      " theta0: 97.154154, theta1: -13.231013, theta2: 1.521417, error1: 58.848998\n",
      " theta0: 97.156063, theta1: -13.230990, theta2: 1.520811, error1: 58.848484\n",
      " theta0: 97.157968, theta1: -13.230968, theta2: 1.520207, error1: 58.847972\n",
      " theta0: 97.159869, theta1: -13.230945, theta2: 1.519603, error1: 58.847463\n",
      " theta0: 97.161766, theta1: -13.230923, theta2: 1.519001, error1: 58.846955\n",
      " theta0: 97.163659, theta1: -13.230900, theta2: 1.518400, error1: 58.846449\n",
      " theta0: 97.165548, theta1: -13.230878, theta2: 1.517801, error1: 58.845945\n",
      " theta0: 97.167433, theta1: -13.230856, theta2: 1.517202, error1: 58.845443\n",
      " theta0: 97.169314, theta1: -13.230833, theta2: 1.516605, error1: 58.844942\n",
      " theta0: 97.171190, theta1: -13.230811, theta2: 1.516010, error1: 58.844444\n",
      " theta0: 97.173063, theta1: -13.230789, theta2: 1.515415, error1: 58.843947\n",
      " theta0: 97.174931, theta1: -13.230767, theta2: 1.514822, error1: 58.843452\n",
      " theta0: 97.176796, theta1: -13.230745, theta2: 1.514231, error1: 58.842959\n",
      " theta0: 97.178656, theta1: -13.230723, theta2: 1.513640, error1: 58.842468\n",
      " theta0: 97.180513, theta1: -13.230701, theta2: 1.513051, error1: 58.841979\n",
      " theta0: 97.182365, theta1: -13.230679, theta2: 1.512463, error1: 58.841491\n",
      " theta0: 97.184214, theta1: -13.230657, theta2: 1.511876, error1: 58.841006\n",
      " theta0: 97.186059, theta1: -13.230635, theta2: 1.511290, error1: 58.840522\n",
      " theta0: 97.187899, theta1: -13.230614, theta2: 1.510706, error1: 58.840040\n",
      " theta0: 97.189736, theta1: -13.230592, theta2: 1.510123, error1: 58.839560\n",
      " theta0: 97.191568, theta1: -13.230570, theta2: 1.509542, error1: 58.839081\n",
      " theta0: 97.193397, theta1: -13.230549, theta2: 1.508961, error1: 58.838604\n",
      " theta0: 97.195222, theta1: -13.230527, theta2: 1.508382, error1: 58.838129\n",
      " theta0: 97.197043, theta1: -13.230506, theta2: 1.507804, error1: 58.837656\n",
      " theta0: 97.198859, theta1: -13.230484, theta2: 1.507227, error1: 58.837185\n",
      " theta0: 97.200672, theta1: -13.230463, theta2: 1.506652, error1: 58.836715\n",
      " theta0: 97.202481, theta1: -13.230441, theta2: 1.506078, error1: 58.836247\n",
      " theta0: 97.204287, theta1: -13.230420, theta2: 1.505505, error1: 58.835781\n",
      " theta0: 97.206088, theta1: -13.230399, theta2: 1.504933, error1: 58.835316\n",
      " theta0: 97.207885, theta1: -13.230377, theta2: 1.504363, error1: 58.834853\n",
      " theta0: 97.209679, theta1: -13.230356, theta2: 1.503793, error1: 58.834392\n",
      " theta0: 97.211468, theta1: -13.230335, theta2: 1.503225, error1: 58.833933\n",
      " theta0: 97.213254, theta1: -13.230314, theta2: 1.502658, error1: 58.833475\n",
      " theta0: 97.215036, theta1: -13.230293, theta2: 1.502093, error1: 58.833019\n",
      " theta0: 97.216814, theta1: -13.230272, theta2: 1.501528, error1: 58.832565\n",
      " theta0: 97.218588, theta1: -13.230251, theta2: 1.500965, error1: 58.832112\n",
      " theta0: 97.220359, theta1: -13.230230, theta2: 1.500403, error1: 58.831661\n",
      " theta0: 97.222125, theta1: -13.230209, theta2: 1.499843, error1: 58.831211\n",
      " theta0: 97.223888, theta1: -13.230188, theta2: 1.499283, error1: 58.830764\n",
      " theta0: 97.225647, theta1: -13.230167, theta2: 1.498725, error1: 58.830318\n",
      " theta0: 97.227402, theta1: -13.230147, theta2: 1.498168, error1: 58.829873\n",
      " theta0: 97.229154, theta1: -13.230126, theta2: 1.497612, error1: 58.829431\n",
      " theta0: 97.230902, theta1: -13.230105, theta2: 1.497057, error1: 58.828989\n",
      " theta0: 97.232645, theta1: -13.230085, theta2: 1.496503, error1: 58.828550\n",
      " theta0: 97.234386, theta1: -13.230064, theta2: 1.495951, error1: 58.828112\n",
      " theta0: 97.236122, theta1: -13.230043, theta2: 1.495400, error1: 58.827676\n",
      " theta0: 97.237855, theta1: -13.230023, theta2: 1.494850, error1: 58.827241\n",
      " theta0: 97.239583, theta1: -13.230002, theta2: 1.494301, error1: 58.826808\n",
      " theta0: 97.241309, theta1: -13.229982, theta2: 1.493754, error1: 58.826377\n",
      " theta0: 97.243030, theta1: -13.229962, theta2: 1.493207, error1: 58.825947\n",
      " theta0: 97.244748, theta1: -13.229941, theta2: 1.492662, error1: 58.825518\n",
      " theta0: 97.246462, theta1: -13.229921, theta2: 1.492118, error1: 58.825092\n",
      " theta0: 97.248172, theta1: -13.229901, theta2: 1.491575, error1: 58.824666\n",
      " theta0: 97.249879, theta1: -13.229881, theta2: 1.491033, error1: 58.824243\n",
      " theta0: 97.251582, theta1: -13.229861, theta2: 1.490493, error1: 58.823821\n",
      " theta0: 97.253281, theta1: -13.229840, theta2: 1.489954, error1: 58.823400\n",
      " theta0: 97.254977, theta1: -13.229820, theta2: 1.489415, error1: 58.822981\n",
      " theta0: 97.256669, theta1: -13.229800, theta2: 1.488878, error1: 58.822564\n",
      " theta0: 97.258357, theta1: -13.229780, theta2: 1.488342, error1: 58.822148\n",
      " theta0: 97.260042, theta1: -13.229761, theta2: 1.487808, error1: 58.821733\n",
      " theta0: 97.261723, theta1: -13.229741, theta2: 1.487274, error1: 58.821321\n",
      " theta0: 97.263400, theta1: -13.229721, theta2: 1.486742, error1: 58.820909\n",
      " theta0: 97.265074, theta1: -13.229701, theta2: 1.486210, error1: 58.820499\n",
      " theta0: 97.266744, theta1: -13.229681, theta2: 1.485680, error1: 58.820091\n",
      " theta0: 97.268411, theta1: -13.229662, theta2: 1.485151, error1: 58.819684\n",
      " theta0: 97.270074, theta1: -13.229642, theta2: 1.484623, error1: 58.819279\n",
      " theta0: 97.271733, theta1: -13.229622, theta2: 1.484097, error1: 58.818875\n",
      " theta0: 97.273389, theta1: -13.229603, theta2: 1.483571, error1: 58.818473\n",
      " theta0: 97.275042, theta1: -13.229583, theta2: 1.483047, error1: 58.818072\n",
      " theta0: 97.276690, theta1: -13.229564, theta2: 1.482523, error1: 58.817672\n",
      " theta0: 97.278336, theta1: -13.229544, theta2: 1.482001, error1: 58.817274\n",
      " theta0: 97.279977, theta1: -13.229525, theta2: 1.481480, error1: 58.816878\n",
      " theta0: 97.281615, theta1: -13.229505, theta2: 1.480960, error1: 58.816482\n",
      " theta0: 97.283250, theta1: -13.229486, theta2: 1.480441, error1: 58.816089\n",
      " theta0: 97.284881, theta1: -13.229467, theta2: 1.479924, error1: 58.815697\n",
      " theta0: 97.286508, theta1: -13.229448, theta2: 1.479407, error1: 58.815306\n",
      " theta0: 97.288132, theta1: -13.229428, theta2: 1.478891, error1: 58.814916\n",
      " theta0: 97.289753, theta1: -13.229409, theta2: 1.478377, error1: 58.814528\n",
      " theta0: 97.291370, theta1: -13.229390, theta2: 1.477864, error1: 58.814142\n",
      " theta0: 97.292983, theta1: -13.229371, theta2: 1.477352, error1: 58.813757\n",
      " theta0: 97.294594, theta1: -13.229352, theta2: 1.476841, error1: 58.813373\n",
      " theta0: 97.296200, theta1: -13.229333, theta2: 1.476331, error1: 58.812991\n",
      " theta0: 97.297803, theta1: -13.229314, theta2: 1.475822, error1: 58.812610\n",
      " theta0: 97.299403, theta1: -13.229295, theta2: 1.475314, error1: 58.812230\n",
      " theta0: 97.300999, theta1: -13.229276, theta2: 1.474807, error1: 58.811852\n",
      " theta0: 97.302592, theta1: -13.229257, theta2: 1.474302, error1: 58.811475\n",
      " theta0: 97.304181, theta1: -13.229239, theta2: 1.473797, error1: 58.811100\n",
      " theta0: 97.305767, theta1: -13.229220, theta2: 1.473294, error1: 58.810726\n",
      " theta0: 97.307350, theta1: -13.229201, theta2: 1.472792, error1: 58.810353\n",
      " theta0: 97.308929, theta1: -13.229182, theta2: 1.472291, error1: 58.809982\n",
      " theta0: 97.310504, theta1: -13.229164, theta2: 1.471790, error1: 58.809612\n",
      " theta0: 97.312077, theta1: -13.229145, theta2: 1.471291, error1: 58.809243\n",
      " theta0: 97.313646, theta1: -13.229127, theta2: 1.470793, error1: 58.808876\n",
      " theta0: 97.315211, theta1: -13.229108, theta2: 1.470296, error1: 58.808510\n",
      " theta0: 97.316773, theta1: -13.229090, theta2: 1.469801, error1: 58.808145\n",
      " theta0: 97.318332, theta1: -13.229071, theta2: 1.469306, error1: 58.807782\n",
      " theta0: 97.319887, theta1: -13.229053, theta2: 1.468812, error1: 58.807420\n",
      " theta0: 97.321439, theta1: -13.229035, theta2: 1.468320, error1: 58.807059\n",
      " theta0: 97.322988, theta1: -13.229016, theta2: 1.467828, error1: 58.806700\n",
      " theta0: 97.324534, theta1: -13.228998, theta2: 1.467337, error1: 58.806342\n",
      " theta0: 97.326076, theta1: -13.228980, theta2: 1.466848, error1: 58.805985\n",
      " theta0: 97.327614, theta1: -13.228962, theta2: 1.466360, error1: 58.805629\n",
      " theta0: 97.329150, theta1: -13.228943, theta2: 1.465872, error1: 58.805275\n",
      " theta0: 97.330682, theta1: -13.228925, theta2: 1.465386, error1: 58.804922\n",
      " theta0: 97.332211, theta1: -13.228907, theta2: 1.464901, error1: 58.804571\n",
      " theta0: 97.333736, theta1: -13.228889, theta2: 1.464417, error1: 58.804220\n",
      " theta0: 97.335258, theta1: -13.228871, theta2: 1.463933, error1: 58.803871\n",
      " theta0: 97.336777, theta1: -13.228853, theta2: 1.463451, error1: 58.803523\n",
      " theta0: 97.338293, theta1: -13.228835, theta2: 1.462970, error1: 58.803177\n",
      " theta0: 97.339805, theta1: -13.228817, theta2: 1.462490, error1: 58.802832\n",
      " theta0: 97.341314, theta1: -13.228800, theta2: 1.462011, error1: 58.802487\n",
      " theta0: 97.342820, theta1: -13.228782, theta2: 1.461533, error1: 58.802145\n",
      " theta0: 97.344323, theta1: -13.228764, theta2: 1.461056, error1: 58.801803\n",
      " theta0: 97.345822, theta1: -13.228746, theta2: 1.460580, error1: 58.801463\n",
      " theta0: 97.347318, theta1: -13.228729, theta2: 1.460105, error1: 58.801124\n",
      " theta0: 97.348811, theta1: -13.228711, theta2: 1.459632, error1: 58.800786\n",
      " theta0: 97.350301, theta1: -13.228693, theta2: 1.459159, error1: 58.800449\n",
      " theta0: 97.351787, theta1: -13.228676, theta2: 1.458687, error1: 58.800113\n",
      " theta0: 97.353271, theta1: -13.228658, theta2: 1.458216, error1: 58.799779\n",
      " theta0: 97.354751, theta1: -13.228641, theta2: 1.457746, error1: 58.799446\n",
      " theta0: 97.356228, theta1: -13.228623, theta2: 1.457277, error1: 58.799114\n",
      " theta0: 97.357701, theta1: -13.228606, theta2: 1.456810, error1: 58.798784\n",
      " theta0: 97.359172, theta1: -13.228588, theta2: 1.456343, error1: 58.798454\n",
      " theta0: 97.360639, theta1: -13.228571, theta2: 1.455877, error1: 58.798126\n",
      " theta0: 97.362104, theta1: -13.228554, theta2: 1.455412, error1: 58.797799\n",
      " theta0: 97.363565, theta1: -13.228536, theta2: 1.454949, error1: 58.797473\n",
      " theta0: 97.365023, theta1: -13.228519, theta2: 1.454486, error1: 58.797148\n",
      " theta0: 97.366477, theta1: -13.228502, theta2: 1.454024, error1: 58.796824\n",
      " theta0: 97.367929, theta1: -13.228485, theta2: 1.453563, error1: 58.796502\n",
      " theta0: 97.369377, theta1: -13.228468, theta2: 1.453104, error1: 58.796181\n",
      " theta0: 97.370823, theta1: -13.228451, theta2: 1.452645, error1: 58.795861\n",
      " theta0: 97.372265, theta1: -13.228434, theta2: 1.452187, error1: 58.795542\n",
      " theta0: 97.373704, theta1: -13.228416, theta2: 1.451730, error1: 58.795224\n",
      " theta0: 97.375140, theta1: -13.228400, theta2: 1.451275, error1: 58.794907\n",
      " theta0: 97.376573, theta1: -13.228383, theta2: 1.450820, error1: 58.794592\n",
      " theta0: 97.378003, theta1: -13.228366, theta2: 1.450366, error1: 58.794277\n",
      " theta0: 97.379430, theta1: -13.228349, theta2: 1.449913, error1: 58.793964\n",
      " theta0: 97.380854, theta1: -13.228332, theta2: 1.449461, error1: 58.793652\n",
      " theta0: 97.382274, theta1: -13.228315, theta2: 1.449010, error1: 58.793341\n",
      " theta0: 97.383692, theta1: -13.228298, theta2: 1.448560, error1: 58.793031\n",
      " theta0: 97.385106, theta1: -13.228282, theta2: 1.448111, error1: 58.792722\n",
      " theta0: 97.386518, theta1: -13.228265, theta2: 1.447663, error1: 58.792414\n",
      " theta0: 97.387926, theta1: -13.228248, theta2: 1.447216, error1: 58.792108\n",
      " theta0: 97.389332, theta1: -13.228232, theta2: 1.446770, error1: 58.791802\n",
      " theta0: 97.390734, theta1: -13.228215, theta2: 1.446325, error1: 58.791498\n",
      " theta0: 97.392133, theta1: -13.228199, theta2: 1.445881, error1: 58.791195\n",
      " theta0: 97.393529, theta1: -13.228182, theta2: 1.445438, error1: 58.790892\n",
      " theta0: 97.394923, theta1: -13.228166, theta2: 1.444995, error1: 58.790591\n",
      " theta0: 97.396313, theta1: -13.228149, theta2: 1.444554, error1: 58.790291\n",
      " theta0: 97.397700, theta1: -13.228133, theta2: 1.444114, error1: 58.789992\n",
      " theta0: 97.399085, theta1: -13.228116, theta2: 1.443674, error1: 58.789694\n",
      " theta0: 97.400466, theta1: -13.228100, theta2: 1.443236, error1: 58.789397\n",
      " theta0: 97.401844, theta1: -13.228084, theta2: 1.442798, error1: 58.789101\n",
      " theta0: 97.403220, theta1: -13.228067, theta2: 1.442362, error1: 58.788807\n",
      " theta0: 97.404592, theta1: -13.228051, theta2: 1.441926, error1: 58.788513\n",
      " theta0: 97.405962, theta1: -13.228035, theta2: 1.441492, error1: 58.788220\n",
      " theta0: 97.407328, theta1: -13.228019, theta2: 1.441058, error1: 58.787929\n",
      " theta0: 97.408692, theta1: -13.228003, theta2: 1.440625, error1: 58.787638\n",
      " theta0: 97.410052, theta1: -13.227987, theta2: 1.440193, error1: 58.787349\n",
      " theta0: 97.411410, theta1: -13.227971, theta2: 1.439762, error1: 58.787060\n",
      " theta0: 97.412765, theta1: -13.227955, theta2: 1.439332, error1: 58.786773\n",
      " theta0: 97.414117, theta1: -13.227939, theta2: 1.438903, error1: 58.786486\n",
      " theta0: 97.415466, theta1: -13.227923, theta2: 1.438475, error1: 58.786201\n",
      " theta0: 97.416812, theta1: -13.227907, theta2: 1.438048, error1: 58.785916\n",
      " theta0: 97.418155, theta1: -13.227891, theta2: 1.437621, error1: 58.785633\n",
      " theta0: 97.419495, theta1: -13.227875, theta2: 1.437196, error1: 58.785351\n",
      " theta0: 97.420832, theta1: -13.227859, theta2: 1.436772, error1: 58.785069\n",
      " theta0: 97.422167, theta1: -13.227843, theta2: 1.436348, error1: 58.784789\n",
      " theta0: 97.423498, theta1: -13.227828, theta2: 1.435925, error1: 58.784509\n",
      " theta0: 97.424827, theta1: -13.227812, theta2: 1.435504, error1: 58.784231\n",
      " theta0: 97.426153, theta1: -13.227796, theta2: 1.435083, error1: 58.783954\n",
      " theta0: 97.427476, theta1: -13.227781, theta2: 1.434663, error1: 58.783677\n",
      " theta0: 97.428796, theta1: -13.227765, theta2: 1.434244, error1: 58.783402\n",
      " theta0: 97.430113, theta1: -13.227749, theta2: 1.433826, error1: 58.783127\n",
      " theta0: 97.431428, theta1: -13.227734, theta2: 1.433408, error1: 58.782854\n",
      " theta0: 97.432739, theta1: -13.227718, theta2: 1.432992, error1: 58.782581\n",
      " theta0: 97.434048, theta1: -13.227703, theta2: 1.432577, error1: 58.782310\n",
      " theta0: 97.435354, theta1: -13.227687, theta2: 1.432162, error1: 58.782039\n",
      " theta0: 97.436657, theta1: -13.227672, theta2: 1.431749, error1: 58.781769\n",
      " theta0: 97.437957, theta1: -13.227657, theta2: 1.431336, error1: 58.781501\n",
      " theta0: 97.439255, theta1: -13.227641, theta2: 1.430924, error1: 58.781233\n",
      " theta0: 97.440550, theta1: -13.227626, theta2: 1.430513, error1: 58.780966\n",
      " theta0: 97.441842, theta1: -13.227611, theta2: 1.430103, error1: 58.780700\n",
      " theta0: 97.443131, theta1: -13.227596, theta2: 1.429694, error1: 58.780435\n",
      " theta0: 97.444417, theta1: -13.227580, theta2: 1.429285, error1: 58.780171\n",
      " theta0: 97.445701, theta1: -13.227565, theta2: 1.428878, error1: 58.779908\n",
      " theta0: 97.446982, theta1: -13.227550, theta2: 1.428472, error1: 58.779646\n",
      " theta0: 97.448260, theta1: -13.227535, theta2: 1.428066, error1: 58.779385\n",
      " theta0: 97.449535, theta1: -13.227520, theta2: 1.427661, error1: 58.779125\n",
      " theta0: 97.450808, theta1: -13.227505, theta2: 1.427257, error1: 58.778866\n",
      " theta0: 97.452077, theta1: -13.227490, theta2: 1.426854, error1: 58.778607\n",
      " theta0: 97.453344, theta1: -13.227475, theta2: 1.426452, error1: 58.778350\n",
      " theta0: 97.454609, theta1: -13.227460, theta2: 1.426051, error1: 58.778093\n",
      " theta0: 97.455870, theta1: -13.227445, theta2: 1.425650, error1: 58.777837\n",
      " theta0: 97.457129, theta1: -13.227430, theta2: 1.425251, error1: 58.777583\n",
      " theta0: 97.458386, theta1: -13.227415, theta2: 1.424852, error1: 58.777329\n",
      " theta0: 97.459639, theta1: -13.227400, theta2: 1.424454, error1: 58.777076\n",
      " theta0: 97.460890, theta1: -13.227386, theta2: 1.424057, error1: 58.776824\n",
      " theta0: 97.462138, theta1: -13.227371, theta2: 1.423661, error1: 58.776572\n",
      " theta0: 97.463383, theta1: -13.227356, theta2: 1.423265, error1: 58.776322\n",
      " theta0: 97.464626, theta1: -13.227341, theta2: 1.422871, error1: 58.776073\n",
      " theta0: 97.465866, theta1: -13.227327, theta2: 1.422477, error1: 58.775824\n",
      " theta0: 97.467103, theta1: -13.227312, theta2: 1.422085, error1: 58.775576\n",
      " theta0: 97.468338, theta1: -13.227297, theta2: 1.421693, error1: 58.775330\n",
      " theta0: 97.469570, theta1: -13.227283, theta2: 1.421302, error1: 58.775084\n",
      " theta0: 97.470800, theta1: -13.227268, theta2: 1.420911, error1: 58.774838\n",
      " theta0: 97.472026, theta1: -13.227254, theta2: 1.420522, error1: 58.774594\n",
      " theta0: 97.473250, theta1: -13.227239, theta2: 1.420134, error1: 58.774351\n",
      " theta0: 97.474472, theta1: -13.227225, theta2: 1.419746, error1: 58.774108\n",
      " theta0: 97.475691, theta1: -13.227211, theta2: 1.419359, error1: 58.773867\n",
      " theta0: 97.476907, theta1: -13.227196, theta2: 1.418973, error1: 58.773626\n",
      " theta0: 97.478120, theta1: -13.227182, theta2: 1.418588, error1: 58.773386\n",
      " theta0: 97.479331, theta1: -13.227167, theta2: 1.418203, error1: 58.773147\n",
      " theta0: 97.480540, theta1: -13.227153, theta2: 1.417820, error1: 58.772908\n",
      " theta0: 97.481745, theta1: -13.227139, theta2: 1.417437, error1: 58.772671\n",
      " theta0: 97.482949, theta1: -13.227125, theta2: 1.417055, error1: 58.772434\n",
      " theta0: 97.484149, theta1: -13.227110, theta2: 1.416674, error1: 58.772199\n",
      " theta0: 97.485347, theta1: -13.227096, theta2: 1.416294, error1: 58.771964\n",
      " theta0: 97.486542, theta1: -13.227082, theta2: 1.415915, error1: 58.771729\n",
      " theta0: 97.487735, theta1: -13.227068, theta2: 1.415536, error1: 58.771496\n",
      " theta0: 97.488925, theta1: -13.227054, theta2: 1.415158, error1: 58.771264\n",
      " theta0: 97.490113, theta1: -13.227040, theta2: 1.414781, error1: 58.771032\n",
      " theta0: 97.491298, theta1: -13.227026, theta2: 1.414405, error1: 58.770801\n",
      " theta0: 97.492481, theta1: -13.227012, theta2: 1.414030, error1: 58.770571\n",
      " theta0: 97.493661, theta1: -13.226998, theta2: 1.413655, error1: 58.770342\n",
      " theta0: 97.494838, theta1: -13.226984, theta2: 1.413281, error1: 58.770113\n",
      " theta0: 97.496013, theta1: -13.226970, theta2: 1.412909, error1: 58.769885\n",
      " theta0: 97.497185, theta1: -13.226956, theta2: 1.412536, error1: 58.769659\n",
      " theta0: 97.498355, theta1: -13.226942, theta2: 1.412165, error1: 58.769432\n",
      " theta0: 97.499523, theta1: -13.226929, theta2: 1.411795, error1: 58.769207\n",
      " theta0: 97.500687, theta1: -13.226915, theta2: 1.411425, error1: 58.768983\n",
      " theta0: 97.501850, theta1: -13.226901, theta2: 1.411056, error1: 58.768759\n",
      " theta0: 97.503010, theta1: -13.226887, theta2: 1.410688, error1: 58.768536\n",
      " theta0: 97.504167, theta1: -13.226874, theta2: 1.410320, error1: 58.768314\n",
      " theta0: 97.505322, theta1: -13.226860, theta2: 1.409954, error1: 58.768092\n",
      " theta0: 97.506474, theta1: -13.226846, theta2: 1.409588, error1: 58.767872\n",
      " theta0: 97.507624, theta1: -13.226833, theta2: 1.409223, error1: 58.767652\n",
      " theta0: 97.508771, theta1: -13.226819, theta2: 1.408859, error1: 58.767433\n",
      " theta0: 97.509916, theta1: -13.226806, theta2: 1.408496, error1: 58.767214\n",
      " theta0: 97.511058, theta1: -13.226792, theta2: 1.408133, error1: 58.766997\n",
      " theta0: 97.512198, theta1: -13.226779, theta2: 1.407771, error1: 58.766780\n",
      " theta0: 97.513336, theta1: -13.226765, theta2: 1.407410, error1: 58.766564\n",
      " theta0: 97.514471, theta1: -13.226752, theta2: 1.407050, error1: 58.766349\n",
      " theta0: 97.515603, theta1: -13.226739, theta2: 1.406690, error1: 58.766134\n",
      " theta0: 97.516734, theta1: -13.226725, theta2: 1.406332, error1: 58.765920\n",
      " theta0: 97.517861, theta1: -13.226712, theta2: 1.405974, error1: 58.765707\n",
      " theta0: 97.518987, theta1: -13.226699, theta2: 1.405617, error1: 58.765495\n",
      " theta0: 97.520109, theta1: -13.226685, theta2: 1.405260, error1: 58.765283\n",
      " theta0: 97.521230, theta1: -13.226672, theta2: 1.404905, error1: 58.765072\n",
      " theta0: 97.522348, theta1: -13.226659, theta2: 1.404550, error1: 58.764862\n",
      " theta0: 97.523463, theta1: -13.226646, theta2: 1.404196, error1: 58.764653\n",
      " theta0: 97.524577, theta1: -13.226632, theta2: 1.403842, error1: 58.764444\n",
      " theta0: 97.525687, theta1: -13.226619, theta2: 1.403490, error1: 58.764236\n",
      " theta0: 97.526796, theta1: -13.226606, theta2: 1.403138, error1: 58.764029\n",
      " theta0: 97.527902, theta1: -13.226593, theta2: 1.402787, error1: 58.763822\n",
      " theta0: 97.529006, theta1: -13.226580, theta2: 1.402436, error1: 58.763616\n",
      " theta0: 97.530107, theta1: -13.226567, theta2: 1.402087, error1: 58.763411\n",
      " theta0: 97.531206, theta1: -13.226554, theta2: 1.401738, error1: 58.763207\n",
      " theta0: 97.532302, theta1: -13.226541, theta2: 1.401390, error1: 58.763003\n",
      " theta0: 97.533396, theta1: -13.226528, theta2: 1.401043, error1: 58.762800\n",
      " theta0: 97.534488, theta1: -13.226515, theta2: 1.400696, error1: 58.762598\n",
      " theta0: 97.535578, theta1: -13.226502, theta2: 1.400350, error1: 58.762396\n",
      " theta0: 97.536665, theta1: -13.226489, theta2: 1.400005, error1: 58.762195\n",
      " theta0: 97.537749, theta1: -13.226477, theta2: 1.399661, error1: 58.761995\n",
      " theta0: 97.538832, theta1: -13.226464, theta2: 1.399318, error1: 58.761796\n",
      " theta0: 97.539912, theta1: -13.226451, theta2: 1.398975, error1: 58.761597\n",
      " theta0: 97.540990, theta1: -13.226438, theta2: 1.398633, error1: 58.761399\n",
      " theta0: 97.542065, theta1: -13.226426, theta2: 1.398291, error1: 58.761201\n",
      " theta0: 97.543138, theta1: -13.226413, theta2: 1.397951, error1: 58.761004\n",
      " theta0: 97.544209, theta1: -13.226400, theta2: 1.397611, error1: 58.760808\n",
      " theta0: 97.545277, theta1: -13.226388, theta2: 1.397272, error1: 58.760613\n",
      " theta0: 97.546344, theta1: -13.226375, theta2: 1.396933, error1: 58.760418\n",
      " theta0: 97.547407, theta1: -13.226362, theta2: 1.396596, error1: 58.760224\n",
      " theta0: 97.548469, theta1: -13.226350, theta2: 1.396259, error1: 58.760031\n",
      " theta0: 97.549528, theta1: -13.226337, theta2: 1.395922, error1: 58.759838\n",
      " theta0: 97.550585, theta1: -13.226325, theta2: 1.395587, error1: 58.759646\n",
      " theta0: 97.551640, theta1: -13.226312, theta2: 1.395252, error1: 58.759454\n",
      " theta0: 97.552693, theta1: -13.226300, theta2: 1.394918, error1: 58.759264\n",
      " theta0: 97.553743, theta1: -13.226288, theta2: 1.394585, error1: 58.759074\n",
      " theta0: 97.554791, theta1: -13.226275, theta2: 1.394252, error1: 58.758884\n",
      " theta0: 97.555836, theta1: -13.226263, theta2: 1.393920, error1: 58.758695\n",
      " theta0: 97.556880, theta1: -13.226250, theta2: 1.393589, error1: 58.758507\n",
      " theta0: 97.557921, theta1: -13.226238, theta2: 1.393259, error1: 58.758320\n",
      " theta0: 97.558960, theta1: -13.226226, theta2: 1.392929, error1: 58.758133\n",
      " theta0: 97.559996, theta1: -13.226214, theta2: 1.392600, error1: 58.757947\n",
      " theta0: 97.561031, theta1: -13.226201, theta2: 1.392271, error1: 58.757761\n",
      " theta0: 97.562063, theta1: -13.226189, theta2: 1.391944, error1: 58.757576\n",
      " theta0: 97.563093, theta1: -13.226177, theta2: 1.391617, error1: 58.757392\n",
      " theta0: 97.564121, theta1: -13.226165, theta2: 1.391291, error1: 58.757208\n",
      " theta0: 97.565146, theta1: -13.226153, theta2: 1.390965, error1: 58.757025\n",
      " theta0: 97.566170, theta1: -13.226141, theta2: 1.390640, error1: 58.756843\n",
      " theta0: 97.567191, theta1: -13.226129, theta2: 1.390316, error1: 58.756661\n",
      " theta0: 97.568210, theta1: -13.226116, theta2: 1.389993, error1: 58.756480\n",
      " theta0: 97.569227, theta1: -13.226104, theta2: 1.389670, error1: 58.756299\n",
      " theta0: 97.570241, theta1: -13.226092, theta2: 1.389348, error1: 58.756119\n",
      " theta0: 97.571254, theta1: -13.226080, theta2: 1.389027, error1: 58.755940\n",
      " theta0: 97.572264, theta1: -13.226069, theta2: 1.388706, error1: 58.755761\n",
      " theta0: 97.573272, theta1: -13.226057, theta2: 1.388386, error1: 58.755583\n",
      " theta0: 97.574278, theta1: -13.226045, theta2: 1.388067, error1: 58.755405\n",
      " theta0: 97.575281, theta1: -13.226033, theta2: 1.387748, error1: 58.755228\n",
      " theta0: 97.576283, theta1: -13.226021, theta2: 1.387430, error1: 58.755052\n",
      " theta0: 97.577282, theta1: -13.226009, theta2: 1.387113, error1: 58.754876\n",
      " theta0: 97.578279, theta1: -13.225997, theta2: 1.386797, error1: 58.754701\n",
      " theta0: 97.579274, theta1: -13.225986, theta2: 1.386481, error1: 58.754527\n",
      " theta0: 97.580267, theta1: -13.225974, theta2: 1.386166, error1: 58.754353\n",
      " theta0: 97.581258, theta1: -13.225962, theta2: 1.385851, error1: 58.754180\n",
      " theta0: 97.582246, theta1: -13.225950, theta2: 1.385537, error1: 58.754007\n",
      " theta0: 97.583233, theta1: -13.225939, theta2: 1.385224, error1: 58.753835\n",
      " theta0: 97.584217, theta1: -13.225927, theta2: 1.384912, error1: 58.753663\n",
      " theta0: 97.585200, theta1: -13.225916, theta2: 1.384600, error1: 58.753492\n",
      " theta0: 97.586180, theta1: -13.225904, theta2: 1.384289, error1: 58.753322\n",
      " theta0: 97.587158, theta1: -13.225892, theta2: 1.383979, error1: 58.753152\n",
      " theta0: 97.588134, theta1: -13.225881, theta2: 1.383669, error1: 58.752983\n",
      " theta0: 97.589107, theta1: -13.225869, theta2: 1.383360, error1: 58.752814\n",
      " theta0: 97.590079, theta1: -13.225858, theta2: 1.383051, error1: 58.752646\n",
      " theta0: 97.591049, theta1: -13.225846, theta2: 1.382744, error1: 58.752478\n",
      " theta0: 97.592016, theta1: -13.225835, theta2: 1.382436, error1: 58.752311\n",
      " theta0: 97.592982, theta1: -13.225824, theta2: 1.382130, error1: 58.752145\n",
      " theta0: 97.593945, theta1: -13.225812, theta2: 1.381824, error1: 58.751979\n",
      " theta0: 97.594906, theta1: -13.225801, theta2: 1.381519, error1: 58.751814\n",
      " theta0: 97.595865, theta1: -13.225789, theta2: 1.381215, error1: 58.751649\n",
      " theta0: 97.596822, theta1: -13.225778, theta2: 1.380911, error1: 58.751485\n",
      " theta0: 97.597778, theta1: -13.225767, theta2: 1.380608, error1: 58.751322\n",
      " theta0: 97.598731, theta1: -13.225756, theta2: 1.380305, error1: 58.751159\n",
      " theta0: 97.599681, theta1: -13.225744, theta2: 1.380003, error1: 58.750996\n",
      " theta0: 97.600630, theta1: -13.225733, theta2: 1.379702, error1: 58.750834\n",
      " theta0: 97.601577, theta1: -13.225722, theta2: 1.379402, error1: 58.750673\n",
      " theta0: 97.602522, theta1: -13.225711, theta2: 1.379102, error1: 58.750512\n",
      " theta0: 97.603465, theta1: -13.225700, theta2: 1.378803, error1: 58.750352\n",
      " theta0: 97.604406, theta1: -13.225688, theta2: 1.378504, error1: 58.750192\n",
      " theta0: 97.605344, theta1: -13.225677, theta2: 1.378206, error1: 58.750033\n",
      " theta0: 97.606281, theta1: -13.225666, theta2: 1.377909, error1: 58.749874\n",
      " theta0: 97.607216, theta1: -13.225655, theta2: 1.377612, error1: 58.749716\n",
      " theta0: 97.608148, theta1: -13.225644, theta2: 1.377316, error1: 58.749558\n",
      " theta0: 97.609079, theta1: -13.225633, theta2: 1.377021, error1: 58.749401\n",
      " theta0: 97.610008, theta1: -13.225622, theta2: 1.376726, error1: 58.749245\n",
      " theta0: 97.610934, theta1: -13.225611, theta2: 1.376432, error1: 58.749089\n",
      " theta0: 97.611859, theta1: -13.225600, theta2: 1.376138, error1: 58.748933\n",
      " theta0: 97.612781, theta1: -13.225589, theta2: 1.375845, error1: 58.748778\n",
      " theta0: 97.613702, theta1: -13.225579, theta2: 1.375553, error1: 58.748624\n",
      " theta0: 97.614621, theta1: -13.225568, theta2: 1.375262, error1: 58.748470\n",
      " theta0: 97.615537, theta1: -13.225557, theta2: 1.374971, error1: 58.748316\n",
      " theta0: 97.616452, theta1: -13.225546, theta2: 1.374680, error1: 58.748163\n",
      " theta0: 97.617365, theta1: -13.225535, theta2: 1.374391, error1: 58.748011\n",
      " theta0: 97.618276, theta1: -13.225524, theta2: 1.374101, error1: 58.747859\n",
      " theta0: 97.619185, theta1: -13.225514, theta2: 1.373813, error1: 58.747708\n",
      " theta0: 97.620091, theta1: -13.225503, theta2: 1.373525, error1: 58.747557\n",
      " theta0: 97.620996, theta1: -13.225492, theta2: 1.373238, error1: 58.747407\n",
      " theta0: 97.621899, theta1: -13.225482, theta2: 1.372951, error1: 58.747257\n",
      " theta0: 97.622800, theta1: -13.225471, theta2: 1.372665, error1: 58.747107\n",
      " theta0: 97.623699, theta1: -13.225460, theta2: 1.372380, error1: 58.746959\n",
      " theta0: 97.624596, theta1: -13.225450, theta2: 1.372095, error1: 58.746810\n",
      " theta0: 97.625492, theta1: -13.225439, theta2: 1.371811, error1: 58.746662\n",
      " theta0: 97.626385, theta1: -13.225429, theta2: 1.371528, error1: 58.746515\n",
      " theta0: 97.627276, theta1: -13.225418, theta2: 1.371245, error1: 58.746368\n",
      " theta0: 97.628166, theta1: -13.225407, theta2: 1.370962, error1: 58.746222\n",
      " theta0: 97.629053, theta1: -13.225397, theta2: 1.370681, error1: 58.746076\n",
      " theta0: 97.629939, theta1: -13.225387, theta2: 1.370400, error1: 58.745930\n",
      " theta0: 97.630822, theta1: -13.225376, theta2: 1.370119, error1: 58.745786\n",
      " theta0: 97.631704, theta1: -13.225366, theta2: 1.369839, error1: 58.745641\n",
      " theta0: 97.632584, theta1: -13.225355, theta2: 1.369560, error1: 58.745497\n",
      " theta0: 97.633462, theta1: -13.225345, theta2: 1.369281, error1: 58.745354\n",
      " theta0: 97.634338, theta1: -13.225335, theta2: 1.369003, error1: 58.745211\n",
      " theta0: 97.635212, theta1: -13.225324, theta2: 1.368726, error1: 58.745068\n",
      " theta0: 97.636084, theta1: -13.225314, theta2: 1.368449, error1: 58.744926\n",
      " theta0: 97.636955, theta1: -13.225304, theta2: 1.368173, error1: 58.744785\n",
      " theta0: 97.637823, theta1: -13.225293, theta2: 1.367897, error1: 58.744644\n",
      " theta0: 97.638690, theta1: -13.225283, theta2: 1.367622, error1: 58.744503\n",
      " theta0: 97.639555, theta1: -13.225273, theta2: 1.367347, error1: 58.744363\n",
      " theta0: 97.640418, theta1: -13.225263, theta2: 1.367073, error1: 58.744223\n",
      " theta0: 97.641279, theta1: -13.225252, theta2: 1.366800, error1: 58.744084\n",
      " theta0: 97.642138, theta1: -13.225242, theta2: 1.366527, error1: 58.743945\n",
      " theta0: 97.642996, theta1: -13.225232, theta2: 1.366255, error1: 58.743807\n",
      " theta0: 97.643851, theta1: -13.225222, theta2: 1.365984, error1: 58.743669\n",
      " theta0: 97.644705, theta1: -13.225212, theta2: 1.365713, error1: 58.743532\n",
      " theta0: 97.645557, theta1: -13.225202, theta2: 1.365442, error1: 58.743395\n",
      " theta0: 97.646407, theta1: -13.225192, theta2: 1.365173, error1: 58.743258\n",
      " theta0: 97.647255, theta1: -13.225182, theta2: 1.364903, error1: 58.743122\n",
      " theta0: 97.648101, theta1: -13.225172, theta2: 1.364635, error1: 58.742987\n",
      " theta0: 97.648946, theta1: -13.225162, theta2: 1.364367, error1: 58.742852\n",
      " theta0: 97.649788, theta1: -13.225152, theta2: 1.364099, error1: 58.742717\n",
      " theta0: 97.650629, theta1: -13.225142, theta2: 1.363832, error1: 58.742583\n",
      " theta0: 97.651468, theta1: -13.225132, theta2: 1.363566, error1: 58.742449\n",
      " theta0: 97.652305, theta1: -13.225122, theta2: 1.363300, error1: 58.742316\n",
      " theta0: 97.653141, theta1: -13.225112, theta2: 1.363035, error1: 58.742183\n",
      " theta0: 97.653975, theta1: -13.225102, theta2: 1.362770, error1: 58.742051\n",
      " theta0: 97.654806, theta1: -13.225092, theta2: 1.362506, error1: 58.741919\n",
      " theta0: 97.655636, theta1: -13.225083, theta2: 1.362243, error1: 58.741787\n",
      " theta0: 97.656465, theta1: -13.225073, theta2: 1.361980, error1: 58.741656\n",
      " theta0: 97.657291, theta1: -13.225063, theta2: 1.361718, error1: 58.741525\n",
      " theta0: 97.658116, theta1: -13.225053, theta2: 1.361456, error1: 58.741395\n",
      " theta0: 97.658939, theta1: -13.225044, theta2: 1.361195, error1: 58.741265\n",
      " theta0: 97.659760, theta1: -13.225034, theta2: 1.360934, error1: 58.741136\n",
      " theta0: 97.660579, theta1: -13.225024, theta2: 1.360674, error1: 58.741007\n",
      " theta0: 97.661397, theta1: -13.225015, theta2: 1.360414, error1: 58.740878\n",
      " theta0: 97.662213, theta1: -13.225005, theta2: 1.360155, error1: 58.740750\n",
      " theta0: 97.663027, theta1: -13.224995, theta2: 1.359897, error1: 58.740622\n",
      " theta0: 97.663839, theta1: -13.224986, theta2: 1.359639, error1: 58.740495\n",
      " theta0: 97.664650, theta1: -13.224976, theta2: 1.359382, error1: 58.740368\n",
      " theta0: 97.665459, theta1: -13.224967, theta2: 1.359125, error1: 58.740242\n",
      " theta0: 97.666266, theta1: -13.224957, theta2: 1.358869, error1: 58.740116\n",
      " theta0: 97.667071, theta1: -13.224947, theta2: 1.358613, error1: 58.739990\n",
      " theta0: 97.667875, theta1: -13.224938, theta2: 1.358358, error1: 58.739865\n",
      " theta0: 97.668677, theta1: -13.224928, theta2: 1.358104, error1: 58.739740\n",
      " theta0: 97.669477, theta1: -13.224919, theta2: 1.357850, error1: 58.739616\n",
      " theta0: 97.670275, theta1: -13.224910, theta2: 1.357596, error1: 58.739492\n",
      " theta0: 97.671072, theta1: -13.224900, theta2: 1.357343, error1: 58.739368\n",
      " theta0: 97.671867, theta1: -13.224891, theta2: 1.357091, error1: 58.739245\n",
      " theta0: 97.672660, theta1: -13.224881, theta2: 1.356839, error1: 58.739122\n",
      " theta0: 97.673452, theta1: -13.224872, theta2: 1.356588, error1: 58.739000\n",
      " theta0: 97.674242, theta1: -13.224863, theta2: 1.356337, error1: 58.738878\n",
      " theta0: 97.675030, theta1: -13.224853, theta2: 1.356087, error1: 58.738757\n",
      " theta0: 97.675816, theta1: -13.224844, theta2: 1.355838, error1: 58.738636\n",
      " theta0: 97.676601, theta1: -13.224835, theta2: 1.355589, error1: 58.738515\n",
      " theta0: 97.677384, theta1: -13.224825, theta2: 1.355340, error1: 58.738394\n",
      " theta0: 97.678166, theta1: -13.224816, theta2: 1.355092, error1: 58.738274\n",
      " theta0: 97.678945, theta1: -13.224807, theta2: 1.354844, error1: 58.738155\n",
      " theta0: 97.679723, theta1: -13.224798, theta2: 1.354598, error1: 58.738036\n",
      " theta0: 97.680500, theta1: -13.224789, theta2: 1.354351, error1: 58.737917\n",
      " theta0: 97.681274, theta1: -13.224779, theta2: 1.354105, error1: 58.737799\n",
      " theta0: 97.682047, theta1: -13.224770, theta2: 1.353860, error1: 58.737681\n",
      " theta0: 97.682819, theta1: -13.224761, theta2: 1.353615, error1: 58.737563\n",
      " theta0: 97.683588, theta1: -13.224752, theta2: 1.353371, error1: 58.737446\n",
      " theta0: 97.684356, theta1: -13.224743, theta2: 1.353127, error1: 58.737329\n",
      " theta0: 97.685123, theta1: -13.224734, theta2: 1.352884, error1: 58.737212\n",
      " theta0: 97.685887, theta1: -13.224725, theta2: 1.352641, error1: 58.737096\n",
      " theta0: 97.686650, theta1: -13.224716, theta2: 1.352399, error1: 58.736981\n",
      " theta0: 97.687412, theta1: -13.224707, theta2: 1.352157, error1: 58.736865\n",
      " theta0: 97.688172, theta1: -13.224698, theta2: 1.351916, error1: 58.736750\n",
      " theta0: 97.688930, theta1: -13.224689, theta2: 1.351675, error1: 58.736636\n",
      " theta0: 97.689686, theta1: -13.224680, theta2: 1.351435, error1: 58.736522\n",
      " theta0: 97.690441, theta1: -13.224671, theta2: 1.351196, error1: 58.736408\n",
      " theta0: 97.691194, theta1: -13.224662, theta2: 1.350956, error1: 58.736294\n",
      " theta0: 97.691946, theta1: -13.224653, theta2: 1.350718, error1: 58.736181\n",
      " theta0: 97.692696, theta1: -13.224644, theta2: 1.350480, error1: 58.736069\n",
      " theta0: 97.693444, theta1: -13.224636, theta2: 1.350242, error1: 58.735956\n",
      " theta0: 97.694191, theta1: -13.224627, theta2: 1.350005, error1: 58.735844\n",
      " theta0: 97.694936, theta1: -13.224618, theta2: 1.349769, error1: 58.735733\n",
      " theta0: 97.695680, theta1: -13.224609, theta2: 1.349533, error1: 58.735621\n",
      " theta0: 97.696422, theta1: -13.224600, theta2: 1.349297, error1: 58.735510\n",
      " theta0: 97.697162, theta1: -13.224592, theta2: 1.349062, error1: 58.735400\n",
      " theta0: 97.697901, theta1: -13.224583, theta2: 1.348828, error1: 58.735290\n",
      " theta0: 97.698638, theta1: -13.224574, theta2: 1.348594, error1: 58.735180\n",
      " theta0: 97.699374, theta1: -13.224565, theta2: 1.348360, error1: 58.735070\n",
      " theta0: 97.700108, theta1: -13.224557, theta2: 1.348127, error1: 58.734961\n",
      " theta0: 97.700840, theta1: -13.224548, theta2: 1.347895, error1: 58.734853\n",
      " theta0: 97.701571, theta1: -13.224539, theta2: 1.347663, error1: 58.734744\n",
      " theta0: 97.702300, theta1: -13.224531, theta2: 1.347431, error1: 58.734636\n",
      " theta0: 97.703028, theta1: -13.224522, theta2: 1.347200, error1: 58.734528\n",
      " theta0: 97.703754, theta1: -13.224514, theta2: 1.346970, error1: 58.734421\n",
      " theta0: 97.704478, theta1: -13.224505, theta2: 1.346740, error1: 58.734314\n",
      " theta0: 97.705201, theta1: -13.224497, theta2: 1.346511, error1: 58.734207\n",
      " theta0: 97.705923, theta1: -13.224488, theta2: 1.346282, error1: 58.734101\n",
      " theta0: 97.706643, theta1: -13.224480, theta2: 1.346053, error1: 58.733995\n",
      " theta0: 97.707361, theta1: -13.224471, theta2: 1.345825, error1: 58.733889\n",
      " theta0: 97.708078, theta1: -13.224463, theta2: 1.345598, error1: 58.733784\n",
      " theta0: 97.708793, theta1: -13.224454, theta2: 1.345371, error1: 58.733679\n",
      " theta0: 97.709507, theta1: -13.224446, theta2: 1.345144, error1: 58.733575\n",
      " theta0: 97.710219, theta1: -13.224437, theta2: 1.344918, error1: 58.733470\n",
      " theta0: 97.710929, theta1: -13.224429, theta2: 1.344692, error1: 58.733366\n",
      " theta0: 97.711639, theta1: -13.224420, theta2: 1.344467, error1: 58.733263\n",
      " theta0: 97.712346, theta1: -13.224412, theta2: 1.344243, error1: 58.733159\n",
      " theta0: 97.713052, theta1: -13.224404, theta2: 1.344019, error1: 58.733057\n",
      " theta0: 97.713757, theta1: -13.224395, theta2: 1.343795, error1: 58.732954\n",
      " theta0: 97.714460, theta1: -13.224387, theta2: 1.343572, error1: 58.732852\n",
      " theta0: 97.715161, theta1: -13.224379, theta2: 1.343349, error1: 58.732750\n",
      " theta0: 97.715861, theta1: -13.224371, theta2: 1.343127, error1: 58.732648\n",
      " theta0: 97.716559, theta1: -13.224362, theta2: 1.342905, error1: 58.732547\n",
      " theta0: 97.717256, theta1: -13.224354, theta2: 1.342684, error1: 58.732446\n",
      " theta0: 97.717952, theta1: -13.224346, theta2: 1.342463, error1: 58.732345\n",
      " theta0: 97.718646, theta1: -13.224338, theta2: 1.342243, error1: 58.732245\n",
      "Done: theta0 : 97.719338, theta1 : -13.224329, theta2 : 1.342023\n",
      "Number of iterations: 2614\n"
     ]
    }
   ],
   "source": [
    "x = [(1, 0., 3), (1, 1., 3), (1, 2., 3), (1, 3., 2), (1, 4., 4)]\n",
    "# y[i] (Output of the sample point)\n",
    "y = [95.364, 97.217205, 75.195834, 60.105519, 49.342380]\n",
    "# Iteration threshold (When the difference between the two iteration loss functions is less than the threshold, the iteration stops.)\n",
    "epsilon = 0.0001  # 10, 8\n",
    "# Learning rate\n",
    "alpha = 0.01 \n",
    "diff = [0, 0]\n",
    "max_itor = 3\n",
    "error1 = 0\n",
    "error0 = 0\n",
    "cnt = 0\n",
    "m = len(x)\n",
    "# Parameter initialization\n",
    "theta0 = 5\n",
    "theta1 = 10\n",
    "theta2 = 20\n",
    "while True:\n",
    "    cnt += 1\n",
    " # Parameter iteration calculation\n",
    "    for i in range(m):\n",
    " # The fitting function is y = theta0 * x[0] + theta1 * x[1] +theta2 * x[2].\n",
    " # Residual error calculation\n",
    "        diff[0] = (theta0 + theta1 * x[i][1] + theta2 * x[i][2]) - y[i]\n",
    " # Gradient = diff[0] * x[i][j]\n",
    "        theta0 -= alpha * diff[0] * x[i][0]\n",
    "        theta1 -= alpha * diff[0] * x[i][1]\n",
    "        theta2 -= alpha * diff[0] * x[i][2]\n",
    " # Loss function calculation\n",
    "    error1 = 0\n",
    "    for lp in range(len(x)):\n",
    "        error1 += (y[lp]-(theta0 + theta1 * x[lp][1] + theta2 * x[lp][2]))**2/2\n",
    "    if abs(error1-error0) < epsilon:\n",
    "        break\n",
    "    else:\n",
    "        error0 = error1 \n",
    "    print(' theta0: %f, theta1: %f, theta2: %f, error1: %f' % (theta0, theta1, theta2, error1) )\n",
    "print('Done: theta0 : %f, theta1 : %f, theta2 : %f' % (theta0, theta1, theta2) )\n",
    "print ('Number of iterations: %d' % cnt )"
   ]
  },
  {
   "cell_type": "markdown",
   "metadata": {},
   "source": []
  },
  {
   "cell_type": "code",
   "execution_count": 2,
   "metadata": {},
   "outputs": [],
   "source": [
    "import tensorflow"
   ]
  },
  {
   "cell_type": "code",
   "execution_count": 80,
   "metadata": {},
   "outputs": [],
   "source": [
    "import seaborn as sns"
   ]
  },
  {
   "cell_type": "code",
   "execution_count": 81,
   "metadata": {},
   "outputs": [
    {
     "data": {
      "text/html": [
       "<div>\n",
       "<style scoped>\n",
       "    .dataframe tbody tr th:only-of-type {\n",
       "        vertical-align: middle;\n",
       "    }\n",
       "\n",
       "    .dataframe tbody tr th {\n",
       "        vertical-align: top;\n",
       "    }\n",
       "\n",
       "    .dataframe thead th {\n",
       "        text-align: right;\n",
       "    }\n",
       "</style>\n",
       "<table border=\"1\" class=\"dataframe\">\n",
       "  <thead>\n",
       "    <tr style=\"text-align: right;\">\n",
       "      <th></th>\n",
       "      <th>total_bill</th>\n",
       "      <th>tip</th>\n",
       "      <th>sex</th>\n",
       "      <th>smoker</th>\n",
       "      <th>day</th>\n",
       "      <th>time</th>\n",
       "      <th>size</th>\n",
       "    </tr>\n",
       "  </thead>\n",
       "  <tbody>\n",
       "    <tr>\n",
       "      <th>0</th>\n",
       "      <td>16.99</td>\n",
       "      <td>1.01</td>\n",
       "      <td>Female</td>\n",
       "      <td>No</td>\n",
       "      <td>Sun</td>\n",
       "      <td>Dinner</td>\n",
       "      <td>2</td>\n",
       "    </tr>\n",
       "    <tr>\n",
       "      <th>1</th>\n",
       "      <td>10.34</td>\n",
       "      <td>1.66</td>\n",
       "      <td>Male</td>\n",
       "      <td>No</td>\n",
       "      <td>Sun</td>\n",
       "      <td>Dinner</td>\n",
       "      <td>3</td>\n",
       "    </tr>\n",
       "    <tr>\n",
       "      <th>2</th>\n",
       "      <td>21.01</td>\n",
       "      <td>3.50</td>\n",
       "      <td>Male</td>\n",
       "      <td>No</td>\n",
       "      <td>Sun</td>\n",
       "      <td>Dinner</td>\n",
       "      <td>3</td>\n",
       "    </tr>\n",
       "    <tr>\n",
       "      <th>3</th>\n",
       "      <td>23.68</td>\n",
       "      <td>3.31</td>\n",
       "      <td>Male</td>\n",
       "      <td>No</td>\n",
       "      <td>Sun</td>\n",
       "      <td>Dinner</td>\n",
       "      <td>2</td>\n",
       "    </tr>\n",
       "    <tr>\n",
       "      <th>4</th>\n",
       "      <td>24.59</td>\n",
       "      <td>3.61</td>\n",
       "      <td>Female</td>\n",
       "      <td>No</td>\n",
       "      <td>Sun</td>\n",
       "      <td>Dinner</td>\n",
       "      <td>4</td>\n",
       "    </tr>\n",
       "  </tbody>\n",
       "</table>\n",
       "</div>"
      ],
      "text/plain": [
       "   total_bill   tip     sex smoker  day    time  size\n",
       "0       16.99  1.01  Female     No  Sun  Dinner     2\n",
       "1       10.34  1.66    Male     No  Sun  Dinner     3\n",
       "2       21.01  3.50    Male     No  Sun  Dinner     3\n",
       "3       23.68  3.31    Male     No  Sun  Dinner     2\n",
       "4       24.59  3.61  Female     No  Sun  Dinner     4"
      ]
     },
     "execution_count": 81,
     "metadata": {},
     "output_type": "execute_result"
    }
   ],
   "source": [
    "tips = sns.load_dataset(\"tips\")\n",
    "tips.head()"
   ]
  },
  {
   "cell_type": "code",
   "execution_count": 82,
   "metadata": {},
   "outputs": [
    {
     "data": {
      "text/plain": [
       "<matplotlib.axes._subplots.AxesSubplot at 0x1f83d7d9400>"
      ]
     },
     "execution_count": 82,
     "metadata": {},
     "output_type": "execute_result"
    },
    {
     "data": {
      "image/png": "[encoded data removed]",
      "text/plain": [
       "<Figure size 432x288 with 1 Axes>"
      ]
     },
     "metadata": {
      "needs_background": "light"
     },
     "output_type": "display_data"
    }
   ],
   "source": [
    "sns.scatterplot(data=tips, x=\"total_bill\", y=\"tip\")"
   ]
  }
 ],
 "metadata": {
  "kernelspec": {
   "display_name": "Python 3 (ipykernel)",
   "language": "python",
   "name": "python3"
  },
  "language_info": {
   "codemirror_mode": {
    "name": "ipython",
    "version": 3
   },
   "file_extension": ".py",
   "mimetype": "text/x-python",
   "name": "python",
   "nbconvert_exporter": "python",
   "pygments_lexer": "ipython3",
   "version": "3.12.5"
  }
 },
 "nbformat": 4,
 "nbformat_minor": 4
}
